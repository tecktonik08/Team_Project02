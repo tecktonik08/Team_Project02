{
 "cells": [
  {
   "cell_type": "code",
   "execution_count": 1,
   "id": "e5865646",
   "metadata": {},
   "outputs": [],
   "source": [
    "from selenium import webdriver\n",
    "from selenium.webdriver.common.keys import Keys\n",
    "from bs4 import BeautifulSoup\n",
    "import requests\n",
    "import pandas as pd\n",
    "import csv\n",
    "import time\n",
    "import pyautogui as gui"
   ]
  },
  {
   "cell_type": "code",
   "execution_count": 2,
   "id": "1ccea2ea",
   "metadata": {},
   "outputs": [],
   "source": [
    "browser = webdriver.Chrome('C:\\chromedriver.exe')"
   ]
  },
  {
   "cell_type": "code",
   "execution_count": 3,
   "id": "325fae8f",
   "metadata": {},
   "outputs": [],
   "source": [
    "browser.get('https://www.bigkinds.or.kr/v2/news/index.do')"
   ]
  },
  {
   "cell_type": "code",
   "execution_count": 9,
   "id": "88293c6c",
   "metadata": {},
   "outputs": [],
   "source": [
    "browser.find_element_by_xpath(\"//div[@class='tab-btn-inner tab1']\").click()"
   ]
  },
  {
   "cell_type": "code",
   "execution_count": 10,
   "id": "156dba10",
   "metadata": {},
   "outputs": [],
   "source": [
    "start_date = browser.find_element_by_xpath(\"//input[@id='search-begin-date']\")\n",
    "start_date.click()"
   ]
  },
  {
   "cell_type": "code",
   "execution_count": 11,
   "id": "899948ec",
   "metadata": {},
   "outputs": [],
   "source": [
    "start_date.send_keys('2021-01-01')"
   ]
  },
  {
   "cell_type": "code",
   "execution_count": 12,
   "id": "0c3982d2",
   "metadata": {},
   "outputs": [],
   "source": [
    "# 클리어할 경우 1990-01-01\n",
    "start_date.clear()\n",
    "start_date.send_keys('2021-01-01')"
   ]
  }
 ],
 "metadata": {
  "kernelspec": {
   "display_name": "Python 3",
   "language": "python",
   "name": "python3"
  },
  "language_info": {
   "codemirror_mode": {
    "name": "ipython",
    "version": 3
   },
   "file_extension": ".py",
   "mimetype": "text/x-python",
   "name": "python",
   "nbconvert_exporter": "python",
   "pygments_lexer": "ipython3",
   "version": "3.6.4"
  }
 },
 "nbformat": 4,
 "nbformat_minor": 5
}
