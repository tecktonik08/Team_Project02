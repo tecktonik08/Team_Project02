{
  "nbformat": 4,
  "nbformat_minor": 0,
  "metadata": {
    "colab": {
      "name": "deeplearning_okt_wordcloud.ipynb",
      "provenance": [],
      "authorship_tag": "ABX9TyMwN1GUjVRToKrvWLh/juxX"
    },
    "kernelspec": {
      "name": "python3",
      "display_name": "Python 3"
    },
    "language_info": {
      "name": "python"
    }
  },
  "cells": [
    {
      "cell_type": "markdown",
      "metadata": {
        "id": "dGI0KvywrUys"
      },
      "source": [
        "# KNU 감성사전을 통한 단어의 긍정/부정을 판단하기"
      ]
    },
    {
      "cell_type": "code",
      "metadata": {
        "id": "Wi3ZGvE0rPe6"
      },
      "source": [
        "# ### KNU 한국어 감성사전 -DI LAB\n",
        "# - SentiWord info.json 한국어 감성사전 제공\n",
        "\n",
        "import json\n",
        "import pandas as pd\n",
        "from tqdm import tqdm"
      ],
      "execution_count": 3,
      "outputs": []
    },
    {
      "cell_type": "code",
      "metadata": {
        "id": "NsOUpi-ernrr"
      },
      "source": [
        "SentiWord = pd.read_json('SentiWord_info.json') # json 파일 불러옴\n",
        "SentiWord.to_csv('SentiWord_info.csv', index=False) # json 파일을 csv로 저장"
      ],
      "execution_count": 4,
      "outputs": []
    },
    {
      "cell_type": "code",
      "metadata": {
        "colab": {
          "base_uri": "https://localhost:8080/"
        },
        "id": "REXzaA5erwN6",
        "outputId": "5a2343c6-2774-4d24-93e6-db4d67bbab84"
      },
      "source": [
        "df = pd.read_excel('./sample.xls', names=['title', 'press', 'category', 'date', 'name', 'text'])\n",
        "txt = ''\n",
        "for i in df.index:\n",
        "    txt = txt +' ' +str(df['title'].loc[i]) # 기사 제목을 연달아 출력 ex) '기사1 제목' + '기사2 제목' + '기사3 제목' -> 고쳐야 되는 부분(기사 내용이 들어가고 기사 하나씩 들어가게 변경해야함)\n",
        "    \n",
        "print(txt)"
      ],
      "execution_count": 5,
      "outputs": [
        {
          "output_type": "stream",
          "text": [
            " 중국에 대립각 세우는 리투아니아…왜? 국민의힘, 계속 옮겨붙는 갈등의 불씨...진화할 수 있을까 [단독] 법관이 직원에게 성경 공부·의전 지시, 법원에서도 ‘직장 갑질’ 논란 코로나 확진자수 2000명 돌파에 노심초사 여, 공세 강화하는 야 류호정 \"피해자 보호 못하는 강간죄 개정 위해 '쇼'라도 하겠다\" [뉴스분석]현실화된 정은경의 예언···확진자 2223명이 정점은 아니다 [비동의강간죄 발의 1년]이 법은 또 사라지는 중입니까? 윤석열, 통신선 복원 '이면협의' 의혹제기, 청와대 \"사실 아니다\" 김여정 '주한미군 철수 주장' 담화의 의미는 인건비 늘고 신작 출시 지연···게임 '3N', 나란히 2분기 실적부진 2024년 '달 착륙 계획’ 지연 되나…\"신형 우주복 개발 늦어져\" [인터랙티브] “이 법은 또 사라지는 중입니까”…비동의강간죄 발의 1년, 여전히 계류중 더 가까워지는 중·러, 고비사막에서 사흘째 합동군사훈련 ‘호프 알바’ 나선 정의당 대표…현장 행보로 ‘차별화’하면서 대선 준비 시동 코로나19 재확산에 온라인 유통망 발달까지…창신동 문구거리의 ‘깊어지는 시름’ 최재형 “여당은 청와대 출장소···비서관들이 국정 쥐락펴락” 문 대통령 성토 온난화에 '통제 불능' 미국·유럽 산불…미래의 예고편? “집단면역 불가능”…영국·싱가포르의 '코로나와 함께 살기' 실험 모더나 실무협의 위해 이번주 출국하는 정부대표단, 수급 차질 해법 있나 문 대통령, 국회에 고승범·송두환 후보자 인사청문 요청 국민의힘, 대선 후보 토론만 20회···흥행 묘수될까, 분란 씨앗될까 이재용 가석방에 ‘침묵’하는 문 대통령…여당서도 “가석방 이유 궁색” 황의탁 전북도의원 의정비 전액 복지시설에 ‘통 큰’ 기부 [경향포토] 경실련 이재용 가석방 반대 1인시위 ‘명·낙 대전’ 꺾이지 않는 상호 비방전…당 내선 “지도부가 중심잡아야” 소형 SUV 2강 자리 굳힌 트레일블레이저, 프리미엄 전략 통했다 가상자산 거래소 '불공정 약관' 손질에도 소비자 마음 못 놓는 이유는? 연상의 아내 마지막 출근길···가난한 시인은 눈물을 적셔 편지를 썼다 “홍남기, 법무장관에 ‘이재용 경영활동, 불편없게 해달라’ 요청” 호주, 인공지능(AI)을 '발명자'로 세계 최초 인정···한국은? LH 조직개편 어디로 가나…\"'분리' 아닌 주거복지 강화에 초점둬야\" 코로나 확산에도 여름 휴가철 제주는 ‘비틀’···위험천만 음주운전 증가 충주시 유튜브 채널 ‘충TV’ 구독자 20만 돌파···전국 지자체 유튜브 중 최다 \"화이자·모더나 백신 2차접종일 추석 연휴 겹치면 5일씩 앞당기기로\" [경북도]경북농업기술원, 25일까지 농민 대상 디지털농업 교육 ‘5G 덕에’ 통신 3사 실적 날았는데···품질에 뿔난 소비자들은 정부 대책 촉구 수익형 부동산 투자 주목 단지 어디…복합스트리트쇼핑몰 ‘시화MTV 보니타가’ 분양 화제 올림픽은 망명신청 선수들의 ‘환승센터’ 미국, 석탄→신재생에너지 ‘광속’ 전환…풍력·태양광 전년 대비 2배 성장 법원 “정경심 딸 7대 스펙 모두 허위”···부산대 이어 고려대도 입학 자체조사 서울국제여성영화제 26일 개막···개막작은 ‘무민’ 작가 토베 얀손의 퀴어 예술가 삶 조명 다큐 뜨거워지는 지구, 전 세계 식량 생산도 위태롭다…\"식단 전환 필요\" 황인찬 시로 엮은 영화 ‘생각의 여름’, 시인 황인찬이 말하다 [일상, ___ ] 끈 EU 아프간 난민 고민 심화...독일 등 6개 회원국은 집행위에 '강제 추방' 보장 요구 코로나19 신용 사면, 소액 연체하고 전액 상환한 경우만 가능 대구~양양 하늘길 재개…“여행욕구 충족, 공항 활성화” 김학순 할머니 피해 증언 30주년…정의기억연대 “할머니의 용기가 우리의 용기 돼” ‘경단녀 장롱면허’로 서울시 산하기관 인턴십…취업까지 지원 \"계곡 자릿세 요구 시 5000만원 벌금\" 하천법 개정안 발의 ‘소멸시효’ 일본 전범기업 면죄부 안돼···시민단체 특별법 제정 요구 고려대 “조국 딸 입시 비리 의혹, 후속조치 진행할 것” 여전한 정치권 ‘유리천장’…국회의원 여성할당제 남녀 의견 판이 박범계의 ‘한입 두말’…“재벌 총수 걱정 말라”더니 이재용 가석방 트위터 알고리즘은 무슬림·흑인·노인을 차별한다 파리바게뜨 ‘노조 와해’ 의혹에 증거인멸···관리자 카톡방 ‘폭파’ 정황 발전5사 ‘백신 차별’에, 노조 “비인간적 행위에 경악…모든 노동자 접종계획 수립해야” 올해 수도권 공공분양 21년만에 '최대' “국회 세종의사당 위한 국회법 개정안 9월 정기국회에는 꼭 처리하라”...충청권 4개 시도지사 촉구 ‘메타버스게임과’ ‘AI전자과’…신입생 충원율 떨어진 특성화고, 학과 개편 산골 요양 암환자 위해 전신주 28개 연결한 LG유플러스 코로나19에도 8월 수출 '상승세' 생활ESG영화제 안치용 위원장 “ESG 생활 속 확산 위한 첫 영화제 9월 남양주에서 개막…청년들의 적극 참여 기대” 이낙연 “지방 거점 국립대, ‘등록금 없는 대학’ 만들겠다” ‘문 대통령 관련 막말’ 소마 공사, 도쿄로 출국···“사실상 경질” 선정위원의 동일기관 미고지 심사대상자는 1명…베니스 비엔날레 감독 재심사 1차 결과 발표 SKT, 올 2분기 영업익 11% 증가···미디어·커머스 등 신사업 성장 영향 제주도 “모더나 혈전증 검사 의뢰 때 이미 혈소판수 기준 이하” 질병청 해명 반박 이 와중에 ‘8명 술자리’ 가진 서울시 ‘방역위반 단속’ 수장 아이를 낳다 죽음을 맞이한 14세 소녀 마차야가 남긴 것[플랫] 양경수 민주노총 위원장, 구속영장심사 불출석…“문재인 정부·민주당이 촛불 배신” 확진판정 20대, 백신 접종 후 또 확진···전북서 재감염 첫 사례 [경향포토] 세계 일본군 위안부 기림일 앞두고 열린 수요시위 [경향포토] 김학순 할머니 위안부 피해 공개증언 30년...계속되는 수요시위 중국, 캐나다인 사업가에 징역 11년 선고…연이은 캐나다인 중형 판결 중소·벤처기업 '공용 화상 회의실' 전국 오픈 \"가상세계 건축자들 모여라\"…과기정통부, 메타버스 개발자 경진대회 개최 상반기 국내은행 순이익 10조8000억원...1년 전보다 4조원 증가 내년 '빨간 날' 67일···최장 연휴는 설날 전후 '닷새' 제조 위탁·대금 정산 등 하도급법 위반 '종합세트' 가구업체 코아스 제재 쿠오모 성추행 스캔들에…최초 여성 뉴욕 주지사 취임 김명수 대법원장, 새 대법관에 오경미 고법판사 임명 제청 치명률 낮아졌지만 시민 70% 이상 “방역 전환은 아직 일러, 백신 맞겠다” BC카드·이마트24, 데이터 협력 MOU 체결 원희룡 제주지사 11일 퇴임 “국민 지키기 위해 지사직 물러나” 서울도 하루 확진자 역대 최다···“600명대 지속되면 병상 부족 우려” 김두관 “서울공화국 해체” 균형발전 공약 발표…지자체 명칭 지방정부로 문 대통령 “감염 확산 못 막으면 확진자 더 늘어날 중요한 시점” [경향포토] \"입시 비리 전부 유죄\"...정경심 항소심도 징역 4년 “무의미한 연명의료 안받겠다” 의향서 작성자 100만명 돌파 현대백화점, 와인선물 종이포장재로 바꾼다 ‘끓는 바다’ 경남 양식어류 집단폐사 급증···477만 마리 폐사 [속보]정경심 '입시비리·사모펀드' 의혹, 2심도 징역 4년 서울시, 감염병 특화 '서울의료원 응급의료센터' 신축···9월말 정식운영 죽파리 자작나무 숲 인근 ‘송하리 졸참나무와 당숲’ 천연기념물 된다 섬유·제지 산업도 탄소중립 움직임···\"폐자원을 에너지로\" 현대차·BMW·벤츠 등 35개 차종 2만8946대 리콜 박용진 \"4차 산업혁명 선도하는 '바이미식스' 대통령 되겠다\" 이준석 '친윤석열계' 겨냥 \"권력욕 부추기는 하이에나\"..정진석 \"참 딱하다\"\n"
          ],
          "name": "stdout"
        }
      ]
    },
    {
      "cell_type": "code",
      "metadata": {
        "colab": {
          "base_uri": "https://localhost:8080/"
        },
        "id": "OEDS78loyFuj",
        "outputId": "d017453f-d30c-4c51-f798-516707fc1db9"
      },
      "source": [
        "!python -m pip install konlpy"
      ],
      "execution_count": 7,
      "outputs": [
        {
          "output_type": "stream",
          "text": [
            "Collecting konlpy\n",
            "  Downloading konlpy-0.5.2-py2.py3-none-any.whl (19.4 MB)\n",
            "\u001b[K     |████████████████████████████████| 19.4 MB 1.3 MB/s \n",
            "\u001b[?25hCollecting JPype1>=0.7.0\n",
            "  Downloading JPype1-1.3.0-cp37-cp37m-manylinux_2_5_x86_64.manylinux1_x86_64.whl (448 kB)\n",
            "\u001b[K     |████████████████████████████████| 448 kB 61.3 MB/s \n",
            "\u001b[?25hCollecting colorama\n",
            "  Downloading colorama-0.4.4-py2.py3-none-any.whl (16 kB)\n",
            "Collecting beautifulsoup4==4.6.0\n",
            "  Downloading beautifulsoup4-4.6.0-py3-none-any.whl (86 kB)\n",
            "\u001b[K     |████████████████████████████████| 86 kB 2.9 MB/s \n",
            "\u001b[?25hRequirement already satisfied: numpy>=1.6 in /usr/local/lib/python3.7/dist-packages (from konlpy) (1.19.5)\n",
            "Requirement already satisfied: lxml>=4.1.0 in /usr/local/lib/python3.7/dist-packages (from konlpy) (4.2.6)\n",
            "Requirement already satisfied: tweepy>=3.7.0 in /usr/local/lib/python3.7/dist-packages (from konlpy) (3.10.0)\n",
            "Requirement already satisfied: typing-extensions in /usr/local/lib/python3.7/dist-packages (from JPype1>=0.7.0->konlpy) (3.7.4.3)\n",
            "Requirement already satisfied: requests-oauthlib>=0.7.0 in /usr/local/lib/python3.7/dist-packages (from tweepy>=3.7.0->konlpy) (1.3.0)\n",
            "Requirement already satisfied: six>=1.10.0 in /usr/local/lib/python3.7/dist-packages (from tweepy>=3.7.0->konlpy) (1.15.0)\n",
            "Requirement already satisfied: requests[socks]>=2.11.1 in /usr/local/lib/python3.7/dist-packages (from tweepy>=3.7.0->konlpy) (2.23.0)\n",
            "Requirement already satisfied: oauthlib>=3.0.0 in /usr/local/lib/python3.7/dist-packages (from requests-oauthlib>=0.7.0->tweepy>=3.7.0->konlpy) (3.1.1)\n",
            "Requirement already satisfied: certifi>=2017.4.17 in /usr/local/lib/python3.7/dist-packages (from requests[socks]>=2.11.1->tweepy>=3.7.0->konlpy) (2021.5.30)\n",
            "Requirement already satisfied: urllib3!=1.25.0,!=1.25.1,<1.26,>=1.21.1 in /usr/local/lib/python3.7/dist-packages (from requests[socks]>=2.11.1->tweepy>=3.7.0->konlpy) (1.24.3)\n",
            "Requirement already satisfied: idna<3,>=2.5 in /usr/local/lib/python3.7/dist-packages (from requests[socks]>=2.11.1->tweepy>=3.7.0->konlpy) (2.10)\n",
            "Requirement already satisfied: chardet<4,>=3.0.2 in /usr/local/lib/python3.7/dist-packages (from requests[socks]>=2.11.1->tweepy>=3.7.0->konlpy) (3.0.4)\n",
            "Requirement already satisfied: PySocks!=1.5.7,>=1.5.6 in /usr/local/lib/python3.7/dist-packages (from requests[socks]>=2.11.1->tweepy>=3.7.0->konlpy) (1.7.1)\n",
            "Installing collected packages: JPype1, colorama, beautifulsoup4, konlpy\n",
            "  Attempting uninstall: beautifulsoup4\n",
            "    Found existing installation: beautifulsoup4 4.6.3\n",
            "    Uninstalling beautifulsoup4-4.6.3:\n",
            "      Successfully uninstalled beautifulsoup4-4.6.3\n",
            "Successfully installed JPype1-1.3.0 beautifulsoup4-4.6.0 colorama-0.4.4 konlpy-0.5.2\n"
          ],
          "name": "stdout"
        }
      ]
    },
    {
      "cell_type": "code",
      "metadata": {
        "colab": {
          "base_uri": "https://localhost:8080/"
        },
        "id": "WnbzeDn4rwtN",
        "outputId": "46538632-7a7e-44f6-f8dc-6321e17cec45"
      },
      "source": [
        "from konlpy.tag import Okt\n",
        "okt = Okt()\n",
        "morp = okt.morphs(txt)\n",
        "print(morp)"
      ],
      "execution_count": 8,
      "outputs": [
        {
          "output_type": "stream",
          "text": [
            "['중국', '에', '대립', '각', '세우는', '리투아니아', '…', '왜', '?', '국민', '의', '힘', ',', '계속', '옮겨', '붙는', '갈등', '의', '불씨', '...', '진화', '할', '수', '있을까', '[', '단독', ']', '법관', '이', '직원', '에게', '성경', '공부', '·', '의전', '지시', ',', '법원', '에서도', '‘', '직장', '갑질', '’', '논란', '코로나', '확진', '자수', '2000', '명', '돌파', '에', '노심초사', '여', ',', '공세', '강화하는', '야', '류', '호정', '\"', '피해자', '보호', '못', '하는', '강간죄', '개정', '위해', \"'\", '쇼', \"'\", '라도', '하겠다', '\"', '[', '뉴스', '분석', ']', '현실', '화', '된', '정은경', '의', '예언', '···', '확', '진자', '2223', '명', '이', '정점', '은', '아니다', '[', '비', '동의', '강간죄', '발의', '1년', ']', '이', '법', '은', '또', '사라지는', '중입', '니까', '?', '윤석열', ',', '통신', '선', '복원', \"'\", '이면', '협의', \"'\", '의혹', '제기', ',', '청와대', '\"', '사실', '아니다', '\"', '김여정', \"'\", '주', '한', '미군', '철수', '주장', \"'\", '담화', '의', '의미', '는', '인건비', '늘', '고', '신작', '출시', '지연', '···', '게임', \"'\", '3', 'N', \"',\", '나란히', '2분', '기', '실적', '부진', '2024년', \"'\", '달', '착륙', '계획', '’', '지연', '되나', '…\"', '신형', '우주복', '개발', '늦어져', '\"', '[', '인터', '랙티브', ']', '“', '이', '법', '은', '또', '사라지는', '중입', '니까', '”', '…', '비', '동의', '강간죄', '발의', '1년', ',', '여전히', '계류', '중', '더', '가까워지는', '중', '·', '러', ',', '고비사막', '에서', '사흘', '째', '합동', '군사훈련', '‘', '호프', '알바', '’', '나선', '정의당', '대표', '…', '현장', '행보', '로', '‘', '차별', '화', '’', '하면서', '대선', '준비', '시동', '코로나', '19', '재', '확산', '에', '온라인', '유통', '망', '발달', '까지', '…', '창신동', '문', '구', '거리', '의', '‘', '깊어지는', '시름', '’', '최재형', '“', '여당', '은', '청와대', '출장소', '···', '비서', '관', '들', '이', '국정', '쥐락펴락', '”', '문', '대통령', '성', '토', '온난화', '에', \"'\", '통제', '불능', \"'\", '미국', '·', '유럽', '산불', '…', '미래', '의', '예고편', '?', '“', '집단', '면역', '불가능', '”', '…', '영국', '·', '싱가포르', '의', \"'\", '코로나', '와', '함께', '살기', \"'\", '실험', '모', '더', '나', '실무', '협의', '위해', '이번', '주', '출국', '하는', '정부', '대표', '단', ',', '수급', '차질', '해법', '있나', '문', '대통령', ',', '국회', '에', '고승', '범', '·', '송두환', '후보자', '인사', '청문', '요청', '국민', '의', '힘', ',', '대선', '후보', '토론', '만', '20회', '···', '흥행', '묘수', '될까', ',', '분란', '씨앗', '될까', '이재용', '가석방', '에', '‘', '침묵', '’', '하는', '문', '대통령', '…', '여당', '서도', '“', '가석방', '이유', '궁색', '”', '황', '의탁', '전북도', '의원', '의', '정비', '전액', '복지', '시설', '에', '‘', '통', '큰', '’', '기부', '[', '경향', '포토', ']', '경실련', '이재용', '가석방', '반대', '1', '인', '시위', '‘', '명', '·', '낙', '대전', '’', '꺾이지', '않는', '상호', '비방', '전', '…', '당', '내', '선', '“', '지도', '부가', '중심', '잡아야', '”', '소형', 'SUV', '2', '강', '자리', '굳힌', '트레일', '블', '레이저', ',', '프리미엄', '전략', '통', '했다', '가상', '자산', '거래소', \"'\", '불공정', '약관', \"'\", '손질', '에도', '소비자', '마음', '못', '놓는', '이유', '는', '?', '연상', '의', '아내', '마지막', '출근길', '···', '가난한', '시인', '은', '눈물', '을', '적셔', '편지', '를', '썼다', '“', '홍', '남기', ',', '법무', '장관', '에', '‘', '이재용', '경영', '활동', ',', '불편', '없게', '해달라', '’', '요청', '”', '호주', ',', '인공', '지능', '(', 'AI', ')', '을', \"'\", '발명자', \"'\", '로', '세계', '최초', '인정', '···', '한국', '은', '?', 'LH', '조직개편', '어디', '로', '가나', '…\"\\'', '분리', \"'\", '아닌', '주거', '복지', '강화', '에', '초점', '둬야', '\"', '코로나', '확산', '에도', '여름', '휴가', '철', '제주', '는', '‘', '비틀', '’···', '위험천만', '음주운전', '증가', '충주시', '유튜브', '채널', '‘', '충', 'TV', '’', '구', '독자', '20만', '돌파', '···', '전국', '지자체', '유튜브', '중', '최', '다', '\"', '화이자', '·', '모', '더', '나', '백신', '2', '차', '접종', '일', '추석', '연휴', '겹', '치면', '5일', '씩', '앞당기기로', '\"', '[', '경북', '도', ']', '경북', '농업', '기술', '원', ',', '25일', '까지', '농민', '대상', '디지털', '농업', '교육', '‘', '5', 'G', '덕', '에', '’', '통신', '3', '사', '실적', '날았는데', '···', '품질', '에', '뿔', '난', '소비자', '들', '은', '정부', '대책', '촉구', '수익', '형', '부동산', '투자', '주목', '단지', '어디', '…', '복합', '스트리트', '쇼핑몰', '‘', '시화', 'MTV', '보니', '타가', '’', '분양', '화제', '올림픽', '은', '망명', '신청', '선수', '들', '의', '‘', '환승', '센터', '’', '미국', ',', '석탄', '→', '신재생에너지', '‘', '광속', '’', '전환', '…', '풍력', '·', '태양광', '전', '년', '대비', '2', '배', '성장', '법원', '“', '정경', '심', '딸', '7', '대', '스펙', '모두', '허위', '”', '···', '부산', '대', '이어', '고려대', '도', '입학', '자체', '조사', '서', '울', '국제', '여', '성', '영화제', '26일', '개막', '···', '개막', '작은', '‘', '무민', '’', '작가', '토베', '얀손', '의', '퀴어', '예술가', '삶', '조명', '다큐', '뜨거워지는', '지구', ',', '전', '세계', '식량', '생산', '도', '위태롭다', '…\"', '식단', '전환', '필요', '\"', '황인찬', '시로', '엮', '은', '영화', '‘', '생각', '의', '여름', '’,', '시인', '황인찬', '이', '말', '하다', '[', '일상', ',', '___', ']', '끈', 'EU', '아프간', '난민', '고민', '심화', '...', '독일', '등', '6', '개', '회원', '국', '은', '집', '행위', '에', \"'\", '강제', '추방', \"'\", '보장', '요구', '코로나', '19', '신용', '사면', ',', '소액', '연체', '하고', '전액', '상환', '한', '경우', '만', '가능', '대구', '~', '양양', '하늘', '길', '재개', '…', '“', '여행', '욕구', '충족', ',', '공항', '활성화', '”', '김학순', '할머니', '피해', '증언', '30', '주년', '…', '정의', '기억', '연대', '“', '할머니', '의', '용기', '가', '우리', '의', '용기', '돼', '”', '‘', '경', '단', '녀', '장롱', '면허', '’', '로', '서울시', '산하', '기관', '인턴십', '…', '취업', '까지', '지원', '\"', '계곡', '자릿세', '요구', '시', '5000만원', '벌금', '\"', '하천', '법', '개정안', '발의', '‘', '소멸시효', '’', '일본', '전범', '기업', '면죄부', '안', '돼', '···', '시민단체', '특별법', '제정', '요구', '고려대', '“', '조국', '딸', '입시', '비리', '의혹', ',', '후속', '조치', '진행', '할', '것', '”', '여전한', '정치권', '‘', '유리천장', '’…', '국회의원', '여성', '할당', '제', '남녀', '의견', '판이', '박범계', '의', '‘', '한', '입', '두', '말', '’…', '“', '재벌', '총수', '걱정', '말라', '”', '더니', '이재용', '가석방', '트위터', '알고리즘', '은', '무슬림', '·', '흑인', '·', '노인', '을', '차별', '한다', '파리', '바게뜨', '‘', '노조', '와해', '’', '의혹', '에', '증거', '인', '멸', '···', '관리자', '카톡', '방', '‘', '폭파', '’', '정황', '발전', '5', '사', '‘', '백신', '차별', '’', '에', ',', '노조', '“', '비인간', '적', '행위', '에', '경악', '…', '모든', '노동자', '접종', '계획', '수립', '해야', '”', '올해', '수도권', '공공', '분양', '21년', '만에', \"'\", '최대', \"'\", '“', '국회', '세종', '의사당', '위', '한', '국회법', '개정안', '9월', '정기', '국회', '에는', '꼭', '처리', '하', '라', '”', '...', '충청권', '4', '개', '시', '도지사', '촉구', '‘', '메타', '버스', '게임', '과', '’', '‘', 'AI', '전자', '과', '’…', '신입생', '충', '원', '율', '떨어진', '특성화고', ',', '학과', '개편', '산골', '요양', '암', '환자', '위해', '전신주', '28', '개', '연결한', 'LG', '유플러스', '코로나', '19', '에도', '8월', '수출', \"'\", '상승세', \"'\", '생활', 'ESG', '영화제', '안치용', '위원장', '“', 'ESG', '생활', '속', '확산', '위', '한', '첫', '영화제', '9월', '남양주', '에서', '개막', '…', '청년', '들', '의', '적극', '참여', '기대', '”', '이낙연', '“', '지방', '거점', '국립대', ',', '‘', '등록금', '없는', '대학', '’', '만들겠다', '”', '‘', '문', '대통령', '관련', '막말', '’', '소마', '공사', ',', '도쿄', '로', '출국', '···', '“', '사실', '상', '경질', '”', '선정위', '원', '의', '동일', '기관', '미고', '지', '심사', '대상자', '는', '1', '명', '…', '베니스', '비엔날레', '감독', '재심사', '1', '차', '결과', '발표', 'SKT', ',', '올', '2분', '기', '영업', '익', '11%', '증가', '···', '미디어', '·', '커머스', '등', '신', '사업', '성장', '영향', '제주도', '“', '모', '더', '나', '혈전', '증', '검사', '의뢰', '때', '이미', '혈소판', '수', '기준', '이하', '”', '질병', '청', '해명', '반박', '이', '와중', '에', '‘', '8', '명', '술자리', '’', '가진', '서울시', '‘', '방역', '위반', '단속', '’', '수장', '아이', '를', '낳다', '죽음', '을', '맞이', '한', '14', '세', '소녀', '마차', '야', '가', '남긴', '것', '[', '플랫', ']', '양경수', '민주', '노총', '위원장', ',', '구속영장', '심사', '불', '출석', '…', '“', '문재인', '정부', '·', '민주당', '이', '촛불', '배신', '”', '확진', '판정', '20', '대', ',', '백신', '접종', '후', '또', '확진', '···', '전북', '서', '재', '감염', '첫', '사례', '[', '경향', '포토', ']', '세계', '일본군', '위안부', '기', '림일', '앞두고', '열린', '수요시위', '[', '경향', '포토', ']', '김학순', '할머니', '위안부', '피해', '공개', '증언', '30년', '...', '계속', '되는', '수요시위', '중국', ',', '캐나다인', '사업가', '에', '징역', '11년', '선고', '…', '연', '이', '은', '캐나다인', '중형', '판결', '중소', '·', '벤처기업', \"'\", '공용', '화상', '회의실', \"'\", '전국', '오픈', '\"', '가상세계', '건축', '자', '들', '모여라', '\"…', '과', '기', '정통부', ',', '메타', '버스', '개발자', '경진', '대회', '개최', '상반기', '국내', '은행', '순이익', '10조', '8000억원', '...', '1년', '전보', '다', '4조원', '증가', '내년', \"'\", '빨간', '날', \"'\", '67일', '···', '최', '장', '연휴', '는', '설날', '전후', \"'\", '닷새', \"'\", '제조', '위탁', '·', '대금', '정산', '등', '하도급법', '위반', \"'\", '종합', '세트', \"'\", '가구', '업체', '코', '아스', '제재', '쿠오모', '성추행', '스캔들', '에', '…', '최초', '여성', '뉴욕', '주', '지사', '취임', '김명수', '대법원', '장', ',', '새', '대법관', '에', '오경미', '고법', '판사', '임명', '제청', '치명', '률', '낮아졌지만', '시민', '70%', '이상', '“', '방역', '전환', '은', '아직', '일러', ',', '백신', '맞겠다', '”', 'BC', '카드', '·', '이마트', '24', ',', '데이터', '협력', 'MOU', '체결', '원희룡', '제주', '지사', '11일', '퇴임', '“', '국민', '지키기', '위해', '지', '사직', '물러나', '”', '서울', '도', '하루', '확', '진자', '역대', '최', '다', '···', '“', '600', '명대', '지속', '되면', '병상', '부족', '우려', '”', '김두관', '“', '서울', '공화국', '해체', '”', '균형발전', '공약', '발표', '…', '지자체', '명칭', '지방정부', '로', '문', '대통령', '“', '감염', '확산', '못', '막으면', '확', '진자', '더', '늘어날', '중요한', '시점', '”', '[', '경향', '포토', ']', '\"', '입시', '비리', '전부', '유죄', '\"...', '정경', '심', '항소심', '도', '징역', '4년', '“', '무의미한', '연명', '의료', '안', '받겠다', '”', '의향', '서', '작성자', '100만', '명', '돌파', '현대', '백화점', ',', '와인', '선물', '종이', '포장재', '로', '바꾼다', '‘', '끓는', '바다', '’', '경남', '양식', '어류', '집단', '폐사', '급증', '···', '477만', '마리', '폐사', '[', '속보', ']', '정경', '심', \"'\", '입시', '비리', '·', '사모펀드', \"'\", '의혹', ',', '2', '심도', '징역', '4년', '서울시', ',', '감염병', '특화', \"'\", '서', '울', '의료', '원', '응급의료', '센터', \"'\", '신축', '···', '9월', '말', '정식', '운영', '죽', '파리', '자작나무', '숲', '인근', '‘', '송', '하리', '졸참나무', '와', '당', '숲', '’', '천연기념물', '된다', '섬유', '·', '제지', '산업', '도', '탄소', '중립', '움직임', '···\"', '폐', '자원', '을', '에너지', '로', '\"', '현대차', '·', 'BMW', '·', '벤츠', '등', '35', '개', '차종', '2만', '8946', '대', '리콜', '박용진', '\"', '4', '차', '산업혁명', '선도', '하는', \"'\", '바이', '미', '식스', \"'\", '대통령', '되겠다', '\"', '이준석', \"'\", '친', '윤석열', '계', \"'\", '겨냥', '\"', '권력', '욕', '부추기는', '하이에나', '\"..', '정진석', '\"', '참', '딱하다', '\"']\n"
          ],
          "name": "stdout"
        }
      ]
    },
    {
      "cell_type": "markdown",
      "metadata": {
        "id": "l4-DPlTlzrQ8"
      },
      "source": [
        "#### 사전에 단어 추가하는 부분(단어 추가하지 않을꺼면 필요없음)"
      ]
    },
    {
      "cell_type": "code",
      "metadata": {
        "colab": {
          "base_uri": "https://localhost:8080/"
        },
        "id": "PwlJQGPlyYIy",
        "outputId": "a1840bbd-8906-4300-bf35-204c0557e744"
      },
      "source": [
        "SentiWord = pd.read_csv('SentiWord_info.csv') # csv를 불러옴\n",
        "word = '알쏭'\n",
        "SentiWord.loc[len(SentiWord)] = ['징용','징용',-2]  # 맨 끝에 징용 -2를 줌\n",
        "SentiWord.loc[len(SentiWord)] = ['합의','합의',1] # 맨 끝에 합의 +1 을 줌\n",
        "SentiWord.tail()\n",
        "\n",
        "def pos_neg(word):\n",
        "    tmp =SentiWord[(SentiWord['word']==word) | (SentiWord['word_root']==word)]\n",
        "    try:\n",
        "        word_res = (word,tmp['polarity'][tmp.index[0]])\n",
        "    except:\n",
        "        word_res = (word, 0)\n",
        "    return word_res\n",
        "\n",
        "pos_neg('알쏭')"
      ],
      "execution_count": 10,
      "outputs": [
        {
          "output_type": "execute_result",
          "data": {
            "text/plain": [
              "('알쏭', 0)"
            ]
          },
          "metadata": {
            "tags": []
          },
          "execution_count": 10
        }
      ]
    },
    {
      "cell_type": "code",
      "metadata": {
        "colab": {
          "base_uri": "https://localhost:8080/"
        },
        "id": "ltPUviharwq9",
        "outputId": "cac64aa7-27de-491e-995c-421376c3e234"
      },
      "source": [
        "from tqdm import tqdm\n",
        "pos_list = []\n",
        "neg_list = []\n",
        "unkown_list = []\n",
        "\n",
        "for noun in tqdm(morp, '긍/부정 나누기'):\n",
        "    word_res = pos_neg(noun)\n",
        "    if word_res[1] > 0:\n",
        "        pos_list.append(word_res[0])\n",
        "    elif word_res[1] < 0 :\n",
        "        neg_list.append(word_res[0])\n",
        "    else:\n",
        "        unkown_list.append(word_res)"
      ],
      "execution_count": 11,
      "outputs": [
        {
          "output_type": "stream",
          "text": [
            "긍/부정 나누기: 100%|██████████| 1570/1570 [00:04<00:00, 348.80it/s]\n"
          ],
          "name": "stderr"
        }
      ]
    },
    {
      "cell_type": "code",
      "metadata": {
        "colab": {
          "base_uri": "https://localhost:8080/"
        },
        "id": "lD2bAu78rwol",
        "outputId": "f67ebba8-019b-40a8-d9d6-3adebf428e0e"
      },
      "source": [
        "print('긍정키워드 수:', len(pos_list),'개')\n",
        "print('부정키워드 수:', len(neg_list),'개')\n",
        "print('중립 또는 모름 키워드 수:', len(unkown_list),'개')"
      ],
      "execution_count": 12,
      "outputs": [
        {
          "output_type": "stream",
          "text": [
            "긍정키워드 수: 61 개\n",
            "부정키워드 수: 114 개\n",
            "중립 또는 모름 키워드 수: 1395 개\n"
          ],
          "name": "stdout"
        }
      ]
    },
    {
      "cell_type": "code",
      "metadata": {
        "colab": {
          "base_uri": "https://localhost:8080/"
        },
        "id": "CRHxl8OirwmO",
        "outputId": "0263a1e1-2b56-4f58-b9e2-ab0a178c6435"
      },
      "source": [
        "from collections import Counter #jdk 제공 모듈\n",
        "\n",
        "pos_count = dict(Counter(pos_list).most_common()) # 단어별 갯수 계산 및 내림차순 정렬, 딕셔너리 구조\n",
        "neg_count = dict(Counter(neg_list).most_common())\n",
        "unkown_count = dict(Counter(unkown_list).most_common())\n",
        "print(pos_count)"
      ],
      "execution_count": 13,
      "outputs": [
        {
          "output_type": "stream",
          "text": [
            "{'로': 8, '명': 6, '원': 4, '개': 4, '심': 3, '동의': 2, '와': 2, '당': 2, '성장': 2, '용기': 2, '것': 2, '위': 2, '보호': 1, '발달': 1, '함께': 1, '흥행': 1, '기부': 1, '(': 1, '인정': 1, '강화': 1, '대상': 1, '덕': 1, '수익': 1, '필요': 1, '가능': 1, '충족': 1, '정의': 1, '발전': 1, '상승세': 1, '적극': 1, '기대': 1, '신': 1, '세': 1, '중요한': 1}\n"
          ],
          "name": "stdout"
        }
      ]
    },
    {
      "cell_type": "code",
      "metadata": {
        "id": "k2PFSq6vrwjr"
      },
      "source": [
        "stop_words = ['은', '도', '는', '다', '의', '가', '이', '했', '한', '에', '하', '고', '을', '를', '인', '듯', '과', '와', '네', '들', '듯', '지', '임', '게', '것', '었', ',' , '.', '>', '<', ')', '(', '에서', '이고', '라고', '다고', '라며', '면서', '라면서', '로써', '로서','로','으로','뿐', '에서','부터' ]"
      ],
      "execution_count": 1,
      "outputs": []
    },
    {
      "cell_type": "code",
      "metadata": {
        "colab": {
          "base_uri": "https://localhost:8080/"
        },
        "id": "kiJPsgN3x48h",
        "outputId": "a44b7273-371b-4a05-e758-f1f0e3d16ef9"
      },
      "source": [
        "tmp_dic = {}\n",
        "for key, value in pos_count.items():\n",
        "    if key not in stop_words:\n",
        "        tmp_dic[key]=value\n",
        "\n",
        "pos_count = tmp_dic\n",
        "\n",
        "print(tmp_dic)"
      ],
      "execution_count": 16,
      "outputs": [
        {
          "output_type": "stream",
          "text": [
            "{'명': 6, '원': 4, '개': 4, '심': 3, '동의': 2, '당': 2, '성장': 2, '용기': 2, '위': 2, '보호': 1, '발달': 1, '함께': 1, '흥행': 1, '기부': 1, '인정': 1, '강화': 1, '대상': 1, '덕': 1, '수익': 1, '필요': 1, '가능': 1, '충족': 1, '정의': 1, '발전': 1, '상승세': 1, '적극': 1, '기대': 1, '신': 1, '세': 1, '중요한': 1}\n"
          ],
          "name": "stdout"
        }
      ]
    },
    {
      "cell_type": "code",
      "metadata": {
        "id": "EcvXOXHYx8Pb"
      },
      "source": [
        "from wordcloud import WordCloud\n",
        "import matplotlib.pyplot as plt\n",
        "from PIL import Image\n",
        "import numpy as np"
      ],
      "execution_count": 15,
      "outputs": []
    },
    {
      "cell_type": "code",
      "metadata": {
        "id": "Mc_6ZOHny2gU"
      },
      "source": [
        "### https://www.w3schools.com/colors/colors_hexadecimal.asp\n",
        "def color_func(**kawargs):\n",
        "    color=\"#0b1177\"\n",
        "    return color"
      ],
      "execution_count": 17,
      "outputs": []
    },
    {
      "cell_type": "code",
      "metadata": {
        "colab": {
          "base_uri": "https://localhost:8080/"
        },
        "id": "NOwh_TTFy2bB",
        "outputId": "3214cb8f-2fcb-4ba0-f66e-15ae8e6ab22a"
      },
      "source": [
        "img_path = 'good.jpg'\n",
        "cloud_mask = np.array(Image.open(img_path))\n",
        "cloud_mask.shape\n",
        "\n",
        "img = Image.open(img_path)\n",
        "img.size"
      ],
      "execution_count": 19,
      "outputs": [
        {
          "output_type": "execute_result",
          "data": {
            "text/plain": [
              "(831, 789)"
            ]
          },
          "metadata": {
            "tags": []
          },
          "execution_count": 19
        }
      ]
    },
    {
      "cell_type": "code",
      "metadata": {
        "colab": {
          "base_uri": "https://localhost:8080/",
          "height": 390
        },
        "id": "2xiTY9kcy2Yw",
        "outputId": "ce4c81a1-a77a-4fdb-da80-1e7772abad77"
      },
      "source": [
        "wordcloud = WordCloud(font_path=\"c:/Windows/Fonts/malgun.ttf\",\n",
        "                      background_color=\"white\", mask=cloud_mask)\n",
        "wc = wordcloud.generate_from_frequencies(pos_count)\n",
        "plt.figure(figsize=(10,15))\n",
        "plt.imshow(wc.recolor(color_func=color_func), interpolation='bilinear')\n",
        "plt.axis(\"off\")\n",
        "plt.show()"
      ],
      "execution_count": 20,
      "outputs": [
        {
          "output_type": "error",
          "ename": "OSError",
          "evalue": "ignored",
          "traceback": [
            "\u001b[0;31m---------------------------------------------------------------------------\u001b[0m",
            "\u001b[0;31mOSError\u001b[0m                                   Traceback (most recent call last)",
            "\u001b[0;32m<ipython-input-20-68aeefd0c8fd>\u001b[0m in \u001b[0;36m<module>\u001b[0;34m()\u001b[0m\n\u001b[1;32m      1\u001b[0m wordcloud = WordCloud(font_path=\"c:/Windows/Fonts/malgun.ttf\",\n\u001b[1;32m      2\u001b[0m                       background_color=\"white\", mask=cloud_mask)\n\u001b[0;32m----> 3\u001b[0;31m \u001b[0mwc\u001b[0m \u001b[0;34m=\u001b[0m \u001b[0mwordcloud\u001b[0m\u001b[0;34m.\u001b[0m\u001b[0mgenerate_from_frequencies\u001b[0m\u001b[0;34m(\u001b[0m\u001b[0mpos_count\u001b[0m\u001b[0;34m)\u001b[0m\u001b[0;34m\u001b[0m\u001b[0;34m\u001b[0m\u001b[0m\n\u001b[0m\u001b[1;32m      4\u001b[0m \u001b[0mplt\u001b[0m\u001b[0;34m.\u001b[0m\u001b[0mfigure\u001b[0m\u001b[0;34m(\u001b[0m\u001b[0mfigsize\u001b[0m\u001b[0;34m=\u001b[0m\u001b[0;34m(\u001b[0m\u001b[0;36m10\u001b[0m\u001b[0;34m,\u001b[0m\u001b[0;36m15\u001b[0m\u001b[0;34m)\u001b[0m\u001b[0;34m)\u001b[0m\u001b[0;34m\u001b[0m\u001b[0;34m\u001b[0m\u001b[0m\n\u001b[1;32m      5\u001b[0m \u001b[0mplt\u001b[0m\u001b[0;34m.\u001b[0m\u001b[0mimshow\u001b[0m\u001b[0;34m(\u001b[0m\u001b[0mwc\u001b[0m\u001b[0;34m.\u001b[0m\u001b[0mrecolor\u001b[0m\u001b[0;34m(\u001b[0m\u001b[0mcolor_func\u001b[0m\u001b[0;34m=\u001b[0m\u001b[0mcolor_func\u001b[0m\u001b[0;34m)\u001b[0m\u001b[0;34m,\u001b[0m \u001b[0minterpolation\u001b[0m\u001b[0;34m=\u001b[0m\u001b[0;34m'bilinear'\u001b[0m\u001b[0;34m)\u001b[0m\u001b[0;34m\u001b[0m\u001b[0;34m\u001b[0m\u001b[0m\n",
            "\u001b[0;32m/usr/local/lib/python3.7/dist-packages/wordcloud/wordcloud.py\u001b[0m in \u001b[0;36mgenerate_from_frequencies\u001b[0;34m(self, frequencies, max_font_size)\u001b[0m\n\u001b[1;32m    424\u001b[0m             \u001b[0;32melse\u001b[0m\u001b[0;34m:\u001b[0m\u001b[0;34m\u001b[0m\u001b[0;34m\u001b[0m\u001b[0m\n\u001b[1;32m    425\u001b[0m                 self.generate_from_frequencies(dict(frequencies[:2]),\n\u001b[0;32m--> 426\u001b[0;31m                                                max_font_size=self.height)\n\u001b[0m\u001b[1;32m    427\u001b[0m                 \u001b[0;31m# find font sizes\u001b[0m\u001b[0;34m\u001b[0m\u001b[0;34m\u001b[0m\u001b[0;34m\u001b[0m\u001b[0m\n\u001b[1;32m    428\u001b[0m                 \u001b[0msizes\u001b[0m \u001b[0;34m=\u001b[0m \u001b[0;34m[\u001b[0m\u001b[0mx\u001b[0m\u001b[0;34m[\u001b[0m\u001b[0;36m1\u001b[0m\u001b[0;34m]\u001b[0m \u001b[0;32mfor\u001b[0m \u001b[0mx\u001b[0m \u001b[0;32min\u001b[0m \u001b[0mself\u001b[0m\u001b[0;34m.\u001b[0m\u001b[0mlayout_\u001b[0m\u001b[0;34m]\u001b[0m\u001b[0;34m\u001b[0m\u001b[0;34m\u001b[0m\u001b[0m\n",
            "\u001b[0;32m/usr/local/lib/python3.7/dist-packages/wordcloud/wordcloud.py\u001b[0m in \u001b[0;36mgenerate_from_frequencies\u001b[0;34m(self, frequencies, max_font_size)\u001b[0m\n\u001b[1;32m    471\u001b[0m             \u001b[0;32mwhile\u001b[0m \u001b[0;32mTrue\u001b[0m\u001b[0;34m:\u001b[0m\u001b[0;34m\u001b[0m\u001b[0;34m\u001b[0m\u001b[0m\n\u001b[1;32m    472\u001b[0m                 \u001b[0;31m# try to find a position\u001b[0m\u001b[0;34m\u001b[0m\u001b[0;34m\u001b[0m\u001b[0;34m\u001b[0m\u001b[0m\n\u001b[0;32m--> 473\u001b[0;31m                 \u001b[0mfont\u001b[0m \u001b[0;34m=\u001b[0m \u001b[0mImageFont\u001b[0m\u001b[0;34m.\u001b[0m\u001b[0mtruetype\u001b[0m\u001b[0;34m(\u001b[0m\u001b[0mself\u001b[0m\u001b[0;34m.\u001b[0m\u001b[0mfont_path\u001b[0m\u001b[0;34m,\u001b[0m \u001b[0mfont_size\u001b[0m\u001b[0;34m)\u001b[0m\u001b[0;34m\u001b[0m\u001b[0;34m\u001b[0m\u001b[0m\n\u001b[0m\u001b[1;32m    474\u001b[0m                 \u001b[0;31m# transpose font optionally\u001b[0m\u001b[0;34m\u001b[0m\u001b[0;34m\u001b[0m\u001b[0;34m\u001b[0m\u001b[0m\n\u001b[1;32m    475\u001b[0m                 transposed_font = ImageFont.TransposedFont(\n",
            "\u001b[0;32m/usr/local/lib/python3.7/dist-packages/PIL/ImageFont.py\u001b[0m in \u001b[0;36mtruetype\u001b[0;34m(font, size, index, encoding, layout_engine)\u001b[0m\n\u001b[1;32m    646\u001b[0m \u001b[0;34m\u001b[0m\u001b[0m\n\u001b[1;32m    647\u001b[0m     \u001b[0;32mtry\u001b[0m\u001b[0;34m:\u001b[0m\u001b[0;34m\u001b[0m\u001b[0;34m\u001b[0m\u001b[0m\n\u001b[0;32m--> 648\u001b[0;31m         \u001b[0;32mreturn\u001b[0m \u001b[0mfreetype\u001b[0m\u001b[0;34m(\u001b[0m\u001b[0mfont\u001b[0m\u001b[0;34m)\u001b[0m\u001b[0;34m\u001b[0m\u001b[0;34m\u001b[0m\u001b[0m\n\u001b[0m\u001b[1;32m    649\u001b[0m     \u001b[0;32mexcept\u001b[0m \u001b[0mOSError\u001b[0m\u001b[0;34m:\u001b[0m\u001b[0;34m\u001b[0m\u001b[0;34m\u001b[0m\u001b[0m\n\u001b[1;32m    650\u001b[0m         \u001b[0;32mif\u001b[0m \u001b[0;32mnot\u001b[0m \u001b[0misPath\u001b[0m\u001b[0;34m(\u001b[0m\u001b[0mfont\u001b[0m\u001b[0;34m)\u001b[0m\u001b[0;34m:\u001b[0m\u001b[0;34m\u001b[0m\u001b[0;34m\u001b[0m\u001b[0m\n",
            "\u001b[0;32m/usr/local/lib/python3.7/dist-packages/PIL/ImageFont.py\u001b[0m in \u001b[0;36mfreetype\u001b[0;34m(font)\u001b[0m\n\u001b[1;32m    643\u001b[0m \u001b[0;34m\u001b[0m\u001b[0m\n\u001b[1;32m    644\u001b[0m     \u001b[0;32mdef\u001b[0m \u001b[0mfreetype\u001b[0m\u001b[0;34m(\u001b[0m\u001b[0mfont\u001b[0m\u001b[0;34m)\u001b[0m\u001b[0;34m:\u001b[0m\u001b[0;34m\u001b[0m\u001b[0;34m\u001b[0m\u001b[0m\n\u001b[0;32m--> 645\u001b[0;31m         \u001b[0;32mreturn\u001b[0m \u001b[0mFreeTypeFont\u001b[0m\u001b[0;34m(\u001b[0m\u001b[0mfont\u001b[0m\u001b[0;34m,\u001b[0m \u001b[0msize\u001b[0m\u001b[0;34m,\u001b[0m \u001b[0mindex\u001b[0m\u001b[0;34m,\u001b[0m \u001b[0mencoding\u001b[0m\u001b[0;34m,\u001b[0m \u001b[0mlayout_engine\u001b[0m\u001b[0;34m)\u001b[0m\u001b[0;34m\u001b[0m\u001b[0;34m\u001b[0m\u001b[0m\n\u001b[0m\u001b[1;32m    646\u001b[0m \u001b[0;34m\u001b[0m\u001b[0m\n\u001b[1;32m    647\u001b[0m     \u001b[0;32mtry\u001b[0m\u001b[0;34m:\u001b[0m\u001b[0;34m\u001b[0m\u001b[0;34m\u001b[0m\u001b[0m\n",
            "\u001b[0;32m/usr/local/lib/python3.7/dist-packages/PIL/ImageFont.py\u001b[0m in \u001b[0;36m__init__\u001b[0;34m(self, font, size, index, encoding, layout_engine)\u001b[0m\n\u001b[1;32m    192\u001b[0m                     \u001b[0;32mreturn\u001b[0m\u001b[0;34m\u001b[0m\u001b[0;34m\u001b[0m\u001b[0m\n\u001b[1;32m    193\u001b[0m             self.font = core.getfont(\n\u001b[0;32m--> 194\u001b[0;31m                 \u001b[0mfont\u001b[0m\u001b[0;34m,\u001b[0m \u001b[0msize\u001b[0m\u001b[0;34m,\u001b[0m \u001b[0mindex\u001b[0m\u001b[0;34m,\u001b[0m \u001b[0mencoding\u001b[0m\u001b[0;34m,\u001b[0m \u001b[0mlayout_engine\u001b[0m\u001b[0;34m=\u001b[0m\u001b[0mlayout_engine\u001b[0m\u001b[0;34m\u001b[0m\u001b[0;34m\u001b[0m\u001b[0m\n\u001b[0m\u001b[1;32m    195\u001b[0m             )\n\u001b[1;32m    196\u001b[0m         \u001b[0;32melse\u001b[0m\u001b[0;34m:\u001b[0m\u001b[0;34m\u001b[0m\u001b[0;34m\u001b[0m\u001b[0m\n",
            "\u001b[0;31mOSError\u001b[0m: cannot open resource"
          ]
        }
      ]
    },
    {
      "cell_type": "code",
      "metadata": {
        "id": "-oA3T1PHy2WY"
      },
      "source": [
        ""
      ],
      "execution_count": null,
      "outputs": []
    },
    {
      "cell_type": "code",
      "metadata": {
        "id": "bWNyuXB8y2UK"
      },
      "source": [
        ""
      ],
      "execution_count": null,
      "outputs": []
    },
    {
      "cell_type": "code",
      "metadata": {
        "id": "Obg1L8GXy2Pc"
      },
      "source": [
        ""
      ],
      "execution_count": null,
      "outputs": []
    },
    {
      "cell_type": "markdown",
      "metadata": {
        "id": "1RqOagXyr1a6"
      },
      "source": [
        "### 감성사전에 긍정단어, 부정단어 추가하는 부분이라고 생각함"
      ]
    },
    {
      "cell_type": "code",
      "metadata": {
        "id": "2klYWxgdrwhn"
      },
      "source": [
        "SentiWord = pd.read_csv('SentiWord_info.csv') # csv를 불러옴\n",
        "word = '알쏭'\n",
        "SentiWord.loc[len(SentiWord)] = ['징용','징용',-2]  # 맨 끝에 징용 -2를 줌\n",
        "SentiWord.loc[len(SentiWord)] = ['합의','합의',1] # 맨 끝에 합의 +1 을 줌\n",
        "SentiWord.tail()\n",
        "\n",
        "def pos_neg(word):\n",
        "    tmp =SentiWord[(SentiWord['word']==word) | (SentiWord['word_root']==word)]\n",
        "    try:\n",
        "        word_res = (word,tmp['polarity'][tmp.index[0]])\n",
        "    except:\n",
        "        word_res = (word, 0)\n",
        "    return word_res\n",
        "\n",
        "pos_neg('알쏭')"
      ],
      "execution_count": null,
      "outputs": []
    }
  ]
}