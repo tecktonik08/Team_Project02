{
  "nbformat": 4,
  "nbformat_minor": 0,
  "metadata": {
    "colab": {
      "name": "deeplearning_mecab_wordcloud.ipynb",
      "provenance": [],
      "authorship_tag": "ABX9TyM1iDsd5BKZORecVdQnZxqE"
    },
    "kernelspec": {
      "name": "python3",
      "display_name": "Python 3"
    },
    "language_info": {
      "name": "python"
    }
  },
  "cells": [
    {
      "cell_type": "markdown",
      "metadata": {
        "id": "dGI0KvywrUys"
      },
      "source": [
        "# KNU 감성사전을 통한 단어의 긍정/부정을 판단하기"
      ]
    },
    {
      "cell_type": "code",
      "metadata": {
        "id": "Wi3ZGvE0rPe6"
      },
      "source": [
        "# ### KNU 한국어 감성사전 -DI LAB\n",
        "# - SentiWord info.json 한국어 감성사전 제공\n",
        "\n",
        "import json\n",
        "import pandas as pd\n",
        "from tqdm import tqdm"
      ],
      "execution_count": 1,
      "outputs": []
    },
    {
      "cell_type": "code",
      "metadata": {
        "id": "avjs_dvEluA7"
      },
      "source": [
        "import sqlite3"
      ],
      "execution_count": 2,
      "outputs": []
    },
    {
      "cell_type": "code",
      "metadata": {
        "id": "uPQ8q9HgmYKf"
      },
      "source": [
        "conn = sqlite3.connect(\"practice.db\") # practice.db 연결\n",
        "c = conn.cursor() # db를 사용하기 위한 cursor"
      ],
      "execution_count": 117,
      "outputs": []
    },
    {
      "cell_type": "code",
      "metadata": {
        "id": "Dzi1rgzxnc_O"
      },
      "source": [
        "c.execute(\"SELECT text FROM newspapers\") # newspaper text(기사)의 내용을 추출\n",
        "\n",
        "articles = [] # list 선언\n",
        "\n",
        "for row in c.fetchall():  # table의 내용을 반복하여 추출\n",
        "  articles.append(row)  # 해당 내용을 articles list에 넣음\n",
        "\n",
        "print(articles[0])  # articles[i]가 text 등 모든 내용을 포함한 기사 1개"
      ],
      "execution_count": null,
      "outputs": []
    },
    {
      "cell_type": "code",
      "metadata": {
        "id": "OEDS78loyFuj"
      },
      "source": [
        "!python -m pip install konlpy"
      ],
      "execution_count": null,
      "outputs": []
    },
    {
      "cell_type": "code",
      "metadata": {
        "id": "TNI1nD7mOYP7"
      },
      "source": [
        "!curl -O https://raw.githubusercontent.com/konlpy/konlpy/master/scripts/mecab.sh"
      ],
      "execution_count": null,
      "outputs": []
    },
    {
      "cell_type": "code",
      "metadata": {
        "id": "V2QCg5wtOaox"
      },
      "source": [
        "!bash ./mecab.sh"
      ],
      "execution_count": null,
      "outputs": []
    },
    {
      "cell_type": "code",
      "metadata": {
        "id": "foWs73U1Oths"
      },
      "source": [
        "from konlpy.tag import Mecab\n",
        "mecab = Mecab()"
      ],
      "execution_count": 10,
      "outputs": []
    },
    {
      "cell_type": "code",
      "metadata": {
        "id": "OHr3sZ_GqzHR"
      },
      "source": [
        "# 의미 없는 단어(조사 등) 제외\n",
        "stopwords = ['은', '도', '는', '다', '사', '의', '위', '제', '회', '등', '가', '이', '했', '한', '에', '애', '하', '보', '웃', '고', '곧', '정', '적', '순', '뜻', '용', '열', '유', '뜻', '잘', '못', '타', '희', '히', '점', '을', '를', '인', '듯', '과', '와', '네', '들', '듯', '지', '임', '게', '개', '것', '명', '원', '세','에서', '이고', '라고', '다고', '라기', '라며', '면서', '라면서', '로써', '로서', '로', '으로', '뿐', '에서', '어야', '부터', '었', '았', '한다', '이다', '였다', '였었다', '|', '/','‘', '’', ',' , '“', '”', '.', '>', '<', ')', '(']"
      ],
      "execution_count": 11,
      "outputs": []
    },
    {
      "cell_type": "code",
      "metadata": {
        "id": "sfUCCz2aptMX"
      },
      "source": [
        "import re"
      ],
      "execution_count": 13,
      "outputs": []
    },
    {
      "cell_type": "code",
      "metadata": {
        "id": "MkwEtCzHMnrG"
      },
      "source": [
        "def mec(i):\n",
        "  words = list()\n",
        "  for tok in articles[i]:\n",
        "    temp = ''.join(tok)\n",
        "    temp_re = re.sub('[^가-힣ㄱ-ㅎㅠ ]','', temp)\n",
        "    encoded = mecab.morphs(temp_re)\n",
        "    wd = [item for item in encoded if item not in stopwords]  # ('[^가-힣ㄱ-ㅎㅠ ]','')\n",
        "    words.append(wd)\n",
        "\n",
        "  return words"
      ],
      "execution_count": 14,
      "outputs": []
    },
    {
      "cell_type": "markdown",
      "metadata": {
        "id": "l4-DPlTlzrQ8"
      },
      "source": [
        "#### 사전에 단어 추가하는 부분(단어 추가하지 않을꺼면 필요없음)"
      ]
    },
    {
      "cell_type": "code",
      "metadata": {
        "id": "NsOUpi-ernrr"
      },
      "source": [
        "SentiWord = pd.read_json('SentiWord_info.json') # json 파일 불러옴\n",
        "SentiWord.to_csv('SentiWord_info.csv', index=False) # json 파일을 csv로 저장"
      ],
      "execution_count": 15,
      "outputs": []
    },
    {
      "cell_type": "code",
      "metadata": {
        "id": "baNL69Hugqiv"
      },
      "source": [
        "sw = pd.read_csv('SentiWord_info.csv')\n",
        "sw"
      ],
      "execution_count": null,
      "outputs": []
    },
    {
      "cell_type": "markdown",
      "metadata": {
        "id": "iv6x3nkHhOqR"
      },
      "source": [
        ""
      ]
    },
    {
      "cell_type": "code",
      "metadata": {
        "id": "PwlJQGPlyYIy"
      },
      "source": [
        "SentiWord = pd.read_csv('SentiWord_info.csv') # csv를 불러옴\n",
        "SentiWord.loc[len(SentiWord)] = ['징용','징용',-2]  # 맨 끝에 징용 -2를 줌\n",
        "SentiWord.loc[len(SentiWord)] = ['합의','합의',1] # 맨 끝에 합의 +1 을 줌\n",
        "SentiWord.tail()\n",
        "\n",
        "def pos_neg(word):\n",
        "    tmp =SentiWord[(SentiWord['word']==word) | (SentiWord['word_root']==word)]\n",
        "    try:\n",
        "        word_res = (word,tmp['polarity'][tmp.index[0]])\n",
        "    except:\n",
        "        word_res = (word, 0)\n",
        "    return word_res\n"
      ],
      "execution_count": 16,
      "outputs": []
    },
    {
      "cell_type": "code",
      "metadata": {
        "colab": {
          "base_uri": "https://localhost:8080/"
        },
        "id": "T3L8OnabxoP5",
        "outputId": "1b1e5d65-d3ce-4f7d-84d6-a52bcf49576e"
      },
      "source": [
        "len(articles)"
      ],
      "execution_count": 40,
      "outputs": [
        {
          "output_type": "execute_result",
          "data": {
            "text/plain": [
              "100"
            ]
          },
          "metadata": {
            "tags": []
          },
          "execution_count": 40
        }
      ]
    },
    {
      "cell_type": "code",
      "metadata": {
        "id": "OO1tYMzuUU8q",
        "colab": {
          "base_uri": "https://localhost:8080/"
        },
        "outputId": "f80ef764-6d3d-4466-db06-b039b50a086b"
      },
      "source": [
        "for i in range(3):\n",
        "  print(articles[i])"
      ],
      "execution_count": 64,
      "outputs": [
        {
          "output_type": "stream",
          "text": [
            "('로또복권 운영사 동행복권은 제974회 로또복권 추첨에서 ‘1, 2, 11, 16, 39, 44’이 1등 당첨번호로 뽑혔다고 31일 밝혔다. 2등 보너스 번호는 ‘32’다.당첨번호 6개를 모두 맞힌 1등 당첨자는 17명으로 13억1703만4523원씩 받는다. 당첨번호 5개와 보너스 번호가 일치한 2등은 66명으로 각 5653만9361원씩을, 당첨번호 5개를 맞힌 3등은 2636명으로 141만5629원씩을 받는다.당첨번호 4개를 맞힌 4등(고정 당첨금 5만원)은 12만9473명, 당첨번호 3개가 일치한 5등(고정 당첨금 5000원)은 214만9319명이다.이재덕 기자 duk@kyunghyang.com',)\n",
            "('김학범 감독이 이끄는 한국 올림픽축구대표팀이 31일 일본 요코하마 스타디움에서 열린 2020 도쿄올림픽 남자축구 8강 멕시코와의 경기에서 3-6 의 굴욕적인 완패를 당했다.한국은 시작하자마자 멕시코에게 선제골을 내줬다. 전반 12분 왼쪽에서 올라온 크로스를 루이스 로모가 헤딩으로 떨궜고, 문전 앞에 있던 엔리 마르틴이 골로 연결시켰다. 반격에 나선 한국은 곧바로 동점골을 터뜨렸다. 전반 20분 이동경이 김진규의 패스를 받아 수비수를 한 명 제친 뒤 날카로운 왼발 슈팅으로 골을 성공시켰다. 조금씩 공세를 이어가던 한국은 전반 30분 일격을 맞고 다시 분위기가 꺾였다. 문전으로 침투하던 루이스 로모가 하프라인 왼쪽에서 올라온 롱패스를 잡아 골로 연결했다. 한국은 이어 전반 39분에 페널티킥을 허용해 세바스찬 코르도바에게 또 골을 내줬다.전반을 1-3으로 뒤지던 한국은 후반 시작과 함께 득점에 성공했다. 이동경이 페널티지역 왼쪽에서 강한 왼발 슈팅으로 골을 넣었다. 그러나 또 다시 멕시코에게 연이어 골을 내주며 무너졌다. 후반 9분 프리킥 세트피스 상황에서 문전으로 침투하던 마르틴에게 헤딩골을 내줬고, 후반 18분 코르도바에게 다시 왼발 슈팅을 허용해 또다시 골을 내줬다. 후반 39분에는 에두아르도 아기레에게 추가골까지 내주며 고개를 숙였다. 후반 추가시간 황의조의 헤딩골로 한 골을 따라붙었지만 시간이 너무 부족했다.김학범 감독은 경기 후 기자회견에서 “늦은 밤까지 잠 못 자고 응원해주신 국민 여러분께 죄송한 마음이 들지 않을 수 없다”고 말했다. 그는 “전체적으로 선수들의 어떤 부분이 문제라기보다는 감독의 문제였다”면서 “제가 대비를 철저히 했어야 한다. 선수들 문제라기보다는 감독이 대응을 잘 못 해서 오늘 같은 결과 나오지 않았나 생각한다”고 말했다.도쿄|윤은용 기자 plaimstone@kyunghyang.com',)\n",
            "('여자 배구 대표팀이 일본을 꺾고 8강 진출을 확정지었다. 한국 여자 배구 대표팀은 31일 일본 도쿄 아리아케 아레나에서 열린 2020 도쿄 올림픽 배구 여자 조별리그 A조 일본전에서 5세트 대접전 끝에 세트스코어 3-2로 이겼다.극적인 승부였다. 2-2로 맞선 5세트 한치의 양보도 없는 명승부가 이어졌다. 앞선 세트에서 상대적으로 부진했던 박정아와 김희진이 살아났다. 5세트 초반 김희진이 블로킹으로 점수를 따냈고, 박정아가 힘있는 공격으로 상대 코트에 스파이크를 꽂았다.일본은 조직력을 바탕으로 한 안정적 공격을 이어갔다. 일본 세터 다시로 카나미의 효율적인 공격 배분이 장점이다. 속공과 시간차, 백어택 등을 골고루 활용했다. 5세트 중반 일본의 8점째는 개인 시간차 공격으로 나왔다.7-8에서 김연경의 공격이 블로킹 맞고 떨어졌을 때 커버가 되지 않았다. 김연경이 펄쩍 뛰며 화를 내면서 오히려 분위기가 살았다. 긴장감을 높인 대표팀은 김연경의 오픈 공격과 단독 블로킹 등이 나오면서 9-9 동점에 성공했다. 김연경은 9-11에서 네트 위 볼싸움을 다시 한 번 따내며 분위기를 살렸다.11-12에서 김연경이 후위로 빠지면서 대표팀에 위기가 찾아왔다. 코가 사리나의 서브 미스로 기회가 살았고, 12-14에서 박정아의 오픈 공격이 통하면서 마지막 기회가 찾아왔다. 원포인트 서버 안혜진의 서브가 효과적으로 꽂히면서 찾아 온 공격기회에서 박정아의 오픈 공격이 다시 한 번 성공했다.14-14 듀스에서 이번에는 이시카와 마유의 공격이 라인을 벗어나는 바람에 역전에 성공한 대표팀은 마지막 네트 위 볼싸움에서 승부를 끝냈다. 12-14로 뒤진 상태에서 연속 4득점해 경기를 뒤집었다.도쿄|이용균 기자 noda@kyunghyang.com',)\n"
          ],
          "name": "stdout"
        }
      ]
    },
    {
      "cell_type": "code",
      "metadata": {
        "id": "yONMaKXkEU5h"
      },
      "source": [
        "def rst(j):\n",
        "  if j > 10:\n",
        "      result = '긍정'\n",
        "  elif j < - 10:\n",
        "      reuslt = '부정'\n",
        "  else:\n",
        "      result = '중립'\n",
        "  return result"
      ],
      "execution_count": 93,
      "outputs": []
    },
    {
      "cell_type": "code",
      "metadata": {
        "colab": {
          "base_uri": "https://localhost:8080/",
          "height": 35
        },
        "id": "KlWt4FfMFGp5",
        "outputId": "2608c16a-38ff-4466-f267-8f68da9c9e71"
      },
      "source": [
        "rst(11)"
      ],
      "execution_count": 94,
      "outputs": [
        {
          "output_type": "execute_result",
          "data": {
            "application/vnd.google.colaboratory.intrinsic+json": {
              "type": "string"
            },
            "text/plain": [
              "'긍정'"
            ]
          },
          "metadata": {
            "tags": []
          },
          "execution_count": 94
        }
      ]
    },
    {
      "cell_type": "code",
      "metadata": {
        "colab": {
          "base_uri": "https://localhost:8080/"
        },
        "id": "ltPUviharwq9",
        "outputId": "b22dda5a-f20f-4661-8c14-1721a9137593"
      },
      "source": [
        "from tqdm import tqdm\n",
        "from collections import Counter \n",
        "\n",
        "\n",
        "for i in range(5):  # range는 len(articles) \n",
        "  article = mec(i)\n",
        "  \n",
        "  pos_list = []\n",
        "  neg_list = []\n",
        "  unkown_list = []\n",
        "    \n",
        "  po = []\n",
        "  ne = []\n",
        "  un = []\n",
        "  for noun in tqdm(article[0], '긍/부정 나누기'):\n",
        "\n",
        "      word_res = pos_neg(noun)\n",
        "      res = len(pos_list) - len(neg_list) \n",
        "\n",
        "      if word_res[1] > 0:\n",
        "          pos_list.append(word_res[0])\n",
        "      elif word_res[1] < 0 :\n",
        "          neg_list.append(word_res[0])\n",
        "      else:\n",
        "          unkown_list.append(word_res[0])\n",
        "      \n",
        "      pos_count = dict(Counter(pos_list).most_common()) # 단어별 갯수 계산 및 내림차순 정렬, 딕셔너리 구조\n",
        "      neg_count = dict(Counter(neg_list).most_common())\n",
        "      unkown_count = dict(Counter(unkown_list).most_common())\n",
        "     \n",
        "  po.append(pos_count)\n",
        "  ne.append(neg_count)\n",
        "  un.append(unkown_count)\n",
        "  print(po)\n",
        "  print(ne)\n",
        "  print(un)\n"
      ],
      "execution_count": 121,
      "outputs": [
        {
          "output_type": "stream",
          "text": [
            "긍/부정 나누기: 100%|██████████| 55/55 [00:00<00:00, 333.85it/s]\n"
          ],
          "name": "stderr"
        },
        {
          "output_type": "stream",
          "text": [
            "[{'받': 2}]\n",
            "[{}]\n",
            "[{'번호': 8, '당첨': 6, '만': 5, '복권': 3, '맞힌': 3, '씩': 3, '로또': 2, '보너스': 2, '는다': 2, '일치': 2, '고정': 2, '당첨금': 2, '운영': 1, '동행': 1, '제회': 1, '추첨': 1, '뽑혔': 1, '일': 1, '밝혔': 1, '모두': 1, '당첨자': 1, '억만': 1, '각': 1, '이재덕': 1, '기자': 1}]\n"
          ],
          "name": "stdout"
        },
        {
          "output_type": "stream",
          "text": [
            "긍/부정 나누기: 100%|██████████| 246/246 [00:00<00:00, 334.92it/s]\n"
          ],
          "name": "stderr"
        },
        {
          "output_type": "stream",
          "text": [
            "[{'성공': 2, '받': 1, '함께': 1, '득점': 1, '신': 1}]\n",
            "[{'분': 7, '해': 3, '아': 2, '어': 2, '강': 1, '굴욕': 1, '맞': 1, '넣': 1, '부족': 1, '늦': 1, '자': 1, '죄송': 1, '수': 1, '없': 1, '그': 1}]\n",
            "[{'골': 12, '한국': 6, '에게': 6, '전반': 5, '던': 5, '후반': 5, '감독': 4, '내줬': 4, '다시': 4, '멕시코': 3, '왼쪽': 3, '헤딩': 3, '문전': 3, '왼발': 3, '슈팅': 3, '또': 3, '문제': 3, '김학범': 2, '올림픽': 2, '축구': 2, '도쿄': 2, '경기': 2, '시작': 2, '올라온': 2, '루이스': 2, '로모': 2, '마르틴': 2, '연결': 2, '시켰': 2, '이동경': 2, '패스': 2, '침투': 2, '허용': 2, '코르도바': 2, '내주': 2, '며': 2, '추가': 2, '까지': 2, '시간': 2, '기자': 2, '않': 2, '말': 2, '선수': 2, '보다': 2, '이끄': 1, '대표': 1, '팀': 1, '일': 1, '일본': 1, '요코하마': 1, '스타디움': 1, '열린': 1, '남자': 1, '완패': 1, '당했': 1, '자마자': 1, '선제골': 1, '크로스': 1, '떨궜': 1, '앞': 1, '있': 1, '엔리': 1, '반격': 1, '나선': 1, '곧바로': 1, '동점': 1, '터뜨렸': 1, '김진규': 1, '수비수': 1, '제친': 1, '뒤': 1, '날카로운': 1, '조금': 1, '씩': 1, '공세': 1, '일격': 1, '분위기': 1, '꺾였': 1, '하프': 1, '라인': 1, '롱': 1, '잡': 1, '이어': 1, '페널티킥을': 1, '세바스찬': 1, '뒤지': 1, '페널티지역': 1, '강한': 1, '그러나': 1, '연이': 1, '무너졌': 1, '프리킥': 1, '세트': 1, '피스': 1, '상황': 1, '에두아르도': 1, '아기레': 1, '고개': 1, '숙였': 1, '황의조': 1, '따라붙': 1, '지만': 1, '너무': 1, '후': 1, '회견': 1, '밤': 1, '잠': 1, '응원': 1, '주': 1, '국민': 1, '여러분': 1, '께': 1, '마음': 1, '전체': 1, '어떤': 1, '부분': 1, '였': 1, '다면서': 1, '대비': 1, '철저히': 1, '대응': 1, '해서': 1, '오늘': 1, '같': 1, '결과': 1, '나오': 1, '나': 1, '생각': 1, '한다고': 1, '윤': 1}]\n"
          ],
          "name": "stdout"
        },
        {
          "output_type": "stream",
          "text": [
            "긍/부정 나누기: 100%|██████████| 203/203 [00:00<00:00, 323.52it/s]\n"
          ],
          "name": "stderr"
        },
        {
          "output_type": "stream",
          "text": [
            "[{'성공': 3, '안정': 1, '장점': 1, '뛰': 1, '통하': 1, '득점': 1}]\n",
            "[{'공격': 10, '차': 2, '살': 2, '싸움': 2, '강': 1, '없': 1, '부진': 1, '따': 1, '어': 1, '맞': 1, '때': 1, '되': 1, '화': 1, '내': 1, '위기': 1, '코': 1, '아': 1, '벗어나': 1, '역전': 1, '해': 1}]\n",
            "[{'세트': 6, '대표': 5, '팀': 5, '일본': 5, '김연경': 5, '박정아': 4, '여자': 3, '배구': 3, '도쿄': 3, '블로킹': 3, '오픈': 3, '기회': 3, '일': 2, '승부': 2, '상대': 2, '김희진': 2, '시간': 2, '며': 2, '분위기': 2, '네트': 2, '볼': 2, '다시': 2, '번': 2, '찾아왔': 2, '서브': 2, '마지막': 2, '꺾': 1, '진출': 1, '확정': 1, '한국': 1, '아리아케': 1, '아레나': 1, '열린': 1, '올림픽': 1, '조별': 1, '리그': 1, '조': 1, '본전': 1, '대접전': 1, '끝': 1, '스코어': 1, '이겼': 1, '다극': 1, '였': 1, '맞선': 1, '치': 1, '양보': 1, '명승부': 1, '이어졌': 1, '앞선': 1, '던': 1, '살아났': 1, '초반': 1, '점수': 1, '냈': 1, '힘있': 1, '코트': 1, '스파이크': 1, '꽂': 1, '조직력': 1, '바탕': 1, '갔': 1, '세터': 1, '다시로': 1, '카나미': 1, '효율': 1, '배분': 1, '속공': 1, '백': 1, '어택': 1, '골고루': 1, '활용': 1, '중반': 1, '째': 1, '개인': 1, '나왔': 1, '떨어졌': 1, '커버': 1, '않': 1, '펄쩍': 1, '오히려': 1, '긴장감': 1, '높인': 1, '단독': 1, '나오': 1, '동점': 1, '따내': 1, '살렸': 1, '후위': 1, '빠지': 1, '사리나': 1, '미스': 1, '포인트': 1, '서버': 1, '안혜진': 1, '효과': 1, '꽂히': 1, '찾': 1, '온': 1, '듀스': 1, '이번': 1, '이시카와': 1, '마유': 1, '라인': 1, '바람': 1, '끝냈': 1, '뒤진': 1, '상태': 1, '연속': 1, '경기': 1, '뒤집': 1, '이용균': 1, '기자': 1}]\n"
          ],
          "name": "stdout"
        },
        {
          "output_type": "stream",
          "text": [
            "긍/부정 나누기: 100%|██████████| 450/450 [00:01<00:00, 311.52it/s]\n"
          ],
          "name": "stderr"
        },
        {
          "output_type": "stream",
          "text": [
            "[{'좋': 3, '받': 2, '휴식': 1, '역투': 1, '우월': 1, '득점': 1, '완전': 1, '철저': 1, '충분히': 1, '매끄럽': 1}]\n",
            "[{'맞': 5, '해': 5, '아': 3, '내': 2, '야': 2, '어': 2, '송구': 2, '시': 1, '허': 1, '포': 1, '틀': 1, '낮': 1, '자': 1, '답답': 1, '상': 1, '자기': 1, '기': 1, '진': 1}]\n",
            "[{'미국': 9, '루': 9, '타자': 8, '한국': 6, '대표': 6, '팀': 6, '경기': 6, '뒤': 6, '잡': 6, '홈런': 5, '안타': 5, '고영': 5, '표': 5, '지만': 5, '타구': 5, '감독': 4, '에게': 4, '말': 4, '등판': 4, '못했': 4, '야구': 3, '두': 3, '요코하마': 3, '조': 3, '초': 3, '뽑': 3, '투수': 3, '허용': 3, '대': 3, '몸': 3, '삼진': 3, '연속': 3, '이닝': 3, '오지환': 3, '양의지': 3, '볼넷': 3, '생각': 3, '김경문': 2, '일': 2, '일본': 2, '된': 2, '도미니카': 2, '공화국': 2, '땅볼': 2, '선발': 2, '선두': 2, '볼': 2, '번': 2, '던진': 2, '됐': 2, '이후': 2, '그러나': 2, '카운트': 2, '마운드': 2, '치': 2, '활약': 2, '던': 2, '상대': 2, '수비': 2, '걸': 2, '루수': 2, '기회': 2, '판정': 2, '향했': 2, '허경민': 2, '출루': 2, '오늘': 2, '연결': 2, '빨리': 2, '패했': 1, '중반': 1, '내준': 1, '방': 1, '승부': 1, '갈렸': 1, '이끄': 1, '가나가와현': 1, '스타디움': 1, '열린': 1, '도쿄': 1, '올림픽': 1, '조별': 1, '리그': 1, '차전': 1, '졌': 1, '내주': 1, '없이': 1, '바로': 1, '나선다': 1, '월일': 1, '저녁': 1, '녹아웃': 1, '스테이지': 1, '첫': 1, '갖': 1, '는다': 1, '박해민': 1, '이정후': 1, '김현수': 1, '점수': 1, '먼저': 1, '까지': 1, '단': 1, '만': 1, '펼쳤': 1, '에디': 1, '알바레스': 1, '보낸': 1, '타일러': 1, '오스틴': 1, '트리': 1, '스턴': 1, '카사스': 1, '체인지업': 1, '맞혀': 1, '끝낸': 1, '앨런': 1, '좌월': 1, '솔로': 1, '뒤진': 1, '내려가': 1, '고우석': 1, '주자': 1, '홈': 1, '내줘': 1, '째': 1, '아웃': 1, '타선': 1, '이날': 1, '완전히': 1, '막혔': 1, '선취점': 1, '으나': 1, '동안': 1, '밖에': 1, '반면': 1, '분석': 1, '앞서': 1, '이스라엘': 1, '전': 1, '포함': 1, '타수': 1, '타점': 1, '시프트': 1, '간': 1, '향한': 1, '토드': 1, '프레이저': 1, '처리': 1, '마이크': 1, '소샤': 1, '예고': 1, '대로': 1, '프로야구': 1, '중': 1, '둘': 1, '차례': 1, '투입': 1, '마르티네스': 1, '소프트': 1, '뱅크': 1, '스캇': 1, '맥': 1, '고프': 1, '야쿠르트': 1, '나': 1, '서': 1, '틀어막': 1, '좀처럼': 1, '추가점': 1, '얻': 1, '살리': 1, '에드윈': 1, '잭슨': 1, '주니어': 1, '제구': 1, '않': 1, '풀': 1, '스트라이크': 1, '나가': 1, '려다': 1, '표정': 1, '더그아웃': 1, '사후': 1, '각각': 1, '공': 1, '대타': 1, '박건우': 1, '나섰': 1, '초구': 1, '받아친': 1, '유격수': 1, '직선': 1, '타로': 1, '잡혔': 1, '다회': 1, '강백호': 1, '중월': 1, '루타': 1, '마지막': 1, '만들': 1, '오재일': 1, '중견수': 1, '희생': 1, '플라이': 1, '만회': 1, '베이스': 1, '지나': 1, '좌익선': 1, '빠질': 1, '법': 1, '였': 1, '들어온': 1, '잭': 1, '로페즈': 1, '날려': 1, '총알': 1, '같이': 1, '끝냈': 1, '끝난': 1, '대한민국': 1, '에이스': 1, '시켰': 1, '던진다고': 1, '정말': 1, '던졌': 1, '단지': 1, '실투': 1, '부분': 1, '아쉬운': 1, '역할': 1, '김': 1, '이어': 1, '는데': 1, '동시': 1, '많이': 1, '잡히': 1, '굉장히': 1, '다는': 1, '느낌': 1, '다며': 1, '잊': 1, '내일': 1, '준비': 1, '겠': 1, '김은진': 1, '기자': 1}]\n"
          ],
          "name": "stdout"
        },
        {
          "output_type": "stream",
          "text": [
            "긍/부정 나누기: 100%|██████████| 185/185 [00:00<00:00, 309.00it/s]"
          ],
          "name": "stderr"
        },
        {
          "output_type": "stream",
          "text": [
            "[{'킹': 1, '낫': 1}]\n",
            "[{'힘': 4, '분': 2, '불리': 1, '시': 1, '가량': 1, '이야기': 1, '자': 1, '해': 1, '자리': 1, '아': 1, '부정': 1}]\n",
            "[{'전': 14, '총장': 7, '위원장': 7, '윤': 7, '김': 6, '일': 4, '국민': 4, '입당': 4, '기자': 3, '전격': 2, '대선': 2, '전략': 2, '논의': 2, '보인다': 2, '오후': 2, '서울': 2, '있': 2, '나눴': 2, '두': 2, '앞': 2, '나가': 2, '말': 2, '했다': 2, '회동': 2, '후보': 2, '월': 2, '의원': 2, '윤석열': 1, '검찰': 1, '김종인': 1, '비상': 1, '대책': 1, '만났': 1, '전날': 1, '하루': 1, '만': 1, '메이커': 1, '만나': 1, '정권': 1, '교체': 1, '위한': 1, '이날': 1, '쯤': 1, '광화문': 1, '사무실': 1, '찾아가': 1, '측': 1, '관계자': 1, '통화': 1, '배석': 1, '없이': 1, '독대': 1, '해서': 1, '말씀': 1, '다면서': 1, '길': 1, '바란다고': 1, '덕담': 1, '안다고': 1, '지난': 1, '만난': 1, '조만간': 1, '찾': 1, '뵐': 1, '예고': 1, '된': 1, '배경': 1, '설명': 1, '조언': 1, '구했': 1, '그간': 1, '언론': 1, '인터뷰': 1, '통해': 1, '조기': 1, '의견': 1, '밝히': 1, '야권': 1, '단일': 1, '선출': 1, '다는': 1, '취지': 1, '바': 1, '따라': 1, '어떤': 1, '오갔': 1, '주목': 1, '된다': 1, '여의도': 1, '북카페': 1, '청년': 1, '정책': 1, '토론회': 1, '상상': 1, '오픈': 1, '세미나': 1, '참석': 1, '초선': 1, '명불허전': 1, '수다': 1, '강연자': 1, '만난다': 1, '유정': 1}]\n"
          ],
          "name": "stdout"
        },
        {
          "output_type": "stream",
          "text": [
            "\n"
          ],
          "name": "stderr"
        }
      ]
    },
    {
      "cell_type": "code",
      "metadata": {
        "colab": {
          "base_uri": "https://localhost:8080/"
        },
        "id": "fEOm6dk_MBhL",
        "outputId": "5c038ecf-a009-4f98-9497-620e13e57fc5"
      },
      "source": [
        "conn.close"
      ],
      "execution_count": 116,
      "outputs": [
        {
          "output_type": "execute_result",
          "data": {
            "text/plain": [
              "<function Connection.close>"
            ]
          },
          "metadata": {
            "tags": []
          },
          "execution_count": 116
        }
      ]
    },
    {
      "cell_type": "code",
      "metadata": {
        "id": "SDAbl9YjMHnC"
      },
      "source": [
        "conn = sqlite3.connect('mydb')"
      ],
      "execution_count": 104,
      "outputs": []
    },
    {
      "cell_type": "code",
      "metadata": {
        "id": "7ZDIbqg7NLoQ"
      },
      "source": [
        "c = conn.cursor()"
      ],
      "execution_count": 105,
      "outputs": []
    },
    {
      "cell_type": "code",
      "metadata": {
        "colab": {
          "base_uri": "https://localhost:8080/",
          "height": 169
        },
        "id": "rp2c2GSjLYO3",
        "outputId": "83be8b06-4d61-4c12-e625-a9e69a1ae17b"
      },
      "source": [
        "c.execute(\"CREATE TABLE IF NOT EXISTS wrd | (id integer PRIMARY KEY, pos text, neg text, neut text,)\")"
      ],
      "execution_count": 115,
      "outputs": [
        {
          "output_type": "error",
          "ename": "OperationalError",
          "evalue": "ignored",
          "traceback": [
            "\u001b[0;31m---------------------------------------------------------------------------\u001b[0m",
            "\u001b[0;31mOperationalError\u001b[0m                          Traceback (most recent call last)",
            "\u001b[0;32m<ipython-input-115-70b2746230e7>\u001b[0m in \u001b[0;36m<module>\u001b[0;34m()\u001b[0m\n\u001b[0;32m----> 1\u001b[0;31m \u001b[0mc\u001b[0m\u001b[0;34m.\u001b[0m\u001b[0mexecute\u001b[0m\u001b[0;34m(\u001b[0m\u001b[0;34m\"CREATE TABLE IF NOT EXISTS wrd | (id integer PRIMARY KEY, pos text, neg text, neut text,)\"\u001b[0m\u001b[0;34m)\u001b[0m\u001b[0;34m\u001b[0m\u001b[0;34m\u001b[0m\u001b[0m\n\u001b[0m",
            "\u001b[0;31mOperationalError\u001b[0m: near \"|\": syntax error"
          ]
        }
      ]
    },
    {
      "cell_type": "code",
      "metadata": {
        "colab": {
          "base_uri": "https://localhost:8080/"
        },
        "id": "lD2bAu78rwol",
        "outputId": "cb5f117a-eb57-466e-d723-399ad211396d"
      },
      "source": [
        "|print('긍정키워드 수:', len(pos_list),'개')\n",
        "print('부정키워드 수:', len(neg_list),'개')\n",
        "print('중립 또는 모름 키워드 수:', len(unkown_list),'개')"
      ],
      "execution_count": 84,
      "outputs": [
        {
          "output_type": "stream",
          "text": [
            "긍정키워드 수: 2 개\n",
            "부정키워드 수: 15 개\n",
            "중립 또는 모름 키워드 수: 168 개\n"
          ],
          "name": "stdout"
        }
      ]
    },
    {
      "cell_type": "markdown",
      "metadata": {
        "id": "kmuNTcDj_0XG"
      },
      "source": [
        "index              긍정                       부정\n",
        "  0      {긍정1:빈도, 긍정2:빈도}   {부정1:빈도, 부정2:빈도}\n",
        "  1\n",
        "  2\n",
        "  3"
      ]
    },
    {
      "cell_type": "code",
      "metadata": {
        "colab": {
          "base_uri": "https://localhost:8080/"
        },
        "id": "kiJPsgN3x48h",
        "outputId": "71d16697-425f-4e8c-c56f-65049f21fcbe"
      },
      "source": [
        "tmp_dic = {}\n",
        "for key, value in pos_count.items():\n",
        "    if key not in stopwords:\n",
        "        tmp_dic[key]=value\n",
        "\n",
        "pos_count = tmp_dic\n",
        "\n",
        "print(tmp_dic)"
      ],
      "execution_count": 46,
      "outputs": [
        {
          "output_type": "stream",
          "text": [
            "{'신': 300, '충분히': 200, '중요': 200, '적극': 100, '크': 100, '발전': 100, '해결': 100, '필요': 100, '가치': 100, '많': 100, '타당': 100, '노력': 100, '새로운': 100, '추진': 100, '좋': 100}\n"
          ],
          "name": "stdout"
        }
      ]
    },
    {
      "cell_type": "code",
      "metadata": {
        "id": "EcvXOXHYx8Pb"
      },
      "source": [
        "from wordcloud import WordCloud\n",
        "import matplotlib.pyplot as plt\n",
        "from PIL import Image\n",
        "import numpy as np"
      ],
      "execution_count": 47,
      "outputs": []
    },
    {
      "cell_type": "code",
      "metadata": {
        "id": "Mc_6ZOHny2gU"
      },
      "source": [
        "### https://www.w3schools.com/colors/colors_hexadecimal.asp\n",
        "def color_func(**kawargs):\n",
        "    color=\"#0b1177\"\n",
        "    return color"
      ],
      "execution_count": 37,
      "outputs": []
    },
    {
      "cell_type": "code",
      "metadata": {
        "colab": {
          "base_uri": "https://localhost:8080/"
        },
        "id": "NOwh_TTFy2bB",
        "outputId": "5b3fb91c-3233-4648-d1d6-970110f8dc25"
      },
      "source": [
        "img_path = 'good.jpg'\n",
        "cloud_mask = np.array(Image.open(img_path))\n",
        "cloud_mask.shape\n",
        "\n",
        "img = Image.open(img_path)\n",
        "img.size"
      ],
      "execution_count": 38,
      "outputs": [
        {
          "output_type": "execute_result",
          "data": {
            "text/plain": [
              "(831, 789)"
            ]
          },
          "metadata": {
            "tags": []
          },
          "execution_count": 38
        }
      ]
    },
    {
      "cell_type": "code",
      "metadata": {
        "colab": {
          "base_uri": "https://localhost:8080/",
          "height": 561
        },
        "id": "2xiTY9kcy2Yw",
        "outputId": "5fb43ee2-f083-40dd-c3dd-8575d388ea26"
      },
      "source": [
        "wordcloud = WordCloud(font_path=\"H2PORL.TTF\",\n",
        "                      background_color=\"white\", mask=cloud_mask)\n",
        "wc = wordcloud.generate_from_frequencies(pos_count)\n",
        "plt.figure(figsize=(10,15))\n",
        "plt.imshow(wc.recolor(color_func=color_func), interpolation='bilinear')\n",
        "plt.axis(\"off\")\n",
        "plt.show()"
      ],
      "execution_count": 39,
      "outputs": [
        {
          "output_type": "display_data",
          "data": {
            "image/png": "[encoded data removed]",
            "text/plain": [
              "<Figure size 720x1080 with 1 Axes>"
            ]
          },
          "metadata": {
            "tags": [],
            "needs_background": "light"
          }
        }
      ]
    },
    {
      "cell_type": "code",
      "metadata": {
        "colab": {
          "base_uri": "https://localhost:8080/"
        },
        "id": "-R7iB2UI0_tI",
        "outputId": "b02c0485-a683-4cb1-8e00-399ae4300a86"
      },
      "source": [
        "img_path = 'bad.jpg'\n",
        "cloud_mask = np.array(Image.open(img_path))\n",
        "cloud_mask.shape\n",
        "\n",
        "img = Image.open(img_path)\n",
        "img.size"
      ],
      "execution_count": null,
      "outputs": [
        {
          "output_type": "execute_result",
          "data": {
            "text/plain": [
              "(831, 789)"
            ]
          },
          "metadata": {
            "tags": []
          },
          "execution_count": 166
        }
      ]
    },
    {
      "cell_type": "code",
      "metadata": {
        "id": "-oA3T1PHy2WY",
        "colab": {
          "base_uri": "https://localhost:8080/",
          "height": 561
        },
        "outputId": "399cf98d-1458-4b57-a98e-a03f9fc31e47"
      },
      "source": [
        "wordcloud = WordCloud(font_path=\"H2PORL.TTF\",\n",
        "                      background_color=\"white\", mask=cloud_mask)\n",
        "wc = wordcloud.generate_from_frequencies(neg_count)\n",
        "plt.figure(figsize=(10,15))\n",
        "plt.imshow(wc.recolor(color_func=color_func), interpolation='bilinear')\n",
        "plt.axis(\"off\")\n",
        "plt.show()"
      ],
      "execution_count": null,
      "outputs": [
        {
          "output_type": "display_data",
          "data": {
            "image/png": "[encoded data removed]",
            "text/plain": [
              "<Figure size 720x1080 with 1 Axes>"
            ]
          },
          "metadata": {
            "tags": [],
            "needs_background": "light"
          }
        }
      ]
    }
  ]
}