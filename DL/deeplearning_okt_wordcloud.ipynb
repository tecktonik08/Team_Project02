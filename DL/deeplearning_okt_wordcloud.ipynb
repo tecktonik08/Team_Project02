{
 "cells": [
  {
   "cell_type": "markdown",
   "metadata": {
    "id": "dGI0KvywrUys"
   },
   "source": [
    "# KNU 감성사전을 통한 단어의 긍정/부정을 판단하기"
   ]
  },
  {
   "cell_type": "code",
   "execution_count": 1,
   "metadata": {
    "id": "Wi3ZGvE0rPe6"
   },
   "outputs": [],
   "source": [
    "# ### KNU 한국어 감성사전 -DI LAB\n",
    "# - SentiWord info.json 한국어 감성사전 제공\n",
    "import json\n",
    "import pandas as pd\n",
    "import sqlite3\n",
    "import re"
   ]
  },
  {
   "cell_type": "code",
   "execution_count": 2,
   "metadata": {
    "id": "NsOUpi-ernrr"
   },
   "outputs": [],
   "source": [
    "SentiWord = pd.read_json('./word_dic/SentiWord_info.json') # json 파일 불러옴\n",
    "SentiWord.to_csv('SentiWord_info.csv', index=False) # json 파일을 csv로 저장"
   ]
  },
  {
   "cell_type": "code",
   "execution_count": 3,
   "metadata": {
    "id": "uPQ8q9HgmYKf"
   },
   "outputs": [],
   "source": [
    "conn = sqlite3.connect(\"../scrapping/practice.db\") # practice.db 연결\n",
    "c = conn.cursor() # db를 사용하기 위한 cursor"
   ]
  },
  {
   "cell_type": "code",
   "execution_count": 4,
   "metadata": {
    "colab": {
     "base_uri": "https://localhost:8080/"
    },
    "id": "Dzi1rgzxnc_O",
    "outputId": "d5198fb1-6094-40a6-9004-319314dd70d6"
   },
   "outputs": [],
   "source": [
    "c.execute(\"SELECT text FROM newspapers\") # newspaper text(기사)의 내용을 추출\n",
    "\n",
    "articles = [] # list 선언\n",
    "\n",
    "for row in c.fetchall():  # table의 내용을 반복하여 추출\n",
    "  articles.append(row)  # 해당 내용을 articles list에 넣음"
   ]
  },
  {
   "cell_type": "code",
   "execution_count": 11,
   "metadata": {
    "id": "OEDS78loyFuj"
   },
   "outputs": [
    {
     "name": "stdout",
     "output_type": "stream",
     "text": [
      "Requirement already satisfied: konlpy in c:\\python\\python36\\lib\\site-packages (0.5.2)\n",
      "Requirement already satisfied: beautifulsoup4==4.6.0 in c:\\python\\python36\\lib\\site-packages (from konlpy) (4.6.0)\n",
      "Requirement already satisfied: JPype1>=0.7.0 in c:\\python\\python36\\lib\\site-packages (from konlpy) (1.3.0)\n",
      "Requirement already satisfied: tweepy>=3.7.0 in c:\\python\\python36\\lib\\site-packages (from konlpy) (3.10.0)\n",
      "Requirement already satisfied: lxml>=4.1.0 in c:\\python\\python36\\lib\\site-packages (from konlpy) (4.6.3)\n",
      "Requirement already satisfied: numpy>=1.6 in c:\\python\\python36\\lib\\site-packages (from konlpy) (1.19.5)\n",
      "Requirement already satisfied: colorama in c:\\python\\python36\\lib\\site-packages (from konlpy) (0.4.4)\n",
      "Requirement already satisfied: typing-extensions in c:\\python\\python36\\lib\\site-packages (from JPype1>=0.7.0->konlpy) (3.10.0.0)\n",
      "Requirement already satisfied: six>=1.10.0 in c:\\python\\python36\\lib\\site-packages (from tweepy>=3.7.0->konlpy) (1.16.0)\n",
      "Requirement already satisfied: requests-oauthlib>=0.7.0 in c:\\python\\python36\\lib\\site-packages (from tweepy>=3.7.0->konlpy) (1.3.0)\n",
      "Requirement already satisfied: requests[socks]>=2.11.1 in c:\\python\\python36\\lib\\site-packages (from tweepy>=3.7.0->konlpy) (2.25.1)\n",
      "Requirement already satisfied: oauthlib>=3.0.0 in c:\\python\\python36\\lib\\site-packages (from requests-oauthlib>=0.7.0->tweepy>=3.7.0->konlpy) (3.1.1)\n",
      "Requirement already satisfied: certifi>=2017.4.17 in c:\\python\\python36\\lib\\site-packages (from requests[socks]>=2.11.1->tweepy>=3.7.0->konlpy) (2021.5.30)\n",
      "Requirement already satisfied: chardet<5,>=3.0.2 in c:\\python\\python36\\lib\\site-packages (from requests[socks]>=2.11.1->tweepy>=3.7.0->konlpy) (4.0.0)\n",
      "Requirement already satisfied: idna<3,>=2.5 in c:\\python\\python36\\lib\\site-packages (from requests[socks]>=2.11.1->tweepy>=3.7.0->konlpy) (2.10)\n",
      "Requirement already satisfied: urllib3<1.27,>=1.21.1 in c:\\python\\python36\\lib\\site-packages (from requests[socks]>=2.11.1->tweepy>=3.7.0->konlpy) (1.26.5)\n",
      "Requirement already satisfied: PySocks!=1.5.7,>=1.5.6 in c:\\python\\python36\\lib\\site-packages (from requests[socks]>=2.11.1->tweepy>=3.7.0->konlpy) (1.7.1)\n"
     ]
    }
   ],
   "source": [
    "!python -m pip install konlpy\n",
    "from konlpy.tag import Okt"
   ]
  },
  {
   "cell_type": "code",
   "execution_count": 9,
   "metadata": {
    "colab": {
     "base_uri": "https://localhost:8080/"
    },
    "id": "TNI1nD7mOYP7",
    "outputId": "1a795ac6-d0a1-4441-b5c1-0663506c18f6"
   },
   "outputs": [
    {
     "ename": "SyntaxError",
     "evalue": "invalid syntax (<ipython-input-9-4307fba2abb4>, line 1)",
     "output_type": "error",
     "traceback": [
      "\u001b[1;36m  File \u001b[1;32m\"<ipython-input-9-4307fba2abb4>\"\u001b[1;36m, line \u001b[1;32m1\u001b[0m\n\u001b[1;33m    sudo -O https://raw.githubusercontent.com/konlpy/konlpy/master/scripts/mecab.sh\u001b[0m\n\u001b[1;37m                ^\u001b[0m\n\u001b[1;31mSyntaxError\u001b[0m\u001b[1;31m:\u001b[0m invalid syntax\n"
     ]
    }
   ],
   "source": [
    "https://raw.githubusercontent.com/konlpy/konlpy/master/scripts/mecab.sh  -> window에서 실행안됨"
   ]
  },
  {
   "cell_type": "code",
   "execution_count": 7,
   "metadata": {
    "id": "V2QCg5wtOaox"
   },
   "outputs": [
    {
     "name": "stderr",
     "output_type": "stream",
     "text": [
      "'source'은(는) 내부 또는 외부 명령, 실행할 수 있는 프로그램, 또는\n",
      "배치 파일이 아닙니다.\n"
     ]
    }
   ],
   "source": [
    "./mecab.sh   --> window에서 실행안됨"
   ]
  },
  {
   "cell_type": "code",
   "execution_count": 12,
   "metadata": {
    "collapsed": true,
    "id": "foWs73U1Oths"
   },
   "outputs": [
    {
     "ename": "JVMNotFoundException",
     "evalue": "No JVM shared library file (jvm.dll) found. Try setting up the JAVA_HOME environment variable properly.",
     "output_type": "error",
     "traceback": [
      "\u001b[1;31m---------------------------------------------------------------------------\u001b[0m",
      "\u001b[1;31mJVMNotFoundException\u001b[0m                      Traceback (most recent call last)",
      "\u001b[1;32m<ipython-input-12-5246f50cb9cc>\u001b[0m in \u001b[0;36m<module>\u001b[1;34m\u001b[0m\n\u001b[1;32m----> 1\u001b[1;33m \u001b[0mmecab\u001b[0m \u001b[1;33m=\u001b[0m \u001b[0mOkt\u001b[0m\u001b[1;33m(\u001b[0m\u001b[1;33m)\u001b[0m\u001b[1;33m\u001b[0m\u001b[0m\n\u001b[0m",
      "\u001b[1;32mc:\\python\\python36\\lib\\site-packages\\konlpy\\tag\\_okt.py\u001b[0m in \u001b[0;36m__init__\u001b[1;34m(self, jvmpath, max_heap_size)\u001b[0m\n\u001b[0;32m     89\u001b[0m     \u001b[1;32mdef\u001b[0m \u001b[0m__init__\u001b[0m\u001b[1;33m(\u001b[0m\u001b[0mself\u001b[0m\u001b[1;33m,\u001b[0m \u001b[0mjvmpath\u001b[0m\u001b[1;33m=\u001b[0m\u001b[1;32mNone\u001b[0m\u001b[1;33m,\u001b[0m \u001b[0mmax_heap_size\u001b[0m\u001b[1;33m=\u001b[0m\u001b[1;36m1024\u001b[0m\u001b[1;33m)\u001b[0m\u001b[1;33m:\u001b[0m\u001b[1;33m\u001b[0m\u001b[0m\n\u001b[0;32m     90\u001b[0m         \u001b[1;32mif\u001b[0m \u001b[1;32mnot\u001b[0m \u001b[0mjpype\u001b[0m\u001b[1;33m.\u001b[0m\u001b[0misJVMStarted\u001b[0m\u001b[1;33m(\u001b[0m\u001b[1;33m)\u001b[0m\u001b[1;33m:\u001b[0m\u001b[1;33m\u001b[0m\u001b[0m\n\u001b[1;32m---> 91\u001b[1;33m             \u001b[0mjvm\u001b[0m\u001b[1;33m.\u001b[0m\u001b[0minit_jvm\u001b[0m\u001b[1;33m(\u001b[0m\u001b[0mjvmpath\u001b[0m\u001b[1;33m,\u001b[0m \u001b[0mmax_heap_size\u001b[0m\u001b[1;33m)\u001b[0m\u001b[1;33m\u001b[0m\u001b[0m\n\u001b[0m\u001b[0;32m     92\u001b[0m \u001b[1;33m\u001b[0m\u001b[0m\n\u001b[0;32m     93\u001b[0m         \u001b[0moktJavaPackage\u001b[0m \u001b[1;33m=\u001b[0m \u001b[0mjpype\u001b[0m\u001b[1;33m.\u001b[0m\u001b[0mJPackage\u001b[0m\u001b[1;33m(\u001b[0m\u001b[1;34m'kr.lucypark.okt'\u001b[0m\u001b[1;33m)\u001b[0m\u001b[1;33m\u001b[0m\u001b[0m\n",
      "\u001b[1;32mc:\\python\\python36\\lib\\site-packages\\konlpy\\jvm.py\u001b[0m in \u001b[0;36minit_jvm\u001b[1;34m(jvmpath, max_heap_size)\u001b[0m\n\u001b[0;32m     53\u001b[0m     \u001b[0mclasspath\u001b[0m \u001b[1;33m=\u001b[0m \u001b[0mos\u001b[0m\u001b[1;33m.\u001b[0m\u001b[0mpathsep\u001b[0m\u001b[1;33m.\u001b[0m\u001b[0mjoin\u001b[0m\u001b[1;33m(\u001b[0m\u001b[0mf\u001b[0m\u001b[1;33m.\u001b[0m\u001b[0mformat\u001b[0m\u001b[1;33m(\u001b[0m\u001b[1;33m*\u001b[0m\u001b[0margs\u001b[0m\u001b[1;33m)\u001b[0m \u001b[1;32mfor\u001b[0m \u001b[0mf\u001b[0m \u001b[1;32min\u001b[0m \u001b[0mfolder_suffix\u001b[0m\u001b[1;33m)\u001b[0m\u001b[1;33m\u001b[0m\u001b[0m\n\u001b[0;32m     54\u001b[0m \u001b[1;33m\u001b[0m\u001b[0m\n\u001b[1;32m---> 55\u001b[1;33m     \u001b[0mjvmpath\u001b[0m \u001b[1;33m=\u001b[0m \u001b[0mjvmpath\u001b[0m \u001b[1;32mor\u001b[0m \u001b[0mjpype\u001b[0m\u001b[1;33m.\u001b[0m\u001b[0mgetDefaultJVMPath\u001b[0m\u001b[1;33m(\u001b[0m\u001b[1;33m)\u001b[0m\u001b[1;33m\u001b[0m\u001b[0m\n\u001b[0m\u001b[0;32m     56\u001b[0m \u001b[1;33m\u001b[0m\u001b[0m\n\u001b[0;32m     57\u001b[0m     \u001b[1;31m# NOTE: Temporary patch for Issue #76. Erase when possible.\u001b[0m\u001b[1;33m\u001b[0m\u001b[1;33m\u001b[0m\u001b[0m\n",
      "\u001b[1;32mc:\\python\\python36\\lib\\site-packages\\jpype\\_jvmfinder.py\u001b[0m in \u001b[0;36mgetDefaultJVMPath\u001b[1;34m()\u001b[0m\n\u001b[0;32m     72\u001b[0m     \u001b[1;32melse\u001b[0m\u001b[1;33m:\u001b[0m\u001b[1;33m\u001b[0m\u001b[0m\n\u001b[0;32m     73\u001b[0m         \u001b[0mfinder\u001b[0m \u001b[1;33m=\u001b[0m \u001b[0mLinuxJVMFinder\u001b[0m\u001b[1;33m(\u001b[0m\u001b[1;33m)\u001b[0m\u001b[1;33m\u001b[0m\u001b[0m\n\u001b[1;32m---> 74\u001b[1;33m     \u001b[1;32mreturn\u001b[0m \u001b[0mfinder\u001b[0m\u001b[1;33m.\u001b[0m\u001b[0mget_jvm_path\u001b[0m\u001b[1;33m(\u001b[0m\u001b[1;33m)\u001b[0m\u001b[1;33m\u001b[0m\u001b[0m\n\u001b[0m\u001b[0;32m     75\u001b[0m \u001b[1;33m\u001b[0m\u001b[0m\n\u001b[0;32m     76\u001b[0m \u001b[1;33m\u001b[0m\u001b[0m\n",
      "\u001b[1;32mc:\\python\\python36\\lib\\site-packages\\jpype\\_jvmfinder.py\u001b[0m in \u001b[0;36mget_jvm_path\u001b[1;34m(self)\u001b[0m\n\u001b[0;32m    213\u001b[0m                                    \u001b[1;34m\"found. Try setting up the JAVA_HOME \"\u001b[0m\u001b[1;33m\u001b[0m\u001b[0m\n\u001b[0;32m    214\u001b[0m                                    \u001b[1;34m\"environment variable properly.\"\u001b[0m\u001b[1;33m\u001b[0m\u001b[0m\n\u001b[1;32m--> 215\u001b[1;33m                                    .format(self._libfile))\n\u001b[0m\u001b[0;32m    216\u001b[0m \u001b[1;33m\u001b[0m\u001b[0m\n\u001b[0;32m    217\u001b[0m     \u001b[1;32mdef\u001b[0m \u001b[0m_get_from_java_home\u001b[0m\u001b[1;33m(\u001b[0m\u001b[0mself\u001b[0m\u001b[1;33m)\u001b[0m\u001b[1;33m:\u001b[0m\u001b[1;33m\u001b[0m\u001b[0m\n",
      "\u001b[1;31mJVMNotFoundException\u001b[0m: No JVM shared library file (jvm.dll) found. Try setting up the JAVA_HOME environment variable properly."
     ]
    }
   ],
   "source": [
    "mecab = Okt()"
   ]
  },
  {
   "cell_type": "code",
   "execution_count": null,
   "metadata": {
    "id": "OHr3sZ_GqzHR"
   },
   "outputs": [],
   "source": [
    "# 의미 없는 단어(조사 등) 제외\n",
    "stopwords = ['은', '도', '는', '다', '사', '의', '위', '제', '회', '등', '가', '이', '했', '한', '에', '애', '하', '보', '웃', '고', '곧', '정', '적', '순', '뜻', '용', '열', '유', '뜻', '잘', '못', '타', '희', '히', '점', '을', '를', '인', '듯', '과', '와', '네', '들', '듯', '지', '임', '게', '개', '것', '명', '원', '세','에서', '이고', '라고', '다고', '라기', '라며', '면서', '라면서', '로써', '로서', '로', '으로', '뿐', '에서', '어야', '부터', '었', '았', '한다', '이다', '였다', '였었다', '|', '/','‘', '’', ',' , '“', '”', '.', '>', '<', ')', '(']"
   ]
  },
  {
   "cell_type": "code",
   "execution_count": null,
   "metadata": {
    "id": "MkwEtCzHMnrG"
   },
   "outputs": [],
   "source": [
    "def mec(i):\n",
    "  words = list()\n",
    "  for tok in articles[i]:\n",
    "    temp = ''.join(tok)\n",
    "    temp_re = re.sub('[^가-힣ㄱ-ㅎㅠ ]','', temp)\n",
    "    encoded = mecab.morphs(temp_re)\n",
    "    wd = [item for item in encoded if item not in stopwords]  # ('[^가-힣ㄱ-ㅎㅠ ]','')\n",
    "    words.append(wd)\n",
    "\n",
    "  return words"
   ]
  },
  {
   "cell_type": "code",
   "execution_count": null,
   "metadata": {
    "id": "Tc-ivoUXec-D"
   },
   "outputs": [],
   "source": [
    "for i in range(len(articles)):\n",
    "  mec(i)"
   ]
  },
  {
   "cell_type": "markdown",
   "metadata": {
    "id": "l4-DPlTlzrQ8"
   },
   "source": [
    "#### 사전에 단어 추가하는 부분(단어 추가하지 않을꺼면 필요없음)"
   ]
  },
  {
   "cell_type": "code",
   "execution_count": null,
   "metadata": {
    "colab": {
     "base_uri": "https://localhost:8080/"
    },
    "id": "PwlJQGPlyYIy",
    "outputId": "4c506e77-bdc7-4036-dfc8-dae7478b1b43"
   },
   "outputs": [],
   "source": [
    "SentiWord = pd.read_csv('SentiWord_info.csv') # csv를 불러옴\n",
    "# SentiWord.loc[len(SentiWord)] = ['징용','징용',-2]  # 맨 끝에 징용 -2를 줌\n",
    "# SentiWord.loc[len(SentiWord)] = ['합의','합의',1] # 맨 끝에 합의 +1 을 줌\n",
    "# SentiWord.tail()\n",
    "\n",
    "def pos_neg(word):\n",
    "    tmp =SentiWord[(SentiWord['word']==word) | (SentiWord['word_root']==word)]\n",
    "    try:\n",
    "        word_res = (word,tmp['polarity'][tmp.index[0]])\n",
    "    except:\n",
    "        word_res = (word, 0)\n",
    "    return word_res"
   ]
  },
  {
   "cell_type": "code",
   "execution_count": null,
   "metadata": {},
   "outputs": [],
   "source": [
    "!pip install tqdm"
   ]
  },
  {
   "cell_type": "code",
   "execution_count": null,
   "metadata": {
    "colab": {
     "base_uri": "https://localhost:8080/"
    },
    "id": "ltPUviharwq9",
    "outputId": "eb7c2499-fc64-4629-b96b-8d9ea1ba0a8e"
   },
   "outputs": [],
   "source": [
    "from tqdm import tqdm\n",
    "pos_list = []\n",
    "neg_list = []\n",
    "unkown_list = []\n",
    "\n",
    "for noun in tqdm(article[0], '긍/부정 나누기'):\n",
    "    word_res = pos_neg(noun)\n",
    "    if word_res[1] > 0:\n",
    "        pos_list.append(word_res[0])\n",
    "    elif word_res[1] < 0 :\n",
    "        neg_list.append(word_res[0])\n",
    "    else:\n",
    "        unkown_list.append(word_res)"
   ]
  },
  {
   "cell_type": "code",
   "execution_count": null,
   "metadata": {
    "colab": {
     "base_uri": "https://localhost:8080/"
    },
    "id": "lD2bAu78rwol",
    "outputId": "76c41c7f-5fc6-476e-d4df-dcd3c88c618a"
   },
   "outputs": [],
   "source": [
    "print('긍정키워드 수:', len(pos_list),'개')\n",
    "print('부정키워드 수:', len(neg_list),'개')\n",
    "print('중립 또는 모름 키워드 수:', len(unkown_list),'개')"
   ]
  },
  {
   "cell_type": "code",
   "execution_count": null,
   "metadata": {
    "colab": {
     "base_uri": "https://localhost:8080/"
    },
    "id": "CRHxl8OirwmO",
    "outputId": "6ac17c17-e5a5-4e65-bd1a-ff1bc36b90aa"
   },
   "outputs": [],
   "source": [
    "from collections import Counter #jdk 제공 모듈\n",
    "\n",
    "pos_count = dict(Counter(pos_list).most_common()) # 단어별 갯수 계산 및 내림차순 정렬, 딕셔너리 구조\n",
    "neg_count = dict(Counter(neg_list).most_common())\n",
    "unkown_count = dict(Counter(unkown_list).most_common())\n",
    "print(pos_count)\n",
    "print(neg_count)\n",
    "print(unkown_count)"
   ]
  },
  {
   "cell_type": "code",
   "execution_count": null,
   "metadata": {
    "colab": {
     "base_uri": "https://localhost:8080/"
    },
    "id": "kiJPsgN3x48h",
    "outputId": "a44b7273-371b-4a05-e758-f1f0e3d16ef9"
   },
   "outputs": [],
   "source": [
    "tmp_dic = {}\n",
    "for key, value in pos_count.items():\n",
    "    if key not in stop_words:\n",
    "        tmp_dic[key]=value\n",
    "\n",
    "pos_count = tmp_dic\n",
    "\n",
    "print(tmp_dic)"
   ]
  },
  {
   "cell_type": "code",
   "execution_count": null,
   "metadata": {},
   "outputs": [],
   "source": [
    "from wordcloud import WordCloud\n",
    "from PIL import Image\n",
    "import matplotlib.pyplot as plt\n",
    "import numpy as np"
   ]
  },
  {
   "cell_type": "code",
   "execution_count": null,
   "metadata": {
    "id": "Mc_6ZOHny2gU"
   },
   "outputs": [],
   "source": [
    "### https://www.w3schools.com/colors/colors_hexadecimal.asp\n",
    "def color_func(**kawargs):\n",
    "    color=\"#0b1177\"\n",
    "    return color"
   ]
  },
  {
   "cell_type": "code",
   "execution_count": null,
   "metadata": {
    "colab": {
     "base_uri": "https://localhost:8080/"
    },
    "id": "NOwh_TTFy2bB",
    "outputId": "9a4ab311-f37d-4c60-ccb1-f7565cd00dec"
   },
   "outputs": [],
   "source": [
    "img_path = 'good.jpg'\n",
    "cloud_mask = np.array(Image.open(img_path))\n",
    "cloud_mask.shape\n",
    "\n",
    "img = Image.open(img_path)\n",
    "img.size"
   ]
  },
  {
   "cell_type": "code",
   "execution_count": null,
   "metadata": {
    "colab": {
     "base_uri": "https://localhost:8080/",
     "height": 561
    },
    "id": "2xiTY9kcy2Yw",
    "outputId": "e5b1efb2-43b3-4a0f-dfc3-1ba77e8a5eaf"
   },
   "outputs": [],
   "source": [
    "wordcloud = WordCloud(font_path=\"H2PORL.TTF\",\n",
    "                      background_color=\"white\", mask=cloud_mask)\n",
    "wc = wordcloud.generate_from_frequencies(pos_count)\n",
    "plt.figure(figsize=(10,15))\n",
    "plt.imshow(wc.recolor(color_func=color_func), interpolation='bilinear')\n",
    "plt.axis(\"off\")\n",
    "plt.show()"
   ]
  },
  {
   "cell_type": "code",
   "execution_count": null,
   "metadata": {
    "id": "-oA3T1PHy2WY"
   },
   "outputs": [],
   "source": [
    "img_path = 'bad.jpg'\n",
    "cloud_mask = np.array(Image.open(img_path))\n",
    "cloud_mask.shape\n",
    "\n",
    "img = Image.open(img_path)\n",
    "img.size"
   ]
  },
  {
   "cell_type": "code",
   "execution_count": null,
   "metadata": {
    "id": "bWNyuXB8y2UK"
   },
   "outputs": [],
   "source": [
    "wordcloud = WordCloud(font_path=\"H2PORL.TTF\",\n",
    "                      background_color=\"white\", mask=cloud_mask)\n",
    "wc = wordcloud.generate_from_frequencies(neg_count)\n",
    "plt.figure(figsize=(10,15))\n",
    "plt.imshow(wc.recolor(color_func=color_func), interpolation='bilinear')\n",
    "plt.axis(\"off\")\n",
    "plt.show()"
   ]
  },
  {
   "cell_type": "code",
   "execution_count": null,
   "metadata": {
    "id": "Obg1L8GXy2Pc"
   },
   "outputs": [],
   "source": []
  }
 ],
 "metadata": {
  "colab": {
   "authorship_tag": "ABX9TyMj/T0pD7+4+O3km0fbZj9O",
   "name": "deeplearning_okt_wordcloud.ipynb",
   "provenance": []
  },
  "kernelspec": {
   "display_name": "Python 3",
   "language": "python",
   "name": "python3"
  },
  "language_info": {
   "codemirror_mode": {
    "name": "ipython",
    "version": 3
   },
   "file_extension": ".py",
   "mimetype": "text/x-python",
   "name": "python",
   "nbconvert_exporter": "python",
   "pygments_lexer": "ipython3",
   "version": "3.6.4"
  }
 },
 "nbformat": 4,
 "nbformat_minor": 1
}
