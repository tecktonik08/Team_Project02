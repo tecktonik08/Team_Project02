{
  "nbformat": 4,
  "nbformat_minor": 0,
  "metadata": {
    "colab": {
      "name": "Semi.ipynb",
      "provenance": [],
      "collapsed_sections": [],
      "authorship_tag": "ABX9TyM1Nzj7B+Fx7OT/4RGD6uod",
      "include_colab_link": true
    },
    "kernelspec": {
      "name": "python3",
      "display_name": "Python 3"
    },
    "language_info": {
      "name": "python"
    }
  },
  "cells": [
    {
      "cell_type": "markdown",
      "metadata": {
        "id": "view-in-github",
        "colab_type": "text"
      },
      "source": [
        "<a href=\"https://colab.research.google.com/github/tecktonik08/Team_Project02/blob/master/Semi.ipynb\" target=\"_parent\"><img src=\"https://colab.research.google.com/assets/colab-badge.svg\" alt=\"Open In Colab\"/></a>"
      ]
    },
    {
      "cell_type": "code",
      "metadata": {
        "colab": {
          "base_uri": "https://localhost:8080/"
        },
        "id": "UqAgTWZVAosl",
        "outputId": "c9ba4dff-69f8-4575-85ea-410efab29269"
      },
      "source": [
        "!python -m pip install konlpy"
      ],
      "execution_count": 81,
      "outputs": [
        {
          "output_type": "stream",
          "text": [
            "Requirement already satisfied: konlpy in /usr/local/lib/python3.7/dist-packages (0.5.2)\n",
            "Requirement already satisfied: lxml>=4.1.0 in /usr/local/lib/python3.7/dist-packages (from konlpy) (4.2.6)\n",
            "Requirement already satisfied: numpy>=1.6 in /usr/local/lib/python3.7/dist-packages (from konlpy) (1.19.5)\n",
            "Requirement already satisfied: beautifulsoup4==4.6.0 in /usr/local/lib/python3.7/dist-packages (from konlpy) (4.6.0)\n",
            "Requirement already satisfied: colorama in /usr/local/lib/python3.7/dist-packages (from konlpy) (0.4.4)\n",
            "Requirement already satisfied: JPype1>=0.7.0 in /usr/local/lib/python3.7/dist-packages (from konlpy) (1.3.0)\n",
            "Requirement already satisfied: tweepy>=3.7.0 in /usr/local/lib/python3.7/dist-packages (from konlpy) (3.10.0)\n",
            "Requirement already satisfied: typing-extensions in /usr/local/lib/python3.7/dist-packages (from JPype1>=0.7.0->konlpy) (3.7.4.3)\n",
            "Requirement already satisfied: requests[socks]>=2.11.1 in /usr/local/lib/python3.7/dist-packages (from tweepy>=3.7.0->konlpy) (2.23.0)\n",
            "Requirement already satisfied: requests-oauthlib>=0.7.0 in /usr/local/lib/python3.7/dist-packages (from tweepy>=3.7.0->konlpy) (1.3.0)\n",
            "Requirement already satisfied: six>=1.10.0 in /usr/local/lib/python3.7/dist-packages (from tweepy>=3.7.0->konlpy) (1.15.0)\n",
            "Requirement already satisfied: oauthlib>=3.0.0 in /usr/local/lib/python3.7/dist-packages (from requests-oauthlib>=0.7.0->tweepy>=3.7.0->konlpy) (3.1.1)\n",
            "Requirement already satisfied: idna<3,>=2.5 in /usr/local/lib/python3.7/dist-packages (from requests[socks]>=2.11.1->tweepy>=3.7.0->konlpy) (2.10)\n",
            "Requirement already satisfied: urllib3!=1.25.0,!=1.25.1,<1.26,>=1.21.1 in /usr/local/lib/python3.7/dist-packages (from requests[socks]>=2.11.1->tweepy>=3.7.0->konlpy) (1.24.3)\n",
            "Requirement already satisfied: certifi>=2017.4.17 in /usr/local/lib/python3.7/dist-packages (from requests[socks]>=2.11.1->tweepy>=3.7.0->konlpy) (2021.5.30)\n",
            "Requirement already satisfied: chardet<4,>=3.0.2 in /usr/local/lib/python3.7/dist-packages (from requests[socks]>=2.11.1->tweepy>=3.7.0->konlpy) (3.0.4)\n",
            "Requirement already satisfied: PySocks!=1.5.7,>=1.5.6 in /usr/local/lib/python3.7/dist-packages (from requests[socks]>=2.11.1->tweepy>=3.7.0->konlpy) (1.7.1)\n"
          ],
          "name": "stdout"
        }
      ]
    },
    {
      "cell_type": "code",
      "metadata": {
        "id": "4Q22Td8pPpcs"
      },
      "source": [
        "import codecs"
      ],
      "execution_count": 82,
      "outputs": []
    },
    {
      "cell_type": "code",
      "metadata": {
        "id": "hudqZWphPtzW"
      },
      "source": [
        "positive= []\n",
        "nagative = []\n",
        "posneg = []"
      ],
      "execution_count": 83,
      "outputs": []
    },
    {
      "cell_type": "code",
      "metadata": {
        "id": "W6Rk4WeHP8mc"
      },
      "source": [
        "pos = codecs.open(\"./positive_words_self.txt\", 'r')\n",
        "positive = pos.readlines()"
      ],
      "execution_count": 84,
      "outputs": []
    },
    {
      "cell_type": "code",
      "metadata": {
        "id": "5xSdcEzQUmag"
      },
      "source": [
        "positive = [pos.replace(\"\\n\",\"\")for pos in positive]"
      ],
      "execution_count": 85,
      "outputs": []
    },
    {
      "cell_type": "code",
      "metadata": {
        "id": "8SBIGqiLT9gB"
      },
      "source": [
        "neg= codecs.open(\"./negative_words_self.txt\", 'r')\n",
        "negative = neg.readlines()"
      ],
      "execution_count": 86,
      "outputs": []
    },
    {
      "cell_type": "code",
      "metadata": {
        "id": "WI8XquUtgy7a"
      },
      "source": [
        "negative = [neg.replace(\"\\n\",\"\")for neg in negative]"
      ],
      "execution_count": 87,
      "outputs": []
    },
    {
      "cell_type": "code",
      "metadata": {
        "id": "_brGz7jKkWaf"
      },
      "source": [
        "import pandas as pd"
      ],
      "execution_count": 88,
      "outputs": []
    },
    {
      "cell_type": "code",
      "metadata": {
        "id": "_n94ykTdkfFL"
      },
      "source": [
        "df = pd.read_excel('./semi2.xls', names=['title', 'press', 'category', 'date', 'name','text','ratings'])\n",
        " "
      ],
      "execution_count": 89,
      "outputs": []
    },
    {
      "cell_type": "code",
      "metadata": {
        "colab": {
          "base_uri": "https://localhost:8080/",
          "height": 1000
        },
        "id": "YO0YPUmruDz8",
        "outputId": "87e5d323-31d6-4d3a-c4aa-15757d1d0d31"
      },
      "source": [
        "df"
      ],
      "execution_count": 90,
      "outputs": [
        {
          "output_type": "execute_result",
          "data": {
            "text/html": [
              "<div>\n",
              "<style scoped>\n",
              "    .dataframe tbody tr th:only-of-type {\n",
              "        vertical-align: middle;\n",
              "    }\n",
              "\n",
              "    .dataframe tbody tr th {\n",
              "        vertical-align: top;\n",
              "    }\n",
              "\n",
              "    .dataframe thead th {\n",
              "        text-align: right;\n",
              "    }\n",
              "</style>\n",
              "<table border=\"1\" class=\"dataframe\">\n",
              "  <thead>\n",
              "    <tr style=\"text-align: right;\">\n",
              "      <th></th>\n",
              "      <th>title</th>\n",
              "      <th>press</th>\n",
              "      <th>category</th>\n",
              "      <th>date</th>\n",
              "      <th>name</th>\n",
              "      <th>text</th>\n",
              "      <th>ratings</th>\n",
              "    </tr>\n",
              "  </thead>\n",
              "  <tbody>\n",
              "    <tr>\n",
              "      <th>0</th>\n",
              "      <td>중국에 대립각 세우는 리투아니아…왜?</td>\n",
              "      <td>경향신문</td>\n",
              "      <td>국제&gt;중국 | 정치&gt;외교 | 국제&gt;유럽_EU</td>\n",
              "      <td>2021/08/11</td>\n",
              "      <td>박은하 기자 eunha999@kyunghyang.com</td>\n",
              "      <td>중국에서 6000km 떨어진 발트해 연안 국가 리투아니아가 ‘대만 문제’를 두고 중...</td>\n",
              "      <td>2</td>\n",
              "    </tr>\n",
              "    <tr>\n",
              "      <th>1</th>\n",
              "      <td>국민의힘, 계속 옮겨붙는 갈등의 불씨...진화할 수 있을까</td>\n",
              "      <td>경향신문</td>\n",
              "      <td>정치&gt;선거 | 정치&gt;국회_정당</td>\n",
              "      <td>2021/08/11</td>\n",
              "      <td>유정인·박순봉 기자 jeongin@kyunghyang.com</td>\n",
              "      <td>국민의힘 내홍이 깊어지고 있다. 이준석 대표와 윤석열 전 검찰총장 등 ‘투스톤(준스...</td>\n",
              "      <td>3</td>\n",
              "    </tr>\n",
              "    <tr>\n",
              "      <th>2</th>\n",
              "      <td>[단독] 법관이 직원에게 성경 공부·의전 지시, 법원에서도 ‘직장 갑질’ 논란</td>\n",
              "      <td>경향신문</td>\n",
              "      <td>국제&gt;미국_북미 | 국제&gt;유럽_EU | 사회&gt;여성</td>\n",
              "      <td>2021/08/11</td>\n",
              "      <td>이혜리 기자 lhr@kyunghyang.com</td>\n",
              "      <td>법관에게 직장 내 갑질 및 괴롭힘을 당했다며 도움을 호소하는 법원 직원의 글이 법원...</td>\n",
              "      <td>4</td>\n",
              "    </tr>\n",
              "    <tr>\n",
              "      <th>3</th>\n",
              "      <td>코로나 확진자수 2000명 돌파에 노심초사 여, 공세 강화하는 야</td>\n",
              "      <td>경향신문</td>\n",
              "      <td>정치&gt;국회_정당 | 정치&gt;청와대</td>\n",
              "      <td>2021/08/11</td>\n",
              "      <td>유설희 기자 sorry@kyunghyang.com</td>\n",
              "      <td>코로나19 신규 확진자가 11일 사상 처음으로 2000명을 돌파하자 여권은 ‘노심초...</td>\n",
              "      <td>5</td>\n",
              "    </tr>\n",
              "    <tr>\n",
              "      <th>4</th>\n",
              "      <td>류호정 \"피해자 보호 못하는 강간죄 개정 위해 '쇼'라도 하겠다\"</td>\n",
              "      <td>경향신문</td>\n",
              "      <td>정치&gt;행정_자치 | 사회&gt;여성 | 정치&gt;국회_정당</td>\n",
              "      <td>2021/08/11</td>\n",
              "      <td>장은교 소통·젠더데스크 indi@kyunghyang.com</td>\n",
              "      <td>류호정 정의당 의원은 새로운 ‘쇼’를 궁리 중이라고 했다. 이번엔 강간죄 개정을 위...</td>\n",
              "      <td>-1</td>\n",
              "    </tr>\n",
              "    <tr>\n",
              "      <th>...</th>\n",
              "      <td>...</td>\n",
              "      <td>...</td>\n",
              "      <td>...</td>\n",
              "      <td>...</td>\n",
              "      <td>...</td>\n",
              "      <td>...</td>\n",
              "      <td>...</td>\n",
              "    </tr>\n",
              "    <tr>\n",
              "      <th>94</th>\n",
              "      <td>죽파리 자작나무 숲 인근 ‘송하리 졸참나무와 당숲’ 천연기념물 된다</td>\n",
              "      <td>경향신문</td>\n",
              "      <td>문화&gt;학술_문화재 | 문화&gt;미술_건축 | 지역&gt;강원</td>\n",
              "      <td>2021/08/11</td>\n",
              "      <td>김종목 기자 jomo@kyunghyang.com</td>\n",
              "      <td>문화재청이 ‘영양 송하리 졸참나무와 당숲’을 국가지정문화재 천연기념물로 지정 예고했...</td>\n",
              "      <td>-1</td>\n",
              "    </tr>\n",
              "    <tr>\n",
              "      <th>95</th>\n",
              "      <td>섬유·제지 산업도 탄소중립 움직임···\"폐자원을 에너지로\"</td>\n",
              "      <td>경향신문</td>\n",
              "      <td>경제&gt;반도체 | 지역&gt;강원 | 지역&gt;충남</td>\n",
              "      <td>2021/08/11</td>\n",
              "      <td>강연주 기자 play@kyunghyang.com</td>\n",
              "      <td>정부가 섬유·제지 산업에서 탄소배출량을 줄이는 기술 개발에 투자를 강화한다.산업통상...</td>\n",
              "      <td>-2</td>\n",
              "    </tr>\n",
              "    <tr>\n",
              "      <th>96</th>\n",
              "      <td>현대차·BMW·벤츠 등 35개 차종 2만8946대 리콜</td>\n",
              "      <td>경향신문</td>\n",
              "      <td>경제&gt;자동차 | IT_과학&gt;인터넷_SNS | IT_과학&gt;보안</td>\n",
              "      <td>2021/08/11</td>\n",
              "      <td>김희진 기자 hjin@kyunghyang.com</td>\n",
              "      <td>국토교통부는 현대자동차와 BMW 등 35개 차종 총 2만8946대에서 제작결함이 발...</td>\n",
              "      <td>-3</td>\n",
              "    </tr>\n",
              "    <tr>\n",
              "      <th>97</th>\n",
              "      <td>박용진 \"4차 산업혁명 선도하는 '바이미식스' 대통령 되겠다\"</td>\n",
              "      <td>경향신문</td>\n",
              "      <td>정치&gt;국회_정당 | 정치&gt;선거 | 정치&gt;청와대</td>\n",
              "      <td>2021/08/11</td>\n",
              "      <td>탁지영 기자 g0g0@kyunghyang.com</td>\n",
              "      <td>더불어민주당 대선 경선 후보인 박용진 의원은 11일 “4차 산업혁명 대통령이 되겠다...</td>\n",
              "      <td>-4</td>\n",
              "    </tr>\n",
              "    <tr>\n",
              "      <th>98</th>\n",
              "      <td>이준석 '친윤석열계' 겨냥 \"권력욕 부추기는 하이에나\"..정진석 \"참 딱하다\"</td>\n",
              "      <td>경향신문</td>\n",
              "      <td>정치&gt;국회_정당 | 정치&gt;선거</td>\n",
              "      <td>2021/08/11</td>\n",
              "      <td>유정인 기자 jeongin@kyunghyang.com</td>\n",
              "      <td>이준석 국민의힘 대표는 11일 “우리 후보들 곁에 권력욕을 부추기는 하이에나가 아니...</td>\n",
              "      <td>-5</td>\n",
              "    </tr>\n",
              "  </tbody>\n",
              "</table>\n",
              "<p>99 rows × 7 columns</p>\n",
              "</div>"
            ],
            "text/plain": [
              "                                          title  ... ratings\n",
              "0                          중국에 대립각 세우는 리투아니아…왜?  ...       2\n",
              "1              국민의힘, 계속 옮겨붙는 갈등의 불씨...진화할 수 있을까  ...       3\n",
              "2   [단독] 법관이 직원에게 성경 공부·의전 지시, 법원에서도 ‘직장 갑질’ 논란  ...       4\n",
              "3          코로나 확진자수 2000명 돌파에 노심초사 여, 공세 강화하는 야  ...       5\n",
              "4          류호정 \"피해자 보호 못하는 강간죄 개정 위해 '쇼'라도 하겠다\"  ...      -1\n",
              "..                                          ...  ...     ...\n",
              "94        죽파리 자작나무 숲 인근 ‘송하리 졸참나무와 당숲’ 천연기념물 된다  ...      -1\n",
              "95             섬유·제지 산업도 탄소중립 움직임···\"폐자원을 에너지로\"  ...      -2\n",
              "96               현대차·BMW·벤츠 등 35개 차종 2만8946대 리콜  ...      -3\n",
              "97           박용진 \"4차 산업혁명 선도하는 '바이미식스' 대통령 되겠다\"  ...      -4\n",
              "98  이준석 '친윤석열계' 겨냥 \"권력욕 부추기는 하이에나\"..정진석 \"참 딱하다\"  ...      -5\n",
              "\n",
              "[99 rows x 7 columns]"
            ]
          },
          "metadata": {
            "tags": []
          },
          "execution_count": 90
        }
      ]
    },
    {
      "cell_type": "code",
      "metadata": {
        "colab": {
          "base_uri": "https://localhost:8080/",
          "height": 476
        },
        "id": "B440XcotlHrW",
        "outputId": "98e116a7-74f6-4c29-9e26-a5f3dbc8ab73"
      },
      "source": [
        "df.head(5) # title, press, category, date, name, text"
      ],
      "execution_count": 91,
      "outputs": [
        {
          "output_type": "execute_result",
          "data": {
            "text/html": [
              "<div>\n",
              "<style scoped>\n",
              "    .dataframe tbody tr th:only-of-type {\n",
              "        vertical-align: middle;\n",
              "    }\n",
              "\n",
              "    .dataframe tbody tr th {\n",
              "        vertical-align: top;\n",
              "    }\n",
              "\n",
              "    .dataframe thead th {\n",
              "        text-align: right;\n",
              "    }\n",
              "</style>\n",
              "<table border=\"1\" class=\"dataframe\">\n",
              "  <thead>\n",
              "    <tr style=\"text-align: right;\">\n",
              "      <th></th>\n",
              "      <th>title</th>\n",
              "      <th>press</th>\n",
              "      <th>category</th>\n",
              "      <th>date</th>\n",
              "      <th>name</th>\n",
              "      <th>text</th>\n",
              "      <th>ratings</th>\n",
              "    </tr>\n",
              "  </thead>\n",
              "  <tbody>\n",
              "    <tr>\n",
              "      <th>0</th>\n",
              "      <td>중국에 대립각 세우는 리투아니아…왜?</td>\n",
              "      <td>경향신문</td>\n",
              "      <td>국제&gt;중국 | 정치&gt;외교 | 국제&gt;유럽_EU</td>\n",
              "      <td>2021/08/11</td>\n",
              "      <td>박은하 기자 eunha999@kyunghyang.com</td>\n",
              "      <td>중국에서 6000km 떨어진 발트해 연안 국가 리투아니아가 ‘대만 문제’를 두고 중...</td>\n",
              "      <td>2</td>\n",
              "    </tr>\n",
              "    <tr>\n",
              "      <th>1</th>\n",
              "      <td>국민의힘, 계속 옮겨붙는 갈등의 불씨...진화할 수 있을까</td>\n",
              "      <td>경향신문</td>\n",
              "      <td>정치&gt;선거 | 정치&gt;국회_정당</td>\n",
              "      <td>2021/08/11</td>\n",
              "      <td>유정인·박순봉 기자 jeongin@kyunghyang.com</td>\n",
              "      <td>국민의힘 내홍이 깊어지고 있다. 이준석 대표와 윤석열 전 검찰총장 등 ‘투스톤(준스...</td>\n",
              "      <td>3</td>\n",
              "    </tr>\n",
              "    <tr>\n",
              "      <th>2</th>\n",
              "      <td>[단독] 법관이 직원에게 성경 공부·의전 지시, 법원에서도 ‘직장 갑질’ 논란</td>\n",
              "      <td>경향신문</td>\n",
              "      <td>국제&gt;미국_북미 | 국제&gt;유럽_EU | 사회&gt;여성</td>\n",
              "      <td>2021/08/11</td>\n",
              "      <td>이혜리 기자 lhr@kyunghyang.com</td>\n",
              "      <td>법관에게 직장 내 갑질 및 괴롭힘을 당했다며 도움을 호소하는 법원 직원의 글이 법원...</td>\n",
              "      <td>4</td>\n",
              "    </tr>\n",
              "    <tr>\n",
              "      <th>3</th>\n",
              "      <td>코로나 확진자수 2000명 돌파에 노심초사 여, 공세 강화하는 야</td>\n",
              "      <td>경향신문</td>\n",
              "      <td>정치&gt;국회_정당 | 정치&gt;청와대</td>\n",
              "      <td>2021/08/11</td>\n",
              "      <td>유설희 기자 sorry@kyunghyang.com</td>\n",
              "      <td>코로나19 신규 확진자가 11일 사상 처음으로 2000명을 돌파하자 여권은 ‘노심초...</td>\n",
              "      <td>5</td>\n",
              "    </tr>\n",
              "    <tr>\n",
              "      <th>4</th>\n",
              "      <td>류호정 \"피해자 보호 못하는 강간죄 개정 위해 '쇼'라도 하겠다\"</td>\n",
              "      <td>경향신문</td>\n",
              "      <td>정치&gt;행정_자치 | 사회&gt;여성 | 정치&gt;국회_정당</td>\n",
              "      <td>2021/08/11</td>\n",
              "      <td>장은교 소통·젠더데스크 indi@kyunghyang.com</td>\n",
              "      <td>류호정 정의당 의원은 새로운 ‘쇼’를 궁리 중이라고 했다. 이번엔 강간죄 개정을 위...</td>\n",
              "      <td>-1</td>\n",
              "    </tr>\n",
              "  </tbody>\n",
              "</table>\n",
              "</div>"
            ],
            "text/plain": [
              "                                         title  ... ratings\n",
              "0                         중국에 대립각 세우는 리투아니아…왜?  ...       2\n",
              "1             국민의힘, 계속 옮겨붙는 갈등의 불씨...진화할 수 있을까  ...       3\n",
              "2  [단독] 법관이 직원에게 성경 공부·의전 지시, 법원에서도 ‘직장 갑질’ 논란  ...       4\n",
              "3         코로나 확진자수 2000명 돌파에 노심초사 여, 공세 강화하는 야  ...       5\n",
              "4         류호정 \"피해자 보호 못하는 강간죄 개정 위해 '쇼'라도 하겠다\"  ...      -1\n",
              "\n",
              "[5 rows x 7 columns]"
            ]
          },
          "metadata": {
            "tags": []
          },
          "execution_count": 91
        }
      ]
    },
    {
      "cell_type": "code",
      "metadata": {
        "colab": {
          "base_uri": "https://localhost:8080/"
        },
        "id": "Uzri66jVDIpt",
        "outputId": "632c0b96-d8d0-4376-ccdd-75a7c2195e91"
      },
      "source": [
        "df.info()"
      ],
      "execution_count": 92,
      "outputs": [
        {
          "output_type": "stream",
          "text": [
            "<class 'pandas.core.frame.DataFrame'>\n",
            "RangeIndex: 99 entries, 0 to 98\n",
            "Data columns (total 7 columns):\n",
            " #   Column    Non-Null Count  Dtype \n",
            "---  ------    --------------  ----- \n",
            " 0   title     99 non-null     object\n",
            " 1   press     99 non-null     object\n",
            " 2   category  99 non-null     object\n",
            " 3   date      99 non-null     object\n",
            " 4   name      99 non-null     object\n",
            " 5   text      99 non-null     object\n",
            " 6   ratings   99 non-null     int64 \n",
            "dtypes: int64(1), object(6)\n",
            "memory usage: 5.5+ KB\n"
          ],
          "name": "stdout"
        }
      ]
    },
    {
      "cell_type": "code",
      "metadata": {
        "colab": {
          "base_uri": "https://localhost:8080/"
        },
        "id": "QajdfoI_mTcS",
        "outputId": "0339f548-0dc5-4804-9eed-2253bcfc520f"
      },
      "source": [
        "df.shape"
      ],
      "execution_count": 93,
      "outputs": [
        {
          "output_type": "execute_result",
          "data": {
            "text/plain": [
              "(99, 7)"
            ]
          },
          "metadata": {
            "tags": []
          },
          "execution_count": 93
        }
      ]
    },
    {
      "cell_type": "code",
      "metadata": {
        "colab": {
          "base_uri": "https://localhost:8080/"
        },
        "id": "33qnCFZRx0--",
        "outputId": "195bdd45-0a83-4a31-a51b-ef723139ded9"
      },
      "source": [
        "df.columns"
      ],
      "execution_count": 94,
      "outputs": [
        {
          "output_type": "execute_result",
          "data": {
            "text/plain": [
              "Index(['title', 'press', 'category', 'date', 'name', 'text', 'ratings'], dtype='object')"
            ]
          },
          "metadata": {
            "tags": []
          },
          "execution_count": 94
        }
      ]
    },
    {
      "cell_type": "code",
      "metadata": {
        "colab": {
          "base_uri": "https://localhost:8080/",
          "height": 1000
        },
        "id": "CQZEsTJcx-5i",
        "outputId": "aa8d0e36-c152-40b1-fc20-8271bdd92b89"
      },
      "source": [
        "pd.DataFrame(df).iloc[1:]"
      ],
      "execution_count": 95,
      "outputs": [
        {
          "output_type": "execute_result",
          "data": {
            "text/html": [
              "<div>\n",
              "<style scoped>\n",
              "    .dataframe tbody tr th:only-of-type {\n",
              "        vertical-align: middle;\n",
              "    }\n",
              "\n",
              "    .dataframe tbody tr th {\n",
              "        vertical-align: top;\n",
              "    }\n",
              "\n",
              "    .dataframe thead th {\n",
              "        text-align: right;\n",
              "    }\n",
              "</style>\n",
              "<table border=\"1\" class=\"dataframe\">\n",
              "  <thead>\n",
              "    <tr style=\"text-align: right;\">\n",
              "      <th></th>\n",
              "      <th>title</th>\n",
              "      <th>press</th>\n",
              "      <th>category</th>\n",
              "      <th>date</th>\n",
              "      <th>name</th>\n",
              "      <th>text</th>\n",
              "      <th>ratings</th>\n",
              "    </tr>\n",
              "  </thead>\n",
              "  <tbody>\n",
              "    <tr>\n",
              "      <th>1</th>\n",
              "      <td>국민의힘, 계속 옮겨붙는 갈등의 불씨...진화할 수 있을까</td>\n",
              "      <td>경향신문</td>\n",
              "      <td>정치&gt;선거 | 정치&gt;국회_정당</td>\n",
              "      <td>2021/08/11</td>\n",
              "      <td>유정인·박순봉 기자 jeongin@kyunghyang.com</td>\n",
              "      <td>국민의힘 내홍이 깊어지고 있다. 이준석 대표와 윤석열 전 검찰총장 등 ‘투스톤(준스...</td>\n",
              "      <td>3</td>\n",
              "    </tr>\n",
              "    <tr>\n",
              "      <th>2</th>\n",
              "      <td>[단독] 법관이 직원에게 성경 공부·의전 지시, 법원에서도 ‘직장 갑질’ 논란</td>\n",
              "      <td>경향신문</td>\n",
              "      <td>국제&gt;미국_북미 | 국제&gt;유럽_EU | 사회&gt;여성</td>\n",
              "      <td>2021/08/11</td>\n",
              "      <td>이혜리 기자 lhr@kyunghyang.com</td>\n",
              "      <td>법관에게 직장 내 갑질 및 괴롭힘을 당했다며 도움을 호소하는 법원 직원의 글이 법원...</td>\n",
              "      <td>4</td>\n",
              "    </tr>\n",
              "    <tr>\n",
              "      <th>3</th>\n",
              "      <td>코로나 확진자수 2000명 돌파에 노심초사 여, 공세 강화하는 야</td>\n",
              "      <td>경향신문</td>\n",
              "      <td>정치&gt;국회_정당 | 정치&gt;청와대</td>\n",
              "      <td>2021/08/11</td>\n",
              "      <td>유설희 기자 sorry@kyunghyang.com</td>\n",
              "      <td>코로나19 신규 확진자가 11일 사상 처음으로 2000명을 돌파하자 여권은 ‘노심초...</td>\n",
              "      <td>5</td>\n",
              "    </tr>\n",
              "    <tr>\n",
              "      <th>4</th>\n",
              "      <td>류호정 \"피해자 보호 못하는 강간죄 개정 위해 '쇼'라도 하겠다\"</td>\n",
              "      <td>경향신문</td>\n",
              "      <td>정치&gt;행정_자치 | 사회&gt;여성 | 정치&gt;국회_정당</td>\n",
              "      <td>2021/08/11</td>\n",
              "      <td>장은교 소통·젠더데스크 indi@kyunghyang.com</td>\n",
              "      <td>류호정 정의당 의원은 새로운 ‘쇼’를 궁리 중이라고 했다. 이번엔 강간죄 개정을 위...</td>\n",
              "      <td>-1</td>\n",
              "    </tr>\n",
              "    <tr>\n",
              "      <th>5</th>\n",
              "      <td>[뉴스분석]현실화된 정은경의 예언···확진자 2223명이 정점은 아니다</td>\n",
              "      <td>경향신문</td>\n",
              "      <td>사회&gt;의료_건강</td>\n",
              "      <td>2021/08/11</td>\n",
              "      <td>노도현·김향미·이혜리 기자 hyunee@kyunghyang.com</td>\n",
              "      <td>코로나19 하루 신규 확진자가 2200명을 넘어서며 새로운 국면을 맞고 있다. 20...</td>\n",
              "      <td>-2</td>\n",
              "    </tr>\n",
              "    <tr>\n",
              "      <th>...</th>\n",
              "      <td>...</td>\n",
              "      <td>...</td>\n",
              "      <td>...</td>\n",
              "      <td>...</td>\n",
              "      <td>...</td>\n",
              "      <td>...</td>\n",
              "      <td>...</td>\n",
              "    </tr>\n",
              "    <tr>\n",
              "      <th>94</th>\n",
              "      <td>죽파리 자작나무 숲 인근 ‘송하리 졸참나무와 당숲’ 천연기념물 된다</td>\n",
              "      <td>경향신문</td>\n",
              "      <td>문화&gt;학술_문화재 | 문화&gt;미술_건축 | 지역&gt;강원</td>\n",
              "      <td>2021/08/11</td>\n",
              "      <td>김종목 기자 jomo@kyunghyang.com</td>\n",
              "      <td>문화재청이 ‘영양 송하리 졸참나무와 당숲’을 국가지정문화재 천연기념물로 지정 예고했...</td>\n",
              "      <td>-1</td>\n",
              "    </tr>\n",
              "    <tr>\n",
              "      <th>95</th>\n",
              "      <td>섬유·제지 산업도 탄소중립 움직임···\"폐자원을 에너지로\"</td>\n",
              "      <td>경향신문</td>\n",
              "      <td>경제&gt;반도체 | 지역&gt;강원 | 지역&gt;충남</td>\n",
              "      <td>2021/08/11</td>\n",
              "      <td>강연주 기자 play@kyunghyang.com</td>\n",
              "      <td>정부가 섬유·제지 산업에서 탄소배출량을 줄이는 기술 개발에 투자를 강화한다.산업통상...</td>\n",
              "      <td>-2</td>\n",
              "    </tr>\n",
              "    <tr>\n",
              "      <th>96</th>\n",
              "      <td>현대차·BMW·벤츠 등 35개 차종 2만8946대 리콜</td>\n",
              "      <td>경향신문</td>\n",
              "      <td>경제&gt;자동차 | IT_과학&gt;인터넷_SNS | IT_과학&gt;보안</td>\n",
              "      <td>2021/08/11</td>\n",
              "      <td>김희진 기자 hjin@kyunghyang.com</td>\n",
              "      <td>국토교통부는 현대자동차와 BMW 등 35개 차종 총 2만8946대에서 제작결함이 발...</td>\n",
              "      <td>-3</td>\n",
              "    </tr>\n",
              "    <tr>\n",
              "      <th>97</th>\n",
              "      <td>박용진 \"4차 산업혁명 선도하는 '바이미식스' 대통령 되겠다\"</td>\n",
              "      <td>경향신문</td>\n",
              "      <td>정치&gt;국회_정당 | 정치&gt;선거 | 정치&gt;청와대</td>\n",
              "      <td>2021/08/11</td>\n",
              "      <td>탁지영 기자 g0g0@kyunghyang.com</td>\n",
              "      <td>더불어민주당 대선 경선 후보인 박용진 의원은 11일 “4차 산업혁명 대통령이 되겠다...</td>\n",
              "      <td>-4</td>\n",
              "    </tr>\n",
              "    <tr>\n",
              "      <th>98</th>\n",
              "      <td>이준석 '친윤석열계' 겨냥 \"권력욕 부추기는 하이에나\"..정진석 \"참 딱하다\"</td>\n",
              "      <td>경향신문</td>\n",
              "      <td>정치&gt;국회_정당 | 정치&gt;선거</td>\n",
              "      <td>2021/08/11</td>\n",
              "      <td>유정인 기자 jeongin@kyunghyang.com</td>\n",
              "      <td>이준석 국민의힘 대표는 11일 “우리 후보들 곁에 권력욕을 부추기는 하이에나가 아니...</td>\n",
              "      <td>-5</td>\n",
              "    </tr>\n",
              "  </tbody>\n",
              "</table>\n",
              "<p>98 rows × 7 columns</p>\n",
              "</div>"
            ],
            "text/plain": [
              "                                          title  ... ratings\n",
              "1              국민의힘, 계속 옮겨붙는 갈등의 불씨...진화할 수 있을까  ...       3\n",
              "2   [단독] 법관이 직원에게 성경 공부·의전 지시, 법원에서도 ‘직장 갑질’ 논란  ...       4\n",
              "3          코로나 확진자수 2000명 돌파에 노심초사 여, 공세 강화하는 야  ...       5\n",
              "4          류호정 \"피해자 보호 못하는 강간죄 개정 위해 '쇼'라도 하겠다\"  ...      -1\n",
              "5       [뉴스분석]현실화된 정은경의 예언···확진자 2223명이 정점은 아니다  ...      -2\n",
              "..                                          ...  ...     ...\n",
              "94        죽파리 자작나무 숲 인근 ‘송하리 졸참나무와 당숲’ 천연기념물 된다  ...      -1\n",
              "95             섬유·제지 산업도 탄소중립 움직임···\"폐자원을 에너지로\"  ...      -2\n",
              "96               현대차·BMW·벤츠 등 35개 차종 2만8946대 리콜  ...      -3\n",
              "97           박용진 \"4차 산업혁명 선도하는 '바이미식스' 대통령 되겠다\"  ...      -4\n",
              "98  이준석 '친윤석열계' 겨냥 \"권력욕 부추기는 하이에나\"..정진석 \"참 딱하다\"  ...      -5\n",
              "\n",
              "[98 rows x 7 columns]"
            ]
          },
          "metadata": {
            "tags": []
          },
          "execution_count": 95
        }
      ]
    },
    {
      "cell_type": "code",
      "metadata": {
        "id": "QBgjSnhy06Fv"
      },
      "source": [
        "df.drop_duplicates(subset=None,inplace=True)  # 중복데이터 삭제 inplace=True:메서드가 적용되는 원본데이터를 변경할지 여부를 결정 "
      ],
      "execution_count": 96,
      "outputs": []
    },
    {
      "cell_type": "code",
      "metadata": {
        "colab": {
          "base_uri": "https://localhost:8080/"
        },
        "id": "koEoJzAS89mU",
        "outputId": "7d258ae2-9be6-499b-c1a8-03ade199d3a5"
      },
      "source": [
        "len(df)"
      ],
      "execution_count": 97,
      "outputs": [
        {
          "output_type": "execute_result",
          "data": {
            "text/plain": [
              "99"
            ]
          },
          "metadata": {
            "tags": []
          },
          "execution_count": 97
        }
      ]
    },
    {
      "cell_type": "code",
      "metadata": {
        "id": "NYG3AtVr9TH9"
      },
      "source": [
        "from sklearn.model_selection import train_test_split"
      ],
      "execution_count": 98,
      "outputs": []
    },
    {
      "cell_type": "code",
      "metadata": {
        "id": "alPIZUhJ9Wgh"
      },
      "source": [
        "x_data = df['text']\n",
        "y_data = df['ratings']"
      ],
      "execution_count": 99,
      "outputs": []
    },
    {
      "cell_type": "code",
      "metadata": {
        "colab": {
          "base_uri": "https://localhost:8080/"
        },
        "id": "JaF9eh85--In",
        "outputId": "cca6b4bf-8e09-4110-92e3-1b2891f01040"
      },
      "source": [
        "x_train, x_test, y_train, y_test = train_test_split(x_data, y_data)\n",
        "x_train.shape, y_train.shape, x_test.shape, y_test.shape\n"
      ],
      "execution_count": 100,
      "outputs": [
        {
          "output_type": "execute_result",
          "data": {
            "text/plain": [
              "((74,), (74,), (25,), (25,))"
            ]
          },
          "metadata": {
            "tags": []
          },
          "execution_count": 100
        }
      ]
    },
    {
      "cell_type": "markdown",
      "metadata": {
        "id": "8-zwr1mzAPGp"
      },
      "source": [
        "# NLP(토큰화)"
      ]
    },
    {
      "cell_type": "code",
      "metadata": {
        "colab": {
          "base_uri": "https://localhost:8080/"
        },
        "id": "-DSC9T3J_5Gi",
        "outputId": "86398910-162b-469b-b264-f6f9c0fd431b"
      },
      "source": [
        "type(x_train)\n"
      ],
      "execution_count": 101,
      "outputs": [
        {
          "output_type": "execute_result",
          "data": {
            "text/plain": [
              "pandas.core.series.Series"
            ]
          },
          "metadata": {
            "tags": []
          },
          "execution_count": 101
        }
      ]
    },
    {
      "cell_type": "code",
      "metadata": {
        "colab": {
          "base_uri": "https://localhost:8080/"
        },
        "id": "ISPD3vuYAc0x",
        "outputId": "d733dc31-473d-49aa-c492-33831693db3b"
      },
      "source": [
        "x_train.str.replace('[^가-힣ㄱ-ㅎㅠ ]','') #[a-zA-Z]] 불용어 처리전 한글만 가져오게 함"
      ],
      "execution_count": 102,
      "outputs": [
        {
          "output_type": "execute_result",
          "data": {
            "text/plain": [
              "48    서울시가 간호사 사회복지사 직업상담사 사서 등 자격증을 보유한 경력단절 여성을 대상...\n",
              "41    기후 변화에 따른 기온 상승으로 전 세계 식량 공급이 어려워질 것이라는 어두운 전망...\n",
              "94    문화재청이 영양 송하리 졸참나무와 당숲을 국가지정문화재 천연기념물로 지정 예고했다졸...\n",
              "75    중소벤처기업들이 공동으로 사용할 수 있는 화상 회의실이 문을 연다중소벤처기업부중기부...\n",
              "49    계곡이나 하천 등지에서 무허가 영업을 하거나 자릿세를 요구하는 등 위법행위를 할 경...\n",
              "                            ...                        \n",
              "6     일 기준으로 대 국회에는 건의 법안이 계류돼 있다 하루에만 수십 건의 법안이 발의되...\n",
              "55    파리바게뜨 제빵사들의 민주노총 탈퇴를 종용한 이 회사 현장관리자들이 노조 와해 공작...\n",
              "28    홍남기 부총리 겸 기획재정부 장관이 박범계 법무부 장관에게 이재용 삼성전자 부회장의...\n",
              "84    대권도전에 나선 원희룡 제주도지사가 일 민선 기 제주도 지사직 업무를 마무리했다제주...\n",
              "17    코로나 백신 접종률이 높은 영국과 싱가포르에서 코로나와 함께 살기 실험이 이뤄지고 ...\n",
              "Name: text, Length: 74, dtype: object"
            ]
          },
          "metadata": {
            "tags": []
          },
          "execution_count": 102
        }
      ]
    },
    {
      "cell_type": "code",
      "metadata": {
        "colab": {
          "base_uri": "https://localhost:8080/"
        },
        "id": "19Wz5ZapAeP0",
        "outputId": "56263532-5b4e-480c-e291-519156a17d11"
      },
      "source": [
        "!curl -O https://raw.githubusercontent.com/konlpy/konlpy/master/scripts/mecab.sh"
      ],
      "execution_count": 103,
      "outputs": [
        {
          "output_type": "stream",
          "text": [
            "  % Total    % Received % Xferd  Average Speed   Time    Time     Time  Current\n",
            "                                 Dload  Upload   Total   Spent    Left  Speed\n",
            "\r  0     0    0     0    0     0      0      0 --:--:-- --:--:-- --:--:--     0\r100  5064  100  5064    0     0  30142      0 --:--:-- --:--:-- --:--:-- 30142\n"
          ],
          "name": "stdout"
        }
      ]
    },
    {
      "cell_type": "code",
      "metadata": {
        "colab": {
          "base_uri": "https://localhost:8080/"
        },
        "id": "sdWdskosBWFH",
        "outputId": "45bb6f07-b6c0-4c7f-c2a7-898c4b5b7869"
      },
      "source": [
        "!bash ./mecab.sh"
      ],
      "execution_count": 104,
      "outputs": [
        {
          "output_type": "stream",
          "text": [
            "mecab-ko is already installed\n",
            "mecab-ko-dic is already installed\n",
            "mecab-python is already installed\n",
            "Done.\n"
          ],
          "name": "stdout"
        }
      ]
    },
    {
      "cell_type": "code",
      "metadata": {
        "id": "VNs7wa9IBY51"
      },
      "source": [
        "from konlpy.tag import Mecab"
      ],
      "execution_count": 105,
      "outputs": []
    },
    {
      "cell_type": "code",
      "metadata": {
        "colab": {
          "base_uri": "https://localhost:8080/"
        },
        "id": "FpFgPnZcB51G",
        "outputId": "0b6fdc7b-1075-4354-c465-4c330e1119dd"
      },
      "source": [
        "mecab = Mecab()\n",
        "print(mecab.morphs('와 이런 것도 상품이라고 차라리 내가 만드는게 나을 것 같다.'))   #형태소 분석"
      ],
      "execution_count": 106,
      "outputs": [
        {
          "output_type": "stream",
          "text": [
            "['와', '이런', '것', '도', '상품', '이', '라고', '차라리', '내', '가', '만드', '는', '게', '나을', '것', '같', '다', '.']\n"
          ],
          "name": "stdout"
        }
      ]
    },
    {
      "cell_type": "code",
      "metadata": {
        "id": "2R0jUEdwClQE"
      },
      "source": [
        "sentance = list()\n",
        "stopwords = ['도', '는', '다', '의', '가', '이', '은', '한', '에', '하', '고', '을', '를', '인', '듯', '과', '와', '네', '들', '듯', '지', '임', '게']\n"
      ],
      "execution_count": 107,
      "outputs": []
    },
    {
      "cell_type": "code",
      "metadata": {
        "id": "PXIS-A5wB958"
      },
      "source": [
        "for tok in x_train :\n",
        "  encoded = mecab.morphs(tok)\n",
        "  sentance.append([item for item in encoded if item not in stopwords])\n",
        "\n",
        "sentance  "
      ],
      "execution_count": null,
      "outputs": []
    },
    {
      "cell_type": "markdown",
      "metadata": {
        "id": "fOPaJfa4ERDy"
      },
      "source": [
        "# Tokenizer\n"
      ]
    },
    {
      "cell_type": "code",
      "metadata": {
        "colab": {
          "base_uri": "https://localhost:8080/"
        },
        "id": "RrQuFOQ8D_aI",
        "outputId": "1ce7fa46-325d-48fc-d90e-b4c21f27d58a"
      },
      "source": [
        "print(sentance)"
      ],
      "execution_count": 109,
      "outputs": [
        {
          "output_type": "stream",
          "text": [
            "[['서울시', '간호사', ',', '사회', '복지', '사', ',', '직업', '상', '담사', ',', '사서', '등', '자격증', '보유', '‘', '경력', '단절', '여성', '’', '대상', '으로', '시', '산하', '기관', '인턴', '십', '채용', '연계', '사업', '시작', '한다', '.', '서울시', '11', '일', '“', '전문', '자격증', '장롱면허', '로', '묵혔', '던', '여성', '다시', '자신감', '갖', '사회', '진출', '할', '수', '있', '도록', '‘', '서울', '우먼', '업', '(', 'Woman', 'Up', ')', '인턴', '십', '’', '프로그램', '시작', '한다', '”', '라고', '밝혔', '.', '‘', '우먼', '업', '’', '서울시', '여성', '인력', '개발', '기관', '(', '여성', '능력', '개발', '원', ',', '여성', '발전', '센터', ',', '여성', '인력', '개발', '센터', ')', '통칭', '이름', '.', '1', '기', '우먼', '업', '인턴', '십', '에선', '경력', '단절', '여성', '62', '명', '선정', '해', '직업', '교육', '현장', '실습', '주선', '한다', '.', '서울시', ',', '투자', '출연', '기관', ',', '민간', '위탁', '기관', ',', '여성', '인력', '개발', '기관', '등', '44', '개', '기관', '참여', '인턴', '십', '보건', '의료', ',', '상담', ',', '교육', '·', '보육', ',', '행정', ',', '사', '서', '·', '학예', '·', '전산', '등', '5', '개', '분야', '로', '구성', '된다', '.', '간호사', ',', '사회', '복지', '사', ',', '직업', '상', '담사', ',', '평생', '교육사', ',', '주', '거복', '지사', ',', '학예사', ',', '사', '서', ',', '보육', '교사', ',', '전산', '등', '9', '개', '분야', '자격증', '보유자', '대상', '으로', '한다', '.', '지원', '자격', '참여', '기관', '등', '자세', '내용', '서울시', '여성', '능력', '개발', '원', '홈페이지', '(', 'www', '.', 'seoulwomanup', '.', 'or', '.', 'kr', ')', '에서', '확인', '할', '수', '있', '.', '원서', '접수', '기간', '8', '월', '13', '~', '22', '일', '.', '저소득', ',', '부모', ',', '장애', '등', '취업', '취약', '계층', '우선', '선발', '기회', '준다', '.', '허남', '설', '기자', 'nsheo', '@', 'kyunghyang', '.', 'com'], ['기후', '변화', '따른', '기온', '상승', '으로', '전', '세계', '식량', '공급', '어려워질', '것', '라는', '어두운', '전망', '나왔', '.', '전문가', '보다', '지속', '가능', '식단', '으로', '전환', '정부', '차원', '긴급', '조치', '등', '촉구', '했', '.', '영국', '일간', '가디언', '10', '일', '(', '현지', '시간', ')', '전날', '발표', '된', '기후', '변화', '관한', '정부', '간', '협의', '체', '(', 'IPCC', ')', '‘', '제', '6', '차', '평가', '보고서', '중', '제', '1', '실무', '그룹', '보고서', '’', '전', '세계', '식량', '생산', '위기', '시사', '한다고', '지적', '했', '.', '기후', '변화', '로', '강우', '패턴', '바뀌', '면서', '많', '지역', '가뭄', '취약', '해졌', '극단', '적', '날씨', '농작물', '생산', '더', '어렵', '할', '것', '라고', '경고', '했', '.', '지구', '평균', '온도', '1', '.', '5', '℃', '더', '올라가', '시점', '당초', '전망', '보다', '10', '년', '이상', '빨리', '다가오', '있', '으며', ',', '기후', '변화', '인간', '때문', '란', '것', 'IPCC', '보고서', '핵심', '었', '.', '보고서', '더불', '어', '지구', '1', '.', '5', '℃', '가열', '되', '면', '작물', '생산', '타격', '등', '으로', '인류', '식량', '공급', '심각', '영향', '미칠', '수', '있', '다고', '지적', '했', '.', '보고서', '지구', '온도', '1', '.', '5', '오르', '면', '아프리카', ',', '남미', '및', '유럽', '여러', '지역', '에서', '농업', '·', '생태', '적', '가뭄', '더', '자주', '발생', '할', '것', '며', '그', '심각', '성', '더', '커질', '것', '으로', '전망', '했', '.', '1850', '~', '1900', '년', '대비', '아시아', '제외', '모든', '대륙', '일부', '지역', '에서', '농업', '·', '생태', '적', '가뭄', '더', '빈번', '거나', '심각', '할', '것', '으로', '예측', '됐', '.', '가뭄', '성장기', '농작물', '생산', '이나', '생태', '계', '기능', '전반', '적', '으로', '영향', '미친다고', '보', '고서', '경고', '했', '.', '아울러', '아프리카', '아시아', '대부분', '지역', ',', '북미', '유럽', '에서', '강수', '및', '관련', '홍수', '심화', '잦아질', '것', '으로', '전망', '됐', '.', '보', '니', '워링', '런던', '임페리얼', '칼리지', '그랜섬', '연구소', '부교수', '“', '전', '세계', '적', '으로', '소비', '되', '칼로리', '80', '%', '이상', '쌀', ',', '옥수수', ',', '밀', '포함', '열', '가지', '작물', '에서', '나온다', '”', '며', '“', '대두', '같', '몇', '가지', '주요', '작물', '따뜻', '해진', '미래', '더', '원활', '생산', '될', '수', '있', '지만', ',', '기온', '상승', '함께', '더', '빈번', '해', '가뭄', '으로', '세계', '많', '지역', '에서', '주요', '작물', '수확량', '감소', '할', '수', '있', '”', '가디언', '말', '했', '.', '유니', '버시', '티', '칼리지', '런던', '(', 'UCL', ')', '마크', '캐슬린', '지구', '시스템', '과학', '교수', '“', '식량', '가격', '상승', '큰', '위험', '될', '것', '”', '라고', '경고', '했', '.', '현재', '농업', '방식', '기후', '변화', '가속', '화', '있', '다는', '분석', '나왔', '.', '거름', '등', '농작물', '자원', '에서', '많이', '나오', '메탄', '이번', 'IPCC', '보고서', '에서', '기후', '붕괴', '주요', '원인', '중', '하나', '로', '지목', '됐', '.', '보고서', '따르', '면', '2011', '년', '이후', '대기', '중', '농도', '계속', '증가', '해', '2019', '년', '이산화', '탄소', ',', '메탄', ',', '이산화질소', '연평균', '410', 'ppm', ',', '아산화질소', '332', 'ppb', '달했', '.', '유엔', '(', 'UN', ')', '메탄', '배출', '산업', '화', '이전', '시대', '부터', '지구', '온난', '화', '약', '30', '%', '책임', '있', '다고', '밝혔', '.', 'IPCC', '보고서', '요약', '저자', '칠레', '대학', '대기', '과학자', '마', '이사', '로하스', '코라디', '“', '메탄', '빠르', '줄이', '면', '기온', '상승', '효과', '상쇄', '공기', '질도', '개선', '할', '수', '있', '”', '말', '했', '.', '하지만', '농업용', '메탄', '배출', '감축', '쉽', '않', '과제', '.', '환경', '보호', '기금', '에너지', '수석', '부사장', '마크', '브라운', '스타인', '“', '에너지', '기업', '등', '메탄', '배출', '해결', '기', '쉽', '지만', ',', '대', '규모', '농업용', '메탄', '대체', '기술', '존재', '않', '아', '더', '어렵', '”', '로이터', '통신', '밝혔', '.', '지구', '온난', '화', '시계', '빨라', '면서', '보다', '지속', '가능', '소비', '생산', '대한', '고민', '깊', '어', '졌', '.', '식단', '전환', ',', '농업', '관행', '변화', '필요', '성', '거론', '된다', '.', '롭', '퍼시벌', '영국', '토양', '협회', '식품', '·', '건강', '정책', '책임자', '“', '식품', '소비', '양식', '식품', '생산', '함께', '변화', '할', '필요', '있', '”', '며', '“', '신선', '과일', '채소', ',', '콩', '류', '중점', '두', '보다', '품질', '좋', '고기', '더', '적', '소비', '도록', '식단', '바꿔야', '한다', '”', '말', '했', '.', '일란', '켈만', 'UCL', '재난', '·', '보건', '교수', '“', '식량', '문제', '대응', '기', '위해선', '농작물', '가축', '비롯', '농업', '관행', '대대', '적', '변화', '필요', '”', '촉구', '했', '.', '정부', '차원', '대책', '세워야', '한다는', '목소리', '나온다', '.', '셰팔리', '샤르마', '농업', '·', '무역', '정책', '연구소', '소장', '“', '정부', '긴급', '조치', '취해', '농', '식품', '시스템', '대한', '회복력', '구축', '해야', '한다', '.', '기후', '변화', '적응', '도록', '적절히', '지원', '건강', '토양', '구축', ',', '농업', '생물', '다양', '성', '보장', '등', '위한', '조치', '해야', '한다', '”', '가디언', '밝혔', '.', '박하', '얀', '기자', 'white', '@', 'kyunghyang', '.', 'com'], ['문화재청', '‘', '영양', '송하리', '졸참나무', '당', '숲', '’', '국가', '지정', '문화재', '천연기념물', '로', '지정', '예고', '했', '.', '졸참나무', '경북', '영양군', '수비면', '송하리', '매봉산', '(', '해발', '650', 'm', ')', '등산로', '입구', '있', '.', '높이', '22', 'm', ',', '지름', '1', '.', '3', 'm', ',', '수관', '폭', '20', 'm', ',', '나이', '250', '년', '(', '추정', ')', '.', '앞서', '1995', '년', '보호수', '로', '지정', '됐', '.', '문화재청', '“', '졸참나무', '숲', '에서', '가장', '오래', '된', '나무', '로서', '생육', '상태', '좋', '수형', '아름다워', '학술', '·', '경관', '가치', '있', '”', '했', '.', '문화재', '위원회', '심의', '거쳐', '최종', '지정', '되', '면', '졸참나무', '로', '첫', '천연기념물', '된다', '.', '졸참나무', '로', '오솔길', '엔', '소나무', ',', '느티나무', ',', '말채나무', '66', '주', '당집', '함께', '당', '숲', '이룬다', '.', '당', '숲', '이나', '성', '황림', '같', '마을', '숲', '일제', '강점기', '한국', '전쟁', ',', '새', '마을', '운동', '시기', '많이', '사라졌', '.', '송하리', '사람', '지금', '정월', '대', '보름', '추석', '졸참나무', '당산제', '올리', '며', '마을', '안녕', '번영', '빈다고', '한다', '.', '문화재청', '송하리', '당산제', '학술', '가치', '크', '다고', '봤', '.', '영양', '수비면', '오지', '로', '청정', '공간', '.', '당', '숲', '에서', '5', '㎞', '떨어진', '곳', '죽파리', '영양', '자작나무', '숲', '(', '▶', '기사', '보', '기', ':', '영양', ',', '수탈', '오염', '역사', '공간', '청정', '자작', '나무숲', '공존', ')', '있', '.', '자작나무', '숲', '코로나', '19', '이후', '비대', '면', '여행지', '로', '떠올랐', '.', '김종목', '기자', 'jomo', '@', 'kyunghyang', '.', 'com'], ['중소', '·', '벤처', '기업', '공동', '으로', '사용', '할', '수', '있', '화상', '회의실', '문', '연다', '.', '중소', '벤처', '기업', '부', '(', '중기', '부', ')', '중소기업', '밀집', '지역', '중소', '·', '벤처', '기업', '위한', '‘', '공동', '활용', '화상', '회의실', '’', '1567', '개', '구축', '했', '다고', '11', '일', '밝혔', '.', '회의실', '10', '명', '안팎', '위한', '‘', '일반', '형', '’', '50', '∼', '100', '명', '까지', '수용', '할', '수', '있', '‘', '확장', '형', '’', '으로', '구분', '돼', '있', '.', '일반', '형', '중', '50', '개소', '1', '~', '2', '인용', '비대', '면', '업무', '공간', '스마트', '워크', '부스', '추가', '로', '설치', '됐', '.', '확장', '형', '대', '규모', '화상', '회의', '부터', '수출', '상담', '회의', '까지', '가능', '토록', '고화질', '·', '고음질', '시스템', '갖췄', '.', '전북', '전주', ',', '서울', '강남구', '·', '영등포구', ',', '경기', '성남시', ',', '대구', '동구', '등', '5', '곳', '설치', '됐', '.', '중기', '부', '오', '12', '일', '부터', '화상', '회의실', '예약', '포털', '(', 'www', '.', 'smes', '.', 'go', '.', 'kr', '/', 'boms', ')', '에서', '온라인', '으로', '예약', '받', '는다', '.', '중기', '부', '관계자', '“', '이번', '화상', '회의실', '구축', '으로', '코로나', '19', '위', '기', '속', '중소기업', '비대', '면', '경영', '전환', '촉진', '침체', '된', '경제', '활력', '불어넣', '계기', '기', '될', '것', '”', '라고', '말', '했', '.', '김은성', '기자', 'kes', '@', 'kyunghyang', '.', 'com'], ['계곡', '이나', '하천', '등지', '에서', '무허가', '영업', '거나', '자릿세', '요구', '등', '위법', '행위', '할', '경우', '최고', '5000', '만', '원', '벌금', '내', '도록', '처벌', '강화', '방안', '추진', '된다', '.', '국회', '국토', '교통', '위원회', '소속', '김윤덕', '더불', '어', '민주당', '의원', '11', '일', '하천', '불법', '영업', '처벌', '강화', '주요', '내용', '으로', '‘', '하천법', '일부', '개정', '법률안', '’', '‘', '소하천', '법', '일부', '개정', '법률안', '’', '2', '건', '각각', '대표', '발의', '했', '다고', '밝혔', '.', '개정안', '에서', '하천', '점용', '허가', '등', '받', '않', '점용', '·', '불법', '사용', '자', '대한', '처벌', '대폭', '강화', '했', '.', '현재', '‘', '1', '년', '이하', '징역', '또는', '1000', '만', '원', '이하', '벌금', '’', '으로', '규정', '된', '처벌', '조항', '각각', '‘', '5', '년', '이하', '징역', '또는', '5000', '만', '원', '이하', '벌금', '’', '으로', '상향', '했', '.', '김', '의원', '“', '하천', '등', '에서', '불법', '영업', '으로', '얻', '수', '있', '수익', '비해', '벌금', '미미', '보', '니', '매년', '하천', '·', '계곡', '천막', '평상', '설치', '해', '자릿세', '요구', '등', '불법', '영업', '행위', '횡행', '있', '”', '며', '“', '무분별', '설치', '된', '불법', '구조물', '로', '인해', '집중호우', '시', '하천', '기능', '저하', '되', '등', '우려', '있', '”', '개정안', '발', '배경', '설명', '했', '.', '계곡', '불법', '영업', '경우', '이재명', '경기도지사', '지역', '주민', '협의', '로', '백운', '계', '곡', '등', '시설물', '자진', '철거', '도록', '조치', '뒤', '전국', '적', '으로', '불법', '영업', '근절', '여론', '높', '아', '있', '.', '송진', '식', '기자', 'truejs', '@', 'kyunghyang', '.', 'com'], ['전북', '지역', '에서', '코로나', '19', '확진', '판정', '받', '치유', '됐', '다가', '또', '확진', '판정', '받', '재감염', '사례', '처음', '나왔', '.', '전북', '전날', '부터', '11', '일', '오전', '10', '시', '까지', '코로나', '19', '확진', '자', '37', '명', '발생', '했', '다고', '밝혔', '.', '지역', '별', '로', '전주', '16', '명', ',', '군산', '6', '명', ',', '익산', '정읍', '각', '4', '명', ',', '부안', '2', '명', ',', '김제', '1', '명', ',', '기타', '(', '해', '외입', '국자', ')', '3', '명', '등', '.', '이번', '확진', '자', '가운데', '백신', '접종', '확진', '판정', '받', '돌파', '감염', '3', '명', '나와', '누계', '28', '명', '됐', '.', '특히', '전주', '20', '대', '지난', '2', '월', '확진', '된', '후', '백신', '접종', '까지', '마쳤으나', '10', '일', '다시', '확진', '판정', '받', '첫', '재감염', '사례', '됐', '.', '확진', '자', '중', '10', '∼', '20', '대', '21', '명', '으로', '절반', '웃돌', '았', '.', '지금', '까지', '전북', '지역', '확진', '판정', '받', '사람', '3026', '명', '으로', '늘', '었', '.', '박용근', '기자', 'yk', '21', '@', 'kyunghyang', '.', 'com'], ['미국', '신재', '생', '에너지', '비중', '빠른', '속도', '로', '확대', '있', '.', '바이든', '행정부', '대대', '적', '투자', '발표', '각종', '정책', '지원', '으로', '지난해', '미국', '내', '재생', '에너지', '발전', '비중', '원자력', '석탄', '발전량', '넘어섰', '.', '11', '일', '대한', '무역투자진흥공사', '(', '코트', '라', ')', '발간', '‘', '미국', '재생', '에너지', '시장', '및', '에너지', '전환', '동향', '’', '보고서', '따르', '면', '2020', '년', '미국', '풍력', ',', '태양광', '발전', '설치', '용량', '사상', '최대', '규모', '기록', '했', '.', '풍력', '발전', '전년', '대비', '85', '.', '1', '%', '증가', '1', '만', '6913', 'MW', '(', '메가와트', ')', ',', '태양광', '발전', '전년', '대비', '2', '배', '이상', '증가', '1', '만', '1158', 'MW', '로', '나타났', '.', '미국', '풍력', '태양광', '발전', '포함', '재생', '에너지', '발전', '비중', '21', '%', '로', '증가', '며', '원자력', '(', '19', '%),', '석탄', '(', '19', '%)', '보다', '높', '아', '졌', '.', '미국', '재생', '에너지', '발전', '비중', '증가', '각', '주', '정부', '재생', '에너지', '활용', '지원', '정책', '더', '해진', '결과', '로', '볼', '수', '있', '.', '미국', '정부', '지난', '6', '월', '에너지', '부분', '포함', '1', '조', '2000', '억', '달러', '(', '약', '1385', '조', '원', ')', '규모', '인프라', '투자', '계획', '발표', '했으며', '신재', '생', '에너지', '공급', '무화', '제도', '(', 'RPS', ')', ',', '상계', '거래제', '(', 'Net', 'Metering', ')', '등', '정책', '추진', '중', '.', '2050', '년', '까지', '미국', '재생', '너', '지발', '전', '비중', '42', '%', '까지', '확대', '될', '것', '으로', '전망', '된다', '.', '관련', '기업', '투자', '활기', '띠', '며', '당장', '내년', '까지', '재생', '에너지', '산업', '투자액', '390', '억', '달러', '넘어설', '것', '으로', '예상', '된다', '.', '보고서', '“', '우리', '기업', '세계', '최대', '시장', '미국', '에서', '일어나', '있', '에너지', '전환', '흐름', '계속', '모니터링', '관련', '프로젝트', '적극', '적', '으로', '발굴', '해', '참여', '할', '필요', '있', '”', '조언', '했', '.', '특히', '발전', '가능', '성', '큰', '태양광', '발전', '해상', '풍력', '분야', '주목', '했', '.', '미국', '풍력', '발전', '발전', '용량', '2050', '년', '까지', '현재', '대비', '약', '3', '.', '5', '배', '이상', '증가', '할', '것', '으로', '보인다', '.', '그간', '개발', '더뎠', '던', '해상풍력발전', '속도', '내', '며', '미국', '북동부', '지역', '중심', '으로', '프로젝트', '활발히', '진행', '됨', '따라', '발전기', '및', '부', '유식', '해양', '구조물', '등', '관련', '품목', '수요', '확대', '예상', '된다', '.', '태양광', '발전', '2050', '년', '까지', '미국', '전체', '재생', '에너지', '발전', '비중', '47', '%', '차지', '핵심', '에너지원', '으로', '성장', '할', '전망', '.', '애리조', '나', ',', '캘리포니아', ',', '텍사스', '지역', '주거', '용', '태양광', '발전', '설치', '늘어나', '있', '가운데', '태양광', '발전', '시설', '대한', '투자', '세액', '공제', '(', 'ITC', ')', '만기', '연장', '조치', '증가', '추세', '힘', '보태', '있', '.', '보고서', '풍력', '발전', '경우', '해상', '풍력', '분야', '중심', '으로', '현지', '컨소시엄', '공급', '망', '구축', '위해', '운영', '중', '웹', '사이트', '‘', '오프쇼어', '윈드', 'US', '’(', 'Offshore', 'Wind', 'US', ')', '활용', '할', '것', '제안', '했', '.', '사이트', '통해', '미국', '주', '정부', '주요', '기업', '에서', '발주', '프로젝트', '입찰', '참여', '정보', '얻', '수', '있', '.', '또한', '미국', '태양', '에너지', '산업', '협회', '(', 'SEIA', ')', '에서', '제공', '공급', '업체', '데이터베이스', '(', 'DB', ')', '활용', '해', '프로젝트', '공동', '진출', '위한', '잠재', '파트너', '발굴', '시도', '해', '볼', '수', '있', '다고', '보', '고서', '제안', '했', '.', '김종현', '코트', '라', '달라스', '무역', '관장', '“', '셰일', '자원', '크', '의존', '던', '미국', '에너지', '산업', '재생', '에너지', '로', '전환', '일어나', '있', '”', '며', '“', '변화', '수요', '대응', '제품', '경쟁력', '확보', ',', '적극', '적', '마케팅', '활동', '통해', '시장', '선점', '해', '나갈', '필요', '있', '”', '말', '했', '.', '노정연', '기자', 'dana', '_', 'fm', '@', 'kyunghyang', '.', 'com'], ['흥행', '묘수', '일까', ',', '분란', '씨앗', '일까', '.', '최대', '20', '차례', '달할', '것', '으로', '전망', '되', '국민', '힘', '대선', '후보', '토론회', '두', '당', '지도부', '대선', '주자', '간', '시각', '엇갈리', '있', '.', '이준석', '대표', '‘', '흥행', '효과', '’', '‘', '말', '할', '기회', '’', '강조', '지만', ',', '기존', '당내', '주자', '만', '유리', '것', '아니', '냐는', '불만', '제기', '된다', '.', '경선', '준비', '위원회', '(', '경준', '위', ')', '권한', '둘러싼', '논란', '계속', '되', '있', '.', '대표', '휴가', '사흘', '째', '11', '일', '사회관', '계망', '서비스', '(', 'SNS', ')', '에서', '경선', '토론', '두', '“', '고등어', '멸치', '에게', '정책', '정견', '국민', '당원', '에게', '알릴', '기회', '드리', '것', '”', '라며', '“', '돌고래', '팀', '그게', '불편', '것', '”', '라고', '적', '었', '.', '오', '18', '일', '로', '확정', '된', '대선', '예비', '후보', '1', '차', '토론회', '두', '윤석열', '전', '검찰', '총장', '측', '에서', '불만', '내비치', '자', '반박', '나선', '것', '.', '대표', '대선', '흥행', '위해', '후보', '간', '토론회', '다양', '방식', '으로', '최대한', '적극', '적', '으로', '활용', '해야', '한다는', '입장', '.', '당', '대표', '후보', '시절', '던', '지난', '6', '월', '경향신문', '인터뷰', '에서', '그', '경선', '흥행', '위한', '아이디어', '로', '‘', '2', '대', '2', '팀', '토론', '배틀', '’', '등', '우선', '거론', '했', '.', '당시', '대표', '“', '이를테면', '홍준표', '의원', '이나', '유승민', '전', '의원', '팀', '꾸려', '토론', '나선다고', '상상', '해', '보', '라', '.', '토론', '준비', '과정', '부터', '보여', '줄', '수', '있', '많', '것', '”', '라며', '“', '같', '팀', '된', '대선', '경쟁자', '토론', '에서', '위기', '빠졌', '때', ',', '도움', '줄', '수', '있', '외면', '할', '수', '있', '.', '도움', '주', '척하', '며', '오히려', '공격', '선택지', '있', '”', '했', '.', '그', '과거', '자신', '출연', '했', '던', 'TV', '예능', '프로그램', '<', '지니어스', '>', '거론', '며', '“', '당시', '방송', '상금', '1', '억', '원', '걸', ',', '도전자', '내면', '보여', '줬', '다면', '대권', '걸', '펼치', '토론', '역시', '후보', '내면', '총체', '적', '으로', '보여', '주', '될', '것', '”', '라며', '“', '무조건', '흥행', '할', '수', '밖에', '없', '”', '강조', '했', '.', '경준', '위', '전날', '발표', '토론', '중심', '대선', '후보', '경선', '레이스', '같', '대표', '의중', '강하', '반영', '된', '것', '으로', '풀이', '된다', '.', '국민', '힘', '오', '18', '일', '25', '일', '두', '차례', '걸쳐', '예비', '경선', '정책', '토론회', '열', '이후', '1', '·', '2', '차', '컷오프', '봉사', '활동', '압박', '면접', ',', '방송사', '토론회', ',', '청년', '콜라보', '토론회', ',', '팀', '배틀', '토론회', '등', '진행할', '예정', '.', '2', '차례', '컷오프', '통과', '최종', '후보', '4', '인도', '마지막', '경선', '승리', '까지', '10', '차례', '토론회', '더', '거쳐야', '한다', '.', '최대', '20', '차례', '달하', '가혹', '토론', '레이스', '통해', '검증', '통과', '해야', '것', '.', '그러나', '토론회', '흥행', '효과', '두', '일각', '에서', '기존', '당내', '후보', '만', '빛', '본다는', '불만', '나온다', '.', '윤', '전', '총장', '이나', '최재형', '전', '감사원장', '처럼', '‘', '여의도', '토론', '’', '익숙', '않', '로서', '계속', '되', '토론회', '로', '인한', '부담', '작', '않', '.', '윤', '전', '총장', '이날', '국민', '힘', '재선', '의원', '간담회', '후', '기자', '만나', '18', '일', '토론회', '참석', '여부', '대해', '“', '공식', '요청', '안', '왔', '다고', '었', '”', '면서', '“', '요청', '오', '면', '캠프', '관계자', '논의', '해', '보', '겠', '”', '며', '확답', '피했', '.', '윤', '전', '총장', '캠프', '내부', '에서', '참석', '두', '여전히', '의견', '엇갈리', '있', '것', '으로', '전해졌', '.', '최', '전', '원장', '측', '토론회', '참석', '고려', '해', '보', '겠', '다는', '입장', '지만', ',', '토론회', '첫', '주제', '로', '경제', '분야', '선정', '된', '것', '두', '‘', '특정', '후보', '에게', '유리', '것', '아니', '냐', '’', '불만', '나온다', '.', '반면', '상대', '적', '으로', '토론', '익숙', '홍준표', '의원', ',', '유승민', '전', '의원', ',', '원희룡', '제주지사', '등', '18', '일', '토론회', '참석', '한다는', '방침', '굳혔', '.', '특히', '유', '전', '의원', '측', '대선', '캠프', '상황', '실장', '맡', '오신환', '전', '의원', '국회', '회견', '에서', '“', '토론', '많이', '본인', '많이', '알리', '것', '후보', '기본', '태도', '국민', '대한', '도리', '인데', ',', '그것', '거부', '회피', '는데', '어떤', '이유', '있', '는지', '잘', '모르', '겠', '”', '밝히', '등', '경쟁', '후보', '압박', '있', '.', '심진', '용', '기자', 'sim', '@', 'kyunghyang', '.', 'com'], ['조국', '전', '법무부', '장관', '배우자', '정경', '심', '동양', '대', '교수', '항소심', '재판부', '11', '일', '딸', '조민', '씨', '소위', '‘', '7', '대', '스펙', '’', '모두', '허위', '것', '으로', '판단', '면서', '조민', '씨', '다닌', '대학', '의학', '전문', '대학원', '에서', '어떤', '결론', '내릴', '주목', '된다', '.', '부산대', '입학', '전형', '공정', '관리', '위원회', '오', '18', '일', '전체', '회의', '열', '조', '씨', '입시', '비리', '의혹', '대한', '논의', '내용', '대학', '본부', '보', '할', '예정', '.', '위원회', '지난', '4', '월', '부터', '조사', '착수', '해', '매주', '회의', '했', '.', '지난달', '학교', '측', '‘', '조사', '할', '내용', '남', '았', '’', '이유', '로', '활동', '1', '개월', '연장', '했', '.', '1', ',', '2', '심', '재판부', '이견', '없이', '소위', '7', '대', '스펙', '허위', '로', '만들', '어', '졌', '다고', '판단', '만큼', '위원회', '판단', '적', '않', '영향', '것', '으로', '보인다', '.', '재판부', '이날', '부산대', '의학', '전문', '대학원', '입시', '제출', '된', '동양', '대', '총장', '표창장', '가짜', '로', '판단', '했', '는데', ',', '허위', '자료', '제출', '따른', '입학', '무효', '나', '취소', '가능', '성', '까지', '점쳐진다', '.', '다만', '위원회', '입학', '당시', '자료', '독자', '적', '으로', '판단', '해', '재판부', '다른', '판단', '내릴', '가능', '성', '완전히', '배제', '할', '수', '없', '.', '부산대', '공정', '관리', '위원회', '결정', '별개', '로', '조민', '씨', '졸업', '고려대', '자체', '조사', '나선다', '.', '고려대', '이날', '항소심', '결정', '나온', '직후', '“', '판결문', '확보', ',', '검토', '후', '본교', '학사', '운영', '규정', '의거', '해', '후속', '조치', '진행할', '것', '”', '라는', '입장', '내놨', '.', '당초', '고려대', '조', '씨', '입학', '관련', '해', '최종', '판결', '이후', '규정', '따른', '조치', '진행할', '것', '라는', '입장', '었', '.', '지만', '지난', '6', '월', '정진택', '고려대', '총장', '국회', '에서', '“', '2', '심', '판결', '사실', '관계', '확정', '되', '시점', '으로', '보', ',', '허위', '입시', '서류', '사실', '확정', '되', '면', '관련', '조치', '할', '것', '”', '라고', '밝히', '면서', '이날', '부터', '본격', '적', '조사', '착수', '할', '근거', '마련', '했', '.', '고려대', '부산대', '마찬가지', '로', '입학', '전형', '공정', '관리', '위원회', '꾸려', '조', '씨', '입학', '과정', '문제', '없', '었', '는지', '따질', '계획', '.', '다만', '학교', '안팎', '에서', '위원회', '구성', '부터', '심의', '최종', '결정', '까지', '적', '않', '시간', '소요', '될', '것', '으로', '내다봤', '.', '부산대', '조사', '별개', '로', '고려대', '결정', '조', '씨', '경력', '전반', '치명', '적', '영향', '미칠', '수', '있', '.', '당장', '고려대', '조', '씨', '입시', '문제', '있', '었', '다는', '판단', '내리', '되', '면', '입학', '취소', '처분', '까지', '가능', '해', '는데', ',', '이렇게', '되', '면', '이후', '전원', '입학', '의사', '국가', '고시', '까지', '도미노', '로', '영향', '미칠', '수', '있', '.', '만약', '고려대', '에서', '입학', '취소', '처분', '결정', '내리', '되', '면', '조', '씨', '최종', '학력', '고등학교', '졸업', '으로', '정정', '되', '기', '때문', '부산대', '전원', '별도', '사유', '없', '더라도', '자격', '미달', '로', '입학', '취소', '할', '근거', '마련', '할', '수', '있', '된다', '.', '교육부', '관계자', '“', '대학', '졸업', '취소', '된', '경우', '대학원', '입학', '및', '석사', '학위', '취득', '유지', '된', '경우', '알', '못한다', '”', '말', '했', '.', '앞서', '조', '씨', '2010', '학년도', '고려대', '수시', '모집', '세계선', '인재', '전형', '통해', '환경', '생태', '공학부', '입학', '해', '2014', '년', '졸업', '했', '이듬해', '부산대', '전원', '입학', ',', '올해', '1', '월', '의사', '국가', '고시', '합격', '했', '.', '이호준', '기자', 'hjlee', '@', 'kyunghyang', '.', 'com'], ['류', '호정', '정의당', '의원', '새로운', '‘', '쇼', '’', '궁리', '중', '라고', '했', '.', '이번', '엔', '강간죄', '개정', '위해서', '.', '오', '12', '일', '‘', '비동', '강간죄', '’', '발', '1', '년', '맞', '아', '여론', '환기', '할', '만', '아이디어', '고심', '있', '.', '류', '의원', '지난해', '8', '월', '‘', '1', '호', '법안', '’', '으로', '형법', '일부', '개정안', '발의', '했', '.', '형법', '제', '32', '장', '제목', '‘', '강간', '추행', '죄', '’', '에서', '‘', '성적', '침해', '죄', '’', '로', '바꾸', '제', '297', '조', '강간죄', '구성', '요건', '‘', '상대방', '동의', '없이', '’', '‘', '폭행', ',', '협박', '또는', '위계', ',', '위력', '으로', '’', '‘', '사람', '심신', '상실', '또는', '항거', '불능', '상태', '이용', '해', '’', '등', '으로', '세분', '화', '내용', '담', '았', '.', '현행법', '강간죄', '구성', '요건', '‘', '폭행', '또는', '협박', '’', '으로', '만', '규정', '있', '.', '법안', '1', '년', '째', '국회', '법제', '사법', '위원회', '계류', '중', '.', '류', '의원', '“', '강간죄', '개정', '성적', '자기', '결정', '권', '지키', '기', '위한', '것', '우리', '지켜', '주', '울타리', '더', '키우', '일', '”', '라며', '“', '‘', '쇼', '’', '라는', '말', '을지언정', '조금', '라도', '더', '사람', '에게', '알릴', '수', '있', '다면', '어떤', '퍼포먼스', '라도', '겠', '”', '말', '했', '.', '지난', '2', '일', '류', '의원', '만나', '강간죄', '개정', '대한', '생각', '었', '.', '-', '지난해', '강간죄', '개정안', '발의', '했', '때', '많', '주목', '받', '았었', '는데', ',', '지금', '모두', '관심', '에서', '멀', '어', '진', '것', '같', '습니다', '.', '“', '우선순위', '에서', '좀', '멀', '어', '진', '건', '맞', '것', '같', '아요', '.', '잊', '만', '면', '고위', '공직자', '성', '비리', '발생', '했', '는데', '정치', '권', '에서', '형사법', '적', '해결', '대해서', '별로', '얘기', '않', '것', '같', '아요', '.', '제', '대표', '발', '의자', '로서', '좀', '더', '신경', '썼', '어야', '했', '는데', ',', '송구', '스럽', '기', '합니다', '.', '이제', '발의', '1', '년', '됐으니', '다시', '열심히', '해야죠', '.', '”-', '최근', '국회의원', '45', '명', '에게', '친전', '(', '직접', '쓴', '편지', ')', '전달', '했', '다고', '었', '습니다', '.', '“', '.', '지난해', '총선', '전', '후보', '에게', '여성', '인권', '단체', '연합', '(', '‘', '강간죄', '’', '개정', '위한', '연대', '회의', ')', '에서', '강간죄', '구성', '요건', '상대방', '동의', '여부', '로', '바꾸', '것', '찬성', '는지', '질문', '했', '어요', '.', '후보', '1430', '명', '중', '204', '명', '찬성', '한다고', '답', '했', ',', '그', '중', '45', '명', '당선', '됐', '어요', '.', '그래서', '그때', '발의', '해', '주', '셨', '던', '분', '포함', '해서', '다시', '좀', '여론', '환기', '해', '보', '려고요', '.', '”-', '반응', '어땠', '나요', '.', '“', '잘', '왔', '다고', '면서', '만난', '자리', '에서', '바로', '서명', '해', '준', '분', '있', ',', '어떤', '분', '그런', '있', '었', '나', '가물가물', '시', '분', '있', '었', '고요', '.', '평소', '만나', '서', '말씀', '드리', '면', '바꿔야지', '공감', '많이', '해', '주', '시', '는데', '확실히', '지금', '우선', '순위', '에선', '좀', '밀려나', '있', '것', '같', '아요', '.', '정치인', '가장', '무서워', '여론', '거든요', '.', '결국', '여론', '모아', '내', '일', '중요', '다고', '생각', '있', '어요', '.', '법', '실제로', '통과', '되', '려면', '동료', '의원', '300', '분', '의견', '중요', '니까', '분', '씩', '잘', '말씀', '드리', '설득', '해야죠', '.', '”-', '지난해', '처음', '발의', '할', '때', '의원', '회관', '곳곳', '대자보', '붙였', '죠', '.', '수신인', '‘', '보좌관', '여러분', '께', '’', '라고', '쓴', '것', '인상', '적', '었', '습니다', '.', '“', '하루', '수십', '건', '법안', '발의', '되', '저', '조차', '그걸', '검토', '못해요', '.', '결국', '보좌관', '여러분', '어느', '정도', '필터링', '시', '거든요', '.', '법안', '보좌', '진분', '설득', '못하', '면', '의원', '에게', '닿', '수', '없', '겠', '구나', '생각', '했', '죠', '.', '그때', '친전', '300', '곳', '돌렸', '는데', ',', '우선', '저', '포함', '13', '명', '서명', '받', '아서', '발의', '했', '어요', '.', '(', '의원', '발의', '국회의원', '10', '명', '이상', '서명', '받', '으면', '할', '수', '있', '.', ')', '그', '직전', '‘', '원피스', '사건', '(', '류', '의원', '본', '회의장', '원피스', '입', '출석', '해', '화제', '된', '일', ')', '’', '있', '었', '거든요', '.', '제', '집', '중도', '높', '상황', '에서', '발의', '해서', '법안', '발의', '좀', '더', '주목', '받', '았', '던', '것', '같', '습니다', '.', '”■“', '계약서', '쓰', '란', '말', '냐고요', '?', '안', '써도', '됩니다', '.', '저', '그러', '기', '싫', '습니다', '”', '-', '뜨거운', '찬사', '함께', '비판', '받', '기', '했', '습니다', '.', '“', '강간죄', '개정', '대해선', '오해', '참', '많', '것', '같', '아요', '.', '‘', '상대방', '동의', '없이', '’', '라는', '문구', '때문', '‘', '그럼', '계약서', '라도', '쓰', '란', '말', '냐', '’', '라고', '거든요', '.', '계약서', '안', '써도', '됩니다', '.', '저', '그러', '기', '싫', '습니다', '.', '(', '웃음', ')', '‘', '동의', '없이', '’', '‘', '의사', '반하', '여', '’', '라는', '부분', '이미', '우리', '법률', '에서', '사용', '있', '개념', '거든요', '.', '성범죄', '처벌', '통해서', '보호', '해야', '법익', '성적', '자기결정권', '잖', '아요', '.', '강간죄', '처음', '(', '1953', '년', ')', '만들', '어', '이후', '성폭력', '특별법', '제정', '되', '면서', '1995', '년', '형법', '제', '32', '장', '제목', '‘', '정조', '관한', '죄', '’', '에서', '‘', '강간', '추행', '죄', '’', '로', '바뀌', '었', '어요', '.', '다시', '26', '년', '지나', '동안', '성범죄', '대한', '인식', '변했', '다양', '형태', '성범죄', '출연', '했', '어요', '.', '그', '맞', '법', '바꾸', '자는', '거', '죠', '.', '지금', '처럼', '폭행', '협박', '기준', '으로', '만', '강간죄', '판단', '면', '더', '이상', '피해자', '보호', '못한다고', '생각', '해요', '.', '강간죄', '개정', '면', '무고', '늘어날', '것', '라는', '우려', '있', '는데', ',', '사실', '무고죄', '성폭력', '보다', '다른', '부분', '에서', '더', '많이', '일어나', '있', '어요', '.', '만일', '무고', '문제', '라면', '무고죄', '개정', '해야지', '그런', '이유', '로', '강간죄', '개정', '말', '아야', '한다는', '건', '맞', '않', '것', '같', '습니다', '.', '”-', '실제', '개정', '위해선', '어떤', '노력', '필요', '할까요', '.', '“', '논란', '되', '든', '어쨌든', '오해', '풀', '뭘', '좀', '논의', '려면', '일단', '법안', '상정', '돼야', '는데', ',', '어떤', '법안', '상정', '해서', '논의', '할지', '교섭단체', '소속', '양당', '간사', '정하', '잖', '아요', '.', '그러니까', '더불', '어', '민주당', '국민', '힘', '두', '당', '우선', '관심', '순위', '않', '으면', '논의', '조차', '되', '않', '현실', '란', '말', '에요', '.', '정의당', '의원', '중', '엔', '법사', '위원', '없', '어요', '.', '그래서', '논의', '테이블', '로', '밀', '어', '넣', '것', '조차', '쉽', '않', '죠', '.', '그래서', '저', '같', '경우', '‘', '쇼', '’', '라는', '말', '을지언정', '어떤', '퍼포먼스', '라도', '해서', '국민', '적', '여론', '모으', '모인', '여론', '다시', '국회', '로', '보내', '서', '논의', '할', '수', '밖에', '없', '그런', '방식', '사용', '있', '어요', '.', '(', '류', '의원', '타투', '합법화', ',', '채용', '비리', '근절', '등', '입법', '운동', '과정', '에서', '등', '파인', '드레스', '영화', '‘', '킬', '빌', '’', '복장', '으로', '기자', '회견', '나와', '주목', '받', '았', '.', ')', '입법', '과제', '하나하나', '절박', '급한', '일', '잖아요', '.', '피해', '당사자', '분', '자신', '처지', '알리', '려면', '처절', '자신', '몸', '불태워야', '거든요', '.', '농성', '단식', '…', '그래도', '사람', '눈살', '만', '찌푸리', '경우', '많', '아요', '.', '그런데', '저', '욕', '먹', '더라도', '훨씬', '더', '많', '분', '에게', '현안', '알릴', '수', '있', '거든요', '.', '누구', '에게', '상처', '주', '않', '알릴', '수', '있', '다면', '얼마', '든지', '퍼포먼스', '할', '수', '있', '다고', '생각', '해요', '.', '”-', '구체', '적', '으로', '생각', '있', '방법', '있', '나요', '.', '“', '산업', '재해', '경우', '피해', '사례', '많이', '소개', '됐', '잖아요', '.', '그런데', '성폭력', '피해', '마냥', '그렇게', '알릴', '수', '없', '어요', '.', '굉장히', '예민', '부분', '있', '트라우마', '문제', '있', '고요', '.', '피해자', '입장', '에서', '이것', '얼마나', '끔찍', '일', '인지', '우리', '좀', '더', '공감', '할', '수', '있', '도록', '노력', '해야', '할', '것', '같', '아요', '.', '다른', '때', '보다', '훨씬', '더', '어려운', '것', '같', '아요', '.', '강간죄', '개정', '수십', '년', '동안', '여러분', '노력', '해', '온', '문제', '20', '대', '국회', '에서', '10', '개', '나', '법안', '발의', '됐', '다가', '폐기', '됐', '잖아요', '.', '중대', '재해', '기업', '처벌', '법', '정말', '어렵', '통과', '됐', '고요', '.', '안', '될', '거', '했', '지만', '결국', '된', '것', '처럼', '강간죄', '개정', '잘', '될', '거', '라고', '생각', '해요', '.', '-', '강간죄', '개정', '상대', '적', '으로', '여성', '문제', '라는', '편견', '있', '것', '같', '습니다', '.', '여성', '인권', '단체', '에서', '입법', '발의', '부탁', '니까', '어떤', '남성', '의원', '‘', '여성', '의원', '한테', '봐', '’', '라는', '말', '었', '다고', '해요', '.', '“', '상대', '적', '으로', '(', '남성', '의원', ')', '좀', '걸음', '떨어져서', '생각', '려는', '있', '긴', '죠', '.', '그런데', '성폭력', '피해자', '꼭', '여성', '만', '있', '건', '아니', '잖아요', '.', '남성', '더', '피해', '말', '못하', '경우', '있', '고요', '.', '국회의원', '결국', '시민', '대변', '해야', '역할', '해야', '건데', ',', '좀', '더', '책임', '있', '자세', '로', '법안', '대해야', '한다고', '생각', '해요', '.', '앞', '으로', '분', '분', '찾아다니', '면서', '설득', '함께', '해', '달', '라고', '노력', '할', '생각', '에요', '.', '”■', '쏟아지', '혐오', '잠겨', '익사', '않', '도록', '-', '최근', '안산', '선수', '숏', '컷', '두', '불거진', '소란', '두', '“', '페미', '같', '모습', '없', '”', '했', '죠', '.', '이런', '소란', '‘', '젠더', '갈등', '’', '이라고', '규정', '사람', '있', ',', '일부', '백래시', '과대', '대표', '된', '것', '라는', '분석', '있', '데', '어떻', '보', '나요', '.', '“', '안산', '선수', 'SNS', '나', '기사', '보', '면', '수만', '개', '댓글', '달려', '있', '어요', '.', '그걸', '무시', '할', '순', '없', '다고', '생각', '해요', '.', '우리', '그런', '악', '플', '로', '또', '많', '사람', '잃', '기', '했잖아요', '.', '지금', '메타', '버스', '등', '가상현실', '코앞', '있', '온라인', '오프라인', '구분', '없', '는데', ',', '익명', '방패', '숨', '어서', '혐오', '표현', '쏟', '아', '내', '건', '문제', '라고', '생각', '해요', '.', '눈앞', '대', '할', '수', '없', '얘기', '온라인', '에서', '면', '안', '되', '거', '죠', '.', '페미니즘', '라는', '단어', '좀', '악마', '화', '경향', '있', '여성', '타깃', '으로', '사이버', '불', '링', '(', '온라인', '상', '에서', '특정인', '지속', '적', '으로', '괴롭히', '것', ')', '경우', '많', '은데', ',', '그것', '지켜보', '또', '다른', '여성', '위축', '되', '않', '았', '으면', '좋', '겠', '어요', '.', '원피스', '가지', '뭐', '라고', '니까', '‘', '내', '옷', '이상', '한가', '?', '’', '생각', '머리', '짧', '걸로', '뭐', '라고', '니까', '‘', '머리', '짧', '으면', '안', '되', '나', '?', '’', '생각', '되', '.', '말', '안', '되', '논란', '만들', '어', '내', '잘못', '된', '건데', '평범', '여성', '자기', '검열', '된단', '말', '에요', '.', '당신', '이상', '않', ',', '틀리', '않', '았', ',', '위축', '되', '않', '았', '으면', '좋', '겠', '다고', '말', '해', '주', '싶', '어요', '.', '”-', '늘', '‘', '최', '연소', '’', '‘', '여성', '’', '등', '수식어', '로', '소개', '되', '면서', '과도', '관심', '비난', '노출', '되', '경우', '많', '았', '습니다', '.', '“', '이런', '저런', '일', '겪', '으면서', '젊', '여성', '대한', '혐오', '적나라', '전시', '것', '제', '할', '일', '라는', '생각', '더라고요', '.', '쏟아지', '악의', '익숙', '해져서', '살아가', '있', '구나', '싶', '기', '지만', ',', '그래도', '제', '그런', '악의', '잠겨서', '익사', '할', '순', '없', '잖아요', '.', '근거', '없', '비난', '쏟아지', '기', '지만', ',', '한편', '으론', '그', '로', '인해', '주목', '받', '의정', '활동', '하나', '라도', '알릴', '수', '있', '으니까요', '.', '저', '모든', '걸', '활용', '려고', '노력', '있', '어요', '.', '굳', '살', '생기', '것', '같', '아요', '.', '결국', '행동', '해야', '바뀌', '건데', '벽', '뚫', '나올', '수', '있', '도록', '…', '우리', '서로', '존재', '확인', '할', '수', '있', '도록', '자신감', '불어넣', '것', '제', '할', '일', '라고', '생각', '해요', '.', '같이', '행진', '해야죠', '.', '”', '장', '은교', '소통', '·', '젠더', '데스크', 'indi', '@', 'kyunghyang', '.', 'com'], ['현실', '(', '김예은', ')', '시인', '지망', '생', '.', '공모전', '낼', '마지막', '시', '편', '완성', '못해', '괴롭', '.', '헤어진', '연인', '민구', '(', '곽민규', ')', '그립', '.', '격렬', '아무것', '안', '싶', '.', '그래도', '시', '써야', '한다', '.', '어렵사리', '집', '나서', '니', ',', '첫', '사랑', '바람난', '옛', '친구', '부터', '같', '카페', '에서', '일', '아르바이트', '생', ',', '아', '선배', '전', '여자', '친구', '까지', '묘한', '만남', '연달', '아', '이어진다', '.', '12', '일', '개봉', '영화', '<', '생각', '여름', '>', '시답', '않', '빛난다', '.', '시', '통해', '만나', ',', '만남', '통해', '성장', '청춘', '여기', '담겼', '.', '영화', '현실', '쓴', '시', '다섯', '편', '(', '‘', '실존', '기쁨', '’', '‘', '오수', '’', '‘', '현장', '’', '‘', '무화과', '숲', '’', '‘', '소실', '’)', '등장', '한다', '.', '모두', '황인찬', '시인', '(', '33', ')', '작품', '.', '장편', '데뷔작', '고민', '던', '김종재', '감독', '동갑내기', '황', '시인', '시', '에서', '영감', '받', '아', '<', '생각', '여름', '>', '시나리오', '썼', '.', '시', '청춘', ',', '낯', '간지러울', '만큼', '풋풋', '조합', '그렇게', '탄생', '했', '.', '무더웠', '던', '지난', '9', '일', ',', '서울', '정동', '경향', '신문사', '에서', '차가운', '커피', '황', '시인', '<', '생각', '여름', '>', '이야기', '나눴', '.', '황', '시인', '“', '귀엽', '건강', '영화', '”', '라고', ',', '“', '그야말로', '시인', '영화', '”', '라고', '했', '.', '-', '시', '영화', '쓰인', '기분', '어떤', '가요', '.', '“', '민망', '감사', '죠', '.', '2019', '년', '4', '월', '쯤', '감독', '님', '께', '영화', '제', '시', '쓰', '싶', '다는', '메일', '받', '았', '어요', '.', '시나리오', '함께', '보내', '주', '셨', '는데', ',', '사실', '읽', '않', '답장', '보냈', '습니다', '.', '비슷', '제안', '올', '때', '마다', '따로', '판단', '않', '그냥', '쓰', '시', '라고', '해요', '.', '시', '다른', '창작', '활용', '한다는', '건', ',', '사실', '가장', '적극', '적', '독서', '행위', '잖', '아요', '.', '작가', '로서', '다른', '사람', '에게', '내', '글', '닿', '변화', '일으키', '것', '늘', '바라', '죠', '.', '”-', '영화', '어떻', '보', '셨', '어요', '.', '“', '귀엽', '건강', '영화', '라서', '일단', '좋', '았', '어요', '.', '현실', '사람', '계속', '만나', '시', '읽히', '면', ',', '시', '곧', '그', '사람', '이야기', '되', '구성', '잖아요', '.', '문학', '비롯', '해', '모든', '창작', '행위', '타인', '삶', '어떻게', '만나', '관계', '맺', '을지', '대한', '고민', '담', '있', '다고', '생각', '는데', ',', '무엇', '보다', '만남', '대화', '집중', '한다는', '것', '영화', '미덕', '라고', '봤', '어요', '.', '”-', '시', '힘', '무엇', '일까', '궁금', '해', '영화', '였', '어요', '.', '무기력', '누워', '만', '있', '던', '현실', '시', '쓰', '기', '위해', '사람', '만남', '어', '면서', '점차', '활력', '얻', '모습', '인상', '적', '었', '거든요', '.', '“', '저', '그렇', '글', '쓰', '사람', ',', '많', '경우', '‘', '가만히', '있', '애', '’', '죠', '.', '하지만', '작가', '된다는', '것', '사실', '더', '이상', '그렇게', '살', '않', '겠', '다는', '뜻', '기', '해요', '.', '실제로', '든', '텍스트', '통해서', '든', '다른', '사람', '에게', '말', '걸', '면서', ',', '원래', '나', '벗어나', '그', '이상', '글', '써내', '겠', '다는', '것', '잖아요', '.', '보잘것없', '인간', '글쓰기', '라는', '행위', '통해', '더', '나', '내', '되', '것', ',', '영화', '내용', '기', '지만', '시', '쓰', '일', '자체', '의미', '기', '해요', '.', '시인', '으로서', '참', '멋진', '이야기', '라는', '생각', '했', '어요', '.', '그야말로', '시인', '영화', '랄까요', '.', '”-', '시', '영화', '독특', '함', '불어넣', '기', '해요', '.', '영화', '유서', '쓰', '려다', '시', '된', '작품', '나오', '잖아요', ',', '‘', '실존', '기쁨', '’', '요', '.', '현실', '자신', '첫', '사랑', '빼앗', '아', '간', '옛', '친구', '주영', '(', '해인', ')', '증오', '며', '시', '써요', '.', '그런데', '영화', '시', ',', '새롭', '찾아온', '사랑', '앞', '주저', '면서', '설레', '어', '주영', '이야기', '로', '풀', '어', '죠', '.', '“', '저', '영화', '속', '장면', '이나', '관계', '묘하', '어긋나', '면서', '동시', '겹쳐져', '있', '다고', '생각', '했', '는데', ',', '시가', '중심', '있', '기', '때문', '발생', '뒤틀림', '아닌가', '싶', '어요', '.', '영화', '쓰인', '5', '편', '시', ',', '영화', '다섯', '개', '연', '으로', '구성', '된', '시', '처럼', '만든', '다는', '생각', '했', '죠', '.', '시', '연과', '연', '사이', '자연', '스럽', '이어지', '호흡', '있', '지만', ',', '갑자기', '뚝', '떨어지', '커다란', '단절', '있', '어요', '.', '연결', '단절', '함께', '일어나', '거', '죠', '.', '시', '통해', '내', '이야기', '곧', '남', '이야기', '되', '것', '같', '맥락', '으로', '봤', '고요', '.', '”-', '현실', '처음', '부터', '‘', '초원', '남자', '’', '라는', '시', '어떻게', '든', '완성', '려고', '매달리', '죠', '.', '하지만', '계속', '어려움', '겪', '어요', '.', '이유', '뭐', '라고', '보', '셨', '나요', '.', '“', '일단', '시', '너무', '별로', '라고', '생각', '긴', '했', '고요', '(', '웃음', ')', '.', '초반', '현실', '아무것', '안', '가만히', '누워', '있', '잖아요', '.', '그', '상태', '로', '제대로', '된', '시', '만들', '긴', '어려웠을', '거', '예요', '.', '창작', '다른', '사람', '만나', '그', '통해', '나', '바꾸', '과정', '니까요', '.', '‘', '초원', '남자', '’', '현실', '헤어진', '연인', '민구', '입장', '에서', '써', '보', '려던', '시', '예요', '.', '내', '다른', '사람', '되', '것', ',', '특히', '‘', '사랑', '너', '’', '되', '건', '언제나', '불', '가능', '일', '지만', '시', '계속', '해서', '꾸', '꿈', '기', '죠', '.', '불', '가능', '꿈', '다가가', '기', '위해', '실패', '거듭', '던', '현실', '여정', ',', '결국', '마지막', '완성', '시', '‘', '소실', '’', '통해', '정리', '된', '것', '아닌가', '싶', '었', '습니다', '.', '”-', '현실', '앞', '으로', '어떻게', '될까요', '?', '시인', '님', '작품', '로', '공모전', '응모', '했', '는데요', '.', '“', '아마', '그', '작품', '로', '등단', '못', '했', '거', '예요', '.', '그렇게', '중구난방', '으로', '섞', '어', '보내', '서', '될', '수', '없', '어요', '.', '제', '신', '인상', '심사', '위원', '었', '다면', '떨어뜨렸', '거', '예요', '.', '오디션', '용', '노래', '있', '듯이', ',', '공모전', '맞', '적절', '구성', '으로', '냈어야', '된다고', '봅니다', '(', '웃음', ')', '.', '등단', '별개', '로', '현실', '앞', '으로', '계속', '술', '먹', '자고', '징징대', ',', '피하', '사람', '붙잡', '으며', '타인', '만남', '어', '갈', '것', '같', '아요', '.', '그렇게', '성장', '극복', '계속', '되', '겠', '죠', '.', '”-', '영화', '속', '청춘', '성장', '아주', '소소', '합니다', '.', '공정', '라는', '정치', '적', '수사', 'MZ', '세대', '라는', '마케팅', '용어', '다른', '결의', '청춘', '영화', '있', '것', '같', '아요', '.', '“', '글', '쓴다는', '것', '사실', '취업', '시장', '라는', '싸움판', '에서', '패배자', '로', '시작', '한다는', '뜻', '죠', '.', '‘', '나', '싸우', '않', '다른', '것', '할', '거', '야', '’', '라는', '생각', '으로', '움직이', '소수', ',', '그렇지만', '아주', '적', '지만은', '않', '청춘', '이야기', '영화', '담겼', '다는', '생각', '했', '습니다', '.', '”', '김지혜', '기자', 'kimg', '@', 'kyunghyang', '.', 'com'], ['법관', '에게', '직장', '내', '갑', '질', '및', '괴롭힘', '당했', '다며', '도움', '호소', '법원', '직원', '글', '법원', '내부', '통신망', '올라온', '것', '으로', '확인', '됐', '.', '노동자', '스스로', '목숨', '끊', '등', '직장', '에서', '갑', '질', '·', '괴롭힘', '사회', '적', '논란', '으로', '불거진', '상황', '에서', '법원', '내', '에서', '고발', '나온', '것', '.', '법원', '사실', '관계', '조사', '중', '.', '11', '일', '경향신문', '취재', '결과', ',', '인천', '지역', '법원', '에서', '근무', '직원', 'A', '씨', '지난', '8', '일', '법원', '내부', '통신망', '“', '법원', '생활', '너무', '힘듭니다', '.', '정말', '도움', '필요', '합니다', '”', '라는', '제목', '글', '올렸', '.', 'A', '씨', '“', '지금', '까지', '법원', '생활', '너무', '힘들', '어', '간절', '도움', '필요', '상황', '기에', '어떻게', '해야', '될지', '몰라', '글', '올린다', '”', '며', '지난', '3', '년', '간', 'B', '판사', '지시', '거나', '요구', '내용', '적', '었', '.', 'A', '씨', '9', '급', '실무', '관', ',', 'B', '판사', '여러', '차례', '법원장', '지낸', '원로', '법관', '.', '근로', '기준', '법', '직장', '에서', '지위', '나', '관계', '우위', '이용해', '업무상', '적정', '범위', '넘', '어', '노동자', '에게', '정신', '적', '고통', '주', '거나', '근무', '환경', '악화', '시키', '행위', '직장', '내', '괴롭힘', '라고', '규정', '한다', '.', '정부', '공공', '분야', '갑', '질', '근절', '가이드라인', '우월', '적', '지위', '이용', '해', '사', '적', '이익', '추구', '것', '갑', '질', '유형', '으로', '분류', '한다', '.', '법원', '노조', '법원', '공무원', '법관', '에게', '심부름', '등', '사', '적', '노무', '제공', '않', '는다는', '내용', '단체', '협약', '포함', '시키', '기', '했', '.', 'A', '씨', '글', '따르', '면', ',', '직원', '요일', '별', '로', '당번', '맡', '방식', '으로', '일', '주일', '1', '번', '선택', '권', '없이', 'B', '판사', '식사', '해야', '했', '.', '식사', '시간', '성경', '공부', ',', '헌금', '내', '야', '했', '.', 'B', '판사', '방학', '으로', '정한', '때', '지정', '당번', '식사', '함께', '했', '.', '일정', '기간', '동안', 'A', '씨', 'B', '판사', '차량', '자비', '로', '자동', '세차', '맡긴', '적', '있', '었', '.', 'B', '판사', '차량', '상태', '지적', '해', '자동', '세차', '않', '날', '겨울', '라고', '더라도', '차량', '공터', '나', '마트', '주차장', '으로', '가져가', '물걸레', '로', '직접', '세차', '했', '.', 'A', '씨', '“', 'B', '판사', '주말', '차량', '사용', '기', '때문', '오전', '비나', '눈', '오', '거나', '당일', '비', '온다는', '예보', '있', '어도', '주말', '전날', '무조건', '세차', '해야', '했', '”', '며', '“', '세차', '돼', '있', '않', '으면', 'B', '판사', '왜', '세차', '않', '았', '는지', '지적', '했', '”', '했', '.', '주유', '3', '분', '2', '이상', '돼', '있', '않', '으면', '왜', '안', '했', '냐는', '지적', '받', '았', '.', 'A', '씨', '차량', '운전', '할', '때', '길', '막히', '거나', ',', '신호', '걸리', '면', '‘', '왜', '이쪽', '길', '로', '느냐', '’', '‘', '빨리', '운전', '라', '’', '등', 'B', '판사', '지시', '받', '았', '.', 'A', '씨', '“', '오른쪽', '팔꿈치', '부상', '으로', '팔', '움직이', '기', '힘든', '상황', '라', '반소매', '셔츠', '팔꿈치', '보호', '대', '까지', '착용', '손', '으로', '운전', '했', '는데', ',', '(', 'B', '판사', ')', '왜', '손', '으로', '운전', '냐고', '지적', '며', '양손', '으로', '운전', '라고', '지시', '했', '”', '했', '.', 'B', '판사', '차량', '탑승', '할', '때', '문', '열', '어', '주', ',', '비', '오', '면', '우산', '차량', '까지', '안내', '해야', '했', '다고', 'A', '씨', '설명', '했', '.', 'A', '씨', '“', '같', '상황', '현재', '진행', '중', '것', '대부분', '지만', ',', '별다른', '조치', '취해', '않', '있', '”', '며', '“', '삶', '있', '어', '마지막', '선택', '까지', '생각', '했', '던', '중', '라', '글', '올려', '도움', '요청', '한다', '”', '했', '.', '해당', '글', '직장', '내', '갑', '질', '괴롭힘', '분노', '며', 'A', '씨', '격려', '댓글', '수', '십', '개', '달렸', '.', '인천', '지방', '법원', '부천', '지원', '“', '글', '게재', '된', '당일', '직원', 'A', '씨', '다른', '법원', '으로', '배치', '해', 'B', '판사', '분리', '했', '”', '며', '“', '구체', '적', '사실', '관계', '조사', '있', '”', '밝혔', '.', '박인', '창', '전국', '공무원', '노조', '법원', '본부', '인천', '지부장', '“', 'A', '씨', '분리', '됐', '지만', ',', '같', '상황', '겪', '었', '다른', '직원', '여전히', 'B', '판사', '함께', '근무', '있', '”', '며', '“', '(', '조사', '등', ')', '신속', '해', '달', '라고', '요청', '있', '”', '했', '.', '이인섭', '본부', '장', '“', '법관', '권위', '의식', '갖', '직원', '에게', '사', '적', '노무', '시키', '경우', '예전', '보다', '많이', '사라졌', '지만', '아직', '잔재', '해', '있', '”', '며', '“', '법원', '공무원', '판사', '잡일', '이나', '뒤치닥거리', '라고', '채용', '된', '것', '아니', '기', '때문', '법원', '조직', '문화', '개선', '필요', '”', '말', '했', '.', '오진호', '직', '장갑', '질', '119', '집행', '위원장', '“', 'B', '판사', '행위', '사실', '라면', '정부', '예시', '공공', '기관', '갑', '질', '유형', '해당', '할', '뿐', '만', '아니', '라', '파견', '·', '해임', '등', '중징계', '받', '실제', '사례', '버금가', '행위', '”', '라며', '“', '이번', '기회', '보수', '적', '법원', '갑', '질', '행태', '대해', '전수', '조사', '일벌', '백계', '이뤄져야', '한다', '”', '말', '했', '.', '이혜리', '기자', 'lhr', '@', 'kyunghyang', '.', 'com'], ['코로나', '19', '신규', '확진', '자', '11', '일', '사상', '처음', '으로', '2000', '명', '돌파', '자', '여권', '‘', '노심초사', '’', '며', '난처', '분위기', '역력', '.', '야권', '“', '대통령', '국민', '에게', '사과', '부터', '해야', '한다', '”', '“', '백신', '부족', '사태', '대해', '국정', '조사', '해야', '한다', '”', '며', '공세', '끌어올렸', '.', '윤호중', '원내대표', '11', '일', '최고', '위원회', '에서', '“', '코로나', '상황', '위태', '롭', '”', '며', '“', '모더', '나', '백신', '공급', '차질', '로', '국민', '께', '심려', '끼쳐', '송구', '마음', '.', '집단', '면역', '목표', '차질', '없', '도록', '노력', '겠', '”', '말', '했', '.', '이용빈', '대변인', '최고위', '이후', '브리핑', '에서', '“', '방역', '상황', '엄중', '.', '국민', '께서', '불안', '느낄', '거', '라', '생각', '한다', '”', '며', '“', 'KF', '94', '마스크', '전부', '사용', '시', '방역', '빈틈', '메우', '길', '라고', '생각', '한다', '”', '당부', '했', '.', '윤', '원내대표', '정부', '내년도', '예산안', '편성', '관련', '해', '“', '소상', '공인', '·', '자영업', '자', '올해', '4', '분기', '손실', '내년', '예산안', '으로', '내년', '초', '지급', '되', '기', '때문', '충분히', '편성', '돼야', '한다', '”', '며', '“', '일부', '손실', '보상', '수준', '으로', '안', '되', '피해', '회복', '충분', '진짜', '손실', '보상', '이루어질', '수', '있', '도록', '적극', '나서', '야', '한다', '”', '말', '했', '.', '코로나', '19', '피해', '상황', '지원', '더', '재원', '들이', '식', '으로', '민심', '가라앉히', '데', '집중', '겠', '다는', '의지', '보인', '것', '.', '그러', '면서', '전광훈', '사랑', '제일', '교회', '목사', '대표', '국민', '혁명당', '오', '8', '·', '15', '광복절', '서울', '도심', '에서', '‘', '1', '걷', '기', '대회', '’', '예고', '것', '관련', '해선', '“', '코로나', '4', '차', '대유행', '불길', '복판', '으로', '가스통', '메', '들어가', '겠', '다는', '격', '”', '라고', '맹공', '나섰', '.', '윤', '원내대표', '“', '1', '시위', '빙자', '광복절', '불법', '집회', '”', '라며', '“', '국민', '안전', '민생', '경제', '위험', '빠뜨리', '방역', '불복종', '선동', '즉각', '중단', '오세훈', '서울', '시장', '무관용', '원칙', '으로', '엄정', '대응', '라', '”', '촉구', '했', '.', '국민', '힘', '“', '백신', '공급', '엉터리', '.', '지금', '국민', '‘', '멘붕', '(', '멘탈', '붕괴', ')', '’', '상태', '빠져', '있', '”', '“', '국정', '조사', '해야', '한다', '”', '며', '현', '정부', '강하', '비판', '했', '.', '김기현', '원내대표', '이날', 'BBS', '라디오', '인터뷰', '에서', '“', '코로나', '터널', '곧', '끝난다고', '말씀', '셨', '던', '분', '대통령', '아니', '냐', '.', '그런데', '코로나', '터널', '더', '깊', '어', '있', '”', '며', '“', '백신', '전혀', '걱정', '말', '라고', '큰', '소리', '쳤', '는데', '백신', '접종', '기간', '4', '주', '에서', '6', '주로', '늘리', '겠', '다고', ',', '수시로', '먹통', '돼서', '예약', '안', '되', '있', '”', '비판', '했', '.', '김', '원내대표', '“', '접종', '률', '로', '따지', '면', 'OECD', '38', '개국', '중', '꼴찌', '.', '콜롬비아', '보다', '못', '”', '며', '“', '이게', '대한민국', '위상', '냐', '”', '반문', '했', '.', '그러', '면서', '“', '대통령', '죄송', '합니다', '라고', '국민', '에게', '사과', '부터', '해야', '것', '아니', '냐', '”', '목소리', '높였', '.', '국민', '힘', '대선', '주자', '유승민', '전', '의원', '“', '백신', '부족', '사태', '대해', '국정', '조사', '조속히', '실시', '할', '것', '강력히', '요구', '한다', '”', '며', '비판', '가세', '했', '.', '유', '전', '의원', '자신', '사회관', '계망', '서비스', '(', 'SNS', ')', '“', '문', '대통령', '정부', '양치기', '소년', '처럼', '거짓', '으로', '국민', '기만', '해', '왔', '”', '며', '“', '대통령', '‘', '세계', '모두', '겪', '일', '’', '라는', '어이', '없', '말', '로', '국민', '화', '만', '돋우', ',', '아무', '믿', '않', '는데', '집단', '면역', '곧', '이뤄질', '것', '처럼', '허풍', '치', '있', '”', '비판', '했', '.', '유', '전', '의원', '“', '이제', '백신', '부족', '이유', '무엇', '인지', ',', '누가', '잘못', '해서', '지경', '되', '었', '는지', '진상', '규명', '책임', '물', '때', '왔', '”', '며', '국정', '조사', '촉구', '했', '.', '유설', '희', '기자', 'sorry', '@', 'kyunghyang', '.', 'com'], ['상점', '밖', '색색', '깔', '끈', '빼곡', '쌓여', '있', '.', '저', '다양', '끈', '어디', '쓰이', '걸까', '.', '어디', '쓰', '건', '이어주', ',', '묶', '어', '주', ',', '잡', '아', '주', ',', '조여', '주', '끈', '이로움', '새삼', '생각', '된다', '.', '강윤중', '기자', 'yaja', '@', 'kyunghyang', '.', 'com'], ['서울', '도심', '에서', '대', '규모', '집회', '주도', '해', '구속', '영장', '청구', '된', '양경수', '민주', '노총', '위원장', '11', '일', '오전', '10', '시', '30', '분', '법원', '에서', '열리', '영장', '심사', '출석', '않', '았', '.', '대신', '같', '시각', '기자', '회견', '열', '“', '문재인', '정부', ',', '민주당', '정권', '촛불', '배신', '했', '”', '입장', '냈', '.', '양', '위원장', '이날', '서울', '중구', '민주', '노총', '사무실', '에서', '기자', '회견', '열', '“', '오늘', '구속', '영장', '심사', '출석', '않', '는다', '”', '며', '“', '법원', '출석', '해', '구속', '영장', '적절', '성', '여부', '따지', '것', '보다', '당장', '노동자', '받', '고통', '해결', '것', '더욱', '절박', '다고', '판단', '했', '기', '때문', '”', '라고', '밝혔', '.', '양', '위원장', '정부', '함께', '노동자', '중심', '으로', '실질', '적', '방역', '대책', '노동', '정책', '논의', '싶', '었', '지만', ',', '정부', '집회', '문제삼', '으며', '민주', '노총', '방역', '실패', '대한', '책임', '전가', '있', '다고', '지적', '했', '.', '특히', '국정', '농단', '사건', '으로', '징역형', '받', '수감', '된', '이재용', '삼성전자', '부회장', '대한', '가석방', '허가', '언급', '며', '정부', '강하', '비판', '했', '.', '양', '위원장', '“', '구치소', '비좁', '아서', '이재용', '석방', '한다며', '그', '자리', '민주', '노총', '에게', '대신', '라고', '한다', '”', '며', '“', '재벌', '손잡', '노동자', '목소리', '막', '겠', '다는', '것', '냐', ',', '삼성', '두렵', '노동자', '분노', '무섭', '않', '느냐', '”', '했', '.', '어', '“', '불', '평등', '세상', '바꾸', '기', '위한', '민주', '노총', '총파업', '투쟁', '차질', '없이', '준비', '할', '것', ',', '탄압', '으로', '110', '만', '노동자', '꺾', '수', '있', '다는', '환상', '버리', '기', '바란다', '”', '며', '“', '노동자', '·', '민중', '에게', '등', '돌린', '정권', '결코', '성공', '할', '수', '없', '”', '했', '.', '양', '위원장', '“', '노동자', '대회', '관련', '사실', '관계', '이미', '충분히', '소명', '했', '지만', ',', '검찰', '하반기', '민주', '노총', '총파업', '투쟁', '등', '집회', '할', '것', '냐고', '지속', '적', '으로', '캐물', '었', '”', '며', '“', '불', '평등', '사회', '바로잡', '기', '위한', '문제', '제기', '(', '수사', '당국', ')', '재범', '우려', '있', '다고', '포장', '것', '부당', '”', '했', '.', '양', '위원장', '지난달', '3', '일', '서울', '종로', '일대', '에서', '8000', '여', '명', '모인', '노동자', '대회', '등', '주도', '혐의', '(', '집회', '및', '시위', '관한', '법률', '·', '감염병', '예방법', '위반', '등', ')', '받', '있', '.', '경찰', '지난', '6', '일', '구속', '영장', '신청', '했', ',', '검찰', '9', '일', '청구', '했', '.', '피의자', '양', '위원장', '변호인', '모두', '구속', '영장', '심사', '불출석', '함', '따라', '서울', '중앙', '지법', '심사', '진행', '않', '연기', '했', '.', '심사', '일정', '향후', '다시', '정해질', '것', '으로', '보인다', '.', '이혜리', '기자', 'lhr', '@', 'kyunghyang', '.', 'com'], ['서울시', '코로나', '19', '같', '감염병', '발생', '시', '즉각', '대응', '가능', '도록', '시립', '서울', '의료', '원', '응급', '의료', '센터', '신축', '했', '다고', '11', '일', '밝혔', '.', '새', '응급', '의료', '센터', '내부', '준비', '작업', '거쳐', '이르', '면', '오', '9', '월', '말', '정식', '운영', '시작', '한다', '.', '서울', '의료', '원', '응급', '의료', '센터', '서울', '의료', '원', '본', '관동', '옆', '연면적', '4950', '㎡,', '지상', '5', '층', '규모', '별도', '건물', '로', '신축', '됐', '.', '기존', '응급', '환자', '처치', '치료', '기능', '유지', '면서', '감염병', '발생', '시', '즉각', '대응', '가능', '음압', '병상', '새롭', '설치', '등', '대대', '적', '시설', '보강', '실시', '했', '.', '고압', '산소', '치료실', ',', '중환자실', '등', '중증', '·', '특수', '환자', '위한', '치료', '시설', '갖췄', '.', '병상', '규모', '6', '개', '음압', '병상', '포함', '해', '기존', '22', '병', '상', '약', '3', '배', '규모', '61', '병상', '으로', '확대', '된다', '.', '이번', '신축', '으로', '서울', '의료', '원', '내', '음압', '병', '상', '수', '19', '개', '로', '늘어난다', '.', '감염병', '의심', '되', '응급', '환자', '응급', '의료', '센터', '에서', '선제', '적', '으로', '격리', '해', '감염', '확산', '가능', '성', '낮출', '수', '있', '것', '으로', '시', '기대', '했', '.', '감염병', '우려', '환자', '대한', '치료', '보다', '신속히', '대응', '할', '수', '있', '것', '으로', '내다봤', '.', '본', '관동', '내', '위치', '기존', '응급', '의료', '센터', '신규', '응급', '의료', '센터', '본격', '적', '으로', '운영', '되', '면', '새', '건물', '로', '이전', '된다', '.', '각', '층', '별', '기능', '세분', '화', '했', '.', '1', '층', '응급', '환자', '·', '중증', '환자', '·', '소아', '환자', '등', '위한', '응급', '의료', '공간', '27', '병상', '구축', '한편', '2', '층', 'MRI', '실과', '특수', '환자', '원활', '치료', '위한', '고압', '산소', '치료실', '구축', '했', '.', '3', '층', '중환자실', '12', '병상', '등', '전용', '치료', '시설', '갖춰', '신속', '집중', '적', '치료', '담당', '한다', '.', '4', '층', '일반', '병실', '22', '병', '상', ',', '5', '층', '관리', '공간', '으로', '각각', '구성', '된다', '.', '이정화', '서울시', '도시', '기반', '시설', '본부', '장', '“', '확장', '·', '이전', '설치', '되', '서울', '의료', '원', '응급', '의료', '센터', '감염', '관리', '특화', '된', '시설', '로', '설계', '됐', '”', '면서', '“', '공공', '의료', '기관', '서울', '의료', '원', '코로나', '19', '등', '감염병', '확산', '신속', '대응', ',', '서울', '동북', '권역', '거점', '병원', '으로서', '역할', '강화', '할', '것', '으로', '기대', '한다', '”', '말', '했', '.', '류인하', '기자', 'acha', '@', 'kyunghyang', '.', 'com'], ['현대', '백화점', '와인', '선물', '세트', '패키지', '종이', '소재', '로', '바꾼다', '.', '포장재', '폐기물', '발생', '줄이', '자원', '재활용률', '높이', '기', '위해서', '.', '현대', '백화점', '오', '13', '일', '부터', '와인', '(', '2', '본', '입', ')', '선물', '용', '포장', '패키지', '재', '활용', '쉬운', '종이', '소재', '로', '교체', '한다고', '11', '일', '밝혔', '.', '기존', '와인', '협', '력사', '별', '로', '가죽', '이나', '천', ',', '폴리프로필렌', '(', 'PP', ')', '등', '플라스틱', '소재', '로', '제작', '포장', '용', '패키지', '사용', '했', '.', '현대', '백화점', '오', '13', '일', '부터', '시작', '되', '추석', '선물', '세트', '예약', '판매', '기간', '와인', '선물', '세트', '패키지', '종이', '로', '교체', '해', '나가', ',', '와인', '협', '력사', '포장재', '재고', '소진', '되', '데', '로', '점진', '적', '으로', '종이', '소재', '확대', '해', '나간다는', '계획', '.', '현대', '백화점', '관계자', '“', '종이', '소재', '패키지', '선물', '수요', '가장', '높', '2', '본', '입', '포장', '우선', '적용', '키로', '했', '”', '며', '“', '충격', '방지', '위해', '플라스틱', '소재', '완충', '패드', '사용', '1', '본', '입', '포장', '향후', '친환경', '소재', '로', '교체', '해', '나갈', '계획', '”', '라고', '말', '했', '.', '앞서', '현대', '백화점', '지난해', '부터', '명절', '과일', '선물', '세트', '포장재', '모두', '종이', '로', '교체', '선물', '패키지', '도입', '했', '.', '선물', '상자', '내부', '에서', '과일', '움직이', '않', '도록', '고정', '틀', ',', '과일', '윗면', '충격', '줄여', '주', '완충', '패드', ',', '과일', '서로', '부딪혀', '흠', '생기', '않', '도록', '개별', '로', '감싸', '완충', '받침', '등', '과일', '선물', '세트', '사용', '되', '플라스틱', '소재', '내부', '포장재', '종이', '소재', '로', '교체', '했', '.', '현대', '백화점', '관계자', '“', '이전', '선물', '준비', '할', '때', '고급', '스럽', '포장', '된', '세트', '대한', '선호도', '높', '았', '지만', '최근', '‘', '필', '(', '必', ')', '환경', '트렌드', '’', '자리', '잡', '으면서', '친환경', '포장재', '사용', '했', '는지', '확인', '구매', '고객', '늘', '있', '”', '면서', '“', '고객', '보다', '쉽', '자원', '절감', '및', '환경', '보호', '동참', '할', '수', '있', '도록', '노력', '겠', '”', '말', '했', '.', '정유미', '기자', 'youme', '@', 'kyunghyang', '.', 'com'], ['중국', '북서부', '사막', '지대', '에서', '중국', '러시아', '대', '규모', '합동', '군사', '훈련', '사흘', '째', '진행', '중', '.', '훈련', '중국', '인민해방군', '최신', '무기', '전술', '시험장', '되', '있', '.', '조', '바이든', '미국', '정부', '북대서양', '조약', '기구', '(', '나토', ')', '쿼드', '앞세워', '중국', '압박', '상황', '에서', '중', '·', '러', '간', '군사', '적', '결속', '더욱', '단단', '해', '있', '.', '중국', '러시아', '지난', '9', '일', '부터', '중국', '닝샤', '후이족', '(', '寧', '夏', '回族', ')', '자치구', '칭퉁샤', '(', '靑銅', '峽', ')', '전술', '훈련', '기지', '에서', '합동', '군사', '훈련', '‘', '서부', '연합', '-', '2021', '’', '실시', '있', '.', '중국', '서부', '전구', '러시아', '동부', '군', '소속', '군인', '1', '만', '여', '명', '참가', '며', '기간', '13', '일', '까지', '.', '중', '·', '러', '양국', '2005', '년', '부터', '매년', '해상', '합동', '훈련', '실시', '있', '으며', ',', '2018', '년', '부터', '비', '정기', '적', '으로', '합동', '군사', '훈련', '실시', '있', '.', '하지만', '중국', '내륙', '에서', '외국', '군대', '불러', '대', '규모', '로', '합동', '훈련', '실시', '것', '이번', '처음', '.', '코로나', '19', '확산', '이후', '중국', '에서', '처음', '열리', '합동', '군사', '훈련', '기', '.', '중국', '관영', '매체', '환구', '시보', '“', '칭퉁샤', '훈련기', '러시아군', '공개', '것', '처음', '”', '라며', '“', '양국', '신뢰', '그', '어느', '때', '보다', '높', '다는', '것', '의미', '한다', '”', '전했', '.', '러시아', '경제', '신문', '코', '메르', '상', '트', '“', '러시아군', '합동', '훈련', '에서', '중국', '군', '무기', '사용', '것', '처음', '”', '라고', '전했', '.', '베이징', '군사', '전문가', '저우', '천밍', '(', '周', '晨', '鳴', ')', '“', '러시아군', '인민해방군', '연합', '작전', '능력', '향상', '데', '확실히', '도움', '될', '것', '”', '라고', '사우스', '차이나', '모닝', '포스트', '(', 'SCMP', ')', '말', '했', '.', '훈련', '중국', '첨단', '무기', '대거', '등장', '했', '.', '중국', '관영', 'CCTV', '따르', '면', '훈련', '사용', '되', '무기', '가운데', '81', '.', '6', '%', '신', '형', '.', '중국', '최신', '스텔스', '전투기', 'J', '-', '20', '조기', '경보기', 'KJ', '-', '500', ',', 'J', '-', '16', '비롯', '정찰', '·', '전투', '무인기', '등', '대표', '적', '.', '헬기', '초저', '공', '은닉', '돌진', ',', '대', '규모', '낙하산', '강하', ',', '장거리', '정밀', '타격', ',', '드론', '정밀', '타격', '등', '전술', '훈련', '내용', '포함', '됐', '.', '대만', '해군사관학교', '교관', '출신', '군사', '전문가', '루리', '시', '(', '呂', '禮', '詩', ')', '“', '미국', '다른', '서방', '국', '현대', '전투', '개념', '에서', '영감', '얻', '것', '”', '라며', '“', '러시아군', '실전', '경험', '더', '많', '다는', '점', '감안', '면', '이번', '훈련', '으로', '수십', '년', '간', '진행', '된', '중국', '군', '현대', '화', '작업', '현대전', '통하', '는지', '시험대', '될', '것', '”', '라고', 'SCMP', '전했', '.', '지난달', '러시아', '별도', '로', '아프가니스탄', '국경', '에서', '20', '㎞', '떨어진', '타지키스탄', '하르', '브', '-', '마이', '돈', '훈련장', '에서', '타자키', '스탄', ',', '우즈베키스탄', '군', '함께', '군사', '훈련', '진행', '했', '.', '이번', '훈련', '두', '중', '·', '러', '양국', '군사', '공조', '준', '동맹', '수준', '으로', '향하', '있', '음', '보여', '준다는', '평가', '나온다', '.', '미국', '외교', '안보', '전문지', '더', '디플로맷', '“', '중', '·', '러', '동반자', '관계', '보다', '명확히', '보여준', '훈련', '”', '라고', '평했', '.', '파이낸셜', '타임스', '(', 'FT', ')', '“', '전통', '적', '으로', '중', '·', '러', '관계', '러시아', '군사력', '중국', '지갑', '결합', '식', '었', '으나', '이번', '훈련', '으로', '양국', '결합', '그', '이상', '될', '것', '”', '라고', '분석', '했', '.', '반미', '공조', '함께', '아프가니스탄', '대응', '란', '의미', '담긴', '훈련', '으로', '평가', '된다', '.', '앞서', '관영', '글로벌', '타임스', '보도', '에서', '중국', '외교', '전문가', '이번', '훈련', '목적', '관련', '해', '“', '미국', '아프간', '에서', '무', '책임', '철수', '함', '으로써', '이웃', '국가', '짐', '남긴', '것', '주시', '면서', '메이저', '파워', '로서', '중국', '러시아', '지역', '평화', '안정', '지키', '테러리스트', '유입', '억제', '데', '공동', '역할', '할', '필요', '성', '있', '”', '밝혔', '.', '다만', '이번', '훈련', '미국', '직접', '적', '충돌', '염두', '둔', '훈련', '아니', '라는', '평가', '.', '김흥규', '아주', '대', '미', '중', '정책', '연구', '소장', '“', '중국', '미국', '우방국', '동원', '해', '압박', '상황', '충분히', '견뎌', '내', '있', '다고', '과시', '려', '했', '”', '면서', '“', '(', '군사력', '과시', '현장', '으로', ')', '미국', '우방국', '직접', '적', '충돌', '가능', '성', '높', '남중국해', '대신', '중앙아시아', '택해', '갈등', '골', '너무', '커', '않', '도록', '관리', '려는', '모습', '보여', '주', '있', '”', '분석', '했', '.', '리처드', '와이츠', '허드슨', '연구소', '정치', '군사', '분석', '센터', '소장', '“', '중국', '러시아', '변경', '지대', '에서', '열리', '합동', '군사', '훈련', '불참', '해', '나토', '자극', '할', '수', '있', '다는', '우려', '영리', '피해', '갔', '”', 'FT', '말', '했', '.', '박은하', '기자', 'eunha', '999', '@', 'kyunghyang', '.', 'com'], ['충북', '충주시', '공식', '유튜브', '채널', '‘', '충', 'TV', '’', '전국', '지자체', '에서', '운영', '공식', '유튜브', '채널', '중', '최다', '구독자', '수', '기록', '했', '.', '충주시', '유튜브', '채널', '‘', '충', 'TV', '’', '구독자', '수', '20', '만', '명', '돌파', '했', '다고', '11', '일', '밝혔', '.', '전국', '지자체', '에서', '운영', '공식', '유튜브', '채널', '중', '구독자', '수', '20', '만', '명', '돌파', '것', '이번', '처음', '.', '두', '번', '째', '로', '많', '유튜브', '구독자', '수', '보유', '있', '지자체', '서울시', '로', '이날', '현재', '15', '만', '5000', '명', '정도', '.', '충주시', '충', 'TV', '운영', '김선태', '주무관', '역할', '유튜브', '채널', '구독자', '수', '증가', '큰', '역할', '했', '다고', '설명', '했', '.', '김', '주무관', '딱딱', '시정', '홍보', '영상', '틀', '에서', '벗어나', 'B', '급', '콘텐츠', '만들', '어', '왔', '.', '관', '메', '춤', '추', '아프리카', '가나', '장례식', '에서', '유래', '된', '‘', '관', '짝춤', '’', '패러디', '해', '생활', '속', '거리', '두기', '홍보', '‘', '공무원', '관', '짝춤', '’', '조', '회수', '666', '만', '회', '기록', '며', '화제', '되', '기', '했', '.', '그', '만든', '영상', '편당', '35', '만', '회', '기록', '며', '꾸준', '인기', '끌', '있', '.', '또', '조길형', '충주', '시장', '시청', '소속', '공무원', '직접', '영상', '출연', '등', '자유', '롭', '재미있', '홍보', '방식', '으로', '충', 'TV', '유튜브', '물론', '인터넷', '커뮤니티', '등', '에서', '화제', '되', '기', '했', '.', '충주시', '관계자', '“', '김', '주무관', '지자체', '공공', '기관', '유튜브', '운영', '방식', '바꾸', '있', '”', '며', '“', '20', '여', '개', '지자체', '에서', '충주시', '유튜브', '벤치마킹', '등', '충주시', '협업', '요청', '기관', '잇따르', '있', '”', '말', '했', '.', '충주시', '지난', '10', '일', '구독자', '20', '만', '명', '기념', 'Q', '&', 'A', '영상', '업로드', '했', '.', '8', '분', '57', '초', '길이', '영상', '에서', '채널', '운영', '자', '김선태', '주무관', '구독자', '질문', '답', '시간', '가졌', '.', '김', '주무관', '‘', '광역', '자치', '단체', '중', '가장', '많', '구독자', '수', '가진', '서울시', '유튜브', '이길', '방안', '알려', '달', '라', '’', '구독자', '질문', '“', '질', '자신', '없', '”', '답했', '.', '이어', '“', '여러', '공공', '기관', '에서', '스카웃', '제의', '오', '있', '지만', '충주', '남', '아', '손흥민', '같', '존재', '되', '싶', '”', '말', '기', '했', '.', '이삭', '기자', 'isak', '84', '@', 'kyunghyang', '.', 'com'], ['며칠', '전', '끝', '난', '도쿄', '올림픽', '난민', '망명', '신청자', '‘', '환승', '센터', '’', '역할', '했', '다는', '평가', '나온다', '.', '미국', '역사', '학자', '바바라', '키스', '“', '국제', '스포츠', '대회', '본국', '에서', '어려움', '겪', '사람', '도망갈', '수', '있', '매력', '적', '기회', '제공', '한다', '”', '말', '증명', '된', '것', '.', '난민', '팀', '으로', '출전', '했', '던', '베네수엘라', '출신', '복서', '엘', '드릭', '세야', '(', '24', ')', '도쿄', '올림픽', '계기', '로', '우루과이', '정착', '했', '.', '그', '10', '일', '(', '현지', '시간', ')', '스타', '그램', '우루과이', '수도', '몬테비데오', '에서', '올린', '사진', '함께', '“', '나라', '에서', '새롭', '시작', '할', '수', '있', '됐', '”', '며', '“', '망설임', '없이', '문', '열', '어', '준', '우루과이', '감사', '”', '글', '남겼', '.', '세야', '18', '세', '베네수엘라', '국가', '대표', '팀', '으로', '발탁', '됐', '.', '하지만', '선수', '지원', '열악', ',', '경제난', '줄이', '폭력', '사건', '일어나', '자국', '에서', '계속', '살', '기', '어렵', '다고', '판단', '했', '.', '2018', '년', '복싱', '대회', '참가', '차', '트리니다드토바고', '들른', '그', '본국', '으로', '돌아가', '않', '았', '난민', '지위', '로', '도쿄', '올림픽', '참가', '했', '.', '그', '유엔', '난민', '기구', '(', 'UNHCR', ')', '중재', '로', '우루과이', '에서', '살', '됐', '.', '다른', '선수', '도쿄', '올림픽', '기회', '삼', '아', '본국', '탈출', '했', '거나', ',', '탈출', '시도', '했', '.', '벨라루스', '육상', '선수', '크리스티나', '치마', '누스', '카야', '자국', '코치', '비판', '해', '강제', '귀국', '위기', '놓이', '자', '국제', '올림픽', '위원회', '(', 'IOC', ')', '보호', '요청', '폴란드', '로', '피신', '했', '.', '우간다', '역도', '선수', '줄리어스', '세키', '톨', '레코', '“', '우간', '생활', '어렵', '”', '며', '올림픽', '선수촌', '벗어났으나', '며칠', '후', '붙잡혀', '본국', '으로', '출국', '조치', '됐', '.', '[', '관련', '기사', ']', '‘', '망명', '타진', '’', '벨라루스', '육상', '대표', ',', '일본', '떠나', '폴란드', '로', '이전', '올림픽', '기간', '동안', '개최', '국', '방문', '선수', '나', '코치', '망명', '시도', '사례', '종종', '있', '었', '.', '체코슬로바키아', '체조', '코치', '로', '1948', '년', '런던', '올림픽', '참여', '했', '던', '마리', '프로', '바즈', '니코', '바', '자국', '공산', '정권', '들어서', '자', '“', '자유', '없', '”', '며', '미국', '망명', '신청', '했', '.', '냉전', '시대', '였', '던', '1972', '년', '뮌헨', '올림픽', '에서', '약', '100', '명', '선수단', '망명', '신청', '했', '.', '2012', '년', '런던', '올림픽', '당시', '콩고', ',', '기니', ',', '에리트레아', '등', '빈국', '출신', '선수', '코치', '최소', '12', '명', '영국', '정부', '난민', '지위', '인정', '해', '달', '라고', '요구', '했', '.', '호주', '맥쿼리', '대', '에서', '스포츠', '역사학', '강의', '키스', '래스본', '호주', '매체', '‘', '더', '컨', '버세', '션', '’', '기고', '문', '에서', '올림픽', '에서', '망명', '신청', '자주', '일어나', '이유로', '유엔', '난민', '지위', '관한', '협약', '해외', '경기', '출전', '기회', '잦', '선수단', '특징', '꼽', '았', '.', '1951', '년', '채택', '된', '협약', '국가', '안', '보', '나', '공공질서', '위협', '되', '예외', '적', '상황', '제외', '난민', '추방', '할', '수', '없', '다는', '내용', '담겨', '있', '.', '하지만', '망명', '택한', '선수', '나', '코치', '모두', '편한', '삶', '살', '있', '않', '.', '카메룬', '출신', '역도', '선수', '였', '던', '시릴', '챗', '쳇', '2', '세', '영국', '연방', '경기', '대회', '열린', '2014', '년', '망명', '신청', '뒤', '돈', '없', '어', '영국', '에서', '두', '달', '간', '노숙', '생활', '했', '.', '난민', '지위', '인정받', '거나', '망명자', '로', '인정받', '기', '위해', '수년', '기다리', '선수', '있', '.', 'IOC', 'UNHCR', '2016', '년', '리우', '올림픽', '부터', '난민', '선수단', '출전', '시켰', '.', 'IOC', '오륜기', '입장', '했', '.', '이번', '도쿄', '올림픽', '29', '명', '난민', '선수', '11', '개국', '대표', '해', '12', '개', '종목', '참여', '했', '.', '일부', '국가', '에서', '올림픽', '대회', '열리', '도중', '선수', '망명', '돕', 'UNHCR', '“', '이념', '적', '”', '라며', '비판', '있', '.', '망명', '특정', '이유', '로', '외국', '정부', '보호', '요청', '것', '.', '망명', '형태', '난민', '인종', ',', '종교', ',', '국적', ',', '특정', '사회', '집단', '구성원', '신분', '또는', '정치', '적', '의견', '이유', '로', '박해', '받', '때', '외국', '으로', '탈출', '해', '보호', '요청', '것', '의미', '한다', '.', '윤기은', '기자', 'energyeun', '@', 'kyunghyang', '.', 'com'], ['달력', '‘', '빨간', '날', '’', '로', '표시', '되', '내년', '공휴일', '올해', '같', '67', '일', '것', '으로', '나타났', '.', '가장', '긴', '연휴', '설날', '전후', '닷새', '였', '.', '과학', '기술', '정보', '통신부', '11', '일', '같', '내용', '담', '‘', '2022', '년', '월력', '요항', '’', '발표', '했', '.', '월력', '요항', '한국', '달력', '기준', '되', '종합', '자료', '로서', ',', '정확', '날짜', '절기', ',', '공휴일', '등', '천문법', '따라', '분석', '해', '담', '있', '.', '내년', '월력', '요항', '따르', '면', '달력', '빨간', '날', '로', '표시', '되', '관공서', '공휴일', '올해', '같', '67', '일', '.', '대통령', '선거', '(', '3', '월', '9', '일', ')', '전국', '동시', '지방', '선거', '(', '6', '월', '1', '일', ')', ',', '추석', '대체', '공휴일', '(', '9', '월', '12', '일', ')', ',', '한글', '날', '대체', '공휴일', '(', '10', '월', '10', '일', ')', '포함', '돼', '있', '.', '월력', '요항', '따르', '면', '주', '5', '일제', '실시', '직장', '총', '휴일', '올해', '보다', '이틀', '늘어난', '118', '일', '.', '관공서', '공휴일', '67', '일', '토요일', '53', '일', '더한', '120', '일', '가운데', '토요일', '겹치', '신정', '(', '1', '월', '1', '일', ')', '추석', '연휴', '둘째', '날', '(', '9', '월', '10', '일', ')', '뺀', '숫자', '.', '주', '5', '일제', '기준', '으로', '가장', '긴', '연휴', '설날', '(', '2', '월', '1', '일', ')', '전후', '5', '일', '간', '었', '.', '추석', '(', '9', '월', '10', '일', ')', '전후', '연휴', '4', '일', '간', '었', '으며', ',', '현충일', '(', '6', '월', '6', '일', ')', '광복절', '(', '8', '월', '15', '일', ')', ',', '개천절', '(', '10', '월', '3', '일', ')', ',', '한글날', '(', '10', '월', '9', '일', ')', '3', '일', '간', '연휴', '주어졌', '.', '특히', '이번', '월력', '요항', '지방', '공휴일', '포함', '됐', '.', '지방', '공휴일', '해당', '지역', '에서', '발생', '역사', '적', '사건', '기념', '해', '지방', '자치', '단체', '관공서', '특별히', '휴무', '날', '며', ',', '‘', '4', '·', '3', '희생자', '추념', '일', '(', '제주', ')', '’', '‘', '5', '·', '18', '민주', '화', '운동', '기념일', '(', '광주', ')', '’', '지정', '됐', '.', '2022', '년', '월력', '요항', '관한', '자세', '사항', '관보', '한국', '천문', '연구원', '천문', '우주', '지식', '정보', '홈페이지', '에서', '확인', '할', '수', '있', '.', '이정호', '기자', 'run', '@', 'kyunghyang', '.', 'com'], ['최근', '대중', '적', '관심', '커진', '‘', '확장', '가상', '세계', '(', '메타', '버스', ')', '’', '조성', '이끌', '인재', '발굴', '행사', '열린다', '.', '과학', '기술', '정보', '통신부', '‘', '2021', '메타', '버스', '개발자', '경진', '대회', '’', '참가자', '오', '12', '일', '부터', '31', '일', '까지', '모집', '한다고', '11', '일', '밝혔', '.', '이번', '대회', '올해', '5', '월', '출범', '민간', '정부', '협력체', '‘', '메타', '버스', '얼라이언스', '’', '주도', '해', '기술', '인재', '발굴', '관련', '사업', '확대', '기', '위해', '올해', '처음', '열리', '것', '.', '메타', '버스', '게임', '같', '용도', '넘', '어', '사회', '적', '·', '경제', '적', '·', '문화', '적', '행위', '이뤄지는', '3', '차원', '가상', '세계', '뜻', '한다', '.', '최근', '코로나', '19', '확산', '으로', '비대', '면', '교류', '늘어나', '면서', '더욱', '주목', '받', '있', '.', '이번', '대회', '대학', '생', '이나', '대학원생', ',', '일반', '누구', '나', '참가', '할', '수', '있', '으며', '최종', '20', '개', '우수', '팀', '또는', '개인', '선발', '해', '총', '9400', '만', '원', '상금', '과기', '정통부', '장관', '상', ',', '한국', '전파', '진흥', '협회', '장상', '등', '수여', '할', '예정', '.', '참가', '영역', '학생', '일반', '부문', '으로', '구분', '되', '며', ',', '국내', '기업', '소프트웨어', '저작', '도구', '활용', '해야', '지정', '과제', '형식', '제한', '없', '자유', '과제', '로', '유형', '나뉜다', '.', '지정', '과제', '수상자', '해당', '후원', '기업', '공동', '사업', '화', '기회', '얻', '거나', '기업', '채용', '시', '가산점', ',', '인턴', '기회', '부여', '등', '혜택', '받', '수', '있', '.', '대회', '수상', '작', '우수', '사례', '모음', '집', '으로', '제작', '·', '배포', '될', '예정', '.', '과기', '정통부', '10', '월', '25', '일', '까지', '출', '품작', '접수', '마감', '뒤', '심사', '거쳐', '올해', '11', '월', '최종', '수', '상작', '선정', '한다고', '밝혔', '.', '김정삼', '과기', '정통부', '소프트웨어', '정책', '관은', '“', '메타', '버스', '지속', '가능', '발전', '위해서', '다양', '콘텐츠', '서비스', '개발', '돼', '생태', '계', '조성', '되', '것', '중요', '”', '며', '“', '이번', '대회', '계기', '로', '청년', '개발자', ',', '창작자', '메타', '버스', '생태', '계', '로', '유입', '돼', '관련', '산업', '발전', '원동력', '되', '길', '기대', '한다', '”', '말', '했', '.', '대회', '관한', '세부', '적', '내용', '과기', '정통부', '한국', '전파', '진흥', '협회', '사업', '공고', '통해', '확인', '할', '수', '있', '으며', ',', '참가', '신청', '메타', '버스', '개발자', '경진', '대회', '홈페이지', '(', 'www', '.', 'metaversedev', '.', 'kr', ')', '에서', '온라인', '으로', '면', '된다', '.', '이정호', '기자', 'run', '@', 'kyunghyang', '.', 'com'], ['코로나', '19', '4', '차', '유행', '달', '이상', '지속', '되', '면서', '전문가', '중심', '으로', '코로나', '19', '방역', '체계', '전환', '해야', '한다는', '의견', '나오', '지만', '국민', '10', '명', '중', '9', '명', '여전히', '확진', '자', '통제', '중요', '다고', '생각', '것', '으로', '나타났', '.', '서울대', '코로나', '19', '보건', '대학원', '기획', '연구', '단', '설문', '조사', '기관', '케이스', '탯리서치에', '의뢰', '해', '올해', '7', '월', '29', '일', '부터', '8', '월', '2', '일', '까지', '만', '18', '세', '이상', '전국', '성인', '1000', '명', '대상', '으로', '‘', '코로나', '19', '사회', '적', '건강', '3', '차', '조사', '’', '결과', '같이', '나타났', '다고', '11', '일', '밝혔', '.', '응답자', '절반', '(', '52', '.', '3', '%)', '코로나', '19', '치명률', '떨어졌', '기', '때문', '4', '차', '유행', '확진', '자', '수', '앞선', '1', '~', '3', '차', '유행', '확진', '자', '수', '같', '의미', '아니', '라고', '봤', '.', '다만', '확진', '자', '증가', '변이', '바이러스', '진화', '가능', '성', '높이', '비접', '종자', '중증', '환자', '비율', '등', '위험', '높일', '수', '있', '으므로', '확진', '자', '규모', '통제', '여전히', '매우', '중요', '다는', '데', '90', '.', '6', '%', '동의', '했', '.', '치명률', '낮', '아', '진', '지금', '부터', '어느', '정도', '확진', '자', '발생', '해도', '코로나', '19', '일상', '공존', '도록', '방역', '체계', '전환', '할', '필요', '있', '다는', '진술', '56', '.', '9', '%', '동의', '했', '.', '그러나', '응답자', '76', '.', '1', '%', '‘', '방역', '체계', '전환', '고려', '것', '시기상조', '’', '라고', '답', '했', '.', '국민', '다수', '방역', '체계', '전환', '필요', '성', '공감', '지만', '전환', '시점', '현재', '아니', '라고', '판단', '것', '.', '여전히', '‘', '코로나', '19', '위험', '높', '’', '인식', '반영', '것', '으로', '보인다', '.', '‘', '한국', '사회', '코로나', '19', '위험', '에서', '안전', '않', '’', '응답', '65', '.', '3', '%', '로', ',', '동일', '문항', '적용', '지난해', '1', '월', '부터', '설문', '조사', '이래', '가장', '높', '비율', '었', '.', '응답자', '평균', '적', '으로', '하루', '확진', '자', '평균', '121', '명', ',', '인구', '75', '.', '7', '%', '백신', '접종', '완료', '면', '코로나', '19', '로부터', '안', '전하', '다고', '느낄', '수', '있', '것', '으로', '나타났', '.', '백신', '접종', '의향', '높', '아', '졌', '.', '응답자', '10', '명', '중', '7', '명', '(', '73', '.', '9', '%)', '코로나', '19', '백', '신접', '종', '의향', '높', '다고', '응답', '했', '.', '접종', '의향', '‘', '매우', '높', '’', '응답', '46', '.', '3', '%', '로', ',', '지난', '2', '월', '조사', '때', '(', '15', '.', '3', '%)', '보다', '급증', '했', '.', '정부', '당국', '4', '차', '유행', '대응', '1', '~', '3', '차', '대유행', '때', '비교', '해', '‘', '잘', '못', '한다', '’', '응답', '39', '%,', '‘', '비슷', '’', '46', '.', '3', '%,', '‘', '이전', '보다', '잘', '한다', '’', '14', '.', '7', '%', '로', '나타났', '.', '코로나', '19', '백신', '접종', '통한', '집단', '면역', '형성', '후', '코로나', '19', '이전', '으로', '일상', '회귀', '가능', '성', '긍정', '적', '으로', '전망', '입장', '부정', '적', '으로', '전망', '입장', '각각', '60', '.', '7', '%', '63', '.', '6', '%', '로', '나타났', '.', '김향미', '기자', 'sokhm', '@', 'kyunghyang', '.', 'com'], ['국내', '사무', '용', '가구', '3', '대', '업체', '중', '곳', '코', '아스', '하도급', '거래', '전', '과정', '에서', '법', '위반', '공정거래위', '원회', '제재', '받', '됐', '.', '공정위', '11', '일', '하도급', '법', '위반', '코', '아스', '시정', '명령', '함께', '과징금', '5900', '만', '원', '부과', '한다고', '밝혔', '.', '또', '부당', '감액', '대금', '지연', '이자', '등', '1', '억', '1500', '만', '원', '하도급', '업체', '지급', '도록', '명령', '했', '.', '코', '아스', '지난해', '기준', '사무', '용', '가구', '시장', '상위', '3', '개', '사', '매출액', '중', '21', '%', '차지', '곳', '.', '공정위', '조사', '결과', ',', '코', '아스', '수급', '사업자', '납품', '제품', '이상', '없', '는데', '페널', '티', '부과', '해', '하도급', '대금', '1530', '만', '원', '깎', '았', '.', '제품', '반품', '된', '적', '없', '는데', '반품', '있', '었', '던', '것', '처럼', '서류', '작성', '해', '하도급', '대금', '3620', '만', '원', '주', '않', '기', '했', '.', '수급', '사업자', '생산', '·', '납품', '제품', '아닌데', '반품', '내역', '포함', '시켜', '해당', '금액', '만큼', '대금', '감액', '것', '.', '수급', '사업자', '에게', '줄', '대금', '떼먹', '기', '했', '.', '코', '아스', '금형', '제조', '대금', '일부', '선지급', '잔금', '금형', '으로부터', '생산', '되', '제품', '발주', '할', '때', '마다', '나눠', '지급', '기', '로', '했으나', ',', '4', '년', '넘', '도록', '추가', '로', '발주', '않', '으며', '계약금', '24', '%', '결국', '지급', '않', '았', '.', '금형', '수정', '작업', '지시', '면서', '추가', '비용', '주', '않', '았', '.', '어', '음', '대체', '결제', '수수료', '지급', '후', ',', '제품', '단가', '인하', '해', '이미', '지급', '수수료', '2254', '만', '원', '회수', '기', '했', '.', '어', '음', '대체', '결제', '수수료', '187', '만', '원', '지급', '후', ',', '제품', '단가', '8600', '원', '에서', '459', '원', '으로', '95', '%', '인하', '해', '187', '만', '원', '회수', '방식', '었', '.', '사실상', '수수료', '지급', '않', '것', '이나', '마찬가지', '.', '코', '아스', '가구', '부품', '제조', '맡기', '면서', '수급', '사업자', '작업', '시작', '기', '전', '계약서', '주지', '않', '았', '.', '공정위', '“', '앞', '으로', '수급', '사업자', '에게', '직접', '적', '손해', '발생', '시키', '부당', '하도급', '대금', '감액', '행위', '탈법', '행위', '대해서', '지급', '명령', '적극', '적', '으로', '검토', '겠', '”', '말', '했', '.', '박상영', '기자', 'sypark', '@', 'kyunghyang', '.', 'com'], ['최근', '공정', '거래', '위원회', '가상', '자산', '거래소', '불공정', '약관', '대해', '손질', '했', '지만', '투자자', '권리', '보호', '기', '위해서', '부족', '다는', '지적', '제기', '됐', '.', '가상', '자산', '대한', '제도', '적', '기준', '모호', '해', '약관', '심사', '데', '한계', '있', '다는', '것', '.', '국회', '입', '법조', '사처', '11', '일', '보고서', '‘', '가상', '자산', '거래소', '불공정', '약관', '심사', '한계', '및', '시사점', '’', '통해', '국내', '8', '개', '주요', '가상', '자산', '거래소', '이용', '약관', '불공정', '약관', '바로잡', '공정위', '조치', '투자자', '보호', '기', '한계', '있', '다고', '밝혔', '.', '공정위', '지난달', '28', '일', '가상', '자산', '거래소', '직권', '조사', '통해', '“', '계약', '중', '·', '해', '지나', '서비스', '이용', '제한', '불가피', '경우', '로', '한정', '고객', '예측', '가능', '도록', '사유', '구체', '적', '명확히', '해야', '한다', '”', '권고', '바', '있', '.', '그러나', '입', '법조', '사처', '“', '불가피', '사유', '무엇', '인지', ',', '어느', '정도', '로', '구체', '적', '명확', '해야', '는지', '불', '분명', '해', '거래소', '시정', '권고', '이행', '데', '현실', '적', '으로', '어려울', '수', '있', '”', '비판', '했', '.', '그러', '면서', '“', '금융', '위원회', '상장', '폐지', '비롯', '해', '이용', '계약', '중', '·', '해', '및', '서비스', '이용', '제한', '등', '대한', '구체', '적', '가이드라인', '마련', '방안', '검토', '할', '필요', '있', '”', '권고', '했', '.', '최근', '상장', '폐지', '의미', '거래', '지원', '종료', '두', '거래소', '코인', '발행', '업체', '간', '법정', '공방', '벌어지', '기', '했', '.', '거래소', '고객', '에게', '원활', '서비스', '제공', '기', '위한', '선량', '관리자', '로서', '의무', '해야', '한다는', '공정위', '권고', '대해서', '“', '가상', '자산', '투자자', '보호', '등', '거래', '안정', '화', '위한', '법률', '미흡', '상황', '어서', '사업자', '선량', '관리자', '로서', '의무', '기', '위해', '어떠', '조치', '취해야', '는지', '명확', '않', '측면', '있', '”', '지적', '했', '.', '입', '법조', '사처', '가상', '자산', '거래소', '설명', '의무', '약관', '제', '·', '개정', '시', '보', '및', '공시', '의무', ',', '안전', '성', '확보', '의무', ',', '이용자', '고지', '의무', ',', '업무', '보고서', '제출', '및', '공시', '의무', '등', '규정', '법률안', '발의', '됐', '다는', '점', '거론', '며', '“', '사업자', '의무', '대한', '법', '적', '기준', '조속히', '마련', '해야', '한다', '”', '말', '했', '.', '공정위', '관계자', '“', '약관', '법', '따라', '불', '공정', '조항', '대해서', '시정', '조치', '할', '수', '있', '지만', '대법원', '판례', '따라', '구체', '적', '으로', '어떤', '내용', '으로', '수정', '도록', '명령', '할', '수', '없', '”', '말', '했', '.', '약관', '개정', '할', '경우', '1', '개월', '전', '영업', '점', '등', '게시', '이용자', '에게', '통지', '해야', '한다는', '공정위', '권고', '대해서', '“', '가상', '자산', '성격', '어떻게', '정하', '느냐', '따라', '심사', '기준', '달라질', '수', '있', '”', '지적', '했', '.', '거래소', '영업', '통신', '판매업', '및', '전자', '상거래', '업', '으로', '본다면', '‘', '전자', '상거래', '표준', '약관', '’', ',', '자본', '시장법', '으로', '규율', '한다면', '‘', '금융', '투자', '업', '분야', '약관', '심사', '가이드라인', '’', '적용', '할', '수', '있', '다는', '것', '.', '입', '법조', '사처', '“', '가상', '자산', '성격', '명확', '해진다면', '별도', '표준', '약관', '마련', '방안', '고려', '해', '볼', '수', '있', '”', '덧붙였', '.', '공정위', '별도', '가이드라인', '마련', '대해서', '부정', '적', '입장', '드러냈', '.', '공정위', '관계자', '“', '표준', '약관', '제정', '기', '위해서', '관련', '법률', '가상', '자산', '거래', '대한', '명확', '근거', '있', '어야', '한다', '”', '며', '“', '특히', ',', '표준', '약관', '재화', '나', '용역', '간', '거래', '에서', '소비자', '보호', '한정', '된', '만큼', '사실', '상', '제정', '불', '가능', '”', '말', '했', '.', '박상영', '기자', 'sypark', '@', 'kyunghyang', '.', 'com'], ['문재인', '대통령', '11', '일', '고승범', '금융', '위원회', '위원장', '후보자', '송두환', '국가인권위원회', '위원장', '후보자', '대한', '인사', '청문', '요청안', '재가', '했', '다고', '박경미', '청와대', '대변인', '밝혔', '.', '청문', '요청안', '이날', '오후', '국회', '제출', '됐', '.', '앞서', '문', '대통령', '지난', '5', '일', '후보자', '송', '후보', '자', '각각', '금융', '위원장', '국가', '인권', '위원장', '으로', '내정', '했', '.', '인사', '청문회', '법', '따르', '면', '국회', '임명', '동의', '안', '및', '인사', '청문', '요청안', '제출', '된', '날', '로부터', '20', '일', '이내', '심사', '또는', '인사', '청문', '마쳐야', '한다', '.', '정대연', '기자', 'hoan', '@', 'kyunghyang', '.', 'com'], ['37', '만', 'ha', '.', '올해', '어', '미국', '캘리포니아주', '에서', '산불', '탄', '면적', '.', '산불', '지금', '계속', '되', '있', '.', '캘리포니아주', '에서', '지난달', '13', '일', '시작', '된', '‘', '딕시', '(', 'Dixie', ')', '’', '산불', '11', '일', '현재', '까지', '계속', '타오르', '면서', '캘리포니아주', '역사', '상', '두', '번', '째', '로', '큰', '산불', '로', '기록', '됐', '.', '화재', '진압', '률', '27', '%', '그친다', '.', '역사', '상', '가장', '큰', '산불', '지난해', '발생', '했', '는데', ',', '석', '달', '간', '약', '40', '만', 'ha', '태운', '뒤', '야', '종료', '됐', '.', '최근', '산불', '전', '세계', '적', '으로', '발생', '있', '.', '터키', '에서', '지난달', '28', '일', '부터', '156', '건', '산불', '발생', '해', '8', '명', '목숨', '잃', '었', '.', '터키', '무', '글', '라', '시', '당국', '이번', '산불', '로', '5', '만', '5000', 'ha', '훼손', '됐', '다고', '밝혔', '.', '면적', '지난해', '터키', '전역', '에서', '발생', '산불', '피해', '면적', '두', '배', '달하', '수', '치', '.', '유럽연합', '(', 'EU', ')', '코페르니쿠스', '대기', '감시', '서비스', '지난', '4', '일', '“', '지중해', '지역', '산불', '중심지', '되', '있', '으며', ',', '터키', '산불', '강도', '신', '기록', '경신', '했', '”', '밝히', '기', '했', '.', '터키', '인접', '그리스', '에비아', '섬', '에서', '일', '주일', '이상', '계속', '되', '산불', '로', '2000', '명', '이상', '시민', '대피', '중', '.', '그리스', '당국', '당분간', '산불', '위험', '계속', '높', '것', '라고', '경고', '있', '.', '지중해', '연안', '국가', '알제리', '에서', '동시', '다발', '적', '산불', '발생', '해', '40', '명', '이상', '목숨', '잃', '었', '.', '알제리', '당국', '“', '방화', '가능', '성', '”', '의심', '있', '.', '최근', '발생', '산불', '쉽', '진압', '되', '않', '이유', '기록', '적', '폭염', '그', '따른', '건', '조한', '날씨', '때문', '.', '터키', '남동부', '시', '즈레', '지구', '지난달', '20', '일', '49', '.', '1', '기록', '신', '기록', '세웠', '.', '로이터', '통신', '지난', '10', '일', '(', '현지', '시간', ')', '터키', '산불', '대해', '“', '강한', '바람', '낮', '습도', ',', '그리고', '40', '이상', '높', '기온', '산불', '확산', '시키', '있', '”', '했', '.', '그리스', '역시', '폭염', '시달렸', '.', '그리스', '중부', '프티', '오티스', '이달', '초', '기온', '46', '.', '3', '기록', '했', '.', '키리아코스', '미초', '타키스', '그리스', '총리', '지난', '2', '일', '“', '우리', '1987', '년', '이후', '최악', '폭염', '맞닥뜨렸', '”', '했', '.', '전', '지구', '적', '으로', '올해', '7', '월', '기온', '역대', '세', '번', '째', '로', '높', '았', '.', '코페르니쿠스', '대기', '감시', '서비스', '올해', '7', '월', '기온', '1991', '~', '2020', '년', '7', '월', '평균', '기온', '비해', '0', '.', '33', '높', '았', '으며', ',', '7', '월', '말', '어서', '남동', '유럽', '지역', '특히', '폭염', '심했', '다고', '분석', '했', '.', '■', '지금', '재난', '예고편', '?', '문제', '산불', '같', '대', '규모', '재해', '로', '이어지', '폭염', '가뭄', '등', '극한', '현상', '향후', '‘', '일상', '’', '될', '수', '있', '다는', '점', '.', '기후', '변화', '상황', '대한', '과학', '적', '분석', '담', '‘', '기후', '변화', '관한', '정부', '간', '협의', '체', '(', 'IPCC', ')', '’', '지난', '9', '일', '보고서', '이러', '우려', '뒷받침', '한다', '.', 'IPCC', '보고서', '에서', '이미', '전', '지구', '평균', '기온', '1', '.', '09', '상승', '상태', '며', ',', '여기', '서', '0', '.', '41', '더', '상승', '할', '경우', '“', '전례', '없', '극한', '현상', '발생', '증가', '할', '것', '”', '라고', '했', '.', 'IPCC', '1', '.', '5', '~', '2', '온난', '화', '시', '“', '과거', '현재', '기후', '에서', '발생', '가능', '성', '낮', '일부', '복합', '극한', '현상', '더', '자주', '발생', '함', '물론', '그', '강도', '지속', '기간', '전례', '없', '수준', '일', '가능', '성', '높', '”', '했', '.', '극한', '현상', '폭염', '이나', '가뭄', '같', '가지', '현상', '만', '발생', '않', ',', '동시', '다발', '적', '으로', '발생', '면서', '더욱', '피해', '키울', '것', '으로', '전망', '됐', '.', '이미', '현재', '폭염', '수준', '과거', '산업', '화', '이전', '시기', '보다', '4', '배', '가량', '심해진', '것', '지만', ',', '1', '.', '5', '온난화', '시', '8', '배', '이상', '으로', '더', '악화', '될', '것', '으로', '봤', '.', '극한', '폭염', '뿐', '아니', '라', '극한', '호우', '그', '따른', '홍수', '발생', '가능', '성', '높', '아', '진다', '.', 'IPCC', '“', '1', '.', '5', '지구', '온난', '화', '일', '때', '호우', '홍수', '아프리카', '아시아', ',', '북미', ',', '유럽', '대부분', '지역', '에서', '강', '빈번', '해질', '것', '”', '라며', '“', '지역', '별', '로', '폭풍', '강화', ',', '홍수', '증가', ',', '평균', '강수량', '감소', '나', '건조도', '증가', ',', '산불', '일어나', '기', '쉬운', '날씨', '증가', '한다', '”', '했', '.', '결국', '어떤', '지역', '에서', '집중호우', '로', '홍수', '나', '있', '동안', ',', '다른', '지역', '에서', '극한', '폭염', '으로', '산불', '꺼지', '않', '예측', '기', '어려운', '극단', '적', '현상', '동시', '다발', '적', '으로', '나타난다는', '것', '.', '피', '테리', '탈라스', '세계', '기상', '기구', '(', 'WMO', ')', '사무총장', '“', '기후', '변화', '가혹', '현실', '눈', '앞', '실시간', '으로', '펼쳐졌', '”', '면서', '“', '우리', '강하', '빠르', ',', '지속', '적', '으로', '온실가스', '배출', '줄인다면', '여전히', '해결', '할', '수', '있', '”', '했', '.', '김한솔', '기자', 'hansol', '@', 'kyunghyang', '.', 'com'], ['더불', '어', '민주당', '대선', '경선', '후보', '김두관', '의원', '11', '일', '“', '이대로', '지방', '소멸', '수도', '권', '공멸', '한다', '”', '며', '‘', '서울', '공화국', '해체', '’', '로', '상징', '되', '지역', '균형발전', '공약', '발표', '했', '.', '‘', '균형', '분권', '국무', '회의', '’', '신설', ',', '지방', '자치', '단체', '명칭', '지방', '정부', '로', '바꿔', '조직', '·', '입법', '·', '재정', '권한', '강화', '겠', '다고', '밝혔', '.', '김', '의원', '이날', '국회', '에서', '기자', '회견', '열', '이러', '내용', '‘', '균형', '분권', '국가', '10', '대', '공약', '’', '발표', '했', '.', '김', '의원', '“', '김두관', '균형', '분권', '국가', '균형발전', '자치', '분권', '통합', '된', '수도', '권', '비', '수도', '권', '상생', '발전', '국가', '”', '라며', '“', '이번', '대선', '에서', '가장', '역점', '두', '있', '비전', '정책', '”', '라고', '강조', '했', '.', '김', '의원', '경제력', '교육', '기회', '등', '수도', '권', '집중', '돼', '지방', '양극', '화', '심화', '되', '있', '다고', '주장', '했', '.', '김', '의원', '“', '수도', '권', '인구', '대한민국', '인구', '절반', '넘어섰', '”', '며', '“', '수도', '권', '전국', '면적', '11', '.', '8', '%', '불과', '한데', '소득', '전국', '55', '.', '6', '%', '로', '절반', '넘어섰', '”', '말', '했', '.', '그러', '면서', '“', '전국', '339', '개', '대학', '중', '34', '.', '2', '%', '116', '개', '대학', '수도', '권', '몰려', '있', '”', '했', '.', '해소', '기', '위해', '김', '의원', '‘', '균형', '분권', '국무', '회의', '’', '신설', '겠', '다고', '밝혔', '.', '그', '“', '중앙', '행정부', '지방', '행정부', '간', '협력', '추진', ',', '지방', '자치', '지역', '간', '균형발전', '관련', '된', '중요', '정책', '심의', '도록', '겠', '”', '며', '“', '대통령', '국무총리', ',', '법률', '로', '정하', '국무', '위원', '지방', '행정부', '장', '으로', '구성', '될', '것', '”', '라고', '말', '했', '.', '지방', '자치', '단체', '명칭', '지방', '정부', '로', '바꿔', '각종', '권한', '확대', '·', '강화', '겠', '다고', '했', '.', '김', '의원', '“', '중앙', '지방', '종속', '수직', '적', '관계', '아닌', '독자', '적', '수평', '적', '관계', '라는', '것', '분명히', '드러낼', '수', '있', '기', '위함', '”', '라고', '명칭', '변경', '취지', '설명', '했', '.', '각자', '사정', '적합', '조직', '꾸릴', '수', '있', '도록', '지방', '정부', '자주', '조직', '권', '부여', '겠', '다고', '밝혔', '.', '김', '의원', '그러', '면서', '“', '헌법', '상', '‘', '법령', '범위', '안', '에서', '’', '조례', '제정', '할', '수', '있', '도록', '던', '것', '‘', '법률', '위반', '되', '않', '범위', '에서', '’', '조례', '제정', '할', '수', '있', '도록', '개헌', '통해서라도', '자치', '입법', '권', '확대', '겠', '”', '말', '했', '.', '지방', '정부', '자치', '재정', '권', '보장', ',', '중앙', '정부', '지방', '정부', '서로', '재정', '부담', '떠넘기', '않', '도록', '‘', '재정', '조정', '제도', '’', '새로', '만들', '겠', '다고', '했', '.', '김', '의원', '또한', '전국', '5', '개', '메가', '시티', '2', '개', '특별', '자치도', '로', '재편', ',', '메가', '시티', '조성', '맞물려', '공공', '기관', '2', '차', '지방', '이전', '신속히', '추진', '겠', '다고', '밝혔', '.', '김', '의원', '“', '이전', '대상', '기관', '중', '여', '젼', '히', '수도', '권', '남', '아', '있', '공공', '기관', '365', '개', '”', '라며', '“', '곧바로', '이전', '가능', '곳', '124', '개', '.', '기관', '지방', '10', '곳', '혁신', '도시', '으로', '이전', '시키', '겠', '”', '말', '했', '.', '박', '광연', '기자', 'lightyear', '@', 'kyunghyang', '.', 'com'], ['대구시', '시민', '여행', '욕구', '충족', '공항', '활성', '화', '위해', '13', '일', '부터', '대구', '국제공항', '양양', '노선', '운항', '재개', '한다고', '11', '일', '밝혔', '.', '대구', '-', '양양', '노선', '저', '항공사', '(', 'LCC', ')', '‘', '플라이', '강원', '’', '금', '·', '토', '·', '일', '·', '월요일', '하루', '2', '편', '씩', ',', '주', '8', '편', '운항', '한다', '.', '대구', '에서', '금', '·', '토요일', '오전', '10', '시', ',', '일', '·', '월요일', '오후', '8', '시', ',', '양양', '에서', '금', '·', '토요일', '오전', '8', '시', '20', '분', ',', '일', '·', '월요일', '오후', '6', '시', '25', '분', '각각', '출발', '한다', '.', '운', '임료', '주말', '주중', ',', '성수기', '비수기', '등', '따라', '5', '만', '9000', '원', '~', '9', '만', '9000', '원', '(', '왕복', '기준', ')', '으로', '책정', '됐', '.', '대구', '에서', '양양', '까지', '고속도', '로', '이용', '면', '4', '시간', '정도', '소요', '되', '지만', '하늘길', '이용', '면', '실', '비행', '시간', '으로', '40', '분', '정도', '밖', '걸리', '않', '는다', '.', '대구시', '양양', '노선', '재개', '로', '코로나', '19', '지친', '대구', '경북', '시', '·', '도민', '강원', '동해안', '여행', '시간', '적', ',', '경제', '적', '손실', '덜', '어', '줄', '것', '으로', '전망', '있', '.', '대구', '~', '양양', '노선', '지난해', '8', '월', '14', '일', '부터', '9', '월', '말', '까지', '운항', '했으나', '코로나', '확산', '등', '따라', '탐승', '률', '30', '%', '까지', '떨어져', '운항', '일시', '중단', '했', '.', '대구', '국제공항', '코로나', '19', '발생', '이전', '2019', '년', '하반기', '국내외', '24', '개', '노선', '(', '해외', '21', '개', ',', '국내', '3', '개', ')', '취항', '했으나', '지금', '제주', ',', '옌지', '(', '중국', ')', '노선', '만', '운행', '있', '.', '서덕', '찬', '대구시', '통합', '신', '공항', '건설', '본부', '장', '“', '양양', '노선', '제주', '노선', '함께', '공항', '활성', '화', '막힌', '해외', '하늘길', '대체재', '역할', '할', '것', '으로', '기대', '한다', '”', '면서도', '“', '코로나', '19', '상황', '감안', '해', '한국공항공사', '측', '여객', '터', '미털', '방역', '및', '소독', ',', '탑승객', '발열', '체크', ',', '마스크', '착용', '점검', '등', '통해', '코로나', '확산', '방지', '철저히', '대비', '겠', '”', '말', '했', '.', '박태우', '기자', 'taewoo', '@', 'kyunghyang', '.', 'com'], ['베니스', '비엔날레', '국관', '예술', '감독', '선정', '과정', '에서', '제척', '된', '선정', '위원', '‘', '동일', '기관', '내', '공적', '(', '公', '的', ')', '관계', '따른', '제척', '사유', '미', '’', '대상자', '1', '명', '것', '으로', '확인', '됐', '.', '지난', '6', '월', '말', '한국', '문화예술', '위원회', '(', '이하', '예술', '위', ')', '재심사', '결정', '때', '선정', '위원', 'A', '씨', '최종', '심사', '대상자', '4', '명', '중', 'B', '·', 'C', '씨', '2', '명', '같', '기관', '관련', '자', '라는', '점', '고지', '않', '아', '제척', '됐', '다고', '알려졌', '.', 'A', '씨', '2', '명', '중', 'B', '씨', '공', '적', '관계', '고지', '않', '심의', '참석', '제척', '사유', '라는', '예', '술위', '문서', '기록', '됐', '.', 'C', '씨', '예술', '위', '작성', '‘', '베니스', '비엔날레', '국관', '감독', '선정', '과정', '대한', '사실', '확인', '요청', '대한', '회신', '’', '11', '일', '공개', '했', '.', '문서', '“', '이번', '베니스', '비엔날레', '국제', '미술', '전', '국관', '예술', '감독', '선정', '재심사', '선정', '자', '-', '선정', '위원', '간', '사적', '(', '私', '的', ')', '친분', '따른', '결정', '아니', '며', ',', '일부', '선정', '위원', '귀하', '아닌', '특정', '후보자', '간', '동일', '기관', '내', '공', '적', '관계', '따른', '제척', '사유', '해당', '선정', '위원', '우리', '위원회', '고지', '않', '심의', '참석', '사실', '의하', '여', '결정', '됐', '”', '적', '었', '.', '문서', '중', '선정', '자', 'C', '씨', ',', '선정', '위원', 'A', '씨', ',', '특정', '후보', '자', 'B', '씨', '.', 'A', '씨', '복합', '문화', '공간', '예술', '감독', '.', 'B', '씨', '기관', '운영', '위원', ',', 'C', '씨', '기관', '예술', '교육', '프로그램', '강사', '.', '경향신문', '지난', '7', '월', '1', '일', '<', '베니스', '비엔날레', '국관', '감독', '재심사', '…', '“', '선정', '위원', ',', '심사', '대상자', '같', '기관', '관련자', '”', '>(▶', '기사', '보', '기', ')', '보도', '에서', 'B', '·', 'C', '씨', '2', '명', 'A', '씨', '같', '기관', '관련자', '라고', '적시', '했', '.', 'C', '씨', '“', '저', 'A', '씨', '‘', '친분', '깊', '사이', '’', '라는', '보도', '나왔', '.', '(', 'A', '씨', '대한', '제척', '재심사', ')', '사', '적', '친분', '따른', '결정', '아니', '라는', '예', '술위', '공문', '에서', '확인', '됐', '”', '말', '했', '.', '재심사', '결정', '뒤', '선정', '위원회', '재', '구성', '예술', '위', '지난달', '27', '일', '1', '차', '서류', '심사', '결과', '발표', '했', '.', 'B', '씨', '2', '차', '심사', '(', 'PT', ',', '인터뷰', ')', '대상자', '3', '명', '중', '1', '명', '들어갔', '.', 'C', '씨', '탈락', '했', '.', '예', '술위', '관계자', '“', 'C', '씨', '공개', '공문', '내용', '맞', '.', '다만', ',', '심사', '대상자', '아니', '라', '선정', '위원', '제척', '사유', '로', '들어간', '재심사', '기', '때문', '1', '차', '서류', '심사', '결과', '문제', '없', '”', '말', '했', '.', '예', '술위', '10', '일', '2', '차', '심사', '진행', '한다', '.', '이르', '면', '16', '일', '선정', '결과', '발표', '한다', '.', '김종목', '기자', 'jomo', '@', 'kyunghyang', '.', 'com'], ['코로나', '19', '4', '차', '대유행', '불구', '8', '월', '수출', '실적', '증가세', '어', '것', '으로', '나타났', '.', '관세청', '지난', '1', '∼', '10', '일', '수출액', '(', '통관', '기준', '잠정', '치', ')', '127', '억', '달러', '로', '작년', '동기', '대비', '46', '.', '4', '%(', '40', '억', '달러', ')', '증가', '했', '다고', '11', '일', '발표', '했', '.', '기간', '조업', '일', '수', '7', '.', '5', '일', '로', '작년', '(', '7', '일', ')', '보다', '0', '.', '5', '일', '많', '았', '.', '조업', '일수', '고려', '일평균', '기준', '수출액', '36', '.', '7', '%', '증가', '했', '.', '조업', '일수', '고려', '않', '기준', '으로', '품목', '별', '로', '보', '면', '반도체', '(', '44', '.', '6', '%),', '석유', '제품', '(', '33', '.', '0', '%),', '무선', '통신', '기기', '(', '75', '.', '7', '%),', '자동차', '부품', '(', '99', '.', '2', '%)', '등', '수출', '강세', '였', '.', '반면', '승용차', '(', '-', '39', '.', '0', '%),', '가전제품', '(', '-', '15', '.', '8', '%)', '등', '수출', '감소', '했', '.', '주요', '수출', '상대국', '별', '증가', '율', '중국', '(', '42', '.', '7', '%),', '미국', '(', '55', '.', '8', '%),', '베트남', '(', '23', '.', '5', ')', '%,', '유럽연합', '(', 'EU', '·', '39', '.', '9', '%),', '대만', '(', '83', '.', '0', '%),', '일본', '(', '46', '.', '5', '%)', '등', '.', '세계', '적', '코로나', '19', '재', '확산', '불구', '수출', '호조', '이어지', '것', '.', '앞서', '지난', '7', '월', '수출', '(', '554', '억', '4000', '만', '달러', ')', '전년', '동기', '대비', '29', '.', '6', '%', '늘', '며', '무역', '통계', '집계', '되', '기', '시작', '1956', '년', '이래', '최대치', '기록', '바', '있', '.', '정부', '글로벌', '교역', '빠른', '회복', '속', '반도체', '·', '석유', '제품', '등', '주요', '품목', '수출', '단가', '지속', '적', '으로', '상승', '있', '만큼', '수출', '상승세', '하반기', '이어질', '것', '으로', '내다봤', '.', '실제', '한국', '무역', '협회', '발표', '올해', '3', '분기', '수출', '산업', '경기', '전망', '지수', '113', '.', '5', '로', ',', '수출', '경기', '2', '분기', '뛰어넘', '것', '으로', '전망', '됐', '.', '수출', '산업', '경기', '전망', '지수', '다음', '분기', '수출', '경기', '대한', '수출', '기업', '기대', '나타내', '지표', '로', '100', '이상', '면', '이번', '분기', '보다', '다음', '분기', '경기', '좋', '아', '질', '것', '으로', '예상', '기업', '더', '많', '것', '100', '미만', '면', '그', '반대', '.', '이달', '10', '일', '까지', '수입액', '174', '억', '달러', '로', '지난해', '같', '기간', '보다', '63', '.', '1', '%(', '67', '억', '달러', ')', '늘', '었', '.', '원유', '(', '100', '.', '8', '%),', '반도체', '(', '17', '.', '9', '%),', '가스', '(', '279', '.', '7', '%),', '석유', '제품', '(', '279', '.', '2', '%),', '기계', '류', '(', '35', '.', '3', '%)', '등', '수입', '증가', '했', '.', '이달', '어', '10', '일', '까지', '무역', '수지', '47', '억', '달러', '적자', '기록', '했', '.', '박상영', '기자', 'sypark', '@', 'kyunghyang', '.', 'com'], ['BC', '카드', '이마트', '24', ',', '닐슨', '컴퍼니', '코리아', '금융', '·', '유통', '데이터', '협력', '위한', '전략', '적', '업무', '협약', '(', 'MOU', ')', '맺', '었', '.', '통해', '기업', '신규', '비즈니스', '수익', '모델', '창출', '돕', '는다는', '계획', '.', 'BC', '카드', '지난', '10', '일', '서울', '중구', '을지로', '본사', '에서', '이마트', '24', ',', '닐슨', '컴퍼니', '코리아', '공동', '으로', '각각', '소비', ',', '판매', ',', '상품', '분류', '데이터', '결합', '신규', '비즈니스', '모델', '개발', 'MOU', '체결', '했', '다고', '11', '일', '밝혔', '.', '기존', '제조사', '상품', '따른', '편의점', '별', '판매량', '점유', '율', '정도', '만', '알', '수', '있', '었', '지만', ',', '소비', '데이터', '결합', '통하', '면', '고객', '구매', '정보', '까지', '파악', '할', '수', '있', '된다', '.', '사용자', '특정', '할', '수', '없', '도록', '가명', '처리', '된', '결합', '정보', '통해', '기업', '지역', '별', ',', '연령', '별', ',', '시간', '대별', '고객', '구매', '정보', '알', '수', '있', '.', '변형균', 'BC', '카드', 'AI', '빅', '데이터', '본부', '장', '“', '기존', '소비', '데이터', '존재', '않', '았', '던', '상품', '정보', '까지', '파악', '할', '수', '있', '어', '소비', '주체', '상품', '대한', '수요', '파악', '할', '수', '있', '됐', '”', '며', '“', '많', '기업', '빅', '데이터', '통해', '마케팅', '전략', '수립', '활용', '할', '수', '있', '도록', '적극', '지원', '할', '예정', '”', '라고', '말', '했', '.', '박', '효', '재', '기자', 'mann', '616', '@', 'kyunghyang', '.', 'com'], ['중국', '법원', '캐나다인', '대북', '사업가', '마이클', '스', '페이버', '에게', '간첩', '혐의', '로', '징역', '11', '년', '선고', '했', '.', '마약', '밀수', '혐의', '로', '기소', '돼', '사형', '선고', '받', '로버트', '로이드', '셸렌버그', '항소', '기각', '한지', '하루', '만', '나온', '판결', '.', '중국', '랴오닝성', '단둥', '인민', '법원', '외국', '정탐', ',', '불법', '기밀', '유출', '등', '혐의', '로', '재판', '넘겨진', '스', '페이버', '에게', '징역', '11', '년', '선고', '했', '다고', '사우스', '차이나', '모닝', '포스트', '(', 'SCMP', ')', '11', '일', '(', '현지', '시간', ')', '보도', '했', '.', '캐나다', '국적', '대북', '사업가', '스', '페이버', '전직', '외교관', '마이클', '코', '브릭', '2018', '년', '12', '월', '중국', '에서', '구금', '된', '이후', '지난', '3', '월', '부터', '비', '공개', '로', '재판', '받', '아', '왔', '.', '중국', '현지', '캐나다', '외교관', '재판', '접근', '할', '수', '없', '었', '던', '것', '으로', '전해졌', '.', '판결', '예상', '단둥', '있', '었', '던', '도미닉', '바튼', '주중', '캐나다', '대사', '이날', '소식', '듣', '“', '스', '페이버', '코', '브릭', '석방', '보장', ',', '셸렌버그', '대한', '관용', '구하', '것', '여전히', '최우선', '”', '라며', '“', '아직', '갈', '길', '멀', '.', '사안', '아직', '끝나', '않', '았', '”', '기자', '에게', '말', '했', '.', '캐나다', '정부', '자국민', '석방', '위해', '계속', '외교', '적', '노력', '겠', '다는', '의미', '.', '캐나다', '정부', '성명', '내', '“', '스', '페이버', '코', '브릭', '재판', '인질', '외교', '”', '라며', '“', '즉각', '적', '석방', '캐나다', '정부', '최우선', '과제', '”', '라고', '밝혔', '.', '캐나다인', '셸렌버그', '스', '페이버', '대한', '선고', '하루', '간격', '으로', '이어졌', '.', '중국', '랴오닝', '성', '고등', '인민', '법원', '전날', '마약', '밀수', '혐의', '로', '사형', '선고', '받', '셸렌버그', '항소', '기각', '했', '.', '캐나다', '에서', '셸렌버그', '스', '페이버', '대한', '판결', '중국', '통신', '대', '기업', '화웨이', '멍', '완저우', '(', '孟', '晩', '舟', ')', '부회장', '체포', '대한', '중국', '당국', '보복', '으로', '보', '있', '.', '멍', '부회장', '대이', '란', '제재', '어긴', '혐의', '로', '미국', '범죄자', '인도', '요청', '따라', '2018', '년', '12', '월', '캐나다', '밴쿠버', '에서', '체포', '된', '이후', '중국', '내', '캐나다인', '체포', '사형', '등', '중형', '선고', '이어지', '있', '기', '때문', '.', '이날', '판결', '앞서', '베이징', '주재', '25', '개국', '외교관', '소집', '됐', '.', 'AP', '통신', '등', '따르', '면', '저스틴', '트뤼도', '캐나다', '총리', '스', '페이버', '재판', '비', '공개', '로', '진행', '된', '것', '강력', '비판', '했', '.', '지난달', '톈진', '방문', '했', '던', '웬디', '셔먼', '미국', '국무부', '차관보', '중국', '내', '미국인', '캐나다인', '석방', '요구', '했', ',', '조', '바이든', '미국', '대통령', '트뤼도', '캐나다', '총리', '통화', '에서', '문제', '언급', '했', '.', '중국', '같', '요구', '대해', '“', '캐나다', '중국', '사법', '주권', '간섭', '한다', '”', '비판', '했으며', '“', '멍', '완저우', '캐나다', '의해', '불', '합리', '억류', '됐', '”', '주장', '있', '.', '밴쿠버', '에서', '지난', '4', '일', '부터', '3', '주간', '일정', '으로', '멍', '부회장', '범죄인', '인도', '송환', '절차', '재판', '최종', '변론', '진행', '중', '.', '미', '법무부', '멍', '부회장', '유죄', '인정', '면', '중국', '멍', '부회장', '돌려보낼', '수', '있', '다고', '밝혔', '지만', '화웨이', '유죄', '인정', '해야', '만큼', '쉽', '않', '다는', '분석', '.', '중형', '선고', '받', '캐나다인', '멍', '부회장', '맞바꾸', '방법', '거론', '된다', '.', '박은하', '기자', 'eunha', '999', '@', 'kyunghyang', '.', 'com'], ['짐바브웨', '에서', '14', '살', '소녀', '아이', '낳', '다가', '죽음', '맞이', '했', '.', '소녀', '이름', '메모리', '마차', '야로', '지난해', '결혼', '했', '.', '가족', '학업', '강제', '로', '중단', '시키', '결혼', '강행', '탓', '.', '첫째', '아이', '낳', '던', '마차', '야', '결국', '동부', '마니칼랜드', '주', '마랑', '주', '사도', '교회', '안', '에서', '사망', '했', ',', '교회', '부지', '매장', '됐', '.', '지난달', '15', '일', '마차', '야', '아들', '생일', '자', '마', '차야', '기일', '돼', '버렸', '.', 'BBC', '8', '일', '(', '현지', '시간', ')', '짐바브웨', '에서', '14', '살', '소녀', '아이', '낳', '숨지', '사건', '일어나', '자', '조혼', '풍습', '뿌리', '뽑', '아야', '한다는', '목소리', '높', '아', '있', '다고', '보도', '했', '.', '인권', '단체', '신부', '지참금', '제도', '로', '인해', '소녀', '물건', '처럼', '팔리', '있', '으며', ',', '일찍', '결혼', '아이', '학교', '그만', '둬야', '할', '뿐', '아니', '라', '가정폭력', '성학대', '시달리', '있', '상황', '라고', '전했', '.', '마', '차야', '사연', '지난주', '현지', '언론', '보도', '되', '자', '짐바브웨', '시민', '분노', '했', '.', '사회관', '계망', '서비스', '(', 'SNS', ')', '“', '조혼', '당장', '끝', '내라', '”', ',', '“', '메모리', '위한', '정의', '”', '등', '해시', '태그', '올라왔', '.', '온라인', '청원', '사이트', '‘', 'change', '.', 'org', '’', '조혼', '관련자', '대한', '강력', '처벌', '요구', '탄원서', '올라왔', ',', '9', '일', '오전', '까지', '5', '만', '9000', '명', '넘', '서명', '했', '.', '조혼', '폐지', '요구', '시민', '단체', '로자', '리아', '메모리얼', '트러스트', '냐', '라자이', '검', '본즈', '반다', '“', '마차', '야', '강간', ',', '결혼', ',', '죽음', '분노', '한다', '”', '며', '“', '짐바브웨', '정부', '수사', '박차', '가하', '가해자', '체포하라', '”', '밝혔', '.', '조혼', '대한', '비판', '여론', '거세', '자', '짐바브웨', '정부', '뒤늦', '움직이', '기', '시작', '했', '.', '짐바브웨', '경찰', '성별', '위원회', '지난', '6', '일', '마차', '야', '죽음', '이르', '된', '정황', '이후', '매장', '과정', '대해', '조사', '시작', '했', '다고', '밝혔', '.', '의회', '에서', '미성년자', '결혼', '관련자', '기소', '등', '내용', '담긴', '법안', '의결', '추진', '있', '.', '짐바브웨', '현행법', '상', '18', '세', '이상', '여성', '만', '결혼', '할', '수', '있', '지만', '정부', '관행', '라는', '미명', '조혼', '눈', '감', '아', '왔', '.', '짐바브웨', '매체', '크', '로니', '컬', '“', '조혼', '신고', '들어와도', '당국', '조혼', '가족', '문제', '로', '치부', '한다', '”', '전했', '.', '유엔', '(', 'UN', ')', '지난', '7', '일', '성명', '통해', '“', '미성년자', '결혼', '등', '여성', '소녀', '대한', '폭력', '강력', '처벌', '없이', '해결', '될', '수', '없', '”', '며', '짐바브웨', '정부', '아동', '결혼', '관련자', '대한', '강력', '처벌', '요구', '했', '.', '조혼', '특히', '짐바브웨', '토착', '종교', '기독교', '혼합', '된', '사도', '교회', '신도', '사이', '에서', '만연', '풍습', '.', '종파', '병원', '의약품', '치료', '거부', '것', '으로', '유명', '.', '마', '차야', '이모', '마비', '카', '“', '출산', '직전', '마차', '야', '두', '통', '호소', '했', '지만', '교회', '에서', '의료진', '도움', '받', '것', '막', '았', '”', '며', '“', '마차', '야', '죽', '후', '가족', '교회', '안', '으로', '들어갈', '수', '없', '었', '”', '짐바브웨', '언론', '마니카', '포스트', '말', '했', '.', '처가', '신부', '몸값', '지불', '신부', '지참금', '제도', '남', '아', '있', '다는', '점', '조혼', '풍습', '유지', '되', '이유', '.', '신부', '지참금', '액수', '지역', '이나', '남편', '재력', '마다', '다르', '지만', '보통', '신부', '1', '명', '당', '소', '6', '마리', '혹은', '3000', '달러', '(', '약', '340', '만', '원', ')', '지불', '한다', '.', '짐바브웨', '여성', '운동가', '에버', '조이스', '윈', '트위터', '“', '짐바브웨', '에서', '여성', '소녀', '자신', '신체', '스스로', '통제', '할', '수', '있', '존재', '로', '여겨', '않', '았', '”', '비판', '했', '.', '국제', '인권', '단체', '휴먼', '라이츠', '워치', '조혼', '소녀', '임신', '강요', '받', ',', '가정폭력', '감금', ',', '성학대', '등', '시달리', '있', '으며', '일부', '로', '인해', '사망', '했', '다고', '밝혔', '.', '소녀', '결혼', '전', '학업', '중단', '며', ',', '결혼', '후', '학교', '계속', '다니', '더라도', '집안일', '이나', '임신', '등', '으로', '퇴학', '경우', '많', '.', '유엔', '짐바브웨', '여성', '3', '분', '1', '정도', '18', '세', '이전', '결혼', '있', '것', '으로', '추산', '했', '.', '코로나', '19', '대유행', '으로', '짐바브웨', '뿐', '아니', '라', '전', '세계', '에서', '조혼', '소녀', '많', '아', '질', '것', '라는', '전망', '나온다', '.', '유니세프', '지난', '3', '월', '공개', '보고서', '에서', '아동', '결혼', '이뤄질', '가능', '성', '학교', '폐쇄', '시', '25', '%,', '가구', '수입', '감소', '시', '3', '%', '늘어난다고', '분석', '했', '.', '유니세프', '향후', '10', '년', '간', '18', '세', '미만', '미성년자', '1', '억', '1000', '만', '명', '강제', '조혼', '할', '것', '으로', '예측', '했', '.', '●', '윤기은', '기자', 'energyeun', '@', 'khan', '.', 'kr', '“', '이번', '주', '이웃', '친구', '두', '명', '또', '결혼', '한다', '.', '내', '차례', '이렇게', '빨리', '올', '줄', '몰랐', '.', '”', '나이지리아', '16', '새', '중학생', '라비', '최근', '부모', '님', '에게', '결혼', '강요', '받', '았', '.', '코로나', '19', '대유행', '이후', '친구', '5', '명', '이미', '결혼', '으로', '학교', '떠나갔', '.', 'https', ':', '/', '/', 't', '.', 'co', '/', 'KAXk', '8', 'YpqU', '5', '—', '플랫', '(', '@', 'flatflat', '38', ')', 'March', '15', ',', '2021', '플랫', '팀', 'twitter', '.', 'com', '/', 'flatflat', '38'], ['인공지능', '(', 'AI', ')', '발명', '뒤', '관련', '기술', '대해', '특허', '출원', '했', '.', '기술', '진보', '성', '이나', '혁신', '성', '등', '다양', '측면', '에서', '기존', '기술', '차별', '성', '뛰어나', '특허', '받', '수', '있', '것', '으로', '인정', '됐', '.', '그렇', '다면', '기술', '특허', '권', '누구', '에게', '돌아가', '야', '할까', '.', '특허', '권', 'AI', '소유자', '에게', '돌아가', '것', '맞', '을까', ',', '아니', '면', 'AI', '개발', '사람', '에게', '돌아가', '야', '할까', '.', '저', '아니', '라면', 'AI', '구동', '시킨', '사람', '에게', '돌아가', '것', '정답', '일까', '.', '혹은', 'AI', '에게', '특허', '권', '야', '할까', '.', '■', 'AI', '실제로', '발명', '했', '다는', '데', '최근', '이런', '고민', '해야', '할', '상황', '실제로', '발생', '했', '.', '미국', 'AI', '개발자', '스티븐', '테일러', '교수', '자신', 'AI', '‘', '부스', '(', 'DABUS', ',', 'Device', 'for', 'the', 'Autonomous', 'Bootstrapping', 'of', 'Unified', 'Sentience', ')', '’', '자신', '모르', '발명', '스스로', '했', '다고', '주장', '면서', '한국', '등', '전', '세계', '16', '개국', '특허', '출원', '했', '.', '테일러', '교수', '자신', 'AI', '발명', '했', '다고', '주장', '발명품', '‘', '식품', '용기', '및', '개선', '된', '주의', '끌', '기', '위한', '장치', '’', '.', '그', '자신', '개발', 'AI', '프로그램', '‘', '부스', '’', '일반', '적', '지식', '대해', '학습', '뒤', '식품', '용기', '등', '2', '개', '서로', '다른', '발명품', '스스로', '창작', '했', '”', '주장', '했', '.', '출원인', '측', '‘', '용기', '결합', '쉽', '표면적', '넓', '어', '열전달', '효율', '좋', '식품', '용기', '’', '‘', '신경', '동작', '패턴', '모방', '해', '눈', '잘', '띄', '도록', '만든', '빛', '내', '램프', '’', '발명품', '핵심', '라는', '설명', '달', '았', '.', '■', '한국', '·', '미국', '“', 'AI', '발명자', '될', '수', '없', '”', '…', '호주', '인정', '대해', '한국', '포함', '해', '미국', '·', '영국', '·', '유럽', '등', '대부분', '국가', '에서', '현행', '특허법', '상', '자연인', '만', '발명자', '될', '수', '있', '다는', '이유', '로', 'AI', '발명자', '로', '기재', '된', '테일러', '교수', '특허', '출원', '거절', '했', '.', '국내', '특허법', '관련', '된', '판례', '자연인', '만', '발명자', '로', '인정', '있', '.', '자연인', '아닌', '회사', '나', '법인', ',', '장치', '등', '발명자', '로', '표시', '할', '수', '없', '도록', '것', '.', '따라', '특허청', 'AI', '발명자', '될', '수', '없', '다는', '판단', '했', '.', '호주', '에서', '다른', '상황', '전개', '됐', '.', '당초', '호주', '특허청', 'AI', '발명자', '로', '인정', '않', '았', '.', '그러나', '최근', '호주', '연방', '법원', '독특', '호주', '특허법', '규정', '유연', '해석', '통해', 'AI', '발명자', '로', '인정', '최초', '판결', '내렸', '.', '항소', '기간', '이달', '29', '일', '까지', '로', ',', '현재', '호주', '특허청', '에서', '항소', '여부', '검토', '중', '.', '호주', '연방', '법원', 'AI', '발명자', '로', '인정', '판결', '내린', '이유', '여러', '가지', '.', '하나', '관련', '법', 'AI', '발명자', '될', '수', '없', '다는', '명시', '적', '규정', '없', '다는', '점', ',', '다른', '하나', '인간', '아닌', '발명자', '배제', '조항', '없', '다는', '점', '.', '발명자', '뜻', '단어', '‘', 'inventor', '’', '‘', '엘', '이베이', '터', '(', 'elevator', ')', '’', '등', '마찬가지', '로', '발명', '물건', '으로', '해석', '할', '수', '있', '다는', '점', '감안', '했', '.', '남아프리카', '공화국', '특허청', '경우', 'AI', '발명자', '될', '수', '있', '는지', '대한', '검토', '생략', '채', '형식', '적', '심사', '만', '거쳐', '지난', '7', '월', '특허', '부여', '했', '.', '남아공', '다른', '나라', '달리', '특허', '등록', '전', '특허청', '에서', '실체', '심사', '않', '특이', '제도', '때문', '이런', '결정', '내려진', '것', '으로', '알려졌', '.', '■', '한국', '특허청', ',', '전문가', '협의', '체', '구성', '해', '대응', '특허청', 'AI', '만든', '발명', '대한', '특허', '인정', '문제', '앞', '으로', '주요', '이슈', '로', '떠오를', '것', '으로', '보', '대한', '방안', '마련', '기', '위해', '‘', 'AI', '발명', '전문가', '협의', '체', '’', '구성', '했', '다고', '11', '일', '밝혔', '.', '12', '일', '오전', '10', '시', '첫', '회의', '온라인', '으로', '열린다', '.', '협의', '체', 'AI', '발명자', '로', '인정', '할지', ',', 'AI', '발명', '소유', '권', '누구', '에게', '줄지', ',', 'AI', '발명', '어떻게', '보호', '할지', '등', '다각', '적', '으로', '논의', '해', '나갈', '예정', '.', '특허청', '관계자', '“', 'AI', '발명자', '관련', '된', '사안', '국제', '적', '이슈', '로', '급부상', '함', '따라', 'AI', '발명', '특허', '로', '보호', '해야', '는지', '초점', '맞춰', '구체', '적', '으로', '검토', '할', '필요', '성', '높', '아', '있', '”', '며', '협의', '체', '구성', '배경', '설명', '했', '.', '협의', '체', '각계각층', '다양', '의견', '수렴', '기', '위해', '법제', ',', '기술', ',', '산업', '분과', '로', '구분', ',', '분과', '별', '로', '15', '명', '내외', 'AI', '전문가', '로', '구성', '했', '.', '법제', '분과', '논문', '발표', '등', 'AI', '발명', '대해', '식견', '높', '교수', ',', '판사', ',', '변호사', '등', '법학', '전문가', '로', '구성', '했', '.', 'AI', '발명자', '인정', '여부', 'AI', '발명', '특허', '권', '누구', '에게', '귀속', '해야', '는지', '등', '법률', '적', '쟁점', '대해', '논의', '할', '계획', '.', '기술', '분과', 'AI', '개발', '있', '대학', '·', '연구원', '등', '전문가', '로', ',', '산업', '분과', 'AI', '상용', '화', '있', '기업', '전문가', '로', '각각', '구성', '했', '.', '앞', '으로', 'AI', '기술', '수준', ',', 'AI', '스스로', '발명', '할', '수', '있', '는지', '등', '기술', '쟁점', 'AI', '발명', '보호', '우리', '산업', '미치', '영향', '등', '대해', '논의', '할', '계획', '.', '김지수', '특허청', '특허', '심사', '기획', '국장', '“', 'AI', '의한', '발명', '보호', '방', '안', '대해', '다양', '전문가', '의견', '수렴', '해', '선제', '적', '미래', '지향', '적', '방안', '마련', '해', '나가', '겠', '”', '밝혔', '.', '윤희일', '선임', '기자', 'yhi', '@', 'kyunghyang', '.', 'com'], ['이준석', '국민', '힘', '대표', '11', '일', '“', '우리', '후보', '곁', '권력욕', '부추기', '하이에나', '아니', '라', '밝', '긍정', '적', '멧돼지', '미어캣', '있', '었', '으면', '좋', '겠', '”', '말', '했', '.', '당내', '친', '윤석열', '(', '친', '윤', ')', '계', '겨냥', '발언', '으로', '풀이', '된다', '.', '대표', '이날', '자신', '사회관', '계망', '서비스', '(', 'SNS', ')', '올린', '글', '당내', '대표', '적', '친', '윤계', '정진석', '의원', '발언', '담긴', '기사', '링크', '면서', '같이', '밝혔', '.', '정', '의원', '이날', 'SNS', '버락', '오바마', '전', '미국', '대통령', '회고록', '<', '약속', '땅', '>', '인용', '해', '“', '남', '내리누르', '아니', '라', '떠받쳐', '올림', '으로써', '힘', '기를', '수', '있', '다는', '것', ',', '이것', '진정한', '현실', '민주주의', '”', '라고', '썼', '.', '대표', '“', '돌고래', '누르', '아니', '라', '고등어', '멸치', '에게', '공정', '정책', '정견', '국민', '당원', '에게', '알릴', '기회', '드리', '것', '”', '라면서', '“', '돌고래', '팀', '그게', '불편', '것', '”', '라고', '적', '었', '.', '정', '의원', '글', '자신', '향한', '지적', '으로', '해석', '것', '.', '앞서', '지난', '6', '일', '두', '사람', '“', '멸치', '고등어', '돌고래', '생장', '조건', '다르', ',', '후보', '중', '이미', '돌고래', '로', '몸집', '키운', '분', '있', '”', '(', '정진석', '의원', ')', ',', '“', '멸치', '돌고래', '공정', '대하', '올바른', '경선', '관리', '”', '(', '이준석', '대표', ')', '라며', '‘', '멸치', '돌고래', '’', '논쟁', '벌인', '바', '있', '.', '대표', '이어', '영화', '<', '라이온', '킹', '>', '주인공', '사자', '조력자', '로', '나오', '멧돼지', '(', '품바', ')', '미어캣', '(', '티몬', ')', '거론', '면서', '“', '‘', '하쿠나', '마타타', '’', '노래', '라도', '같이', '부르', '면서', '좋', '사람', '조력', '받', '으면', '사자', '왕', '된다', '.', '초원', '평화', '덤', '”', '라고', '썼', '.', '정', '의원', '대표', 'SNS', '글', '올라온', '뒤', '다시', '“', '오바마', '좋', '글', '올렸', '뿐', '”', '라며', '“', '참', '딱', '”', '적', '었', '.', '유정', '기자', 'jeongin', '@', 'kyunghyang', '.', 'com'], ['3', '년', '전', '혈액', '암', '판정', '받', '정순기', '씨', '(', '68', ')', '지난해', '10', '월', '항암', '치료', '마친', '뒤', '충북', '음성군', '소이면', '산', '중턱', '농막', '주택', '짓', '지낸다', '.', '재발', '율', '80', '~', '90', '%', '혈액', '암', '재발', '막', '으려면', '공기', '좋', '곳', '에서', '지내', '야', '한다고', '었', '기', '때문', '.', '신부', '전증', '있', '친정어머니', '함께', '모시', '왔', '.', '전기', '몇', '년', '전', '야', '들어온', '산골', '지만', '아들', '냉', '·', '난방', '시설', '해', '주', '물', '끌어올려', '줘서', '지내', '는데', '불편', '함', '없', '었', '.', '문제', '무선', '통신', '었', '.', '통신', '3', '사', '모두', '닿', '않', '지역', '었', '.', '정', '씨', '“', '겨울', '몇', '분', '걸', '어', '내려가', '면', '겨우', '전파', '잡히', '기', '했', '는데', ',', '여름', '되', '니', '숲', '우거져서', '그런지', '전화', '전혀', '터지', '않', '았', '”', '말', '했', '.', '정씨', '어머니', '모두', '위급', '상황', '면', '‘', '119', '’', '연락', '해야', '는데', '전화', '안', '되', '니', '불안', '함', '커졌', '.', 'LG', '유', '플러스', '고객', '센터', '연락', '해도', '처음', '엔', '“', '서비스', '안', '되', '지역', '라', '어쩔', '수', '없', '”', '‘', '정해진', '답', '’', '었', '.', '지난', '6', '월', '25', '일', '3', '번', '째', '로', '정', '씨', '전화', '받', '최은지', '상', '담사', '(', '38', ')', '달랐', '.', '최', '상담', '사', '“', '암투병', '했', '던', '아버지', '생각', '났', '”', '했', '.', '그', '전화', '연결', '방법', '있', '는지', '알아봐', '달', '라고', '사내', '충북', '인프라', '팀', '요청', '했', '.', '그', '“', '얼마나', '절박', '면', '‘', '개인', '비용', '부담', '해서라도', '개선', '싶', '’', '실까', '.', '전화', '안', '될', '땐', '정말', '큰', '일', '날', '수', '있', '겠', '단', '생각', '었', '”', '며', '“', '지푸라기', '라도', '잡', '심정', '으로', '요청', '했', '”', '말', '했', '.', '충북', '인프라', '팀', '김명진', '책임', '(', '39', ')', '현장', '보', '니', '전파', '잡', '아', '중계기', '설치', '것', '불', '가능', '했', '.', '고민', '끝', '전신주', '통해', '통신선', '연결', '키로', '했', '.', '산', '속', '1', '㎞', '넘', '거리', '28', '개', '전신주', '연결', '작업', '었', '.', '한국', '전력', '사정', '듣', '최대', '2', '주', '걸리', '승인', '앞서', '전신주', '사용', '가승', '해', '줬', '.', '그렇게', '지난', '7', '월', '말', '정', '씨', '집', '무선', '통신', '연결', '됐', '.', '월', '3', '만', '원', '대', '시니어', '요금제', '고객', '1', '명', '위해', '공사비', '700', '만', '원', '었', '.', '김', '책임', '“', '개통', '작업', '마치', '고객', '께', '전화', '했', '때', '환호', '지르', '며', '‘', '눈물나', '고맙', '’', '말씀', '신', '기억', '남', '는다', '”', '말', '했', '.', '지난', '10', '일', '집', '에서', '김', '책임', '만난', '정', '씨', '“', '어머니', '나', '나', '나', '언제', '119', '불러야', '할지', '모르', '데', '깊', '산골', '까지', '전화', '연결', '해', '줘서', '얼마나', '고마운지', '모른다', '”', '며', '“', '아들', '불안', '마음', '덜하', '않', '을까', '싶', '어', '기쁘', '”', '말', '했', '.', '그', '김', '책임', '손', '잡', '“', '고객', '센터', '아가씨', '(', '최', '상담', '사', ')', '청년', '(', '김', '책임', ')', '에게', '밥', '라도', '끼', '해', '먹이', '싶', '”', '했', '.', '정', '씨', '둘째', '아들', '조대현', '씨', '(', '42', ')', '“', '어머니', '연락', '안', '되', '니', '걱정', '되', '서', '일', '주일', '2', '~', '3', '번', '씩', '찾아왔', '는데', '이제', '한시름', '놨', '”', '웃', '었', '.', '사연', '전한', 'LG', '유', '플러스', '관계자', '“', '‘', '뼛속', '까지', '고객', '중심', '으로', '탈바꿈', '겠', '’', '마음가짐', '으로', '앞', '으로', '고객', '사정', '잘', '살피', '겠', '”', '말', '했', '.', '조미', '덥', '기자', 'zorro', '@', 'kyunghyang', '.', 'com'], ['고려대', '조국', '전', '법무부', '장관', '정경', '심', '동양', '대', '교수', '딸', '조민', '씨', '입시', '비리', '의혹', '관련', '해', '후속', '조치', '진행', '기', '로', '했', '다고', '11', '일', '밝혔', '.', '고려대', '이날', '정', '교수', '자녀', '입시', '비리', '사모', '펀드', '투자', '의혹', '사건', '항소심', '에서', '징역', '4', '년', '선고', '받', '자', '오후', '입장', '문', '내', '“', '오늘', '2', '심', '판결', '나왔', '으므로', '판결문', '확보', ',', '검토', '후', '본교', '학사', '운영', '규정', '의거', '여', '후속', '조치', '진행할', '것', '”', '라고', '전했', '.', '지난', '4', '월', '9', '일', '고려대', '교육부', '보낸', '공문', '통해', '“', '현재', '사법', '적', '판단', '진행', '중', '므로', '최종', '판결', '이후', '관련', '규정', '따른', '조치', '진행할', '것', '”', '라며', '“', '규정', '의하', '면', '제출', '전형', '자료', '중대', '하자', '발견', '될', '경우', '입학', '취소', '처리', '심', '위원회', '에서', '정해진', '절차', '따라', '처리', '도록', '돼', '있', '으나', '입시', '자료', '폐기', '지침', '따라', '현재', '제출', '여부', '입증', '된', '전형', '자료', '가지', '있', '않', '”', '밝힌', '바', '있', '.', '서울', '고법', '형사', '1', '-', '2', '부', '(', '재판장', '엄상필', ')', '이날', '항소심', '에서', '정', '교수', '입시', '비리', '관련', '해', '받', '있', '7', '개', '혐의', '모두', '유죄', '로', '판단', '했', '.', '재판부', '딸', '조', '씨', '단국', '대', '과학', '연구소', '인턴', '확인', '서', ',', '공주', '대', '생명', '공학', '연구소', '인턴', '확인', '서', ',', '서울대', '공익', '인권법', '센터', '인턴', '확인', '서', ',', '부산', '아쿠아', '팰리스', '호텔', '실습', '및', '인턴', '확인', '서', ',', '한국', '과학', '기술', '연구원', '(', 'KIST', ')', '인턴', '확인', '서', ',', '동양', '대', '총장', '표창장', ',', '동양', '대', '어', '학교', '육', '원', '보조', '연구원', '경력', '허위', '로', '판단', '했', '.', '단국', '대', '과학', '연구소', '인턴', '활동', '조', '씨', '고교', '생활', '기록부', '담겨', '고려대', '입시', '활용', '됐', '.', '문광호', '기자', 'moonlit', '@', 'kyunghyang', '.', 'com'], ['서울', '코로나', '19', '하루', '확진', '자', '수', '역대', '최다', '치를', '경신', '했', '.', '서울시', '신규', '확진', '자', '600', '명', '대로', '연일', '발생', '면', '병상', '부족', '문제', '생길', '수', '있', '다고', '우려', '했', '.', '서울시', '11', '일', '“', '전날', '코로나', '19', '신규', '확진', '자', '661', '명', '발생', '했', '”', '밝혔', '.', '종전', '최다', '치였', '던', '지난', '8', '월', '13', '일', '(', '637', '명', ')', '뛰어넘', '수준', '.', '현재', '주요', '집단', '감염', '발생지', '서초구', '종교', '시설', '(', '누적', '확진', '자', '수', '40', '명', ')', ',', '중랑구', '교육', '시설', '(', '10', '명', ')', ',', '구로구', '직장', '(', '13', '명', ')', ',', '서대문구', '실내', '체육', '시설', '(', '36', '명', ')', '등', '.', '박유미', '서울시', '재난', '안전', '대책', '본부', '방역', '통제관', '이날', '서울', '시청', '에서', '코로나', '19', '발생', '현황', '설명', '면서', '“', '지역', '사회', '숨', '전파', '여전히', '많', ',', '휴가', '후', '복귀', '사람', '검사', '받', '으면서', '검사', '량', '최근', '많이', '늘', '었', '”', '라며', '“', '최근', '전파력', '강한', '델타', '바이러스', '영향', '으로', '확', '산세', '지속', '해서', '나타나', '있', '”', '라고', '설명', '했', '.', '그러', '면서', '“', '일상', '곳곳', '에서', '감염', '지속', '되', '있', '기', '때문', '어디', '든지', '안심', '할', '수', '있', '상황', '아니', '”', '라며', '“', '무엇', '보다', '개인', '간', '접촉', '최소', '화', '해', '주', '기', '바란다', '.', '광복절', '연휴', '기간', '지역', '간', '이동', ',', '여행', ',', '외출', '최대한', '자제', '해', '달', '라', '”', '라고', '말', '했', '.', '확진', '자', '크', '늘', '었', '지만', ',', '지난해', '12', '월', '3', '차', '대유행', '당시', '처럼', '병상', '부족', '문제', '아직', '나타나', '않', '았', '.', '박', '방역', '통제관', '“', '서울', '감염병', '전담', '병원', '병상', '1997', '개', '가동', '률', '75', '.', '8', '%', '로', '현재', '484', '개', '병상', '남', '상황', '”', '라며', '“', '지금', '까지', '병상', '대기', '확진', '자', '없', '었', '”', '했', '.', '다만', '“', '오늘', '처럼', '600', '명', '이상', '확진', '자', '며칠', '동안', '계속', '나온다면', '병상', '부족', '문제', '생길', '가능', '성', '높', '”', '라며', '“', '중앙', '사고', '수습', '본부', '민간', '병원', ',', '시', '·', '간', '협의', '통해', '(', '병', '상', '확보', '관련', ')', '최', '종안', '꽤', '많이', '진행', '됐', '조금', '만', '있', '으면', '발표', '될', '것', '”', '라고', '말', '했', '.', '허남', '설', '기자', 'nsheo', '@', 'kyunghyang', '.', 'com'], ['중국', '에서', '6000', 'km', '떨어진', '발트해', '연안', '국가', '리투아니아', '‘', '대만', '문제', '’', '두', '중국', '갈등', '빚', '있', '.', '리투아니아', '대만', '대표부', '허용', '했', '다는', '이유', '로', '중국', '정부', '대사', '소환', '요구', '데', '어', '양국', '단교', '가능', '성', '거론', '된다', '.', '중국', '관영', '매체', '환구', '시보', '11', '일', '전문가', '인용', '해', '“', '리투아니아', '중국', '도전', '행동', '계속', '한다면', '양국', '단교', '국면', '으로', '것', '배제', '할', '수', '없', '”', '보도', '했', '.', '전날', '중국', '외교부', '대면', '명의', '로', '“', '리투아니아', '대만', '대표', '처', '설립', '허용', '해', '중국', '주권', '영토', '보전', '심각', '침해', '했', '”', '며', '자국', '대사', '소환', '겠', '다고', '밝혔', '.', '리투아니아', '정부', '주중', '대사', '불러들이', '라고', '요구', '했', '.', '중국', '외교부', '“', '우리', '리투아니아', '정부', '즉각', '잘못', '바로잡', '실질', '적', '조처', '동시', ',', '잘', '못', '된', '길', '더', '멀리', '말', '것', '당부', '한다', '”', '고도', '밝혔', '.', '중국', '해외', '대사', '소환', '것', '26', '년', '만', '.', '대사', '소환', '단교', '다음', '으로', '심각', '조치', '로', '여겨진다', '.', '중국', '1995', '년', '미국', '정부', '리덩후이', '전', '대만', '총통', '방미', '허용', '했', '때', '당시', '미국', '주재', '대사', '소환', '했', '.', '리투아니아', '중국', '물러서', '않', '전망', '.', '사우스', '차이나', '모닝', '포스트', '(', 'SCMP', ')', '따르', '면', '10', '일', '열린', '리투아니아', '의회', '임시', '본회의', '에서', '“', '지기', '만타스', '파', '빌리', '오', '니스', '집권', '조국', '연합', '-', '기독', '민주당', '의원', '“', '우리', '리투아니아', '통상', '상호', '적', '조치', '취하', '만큼', '우리', '주중', '대사', '소환', '될', '것', '”', '라고', '말', '했', '.', '다만', '야권', '농민', '녹색연합', '소속', '지에드', '리우스', '서', '플리스', '의원', '“', '대만', '문제', '좀', '더', '외교', '적', '으로', '다룰', '필요', '있', '”', '말', '했', '.', '이날', '회의', '당초', '벨라루스', '국경', '페쇄', '문제', '논의', '기', '위해', '열', '렸으나', '중국', '측', '요구', '로', '대사', '소환', '문제', '함께', '다뤄졌', '.', '네드', '프라이스', '미', '국무부', '대변인', '이날', '정례', '브리핑', '에서', '중국', '리투아니아', '대한', '보복', '규탄', '한다고', '말', '했', '.', '리투아니아', '대만', '문제', '로', '중국', '심기', '불편', '것', '이번', '처음', '아니', '.', '리투아니아', '지난', '5', '월', '중국', '주도', '동유럽', '인프라', '투자', '논의', '협의', '체인', '‘', '17', '+', '1', '정상', '회의', '’', '탈퇴', '했', '.', '같', '달', '리투아니아', '의회', '중국', '신장', '위구르', '지역', '주민', '대한', '중국', '정부', '정책', '‘', '인종', '학살', '’', '로', '규정', '결의안', '통과', '시켰', '.', '지난달', '대만', '코로나', '19', '백신', '2', '만', '회분', '지원', '했', '.', '발트', '3', '국', '으로', '불리', '리투아니아', '·', '라트비아', '·', '에스토니아', '과거', '러시아', '제국', '합병', '된', '상태', '에서', '소련', '편입', '됐', '.', '공산혁명', '없이', '강제', '로', '공산주의', '체제', '편입', '된', '것', '.', '소련', '상대', '로', '민주', '화', '시위', '로', '숱하', '벌였', '1991', '년', '독립', '했', '.', '이런', '경험', '으로', '큰', '나라', '작', '나라', '압박', '것', '강한', '거', '부감', '갖', '있', '다고', '평가', '된다', '.', '리투아니아', '중국', '대한', '경제', '의존도', '낮', '.', '올해', '상반기', '리투아니아', '대', '중국', '무역', '적자', '8', '억', '2070', '만', '달러', '(', '약', '9400', '억', '원', ')', '로', ',', '전년', '보다', '33', '%', '증가', '것', '으로', '나타났', ',', '17', '+', '1', '협의', '체', '탈퇴', '배경', '으로', '거론', '된다', '.', '정재원', '국민대', '교수', '“', '리투아니아', '역사', '적', '경험', '더', '해', '중국', '경제', '적', '으로', '얽혀', '있', '않', '다는', '점', '리투아니아', '행보', '가능', '했', '”', '말', '했', '.', '박은하', '기자', 'eunha', '999', '@', 'kyunghyang', '.', 'com'], ['땅', '투기', '사건', '으로', '불거진', '한국', '토지', '주택', '공사', '(', 'LH', ')', '조직', '개편', '논의', '두', '조직', '쪼개', '‘', '분리', '’', '보다', '주거', '복지', '등', 'LH', '본연', '기능', '강화', '방향', '초점', '맞춰야', '한다는', '지적', '나왔', '.', '참여연대', '민주', '사회', '위한', '변호사', '모임', '(', '민변', ')', '11', '일', '서울', '종로구', '참여연대', '에서', '‘', 'LH', '투기', '사건', '어디', '로', '있', '나', '’', '토론회', '열', '땅', '투기', '사태', '이후', '상황', '점검', '향후', '과제', '논의', '했', '.', 'LH', '사태', '계기', '로', '공직자', '투기', '방지', '등', '제도', '적', '시스템', '구축', '했', '다고', '평가', '면서', ',', '현재', '논의', '되', '있', 'LH', '조직', '개편', '안', '근본', '적', '해결', '방안', '되', '긴', '어렵', '다고', '지적', '했', '.', '정부', '주거', '복지', '기능', '별도', '로', '분리', '해', '모회사', '로', '두', ',', '토지', '·', '주택', '부문', '통합', '된', '현재', '상태', '로', '유지', '되', '자회사', '로', '만드', '‘', '주거', '복지', '-', '주택', '·', '토지', '수직', '분리', '’', '방', '안', '무게', '두', 'LH', '개편', '안', '검토', '중', '.', '지난', '3', '월', 'LH', '직원', '3', '기', '신', '도시', '등', '땅', '투기', '사태', '불거진', '후', '정부', '“', '해체', '수준', '혁신', '”', '언급', '면서', '조직', '개편', '안', '논의', '됐', '.', '임재만', '세종', '대', '부동', '산학', '교수', '“', '정부', '내놓', '개편', '안', '방향', '목적', '불분명', '토지', '주택', '개발', '계획', '수립', '주체', ',', '주거', '복지', '기능', '강화', '·', '수행', '위한', '재원', '마련', '제시', '되', '않', '았', '”', '지적', '했', '.', '이어', '“', '기존', '교차보', '조', '방식', '극대', '화', '할', '수', '있', '개편', '방향', '으로', ',', '오히려', '토지', '주택', '개발', '기능', '에서', '공공', '성', '약화', '될', '위험', '크다', '”', '말', '했', '.', '교수', '토지', '개발', ',', '주택', '건설', ',', '주거', '복지', '등', 'LH', '맡', '다양', '업무', '분리', '해', '전문', '성', '강화', ',', '공공', '택지', '민간', '매각', '최소', '화', '해', '공공', '성', '강화', '해야', '한다고', '주장', '했', '.', '또', '공', '적', '자원', '확보', '기능', '주거', '복지', '서비스', '기능', '나눠서', '맡', '수', '있', '방향', '으로', 'LH', '조직', '개편', '이뤄져야', '한다고', '말', '했', '.', '최은영', '한국', '도시', '연구', '소장', '정부', '논의', '중', '개편', '안', '두', '“', '‘', '환골탈태', '없', '해체', '’', '로', '이어질', '우려', '크다', '”', '며', '“', 'LH', '‘', '분리', '’', '목적', '아니', '라', '모든', '사람', '주거', '권', '향상', '개혁', '목적', '되', '어야', '한다', '”', '주장', '했', '.', '징벌', '적', '성격', '가진', '‘', '조직', '분리', '’', '만', '초점', '두', '개편', '이뤄지다', '보', '면', ',', '오히려', 'LH', '담당', '해', '온', '주거', '복지', '기능', '흔들리', '결과', '가져올', '수', '있', '다는', '것', '.', '최', '소장', '“', '조직', '개편', '기존', '교차보', '조', '방식', '탈피', ',', '공공', '임대', '주택', '공급', '부터', '관리', '까지', '모든', '과정', '에서', '주거', '복지', '강화', '방향', '으로', '논의', '되', '어야', '한다', '”', '말', '했', '.', '박인권', '서울대', '환경', '대학원', '교수', '장기', '적', '으로', '‘', '토지', '은행', '’', '도입', '해', '공공', '자산', '비중', '높이', ',', '단기', '적', '으로', '일정', '부분', '토지', '부분', '적', '으로', '비축', '방안', '도입', '해야', '한다고', '주장', '했', '.', '박', '교수', '“', 'LH', '혁신', '목표', '부동산', '개발', '이익', '사', '적', '편취', '막', ',', '주거', '복지', '국토', '균형발전', '등', 'LH', '본연', '기능', '원활히', '수행', '도록', '것', '돼야', '한다', '”', '말', '했', '.', 'LH', '사태', '거치', '면서', '부동산', '투기', '억제', '나', '자산', '불', '평등', '완화', '할', '대책', '부족', '다는', '지적', '나왔', '.', '이강훈', '변호사', '“', '투기', '방지', '위해선', '부동산', '투기', '로', '얻', '경제', '적', '이익', '환수', '필요', '.', '토지', '초과', '이득', '세법', '부활', ',', '종부', '세', '토지', '분', '강화', '등', '세제', '개혁', '대한', '본격', '적', '논의', '이뤄져야', '할', '때', '”', '라며', '“', '현재', 'LH', '사태', '계기', '로', '이뤄진', '법률', '제정', '및', '개정', '노력', '절반', '성공', '”', '라고', '평가', '했', '.', '김희진', '기자', 'hjin', '@', 'kyunghyang', '.', 'com'], ['독일', '등', '유럽연합', '(', 'EU', ')', '6', '개', '회원국', '망명', '신청', '거절', '된', '아프가니스탄', '강제', '추방', '계속', '보장', '해', '달', '라고', 'EU', '집행', '위원회', '요구', '했', '.', '아프가니스탄', '정부', '탈레반', '전투', '격화', '되', '며', '향후', '난민', '급증', '할', '가능', '성', '우려', '것', '.', '로이터', '등', '현지', '매체', '10', '일', '(', '현지', '시간', ')', '독일', '·', '오스트리아', '·', '네덜란드', '·', '덴마크', '·', '벨기에', '·', '그리스', '정부', '최근', 'EU', '집', '행위', '아프간', '추방', '관련', '된', '서한', '보냈', '다고', '전했', '.', '정부', '서한', '에서', '“', '망명', '신청', '거부', '된', '아프간', '돌려보내', '것', '중단', '것', '잘못', '된', '신호', '줄', '수', '있', ',', '더', '많', '아프간', '시민', '자국', '떠나', 'EU', '로', '향하', '도록', '만들', '수', '있', '”', '지적', '것', '으로', '전해졌', '.', '벨기에', '망명', '·', '주', '담당', '장관', '이날', '사회관', '계망', '서비스', '(', 'SNS', ')', '올린', '글', '에서', 'EU', '집', '행위', '특정', '아프간', '대한', '강제', '추방', '계속', '보장', '할', '것', '요청', '했', '다고', '전했', '.', '그', '“', '국가', '안', '전하', '않', '다고', '해서', '그', '국가', '모든', '사람', '보호', '받', '권리', '있', '것', '아니', '”', '라고', '말', '했', '.', '앞서', '아프간', '정부', '망명', '거부', '된', '자국민', '대한', '강제', '추방', '오', '10', '월', '까지', '중단', '해', '줄', '것', 'EU', '요청', '했', '.', '이슬람', '무장', '조직', '탈레반', '전투', '로', '인해', '아프간', '내', '안보', '상황', '악화', '되', '있', '기', '때문', '.', '탈레반', '미국', ',', '영국', ',', '독일', '등', '국제', '동맹군', '철군', '사실상', '마무리', '되', '자', '아프간', '내', '세력', '급속도', '로', '확장', '있', '.', '국제', '주', '기구', '측', '이날', '성명', '내', '“', '지난', '며칠', '간', '아프간', '전투', '격화', '됐으며', '이미', '500', '만', '명', '넘', '사람', '거처', '잃', '고통', '받', '있', '”', '전했', '.', '아프간', '정부', '요청', '이후', '스웨덴', '핀란드', '추방', '중단', '했', '.', '하지만', '다수', 'EU', '회원국', '중동', '에서', '유럽', '으로', '100', '만', '명', '넘', '밀려든', '2015', '∼', '2016', '년', '유럽', '난민', '위기', '재현', '되', '않', '을까', '우려', '있', '.', '아프간', '지난해', 'EU', '내', '망명', '신청자', '10', '.', '6', '%', '차지', '할', '정도', '로', '많', '비중', '차지', '했', '.', '다만', 'EU', '고위', '관계자', 'AP', '통신', '인터뷰', '에서', '“', '아프간', '이주민', '대', '규모', '유입', '따른', '위협', '없', '”', '라며', '“', '난민', '위기', '근처', '않', '상태', '”', '라고', '말', '했', '.', 'EU', '집', '행위', '6', '개국', '이번', '요청', '“', '준비', '되', '면', '답변', '할', '것', '”', '라는', '입장', '밝혔', '.', '문제', '오', '18', '일', 'EU', '내무부', '장관', '임시회', '때', '논의', '될', '것', '으로', '예상', '된다', '.', 'EU', '집', '행위', '대변인', '아프간', '강제', '송환', '기', '안전', '곳', '인지', '묻', '질문', '“', '(', '망명', '거부', '된', ')', '본국', '복귀', '가능', '한지', '평가', '것', '각', '회원국', '달려', '있', '”', '말', '했', '.', '박용하', '기자', 'yong', '14', 'h', '@', 'kyunghyang', '.', 'com'], ['김명수', '대법원장', '11', '일', '새', '대법관', '오경미', '광주', '고법', '전주', '재판부', '고등', '법원', '판사', '(', '53', '·', '사법연수원', '25', '기', ')', '임명', '제청', '했', '.', '국회', '인사', '청문회', '거쳐', '문재인', '대통령', '임명', '면', '현직', '법관', '중', '에서', '고법', '부장', '판사', '거치', '않', '첫', '대법관', '탄생', '한다', '.', '대법원', '이날', '“', '김', '대법원장', '임기', '만료', '로', '퇴임', '예정', '이기택', '대법관', '(', '62', '·', '14', '기', ')', '후임', '으로', '오경미', '고법', '판사', '임명', '제청', '했', '”', '며', '“', '사법부', '독립', '국민', '기본', '권', '보장', '대한', '의지', ',', '사회', '적', '약자', '소수자', '보호', '대한', '확고', '신념', '등', '대법관', '으로서', '자질', '갖췄', '뿐', '만', '아니', '라', '합리', '적', '으로', '공정', '판단', '능력', ',', '폭넓', '법률', '지식', '등', '뛰어난', '능력', '겸비', '했', '다고', '판단', '했', '”', '밝혔', '.', '대법관', '후보', '추천', '위원회', '지난달', '29', '일', '오', '고법', '판사', ',', '손봉기', '대구', '지법', '부장', '판사', '(', '56', '·', '22', '기', ')', ',', '하명호', '고려대', '법학', '전문', '대학원', '교수', '(', '53', '·', '22', '기', ')', '등', '3', '명', '김', '대법원장', '에게', '추천', '했', '.', '현', '정부', '대법원장', '·', '대법관', '인사', '에서', '처음', '으로', '최종', '후보', '고법', '부장', '판사', '포함', '되', '않', '았', '.', '오', '고법', '판사', '최종', '후보', '3', '명', '중', '유일', '여성', '었', '.', '대법관', '으로', '임명', '되', '면', '14', '명', '대법원장', '·', '대법관', '중', '여성', '4', '명', '으로', '늘어난다', '.', '역대', '여성', '대법관', '7', '명', '불과', '했', '.', '오', '고법', '판사', '전북', '익산', '출신', '으로', '서울대', '사법', '학과', '졸업', '했', '.', '1996', '년', '서울', '지법', '판사', '로', '임관', '해', '법원', '도서관', '조사', '심', '관', ',', '사법연수원', '교수', ',', '부산', '지법', '부장', '판사', ',', '서울', '고법', '판사', '등', '지냈', '.', '대법원', '산하', '커뮤니티', '‘', '현대', '사회', '성범죄', '연구회', '’', '창립', '해', '초대', '회장', '맡', '있', '.', '그', '지난', '2', '월', '박상옥', '대법관', '후임', '후보', '15', '명', '이름', '올렸', '.', '허', '진무', '기자', 'imagine', '@', 'kyunghyang', '.', 'com'], ['정의', '기억', '연대', '(', '정의연', ')', '일본군', '‘', '위안부', '’', '피해자', '김학순', '할머니', '피해', '사실', '증언', '30', '주년', '사흘', '앞둔', '11', '일', '제', '1504', '차', '수요', '시위', '세계', '연대', '집회', '형식', '으로', '열', '었', '.', '정의연', '11', '일', '서울', '종로구', '옛', '주한', '일본', '대사관', '앞', '에서', '6', '개국', '84', '개', '단체', '함께', '집회', '열', '“', '오랫동안', '침묵', '해야', '했', '던', '국내외', '‘', '위안부', '’', '피해자', '김', '할머니', '용기', '‘', '미투', '(', '나', '고발', '한다', ')', '’', '로', '화답', '했', ',', '피해', '생존자', '용기', '있', '증언', '정의', '로운', '세계', '시민', '‘', '위드', '유', '(', '당신', '함께', '한다', ')', '’', '로', '화답', '했', '”', '며', '“', '덕분', '성폭력', '보편', '적', '인권', '문제', '됐으며', ',', '피해자', '중심', '원칙', ',', '진실', '정의', ',', '배상', '재발', '방지', '라는', '전시', '성폭력', '관한', '국제법', '적', '원칙', '세워졌', '”', '밝혔', '.', '이날', '시위', '참', '여자', '교대', '로', '발언', '1', '시위', '형태', '로', '진행', '됐', '.', '이효린', '한국', '사이버', '성', '폭력', '대응', '센터', '활동가', '“', '피해', '경험자', '‘', '말', '기', '’', '세상', '구조', '균열', '낼', '수', '있', '”', '며', '“', '김', '할머니', '용기', '나와', '동료', '에게', '용기', '불어넣', '었', '듯이', '이제', '우리', '세상', '바꿀', '것', '라', '믿', '는다', '”', '했', '.', '현장', '함께', '못한', '독일', '오세아니아', '등', '각국', '활동가', '영상', '통해', '연대', '뜻', '밝혔', '.', '한정', '화', '독일', '코리아', '협의회', '대표', '“', '30', '년', '전', '김', '할머니', '용기', '의지', '현', '독일', '청소년', '에게', '전달', '해', '여성', '대한', '폄하', '폭력', '미래', '세대', '반복', '되', '않', '도록', '교육', '겠', '”', '말', '했', '.', '오', '14', '일', '김', '할머니', '1991', '년', '한국', '정신대', '문제', '대책', '협의회', '사무실', '에서', '기자', '회견', '통해', '‘', '위안부', '’', '피해', '생존자', '중', '최초', '로', '피해', '사실', '증언', '날', '.', '2012', '년', '‘', '제', '11', '차', '일본군', '위안부', '문제', '해결', '위한', '아시아', '연대', '회의', '’', '이날', '기리', '기', '위해', '2012', '년', '매년', '8', '월', '14', '일', '‘', '세계', '일본군', '위안부', '기림', '일', '’', '로', '정했', '.', '2017', '년', '국회', '본회의', '에서', '‘', '일제', '일본군', '위안부', '피해자', '생활', '안정', '지원', '및', '기념사업', '등', '관한', '법률', '’', '개정안', '의결', '되', '면서', '국가', '기념일', '로', '지정', '됐', '.', '정의연', '공개', '증언', '30', '주년', '기념', '해', '오', '13', '일', '국제', '학술', '대회', ',', '14', '일', '토크', '콘서트', '‘', '내', '기억', '김학순', '’', '나비', '문화', '제', '등', '진행', '한다', '.', '민서', '영', '기자', 'mins', '@', 'kyunghyang', '.', 'com'], ['11', '일', '기준', '으로', '21', '대', '국회', '8875', '건', '법안', '계류', '돼', '있', '.', '하루', '만', '수십', '건', '법안', '발의', '되', ',', '상당수', '법안', '상임', '위원회', '에서', '논의', '조차', '되', '못한', '채', '사라진다', '.', '법안', '운명', '위태', '롭', '.', '강간죄', '구성', '요건', '폭행', '또는', '협박', '으로', '규정', '현행법', '‘', '동의', '여부', '’', '추가', '형법', '제', '32', '장', '일부', '개정안', '.', '‘', '비동', '강간죄', '’(', '동의', '않', '성관', '계', '강간', ')', '라', '불리', '개정안', '2018', '년', '미투', '운동', '이후', '가장', '중요', '성폭력', '법', '개정', '으로', '꼽히', '지만', '지난해', '발의', '된', '뒤', '1', '년', '가까이', '잠들', '어', '있', '.', '류', '호정', '정의당', '의원', '지난달', '29', '일', '30', '일', '국회', '의원', '회관', '돌', '며', '친전', '(', '직접', '쓴', '편지', ')', '전달', '했', '.', '강간죄', '개정', '찬성', '는지', '묻', ',', '9', '월', '정기', '국회', '때', '법안', '논의', '될', '수', '있', '도록', '함께', '해', '달', '라는', '내용', '담', '았', '.', '2019', '년', '3', '월', '전국', '208', '개', '여성', '인권', '단체', '연합', '‘', '강간죄', '’', '개정', '위한', '연대', '회의', '(', '2021', '년', '2', '월', '기준', '223', '개', '연합', ')', '지난해', '4', '월', '총선', '앞두', '후보자', '1430', '명', '에게', '강간죄', '개정', '찬성', '는지', '물', '었', '.', '후보', '204', '명', '찬성', '한다고', '답', '했', ',', '그', '중', '45', '명', '당선', '됐', '.', '류', '의원', '그', '45', '명', '에게', '다시', '찬반', '여부', '물', '것', '.', '결과', '어땠을까', '.', '45', '명', '의원', '친전', '회신', '결과', '강간죄', '개정', '논의', '나온', '배경', ',', '강간죄', '둘러싼', '법', '개정', '역사', '정리', '해', '봤', '.', '자세', '내용', '경향신문', '인터랙티브', '페이지', '에서', '확인', '할', '수', '있', '.', '▶', '바로', '기', ':', '“', '법', '또', '사라지', '중', '입니까', '”', '…', '비동', '강간죄', '발', '1', '년', ',', '여전히', '계류', '중', '링크', '클릭', '되', '않', '시', '주소창', 'https', ':', '/', '/', 'news', '.', 'khan', '.', 'co', '.', 'kr', '/', 'kh', '_', 'storytelling', '/', '2021', '/', 'lawrevision', '/', '입력', '해', '주', '세요', '.', '장', '은교', '기자', 'indi', '@', 'kyunghyang', '.', 'com', '김유진', '기자', '이수민', '인턴', '기자'], ['SK', '텔레콤', '미디어', '·', '커머스', '·', '융합', '보안', '등', '‘', '뉴', 'ICT', '(', '정보', '통신', '기술', ')', '’', '사업', '분야', '앞세워', '올', '2', '분기', '호실', '적', '거뒀', '.', 'SKT', '연결', '재무제표', '기준', '올', '2', '분기', '실적', '매출', '4', '조', '8183', '억', '원', ',', '영업', '이익', '3966', '억', '원', '라고', '11', '일', '발표', '했', '.', '지난해', '2', '분기', '대비', '매출', '영업', '이익', '각각', '4', '.', '7', '%,', '10', '.', '8', '%', '올랐', '.', '당기', '순이익', '7957', '억', '원', '으로', '전년', '동기', '대비', '84', '%', '증가', '했', '.', 'SKT', '“', 'SK', '하이닉스', '지분', '법', '이익', '등', '영향', '으로', '당기', '순이익', '늘', '었', '”', '설명', '했', '.', '사업', '별', '로', '뉴', 'ICT', '관련', '매출', '1', '조', '5779', '억', '원', '으로', '전년', '동기', '대비', '10', '.', '1', '%', '증가', '했', '.', 'SKT', '뉴', 'ICT', '사업', '작년', '2', '분기', '부터', '5', '개', '분기', '연속', '전년', '동기', '대비', '두', '자릿수', '성장', '어', '있', '.', 'SK', '텔레콤', '“', '뉴', 'ICT', '사업', '전체', '매출', '에서', '차지', '비중', '꾸준히', '31', '~', '32', '%', '대', '수준', '유지', '있', '”', '며', '“', '전체', '매출', '3', '분', '1', '신사업', '담당', '될', '것', '”', '라고', '설명', '했', '.', 'SK', '브로드밴드', '·', '미디어', '에스', '·', '웨이브', '등', '미디어', '사업', '에서', 'IPTV', '가입자', '순증', '효과', '등', '으로', '매출', '전년', '동기', '대비', '8', '.', '7', '%', '증가', '9971', '억', '원', ',', '영업', '이익', '4', '.', '9', '%', '늘어난', '642', '억', '원', '기록', '했', '.', 'ADT', '캡스', '등', '융합', '보안', '(', 'S', '&', 'C', ')', '사업', '매출', '영업', '이익', '각각', '작년', '동기', '대비', '14', '.', '5', '%', '증가', '3698', '억', '원', ',', '3', '.', '1', '%', '감소', '286', '억', '원', '기록', '했', '.', '11', '번가', 'SK', '스토아', '로', '꾸려진', '커머스', '사업', '매출', '작년', '같', '기간', '보다', '9', '.', '6', '%', '증가', '2110', '억', '원', '었', '.', '이동', '통신', '매출', '작년', '동기', '대비', '2', '.', '7', '%', '증가', '해', '3', '조', '216', '억', '기록', '했', '.', '영업', '이익', '21', '.', '7', '%', '증가', '3284', '억', '원', '었', '.', '2', '분기', '말', '5', 'G', '서비스', '가입자', '770', '만', '명', '으로', '전', '분기', '대비', '96', '만', '명', '증가', '했', '.', 'SKT', '올해', '7', '월', '출시', '메타', '버스', '플랫', '폼', '‘', '이프', '랜드', '(', 'ifland', ')', '’', '로', '메타', '버스', '대중', '화', '추진', '한다', '.', 'SKT', '통신', '·', 'AI', '(', '인공지능', ')', '·', '디지털', '인프라', '기반', '존속', '회사', '반도체', '·', 'ICT', '투자', '전문', '신설', '회사', '로', '적', '분할', '추진', '한다', '.', '오', '10', '월', '12', '일', '주주', '총회', '에서', '분할', '획정', '되', '면', 'SKT', '신설', '회사', '반도체', '·', '플랫', '폼', '·', '미래', '혁신', '기술', '투자', '로', '현재', '약', '26', '조', '원', '순', '자산', '가치', '2025', '년', '까지', '75', '조', '원', '규모', '로', '늘릴', '계획', '.', '.', '윤', '풍영', 'SKT', 'CFO', '“', '뉴', 'ICT', '무선', '통신', '영역', '에서', '성장', '어', '동시', '신', '성장', '동력', '발굴', '해', '주주', '및', '기업', '가치', '극대', '화', '할', '것', '”', '라며', '“', '적', '분할', '존속', '회사', '신설', '회사', '크', '성장', '출발점', '되', '도록', '준비', '겠', '”', '말', '했', '.', '이유진', '기자', 'yjleee', '@', 'kyunghyang', '.', 'com'], ['문재인', '대통령', '대한', '부적절', '발언', '으로', '물의', '일으킨', '소마', '히로히사', '(', '相馬', '弘', '尙', ')', '주한', '일본', '대사관', '총괄', '공사', '11', '일', '귀국', '길', '올랐', '.', '일본', '매체', '“', '사실', '상', '경질', '됐', '”', '보도', '했', '.', '지지', '통신', '등', '현지', '매체', '소마', '전', '공사', '이날', '오전', '인천', '국제공항', '통해', '일본', '도쿄', '(', '東京', ')', '로', '출국', '했', '다고', '보도', '했', '.', '지지', '통신', '“', '일본', '정부', '정례', '인사', '로', '취급', '해', '1', '일자', '로', '소마', '에게', '귀국', '명령', '내렸으나', '사실상', '경질', '로', '보인다', '”', '전했', '.', '앞서', '지난', '10', '일', '모테기', '도시미쓰', '(', '茂', '木', '敏', '充', ')', '일본', '외무', '상', '정례', '기자', '회견', '에서', '소마', '전', '공사', '인사', '사실상', '경질', '냐는', '질문', '“', '소마', '전', '공사', '대해서', '8', '월', '1', '일자', '로', '귀청', '명령', '상황', '”', '라며', '구체', '적', '답변', '피했', '.', '이어', '“', '재외', '근무', '직원', '인사', '대해서', '지금', '까지', '말씀', '드린', '것', '처럼', '재임', '기간', '이나', '전체', '로테이션', '(', '직원', '순환', '배치', ')', '등', '고려', '해', '적시', '적절히', '판단', '있', '”', '말', '바', '있', '.', '다만', '모테기', '외무', '상은', '“', '또한', '소마', '전', '공사', '발언', '대해서', '어떠', '상황', ',', '문맥', '상', '에서', '이뤄진', '것', '라고', '해도', '외교관', '으로서', '극히', '부적절', '발언', '것', '대해서', '매우', '유감', '스럽', '생각', '한다', '”', '기존', '입장', '거듭', '밝혔', '.', '소마', '지난달', '15', '일', '한국', '기자', '만나', '·', '일', '관계', '개선', '려는', '문', '대통령', '노력', '대해', '‘', '마스터베이션', '’', '라는', '표현', '써서', '논란', '됐', '.', '·', '일', '양국', '도쿄', '올림픽', '계기', '로', '정상', '회담', '개최', '논의', '던', '중', '나온', '발언', '외교', '문제', '로', '비화', '했', ',', '·', '일', '정상', '회담', '무산', '으로', '이어졌', '다는', '지적', '나왔', '.', '소마', '전', '공사', '후임', '으로', '구마가이', '나오키', '(', '熊', '谷', '直', '樹', ')', '정무', '공사', '임명', '됐', '.', '이윤정', '기자', 'yyj', '@', 'kyunghyang', '.', 'com'], ['사전', '청약', '부활', '올해', '수도', '권', '공공', '분양', '물량', '3', '만', '가구', '넘', '어', '2000', '년', '이후', '최대', '수준', '것', '으로', '집계', '됐', '.', '부동산', '114', '11', '일', '집계', '결과', '올해', '전국', '에서', '분양', '및', '분양', '예정', '공공', '분양', '아파트', '총', '3', '만', '6268', '가구', '.', '권역', '별', '로', '수도', '권', '3', '만', '138', '가구', '(', '83', '%),', '지방', '6130', '가구', '(', '17', '%)', '.', '수도', '권', '물량', '부동산', '114', '집계', '시작', '2000', '년', '이후', '최대', '수준', '.', '수도', '권', '내', '에서', '경기', '2', '만', '2615', '가구', ',', '인천', '6758', '가구', ',', '서울', '765', '가구', '순', '으로', '많', '았', '.', '경기', '경우', '사전', '청약', '1', '차', '물량', '(', '4426', '가구', ')', '제외', '해도', '총', '1', '만', '8189', '가구', '로', ',', '2019', '년', '(', '2', '만', '1765', '가구', ')', '이어', '역대', '두', '번', '째', '로', '많', '물량', '.', '부동산', '114', '“', '서울', '제외', '경기', '·', '인천', '지역', '경우', '공공', '분양', '아파트', '물량', '지난해', '보다', '3', '배', '이상', '늘', '었', '”', '며', '“', '사전', '청약', '빼', '더라도', '연내', '공공', '물량', '상당히', '많이', '풀리', '셈', '”', '라고', '설명', '했', '.', '인천', '부동산', '114', '집계', '이래', '처음', '으로', '6000', '가구', '이상', '공공', '분양', '물량', '풀린다', '.', '이중', '사전', '청약', '총', '1285', '가구', '제외', '일반', '분양', '물량', '(', '5473', '가구', ')', '만', '으로', '2000', '년', '이후', '가장', '많', '.', '부동산', '114', '“', '공공', '분양', '아파트', '저렴', '가격', '공급', '되', '장점', '있', '어', '입지', '좋', '과천', '·', '성남', '등', '비롯', '해', '11', '월', '서울', '에서', '공급', '예정', '신혼', '희망', '타운', '대한', '치열', '청약', '경쟁', '예상', '된다', '”', '며', '“', '상대', '적', '으로', '공공', '분양', '청약', '자격', '요건', '까다롭', '기', '때문', '소득', '자산', '기준', '비롯', '청약', '조건', '미리', '파악', '할', '필요', '있', '”', '밝혔', '.', '송진', '식', '기자', 'truejs', '@', 'kyunghyang', '.', 'com'], ['21', '대', '총선', '에서', '거대', '양당', '여성', '지역', '구', '공', '천', '비율', '13', '%', '불과', '것', '으로', '나타났', '.', '비례', '대표', '국회의원', '여성', '할', '당제', '대해', '여성', '“', '필요', '”', '인식', '반면', '남성', '다수', '반대', '것', '으로', '조사', '됐', '.', '국가', '인권', '위원회', '11', '일', '‘', '젠더', '정치', '연구소', '여', '.', '세', '.', '연', '’', '위탁', '해', '수행', '‘', '성', '평등', '정치', '대표', '성', '확보', '방안', '연구', '’', '결과', '보고서', '에서', '같이', '밝혔', '.', '‘', '젠더', '정치', '연구소', '여', '.', '세', '.', '연', '’', '연구', '위해', '지난해', '6', '월', '16', '일', '부터', '12', '월', '15', '일', '까지', '전국', '19', '세', '이상', '남녀', '1430', '명', '대상', '으로', '설문', '조사', '실시', ',', '전', '·', '현직', '국회의원', '보좌', '진', ',', '전직', '시', '의원', '등', '정치', '관계자', ',', '20', '~', '30', '대', '선거', '출마', '자', ',', '선거', '운동원', '등', '37', '명', '심층', '인터뷰', '했', '.', '보고서', '보', '면', ',', '전체', '의원', '가운데', '여성', '비중', '2000', '년', '5', '.', '9', '%', '에서', '2020', '년', '19', '%', '로', '13', '.', '1', '%', '포인트', '증가', '했', '.', '국회의원', '비례', '대표', '후보', '자', '절반', '이상', '여성', '차지', '도록', '여성', '할', '당제', '2004', '년', '도입', '된', '영향', '.', '전체', '비례', '대표', '의원', '중', '여성', '의원', '차지', '비율', '2004', '년', '51', '.', '8', '%', '에서', '지난해', '59', '.', '6', '%', '로', '7', '.', '8', '%', '포인트', '증가', '했', '.', '반면', '전체', '지역구', '의원', '중', '여성', '의원', '차지', '비율', '지난해', '11', '.', '5', '%', '그쳤', '.', '2000', '년', '2', '.', '2', '%', '에서', '9', '.', '3', '%', '포인트', '늘어난', '수', '치', '.', '설문', '조사', '결과', '여성', '경우', '‘', '여성', '의원', '비율', '높', '아', '져야', '한다', '’', '의견', '우세', '했', '.', '특히', '젊', '세대', '일수록', '여성', '의원', '비율', '높', '아', '져야', '한다는', '인식', '강했', '.', '60', '대', '이상', '여성', '평균', '28', '.', '28', '%', '적절', '여성', '의원', '비율', '로', '꼽', '반면', '40', '대', '여성', '35', '.', '16', '%,', '30', '대', '여성', '41', '.', '13', '%,', '20', '대', '여성', '43', '.', '80', '%', '라고', '답', '했', '.', '남성', '생각', '적절', '여성', '의원', '비율', '27', '.', '95', '%', '로', '전', '연령', '대', '에서', '편차', '거의', '없', '었', '.', '여성', '할', '당제', '대한', '남녀', '간', '인식', '차이', '두드러졌', '.', '여성', '52', '%', '‘', '할당제', '필요', '’', '응답', '했', '지만', '남성', '36', '%', '만', '할당제', '찬성', '했', '.', '젊', '세대', '로', '갈수록', '남녀', '간', '인식', '격차', '컸', '.', '20', '대', '여성', '65', '%', '여성', '할', '당제', '찬성', '반면', '20', '대', '남성', '동의', '율', '29', '%', '불과', '했', '.', '‘', '여성', '할', '당제', '남성', '대한', '역차별', '’', '라는', '문항', '남성', '59', '%,', '여성', '49', '%', '동의', '했', '.', '인권위', '“', '혈연', ',', '지연', ',', '학연', '등', '연고', '주의', '기반', '남성', '중심', '네트워크', '여성', '선거', '나갈', '수', '있', '기회', '얻', '기', '어렵', '한다', '”', '평가', '했', '.', '여성', '정치인', '선거', '과정', '에서', '발생', '비용', '인력', '부족', '으로', '어려움', '겪', '있', '다고', '분석', '했', '.', '남성', '화', '된', '가부장', '적', '정치', '규범', '여전히', '남', '아', '있', '다는', '점', '지적', '했', '.', '인권위', '“', '여성', '할당제', '지역', '위원장', '선출', '부터', '적용', '방안', '등', '여러', '대안', '제시', '됐', '”', '며', '“', '조사', '결과', '바탕', '으로', '성', '평등', '정치', '대표', '성', '확보', '위한', '정책', '과제', '검토', '할', '예정', '”', '라고', '밝혔', '.', '이번', '연구', '에서', '여성', '의무', '징병제', '페미니즘', '관한', '인식', '조사', '실시', '됐', '.', '조사', '결과', '여성', '의무', '징병제', '찬성', '비율', '남성', '56', '%,', '여성', '39', '%', '였', '.', '여성', '경우', '20', '대', '여성', '(', '45', '%)', '찬성', '비율', '높', '았', '.', '반면', '30', '~', '40', '대', '여성', '찬성', '보다', '반대', '많', '았', ',', '남성', '경우', '60', '세', '이상', '집단', '에서', '찬성', '보다', '반대', '높', '나타났', '.', '반기', '웅', '기자', 'ban', '@', 'kyunghyang', '.', 'com'], ['‘', '3', 'N', '’', '으로', '불리', '임업', '계', '‘', '3', '강', '업체', '’', '엔', '씨', '소프트', '·', '넥슨', '·', '넷마블', '나란히', '기대', '이하', '성적표', '받아들었', '.', '업계', '새롭', '떠오르', '카카오', '게임즈', '크', '래프', '톤', '등', '‘', '2', 'K', '’', '아성', '위협', '가운데', ',', '하반기', '기약', '했', '.', '엔', '씨', '소프트', '올해', '2', '분기', '매출', '5385', '억', '원', ',', '영업', '이익', '1128', '억', '원', '기록', '했', '다고', '11', '일', '밝혔', '.', '영업', '이익', '작년', '동기', '보다', '46', '%', '감소', '것', '으로', ',', '시장', '전망', '치', '(', '1414', '억', '원', ')', '약', '20', '%', '하회', '했', '.', '엔', '씨', '소프트', '1', '분기', '매출', '전년', '동기', '대비', '29', '.', '9', '%,', '영업', '이익', '76', '.', '5', '%', '감소', '해', '‘', '어', '닝', '쇼크', '’', '기록', '바', '있', '.', '넥슨', '매출', '5733', '억', '원', '(', '560', '억', '엔', ')', ',', '영업', '이익', '1577', '억', '원', '(', '154', '억', '엔', ')', '으로', ',', '작년', '동기', '대비', '매출', '13', '%,', '영업', '이익', '42', '%', '감소', '했', '.', '넷마블', '3', '사', '중', '영업', '이익', '하락', '폭', '가장', '컸', '.', '2', '분기', '매출', '5772', '억', '원', '으로', '작년', '동기', '대비', '15', '.', '8', '%', '감소', '했', ',', '영업', '이익', '162', '억', '원', '으로', '80', '.', '2', '%', '감소', '했', '.', '영업', '이익', '시장', '전망', '치', '(', '480', '억', '원', ')', '66', '%', '나', '하회', '수', '치', '.', '같', '실적', '부진', '원인', '으로', '재택근무', '체제', '로', '인한', '상반기', '신작', '출시', '지연', ',', '인력', '확보', '경쟁', '으로', '인한', '인건비', '부담', '증가', '꼽힌다', '.', '또', '올해', '초', '확률', '형', '아이템', '논란', '불거지', '며', '엔', '씨', '소프트', '‘', '리니지', 'M', '’,', '넥슨', '‘', '메이플', '스토리', '’', '등', '기존', '주력', '게임', '이용자', '줄어든', '것', '영향', '끼친', '것', '으로', '풀이', '된다', '.', '3', '사', '이달', '신작', '출시', '마케팅', '강화', '통해', '3', '분기', '실적', '반', '등', '나설', '계획', '.', '카카오', '게임즈', '‘', '오딘', ':', '발할라', '라이징', '’', '모바일', '게임', '매출', '1', '위', '자리', '내준', '엔', '씨', '소프트', '하반기', '기대', '작인', '‘', '블레이드', '&', '소울', '2', '(', '블', '소', '2', ')', '’', '오', '26', '일', '정식', '출시', '한다', '.', '넥슨', '오', '19', '일', '‘', '코', '노스', '바', '모바일', '’', '시작', '으로', '‘', '카트라이더', ':', '드리프트', '’', '‘', '커츠', '펠', '’', '등', '신작', '연내', '선보인다', '.', '넷마블', '오', '25', '일', '모바일', '역할', '수행', '게임', '(', 'RPG', ')', '‘', '마블', '퓨처', '레볼루션', '’', '출시', '한다', '.', '한편', '중견', '게임', '사', '데브', '시스터즈', '이날', '올', '상반기', '역대', '최대', '매출', '기록', '했', '다고', '밝혔', '.', '데브', '시스터즈', '올해', '2', '분기', '연결', '기준', '매출', '958', '억', '원', ',', '영업', '이익', '197', '억', '원', '기록', '했', '.', '매출', '지난해', '같', '기간', '보다', '460', '%', '증가', '했', '.', '순이익', '160', '억', '원', '으로', '흑자', '로', '돌아섰', '.', '회사', '측은', '“', '‘', '쿠', '키런', ':', '킹덤', '’', '성공', '적', '론', '칭', '안정', '적', '흥행', ',', '‘', '쿠', '키런', ':', '오븐', '브레이크', '’', '꾸준', '수익', '창출', '등', '영향', '으로', '반기', '기준', '으로', '역대', '최대', '매출', '(', '상반기', '2011', '억', '원', ')', '기록', '했', '”', '밝혔', '.', '게임', '업계', '관계자', '“', '3', 'N', '3', '분기', '실적', '하반기', '출시', '기대', '작', '흥행', '성적', '따라', '엇갈릴', '것', '으로', '보인다', '”', '며', '“', '카카오', '게임즈', '크', '래프', '톤', '공격', '적', '마케팅', '중소', '게임', '사', '성장', '으로', '게임', '업계', '판도', '변화', '모양새', '”', '라고', '말', '했', '.', '이유진', '기자', 'yjleee', '@', 'kyunghyang', '.', 'com'], ['무', '의미', '연명', '의료', '대신', '‘', '존엄', '죽음', '’', '맞', '겠', '다는', '뜻', '기록', '으로', '남기', '사전', '연명', '의료', '향서', '등록', '건수', '100', '만', '건', '넘어섰', '.', '연명', '의료', '결정', '제도', '시행', '한지', '3', '년', '6', '개월', '만', '.', '보건복지부', '“', '지난', '10', '일', '오후', '5', '시', '기준', '사전', '연명', '의료', '향서', '등록', '건수', '100', '만', '56', '건', '기록', '했', '”', '11', '일', '밝혔', '.', '환자', '16', '만', '9217', '명', '실제', '연명', '의료', '중단', '까지', '이행', '됐', '.', '연명', '의료', '임종', '과정', '환자', '에게', '실시', '심폐', '소생', '술', '·', '인공호흡기', '착용', '·', '혈액', '투석', '·', '항암제', '투여', '등', '의학', '적', '시술', '말', '한다', '.', '치료', '효과', '없이', '생명', '만', '연장', '것', '.', '19', '세', '이상', '라면', '건강', '사람', '사전', '연명', '의료', '향서', '통해', '자신', '뜻', '기록', '해', '둘', '수', '있', '.', '구체', '적', '현황', '살펴보', '면', '19', '세', '이상', '1000', '명', '당', '22', '.', '4', '명', '사전', '연명', '의료', '향서', '작성', '했', '.', '전체', '2', '.', '2', '%', '수준', '.', '특히', '60', '대', '3', '.', '4', '%,', '70', '대', '11', '.', '8', '%,', '80', '대', '이상', '9', '.', '0', '%', '로', '고령', '층', '참여', '높', '.', '아울러', '가족', '요구', '아니', '라', '사전', '연명', '의료', '향서', '또는', '연명', '의료', '계획서', '(', '말기', '환자', '또는', '임종', '과정', '있', '환자', '연명', '의료', '유보', '나', '중단', '의사', '밝혀', '두', '문서', ')', '통해', '직접', '연명', '의료', '중단', '결정', '비율', '올해', '2', '분기', '41', '.', '7', '%', '달한다', '.', '제도', '시행', '초기', '2018', '년', '1', '분기', '(', '35', '.', '1', '%)', '보다', '17', '.', '1', '%', '늘', '었', '.', '2009', '년', '5', '월', '대', '법원', '판결', '로', '생명', '만', '유지', '던', '환자', '인공호흡기', '뗄', '수', '있', '었', '던', '‘', '김할머니', '사건', '’', '통해', '연명', '의료', '중단', '사회', '적', '이슈', '로', '등장', '했', '.', '오랜', '사회', '적', '논의', '거쳐', '2018', '년', '2', '월', '연명', '의료', '결정', '제도', '시행', '됐', '.', '2020', '년', '노인', '실태', '조사', '따르', '면', '65', '세', '이상', '노인', '85', '.', '6', '%', '무', '의미', '연명', '의료', '반대', '것', '으로', '나타난', '만큼', '참여', '자', '계속', '늘어날', '것', '으로', '보인다', '.', '사전', '연명', '의료', '항서', '작성', '싶', '다면', '반드시', '보건복지부', '에서', '지정', '의향', '서', '등록', '기관', '찾', '아', '일', '대', '일', '상담', '받', '아야', '한다', '.', '현재', '보건소', '의료', '기관', ',', '비', '영리', '법인', ',', '건강보험공단', '지소', '국가', '생', '명윤', '리정', '책원', '등', '총', '503', '개소', '지정', '돼', '있', '.', '가까운', '기관', '국립', '연명', '의료', '관기', '기관', '홈페이지', '(', 'www', '.', 'lst', '.', 'go', '.', 'kr', ')', '나', '전화', '문의', '(', '대표', '번호', '1422', '-', '25', ',', '1855', '-', '0075', ')', '통해', '확인', '할', '수', '있', '.', '당사자', '언제', '든지', '내용', '변경', '거나', '철회', '할', '수', '있', '.', '100', '만', '번', '째', '향서', '작성', '이모', '씨', '(', '80', ')', '“', '친구', '권', '유로', '향서', '작성', '나', '니', '미래', '받', '고통', '자녀', '부담', '대한', '걱정', '가벼워졌', '”', '말', '했', '.', '권덕철', '복지부', '장관', '“', '짧', '기간', '동안', '100', '만', '명', '참여', '것', '삶', '마무리', '대한', '존엄', '자기', '결정', '존중', '받', '문화', '조성', '된다는', '증거', '”', '라며', '“', '앞', '으로', '많', '참여', '관심', '부탁', '드린다', '”', '말', '했', '.', '<', '노', '현', '기자', 'hyunee', '@', 'kyunghyang', '.', 'com', '>'], ['문구', '·', '완구', '유통', '중심지', '로', '꼽히', '던', '동대문', '문구', '·', '완구', '도매', '종합', '시장', '(', '창신동', '문구', '·', '완구', '거리', ')', '위기', '맞', '았', '.', '온라인', '쇼핑', '급증', '터', '코로나', '19', '확산', '까지', '겹치', '면서', '곳', '찾', '발길', '뚝', '끊긴', '것', '.', '가뭄', '속', '단비', '될', '것', '으로', '기대', '모은', '2', '학기', '전면', '등교', '여부', '불', '투명', '해', '상인', '시름', '깊', '어', '있', '.', '11', '일', '오후', '찾', '서울', '창신동', '문구', '·', '완구', '거리', '한적', '했', '.', '부모', '손', '잡', '온', '아이', '모습', '간간히', '보이', '정도', '였', '.', '형형색색', '장난감', ',', '인형', '만', '점포', '앞', '덩그러', '니', '쌓여', '있', '었', '.', '거리', '안쪽', '으로', '들어가', '니', '굳', '닫힌', '철문', '위', '로', '임대', '문', '딱지', '붙', '곳', '보였', '.', '현재', '창신동', '문구', '·', '완구', '거리', '5', '개', '점포', '공실', '로', '남', '아', '있', '.', '장사', '목', '좋', '터', '라', '지금', '처럼', '많', '공실', '생긴', '것', ',', '오랜', '시간', '동안', '빈', '것', '올해', '처음', '라고', '한다', '.', '창신동', '문구', '·', '완구', '거리', '1960', '년', '동대문역', '중심', '으로', '형성', '되', '기', '시작', '해', '국내', '최대', '문구', '·', '완구', '전문', '시장', '으로', '자리', '잡', '았', '.', '120', '여', '개', '점포', '에서', '다양', '문구', '·', '완구', '류', '시중', '가격', '보다', '저렴', '팔', '아', '인기', '모았', '.', '어린', '이날', '크리스마스', '앞두', '골목', '부터', '점포', '안', '까지', '장난감', '선물', '사', '러', '온', '사람', '로', '가득', '했', '.', '하지만', '이날', '만난', '상인', '하나같이', '‘', '이전', '같', '않', '’', '말', '되풀이', '했', '.', '40', '년', '넘', '문구', '·', '완구', '거리', '에서', '도매업', '김', '모씨', '(', '76', ')', '“', '온라인', '유통망', '발달', '면서', '오프라인', '문구', '·', '완구', '판매', '시장', '안', '그래도', '크', '위축', '되', '있', '었', '”', '며', '“', '판매량', '눈', '띄', '감소', '있', '었', '는데', ',', '여기', '코로나', '19', '까지', '확산', '면서', '정말', '죽', '맛', '.', '매출', '기존', '보다', '70', '%', '가까이', '줄', '었', '”', '말', '했', '.', '그나마', '기대', '모은', '‘', '2', '학기', '초', '·', '중', '·', '고등학교', '전면', '등교', '’', '불', '투명', '상황', '.', '거리', '학교', '유치원', '행사', '등', '으로', '수입', '올리', '도매점', '밀집', '해', '있', '는데', ',', '에게', '신학기', '대목', '.', '상인', 'A', '씨', '(', '70', ')', '“', '2', '학기', '부터', '등교', '수업', '한다', '길래', '신학기', '특수', '교내', '행사', '관련', '매출', '조금', '이나마', '오를', '것', '으로', '기대', '했', '지만', '이젠', '물거품', '됐', '”', '면서', '“', '여기', '상인', '지금', '버틸', '만큼', '버틴', '상황', '라', '앞', '으로', '폐업', '상인', '더', '많', '아', '질', '것', '”', '라고', '말', '했', '.', '송동호', '동대문', '문구', '·', '완구', '도매', '종합', '시장', '상인', '회장', '“', '아이', '동반', '손님', '많', '아', '코로나', '19', '감염', '특히', '민감', '.', '확진', '자', '수', '늘', '면', '손님', '그만큼', '줄어든다', '”', '면서', '“', '문구', '·', '완구', '거리', '내', '점포', '코로나', '발생', '이전', '보다', '평균', '50', '%', '가량', '매출', '감소', '했', '”', '말', '했', '.', '김태희', '기자', 'kth', '08', '@', 'kyunghyang', '.', 'com'], ['경제', '정의', '실천', '시민', '연합', '삼성전자', '이재용', '부회장', '가석방', '결정', '반대', '며', '13', '일', '까지', '청와대', '앞', '분수', '광장', '에서', '릴레이', '1', '시위', '어', '갈', '예정', '.', '11', '일', '오후', '경기도', '협의회', '허정호', '공동', '사무', '처장', \"'\", '국정', '농단', '중대', '경제', '사범', '가석방', '절대', '안', '돼', \"'\", '팻말', '1', '인시', '위', '있', '.', '김기남', '기자', 'kknphoto', '@', 'kyunghyang', '.', 'com'], ['자녀', '입시', '비리', '사모', '펀드', '투자', '의혹', '으로', '1', '심', '에서', '유죄', '받', '정경', '심', '동양', '대', '교수', '항소심', '에서', '징역', '4', '년', '선고', '받', '았', '.', '재판부', '7', '가지', '입시', '비리', '혐의', '모두', '유죄', '로', '판단', '했', '.', '서울', '고법', '형사', '1', '-', '2', '부', '(', '재판장', '엄상필', ')', '11', '일', '정', '교수', '대한', '항소심', '재판', '에서', '원심', '판단', '대부분', '유지', '해', '징역', '4', '년', '선고', '했', '.', '다만', '벌금', '5', '억', '원', '에서', '5000', '만', '원', '으로', ',', '추징금', '1', '억', '4000', '만', '원', '에서', '1051', '만', '원', '으로', '감경', '했', '.', '정', '교수', '남편', '조국', '전', '법무부', '장관', '인사', '청문회', '열리', '던', '2019', '년', '9', '월', '이후', '딸', '조모', '씨', '동양', '대', '표창장', '위조', '등', '입시', '관련', '경력', '조작', '혐의', '로', '재판', '넘겨졌', '.', '조', '전', '장관', '5', '촌', '조카', '조범동', '씨', '실질', '적', '으로', '운영', '사모', '펀드', '코', '링크', '프라이빗', '쿼', '티', '(', '코', '링크', 'PE', ')', '둘러싼', '자본', '시장법', '위반', '혐의', '받', '았', '.', '검찰', '업무', '방해', ',', '위조사', '문서', '행사', ',', '자본', '시장법', '위반', '등', '총', '15', '개', '혐의', '적용', '해', '정', '교수', '기소', '했', '.', '1', '심', '재판부', '지난해', '12', '월', '자녀', '입시', '비리', '혐의', '모두', '유죄', '로', '판단', '했', '.', '다만', '1', '심', '에서', '자산', '관리사', '김경록', '씨', '에게', '방배동', '자택', '하드', '디스크', '및', '동', '양대', 'PC', '따로', '보관', '혐의', '(', '증거', '은닉', '교사', ')', '경우', '‘', '공동', '정범', '’', '으로', '보', '무죄', '선고', '했', '.', '사모', '펀드', '관련', '혐의', '일부', '무죄', '로', '판단', '해', '징역', '4', '년', ',', '벌금', '5', '억', '원', '선고', '1', '억', '4000', '만', '원', '추징', '명령', '했', '.', '구속', '기한', '만료', '로', '석방', '됐', '던', '정', '교수', '법정', '구속', '됐', '.', '항소심', '재판부', '정', '교수', '입시', '비리', '혐의', '7', '가지', '모두', '유죄', '로', '판단', '했', '.', '딸', '조민', '씨', '단국', '대', '과학', '연구소', '인턴', '확인', '서', ',', '공주', '대', '생명', '공학', '연구소', '인턴', '확인', '서', ',', '서울대', '공익', '인권법', '센터', '인턴', '확인', '서', ',', '부산', '아쿠아', '팰리스', '호텔', '실습', '및', '인턴', '확인', '서', ',', '한국', '과학', '기술', '연구원', '(', 'KIST', ')', '인턴', '확인', '서', ',', '동양', '대', '총장', '표창장', ',', '동양', '대', '어', '학교', '육', '원', '보조', '연구원', '경력', '허위', '로', '판단', '했', '.', '재판부', '조모', '씨', '서울대', '인턴', '확인서', '대해', '“', '확인', '서', '내용', '모두', '허위', '이상', '조', '씨', '세미나', '참석', '여부', '확인서', '허위', '성', '여부', '영향', '미치', '않', '는다', '”', '밝혔', '.', '앞서', '1', '심', '재판', '때', '조', '씨', '서울대', '세미나', '참석', '않', '았', '다고', '증언', '영외', '유학', '반', '동창', '장모', '씨', '지난달', '25', '일', '페이스북', '올린', '글', '에서', '“', '조', '씨', '사형제도', '세미나', '분명', '참석', '했', '”', '주장', '번복', '했', '.', '1', '심', '에서', '무죄', '로', '본', '동양', '대', 'PC', '은닉', '교사', '혐의', '유죄', '로', '판단', '했', '.', '“', '김경록', '스스로', '증거', '은닉', '려는', '의사', '가지', '공범', '피고인', '위해', '실행', '했', '다고', '보', '기', '어렵', ',', '피고인', '지시', '따라', '증거', '은닉', '했', '다고', '볼', '수', '밖에', '없', '”', '며', '“', '방어', '권', '남용', '”', '라고', '했', '.', '정', '교수', '코', '링크', 'PE', '10', '억', '원', '투자', '뒤', '‘', '허위', '경영', '컨설팅', '’', '계약', '통해', '1', '억', '5000', '만', '원', '횡령', '혐의', '1', '심', '같이', '무죄', '로', '판단', '했', '.', '재판부', '“', '피고인', '횡령', '라고', '인식', '상태', '에서', '적극', '가담', '해', '불법', '영득', '의사', '로', '했', '다는', '것', '인정', '어렵', '”', '밝혔', '.', '사모', '펀드', '관련', '혐의', '대해서', '일부', '무죄', '선고', '됐', '.', '정', '교수', '2018', '년', '조범동', '씨', '로부터', '미', '공개', '정보', '듣', '주식', '매수', '혐의', '대해서', '1', '심', '달리', '무죄', '선고', '했', '.', '코', '링크', 'PE', '운용', '펀드', '출자', '출자금', '부풀려', '금융', '위원회', '허위', '보고', '혐의', '대해서', '원심', '같이', '무죄', '선고', '했', '.', '정', '교수', '코', '링크', 'PE', '직원', '에게', '동생', '관련', '자료', '지우', '라고', '시킨', '혐의', '대해서', '1', '심', '같이', '유죄', '인정', '했', '.', '전현진', '기자', 'jjin', '23', '@', 'kyunghyang', '.', 'com'], ['더불', '어', '민주당', '대선', '경선', '에서', '각', '캠프', '간', '공세', '이어지', '있', '.', '이재명', '경기', '지사', '네거티브', '중단', '선언', '대한', '이낙연', '전', '민주당', '대표', '호응', ',', '당', '지도부', '중재', '시도', '이후', '흠집', '내', '기식', '공방', '산발', '적', '으로', '일어나', '있', '.', '과도', '상호', '비방', '민주당', '전체', '지지', '떨어뜨릴', '수', '있', '만큼', '당', '지도부', '더', '적극', '적', '으로', '개입', '해야', '한다는', '의견', '나온다', '.', '민주당', '대선', '경선', '후보', '김두관', '의원', '11', '일', 'CBS', '라디오', '인터뷰', '에서', '최근', '경선', '불복', '논란', '중심', '선', '이낙연', '전', '대표', '경선', '캠프', '선거', '대책', '본부', '장인', '설훈', '의원', '향해', '“', '캠프', '조치', '해야', '당', '엄중', '경고', '해야', '한다', '”', '말', '했', '.', '그', '“', '(', '전', '대표', '측', ')', '설훈', '선대', '위원장', '저', '에게', '경고', '한다는', '데', '적반하장', '”', '라고', '했', '.', '앞서', '설', '의원', '지난', '7', '일', '공개', '된', '<', '시사저널', '>', '인터뷰', '에서', '“', '과거', '선거', '경선', '때', '치', '받', '다가', '결국', '원', '팀', '됐', '.', '이번', '엔', '경우', '다를', '수', '있', '”', '말', '했', '.', '김', '의원', '9', '일', '“', '노무현', '새천년민주당', '대통령', '후보', '로', '뽑', '아', '놓', '정몽준', '으로', '후보', '교체', '요구', '며', '노무현', '후보', '사퇴', '주장', '던', '‘', '후단', '협', '’', '생각난다', '”', '밝혔', '.', '그러', '자', '설', '의원', '10', '일', '“', '김', '의원', '제', '않', '았', ',', '제', '의도', '아닌', '‘', '경선', '불복', '’', '라는', '억측', '사실', '처럼', '부풀렸', '”', '라며', '“', '엄중', '경고', '한다', '”', '했', '.', '논란', '시발점', '된', '설', '의원', '이날', 'MBC', '라디오', '인터뷰', '에서', '“', '경선', '거부', '거나', '(', '경선', '결과', ')', '안', '받아들인다는', '것', '전혀', '아니', '었', '”', '며', '김', '의원', '주장', '재차', '반박', '했', '.', '그', '이어', '“', '이재명', '후보', '형수', '대해서', '욕설', '녹음', '어', '보', '면', '후보', '뽑', '아', '달', '라고', '설득', '먹혀들어갈', '것', '같', '않', '”', '며', '지사', '형수', '욕설', '논란', '다시', '꺼내', '었', '.', '지사', '캠프', '소속', '문진석', '의원', '지난', '10', '일', '자신', '페이스북', '지사', '기본', '소득', '비판', '해', '온', '대선', '경선', '후보', '박용진', '의원', '향해', '“', '다른', '후보', '공약', '막무가내', '로', '비판', '면', '‘', '모두', '까', '기', '박용진', '’', '만', '남', '될', '것', '”', '라고', '썼', '.', '지사', '지난', '8', '일', '네거티브', '중단', '선언', '뒤', '‘', '명', '·', '낙', '대전', '’', '으로', '불리', '지사', '전', '대표', '측', '공방전', '줄어드', '했', '.', '송영길', '대표', '경선', '후보', '차례', '로', '만나', '경선', '과열', '진화', '려고', '나섰', '.', '그러나', '전국', '순회', '경선', '다가오', '면서', '각', '후보', '측', '간', '네거티브', '부활', '것', '아니', '냐는', '우려', '나온다', '.', '중진', '의원', '“', '1', '위', '제외', '다른', '후보', '선거', '전체', '구도', '흔들', '기', '위해', '공세', '나서', '것', '불가피', '면', '있', '”', '면서도', '“', '당', '네거티브', '대한', '기준', '잡', '인신', '비방', '수준', '공세', '대해서', '후보', '조치', '취해야', '할', '것', '”', '라고', '말', '했', '.', '윤승민', '기자', 'mean', '@', 'kyunghyang', '.', 'com'], ['이재용', '삼성전자', '부회장', '가석방', '결정', '박범계', '법무부', '장관', '과거', '재벌', '총수', '사면', '·', '가석방', '·', '형', '집행정지', '부정', '적', '의견', '수차례', '밝혔', '던', '것', '으로', '파악', '됐', '.', '박', '장관', '부회장', '가석방', '‘', '재벌', '특혜', '’', '라는', '비판', '“', '이재용', '씨', '만', '위한', '가석방', '아니', '.', '법령', '상', '요건', '맞춰', '절차', '대로', '진행', '했', '”', '설명', '바', '있', '.', '11', '일', '경향신문', '취재', '결과', '박', '장관', '야당', '새', '정치', '민주', '연합', '(', '현', '더불', '어', '민주당', ')', '소속', '의원', '던', '2014', '년', '10', '월', '16', '일', '국회', '기획', '재정', '위원회', '회의', '에서', '최경환', '당시', '부총리', '겸', '기획', '재정부', '장관', '“', '일반인', '가석방', '요건', '해당', '되', '면', '석방', '시켜', '주', '면서', '기업인', '라고', '유독', '역차별', '것', '법', '집행', '형평', '성', '맞', '않', '”', '발언', '자', '“', '가석방', '요건', '갖춰', '면', '석방', '돼야', '한다고', '말씀', '셨', '는데', '역차별', '정도', '걱정', '실', '문제', '아니', '.', '경제', '총수', '무려', '몇', '천', '번', '씩', '면회', '받', '있', ',', '죄다', '형', '집행정지', '로', '병원', '서', '서로', '손잡', '차', '마시', '러', '다닌다', '”', '비판', '했', '.', '판사', '출신', '박', '장관', '2012', '년', '7', '월', '13', '일', '김창석', '대법관', '후보', '자', '인사', '청문회', '에서', '이명박', '당시', '대통령', '측근', '최시중', '전', '방송', '통신', '위원장', '천신일', '세중', '나모', '회장', ',', '정', '·', '관계', '로비', '벌인', '박연차', '전', '태', '광', '실업', '회장', '건강', '이유', '로', '형', '집행정지', '받', '아', '나란히', '서울', '삼성', '병원', '입원', '했', '다는', '언론', '보도', '언급', '면서', '“', '이런', '사태', '보', '면서', '법정', '사법', '권', '검찰', '형', '집행', '권', '근본', '적', '으로', '형해', '화', '시키', '있', '촌극', '벌어진다고', '생각', '한다', '”', '말', '했', '.', '박', '장관', '대통령', '권한', '사면', '대해서', '법무부', '심의', '서', '공개', '해', '국민', '감시', '받', '아야', '한다고', '주장', '바', '있', '.', '박', '장관', '2013', '년', '4', '월', '22', '일', '국회', '법제', '사법', '위원회', '사면법', '개정안', '청문회', '에서', '“', '역사', '적', '죄', '짓', '는가', '대한', '사후', '통제', '가능', '도록', '특히', '심의', '서', '공개', '저', '중요', '다고', '생각', '한다', '”', '말', '했', '.', '또', '“', '대상자', '명단', ',', '죄명', ',', '형기', '등', '일', '주일', '전', '국회', '통보', '해', '의견', '듣', '것', '지극히', '당연', '좋', '다는', '생각', '든다', '”', '며', '“', '국회', '국민', '감시', '할', '필요', '있', '”', '했', '.', '정작', '법무부', '지난', '9', '일', '가석방', '심사', '결과', '발표', '예고', '면서', '언론', '‘', '질의', '응답', '없', '’', '통보', '했', '.', '브리핑', '나선', '박', '장관', '질문', '받', '않', '발표문', '만', '읽', '뒤', '자리', '떴', '.', '이재용', '부회장', '함께', '이중근', '부영', '그룹', '회장', ',', '강만수', '전', '산업', '은행장', '가석방', '승인', '된', '것', '으로', '전해졌', '지만', '박', '장관', '이날', '“', '기밀', '사항', '라', '얘기', '해', '줄', '수', '없', '”', '말', '했', '.', '사면', '아니', '라', '가석방', '었', '다고', '지만', ',', '‘', '투명', '정보', '공개', '통한', '국민', '적', '감시', '’', '라는', '박', '장관', '옛', '소신', '반하', '행태', '라는', '지적', '나온다', '.', '박', '장관', '전날', '‘', '청와대', '사전', '조율', '있', '었', '냐', '’', '취재진', '질문', '“', '가석방', '법무부', '절차', '제도', '”', '라고', '답', '했', '.', '전적', '으로', '법무부', '판단', '결과', '라는', '취지', '설명', '지만', ',', '청와대', '교감', '있', '었', '으리라는', '것', '법조', '계', '안팎', '대체', '적', '시각', '.', '지난', '4', '월', '19', '일', '국회', '출석', '해', '박', '장관', '곽상', '국민', '힘', '의원', '“', '이재용', '부회장', '가석방', '이나', '사면', '검토', '적', '있', '느냐', '”', '묻', '자', '“', '실무', '적', '으로', '대통령', '특별', '지시', '있', '않', '이상', '아직', '검토', '할', '수', '없', '.', '검토', '바', '없', '기', '때문', '건의', '할', '생각', '있', '않', '”', '했', '.', '부회장', '경영', '권', '승계', '위해', '전직', '대통령', '박근혜', '씨', '‘', '비선', '실세', '’', '최순', '실', '씨', '에게', '87', '억', '원', '뇌물', '준', '혐의', '등', '으로', '지난', '1', '월', '국정', '농단', '사건', '파', '기환', '송심', '에서', '징역', '2', '년', '6', '월', '실형', '선고', '받', '법정', '구속', '됐', '.', '현', '정부', '뇌물', '·', '알', '선수재', '·', '알선', '수뢰', '·', '배임', '·', '횡령', '등', '‘', '5', '대', '중대', '부패', '범죄', '’', '사면', '배제', '한다는', '원칙', '공언', '해', '왔', '.', '진보', '성향', '시민', '단체', '이날', '박', '장관', '대한', '비판', '어', '갔', '.', '참여연대', '“', '최악', '특혜', '며', '사법', '정의', '대한', '사망', '선고', '”', '라며', '회원', '에게', '문재', '대통령', ',', '박', '장관', ',', '가석방', '심사', '위원회', '위원', '에게', '항의', 'e', '메일', '보낼', '것', '촉구', '했', '.', '이날', '오전', '10', '시', '기준', '으로', '1883', '명', 'e', '메일', '보내', '기', '동참', '것', '으로', '전해졌', '.', '허', '진무', '기자', 'imagine', '@', 'kyunghyang', '.', 'com'], ['경북', '농업', '기술원', '경북', '지역', '농업', '대상', '으로', '오', '25', '일', '까지', '차례', '걸쳐', '스마트', '팜', '확산', '위한', '디지털', '농업', '교육', '실시', '한다고', '11', '일', '밝혔', '.', '농업', '기술원', '한우', '양', '돈', ',', '시설', '원예', ',', '토마토', '등', '4', '개', '분야', '교육', '주제', '로', '정했', '.', '교육', '분야', '별', '전문가', '에게', '최신', '스마트', '팜', '기술', '동향', '듣', ',', '첨단', '시설', '갖춘', '지역', '내', '시범', '사업', '농가', '직접', '찾', '방식', '으로', '진행', '된다', '.', '농업', '기술원', '인건비', '상승', '등', '따라', '농업', '시설', '현대', '화', '필요', '성', '커지', '있', '다고', '보', '있', '.', '교육', '참여', '농업', '안개', '분무', '시설', '등', '갖춰진', '정보', '통신', '기술', '(', 'ICT', ')', '기반', '악취', '저감', '축사', ',', '스마트', '장비', '이용한', '양', '돈', '환경', '관리', ',', '첨단', '시설', '갖춰진', '시설', '원예', '농업', '및', '농장', '견학', '등', '할', '예정', '.', '경북', '농업', '기술원', '이번', '교육', '통해', '스마트', '팜', '설치', '농가', '현장', '에서', '마주', '각종', '문제', '해답', '주', ',', '스마트', '팜', '예비', '농가', '관련', '분야', '이해', '할', '수', '있', '계기', '될', '것', '으로', '기대', '한다', '.', '신용', '습', '경북', '농업', '기술', '원장', '“', '고령화', '코로나', '등', '으로', '정보', '통신', '기술', '활용', '첨단', '기술', '농업', '으로', '전환', '불가피', '”', '면서', '“', '지속', '가능', '경북', '농업', '위해', '스마트', '농업', '전문가', '양성', '더욱', '힘쓰', '겠', '”', '밝혔', '.', '백', '경', '열', '기자', 'merci', '@', 'kyunghyang', '.', 'com'], ['위안부', '피해', '생존자', '김학순', '할머니', '최초', '로', '피해', '사실', '공개', '증언', '30', '년', '되', '8', '월', '14', '일', '사흘', '앞둔', '11', '일', '서울', '종로구', '옛', '일본', '대사관', '앞', '에서', \"'\", '일본', '군성', '노예', '제', '문제', '해결', '위한', '제', '1504', '차', '정기', '수요시위', \"'\", '열리', '있', '.', '강윤중', '기자', 'yaja', '@', 'kyunghyang', '.', 'com'], ['전북', '의회', '황', '탁', '의원', '(', '무주', ')', '2', '년', '간', '의정', '활동비', '수당', '1', '억', '2000', '만', '원', '무주군', '장애', '복지', '시설', '6', '곳', '기부', '했', '.', '황', '탁', '의원', '11', '일', '전북', '의회', '브리핑', '룸', '에서', '기자', '회견', '갖', '교통', '약자', '장애', '이동', '편의', '위한', '차량', '직업훈련', '용', '컴퓨터', '구입', '등', '의정비', '기탁', '했', '다고', '밝혔', '.', '기탁', '된', '의정비', '전북', '지체', '장애인협회', '무주군', '지회', '4100', '만', '원', '비롯', '해', '무주', '장애', '생활', '동지', '원', '센터', '3500', '만', '원', ',', '반디', '누리', '작업장', '2800', '만', '원', ',', '무주군', '장애', '종합', '복지', '관', '600', '만', '원', ',', '무주', '수어', '통역', '센터', '500', '만', '원', ',', '의집', '500', '만', '원', '각각', '전달', '됐', '.', '황', '의원', '전북', '의원', '출마', '당시', '‘', '당선', '되', '면', '의정비', '전액', '무주', '군민', '에게', '돌려', '드리', '겠', '’', '공약', '실천', '기', '위한', '것', '라고', '설명', '했', '.', '황', '의원', '2019', '년', '1', '년', '간', '모은', '의정비', '5000', '만', '원', '기부', '바', '있', '.', '황', '의원', '“', '의원', '출마', '당시', '내세웠', '던', '공약', '실천', '되', '어', '대단히', '기쁘', '생각', '한다', '”', '며', '“', '이번', '기부금', '장애', '및', '사회', '복지', '시설', '유용', '쓰이', '길', '바란다', '”', '말', '했', '.', '박용근', '기자', 'yk', '21', '@', 'kyunghyang', '.', 'com'], ['오', '2024', '년', '까지', '인간', '달', '다시', '착륙', '시키', '려는', '미국', '‘', '아르테미스', '계획', '’', '차질', '빚어질', '가능', '성', '커졌', '다는', '분석', '나왔', '.', '우주', '비행사', '입', '신', '형', '우주복', '개발', '지연', '되', '있', '기', '때문', '.', '아르테미스', '계획', '올해', '10', '월', '한국', '참여', '했', '.', 'CNN', '스페이스', '닷컴', '등', '미국', '항공우주국', '(', 'NASA', ')', '감사관', '실은', '10', '일', '(', '현지', '시간', ')', '발표', '보고서', '통해', '“', '차세대', '우주복', '개발', '지연', '되', '있', '”', '며', '“', '2024', '년', '달', '착륙', '실현', '가능', '않', '”', '밝혔', '.', 'NASA', '2024', '년', '인간', '달', '착륙', '시키', '미국', '주도', '다국적', '프로젝트', '‘', '아르테미스', '계획', '’', '추진', '중', '.', '모두', '12', '개국', '참여', '중', '며', '영국', ',', '일본', '등', '기존', '우주', '강국', '함께', '올해', '5', '월', '한국', '이름', '올렸', '.', '아르테미스', '계획', '국위', '선양', '과학', '탐사', '집중', '됐', '던', '기존', '아폴로', '계획', '넘', '어', '자원', '탐사', '기지', '건설', '달', '착륙', '주요', '목적', '두', '있', '.', 'NASA', '감사관', '실', '지적', '우주복', '개발', '지연', '이유', '코로나', '19', '확산', ',', '기술', '적', '도전', ',', '예산', '부족', '.', '신', '형', '우주복', '기존', '우주복', '달리', '활동', '성', '높이', '핵심', '.', '달', '에서', '망치질', '이나', '짐', '옮기', '기', '등', '기지', '건설', '위한', '육체', '적', '움직임', '많이', '할', '가능', '성', '염두', '뒀', '.', '적어도', '2024', '년', '11', '월', '까지', '2', '벌', '마련', '돼야', '지만', ',', '지금', '같', '여건', '에선', '같', '성능', '만족', '우주복', '기한', '내', '만드', '건', '불', '가능', '다는', '판단', '내린', '것', '.', '이대로', '라면', '신', '형', '우주복', '2025', '년', '4', '월', '나', '선보일', '수', '있', '것', '으로', '감사관', '실은', '예측', '했', '.', '상황', '꼬이', '자', '민간', '우주', '기업', '스페이스', 'X', '이끄', '일', '론', '머스크', '“', '필요', '다면', '스페이스', 'X', '나설', '수', '있', '”', '트위터', '통해', '이날', '밝혔', '.', '스페이스', 'X', '국제', '우주', '정거장', '(', 'ISS', ')', '오가', '우주', '비행사', '위한', '우주복', '자체', '개발', '해', '놓', '상황', '.', 'NASA', '감사관', '실은', '신', '형', '우주복', '개발', '4', '억', '2000', '만', '달러', '(', '4850', '억', '원', ')', '투입', '됐으며', ',', '앞', '으로', '6', '억', '2500', '만', '달러', '(', '7230', '억', '원', ')', '더', '들어갈', '것', '으로', '전망', '했', '.', '감사관', '실은', '“', '개발', '위험', '줄이', '기', '위해', '달', '인간', '착륙', '시키', '기', '위한', '일정', '조정', '해야', '한다', '”', '권고', '했', '.', '이정호', '기자', 'run', '@', 'kyunghyang', '.', 'com'], ['정부', '섬유', '·', '제지', '산업', '에서', '탄소', '배출', '량', '줄이', '기술', '개발', '투자', '강화', '한다', '.', '산업', '통상', '자원', '부', '11', '일', '섬유', '·', '제지', '업계', '및', '관련', '전문가', '함께', '‘', '섬유', '·', '제지', '산업', '탄소', '중립', '협의회', '’', '제', '2', '차', '회의', '개최', '했', '.', '협의', '체', '섬유', '·', '제지', '업종', '2050', '탄소', '중립', '실현', '위해', '지난', '3', '월', '25', '일', '출범', '했', '.', '이날', '회의', '섬유', 'ㆍ제지산업', '탄소', '중립', 'R', '&', 'D', '전략', '’', '대한', '업계', ',', '전문가', '의견', '수렴', '고자', '개최', '됐', '.', '산업', '부', '소재', '융합', '산업', '정책', '관', ',', '섬유', '산업', '연합회', '부회장', '비롯', '해', '섬유', '·', '제지', '산업', '업계', '임원', '산업', '연구원', ',', '에너지', '경제', '연구원', ',', '산업', '기술', '평가', '관리원', '전문가', '등', '총', '18', '명', '참석', '했', '.', '산업', '부', '지난', '4', '월', '부터', '산', '-', '학', '-', '연', '전문가', '로', '구성', '된', '‘', 'R', '&', 'D', '기획', '위원회', '’', '구성', '해', '공정', '별', '온실가스', '배출', '현황', '분석', '및', '탄소', '배출', '감축', '기술', '도출', '기', '위한', '기술', '개발', '검토', '있', '.', '이날', '윤석한', '한국', '산업', '기술', '평가', '관리원', '섬유', 'PD', '섬유', 'ㆍ제지산업의', '탄소', '중립', '실현', '위한', 'R', '&', 'D', '전략', '발표', '했', '.', '먼저', '섬유', '산업', '바이오매스', '유래', '원료', '대체', '확대', ',', '섬유', '제조', '공정', '혁신', ',', '재생', '자원', '재', '활용', '등', '통해', '에너지', '사용량', '및', '탄소', '배출', '저감', '할', '계획', '.', '위해', '비', '석유', '계', '원료', '이용한', '바이오', '페트', ',', '나일론', ',', '폴리우레탄', '등', '섬유', '개발', '친환경', '탄소', '섬유', '제조', '공정도', '도입', '할', '예정', '.', '화학', '재생', '자원', '순환', '형', '섬유', '소재', '개발', '중점', '적', '으로', '추진', '할', '방침', '.', '재', '활용', '및', '바이오', '섬유', '비중', '확대', '되', '면', '2050', '년', '까지', '화학', '섬유', '업계', '탄소', '배출', '량', '지금', '보다', '60', '%', '이상', '줄일', '수', '있', '.', '물', '사용', '않', '염색', '·', '가공', '공정도', '개발', '한다', '.', '염색', '공정', '에서', '발생', '폐수', '정화', '과정', '에서', '이산화', '탄소', '(', 'CO', '2', ')', '발생', '기', '때문', '.', '.', '제지', '산업', '지류', '경량', '화', ',', '공정', '부산물', '활용', '자원', '화', ',', '건조', '공정', '에너지', '전기', '화', '등', '으로', '탄소', '배출', '저감', '추진', '한다', '.', '위해', '지류', '경량', '구조', '화', '기술', '개발', '전기', '드라이어', '시스템', '설계', '및', '전력', '공급', '장치', '개발', '등', '중점', '적', '으로', '추진', '한다', '.', '현재', '스팀', '건조', '공정', '방식', '에서', '전기', '건조', '공정', '방식', '으로', '바뀌', '면', '탄소', '배출', '량', '50', '%', '이상', '줄일', '수', '있', '.', '밖', '제지', '공정', '과정', '에서', '생산', '되', '폐자원', '부산물', '원료', '화', '·', '에너지', '화', '기술', '개발', '추진', '중', '.', '목재', '로', '펄프', '만들', '때', '생기', '리그닌', '라는', '부산물', '에너지', '로', '재', '활용', '것', '.', '산업', '부', '기술', '개발', '로', '열효율', '낮', '한계', '보완', '할', '계획', '.', '산업', '부', '“', '탄소', '중립', '협의회', '및', '각계', '의견', '수렴', '통해', '섬유', '·', '제지', '산업', '탄소', '중립', 'R', '&', 'D', '전략', '보완', '겠', '”', '밝혔', '.', '이어', '“', '개발', '된', '기술', '산업', '현장', '에서', '바로', '적용', '될', '수', '있', '도록', '지원', '함', '으로써', '업계', '투자', '리스크', '최소', '화', '여', '섬유', 'ㆍ제지산업의', '탄소', '중립', '차질', '없이', '지원', '할', '계획', '”', '라고', '전했', '.', '강연주', '기자', 'play', '@', 'kyunghyang', '.', 'com'], ['코로나', '19', '하루', '신규', '확진', '자', '2200', '명', '넘어서', '며', '새로운', '국면', '맞', '있', '.', '2000', '명', '이상', '확진', '규모', '지난해', '1', '월', '20', '일', '국내', '첫', '코로나', '19', '환자', '발생', '후', '처음', '으로', ',', '지금', '까지', '경험', '1', '~', '3', '차', '유행', '전혀', '다른', '차원', '으로', '볼', '수', '있', '.', '달', '전', '“', '8', '월', '중순', '하루', '확진', '자', '수', '2331', '명', '까지', '증가', '할', '수', '있', '”', '정은경', '질병', '관리', '청장', '경고', '현실', '됐', ',', '자칫', '면', '확', '산세', '통제', '불능', '상황', '빠질', '수', '있', '다는', '우려', '나온다', '.', '방역', '당국', '전문가', '“', '아직', '정점', '오', '않', '았', '”', '보', '있', '.', '휴가철', '동량', '증가', '속', '전파력', '강한', '델타', '변이', '확산', '세', '거세', '지만', '정작', '백신', '접종', '공급', '부족', '으로', '속도', '내', '못하', '있', '.', '의료', '체계', '여력', '역시', '한계', '다르', '있', '.', '하지만', '정부', '고강', '거리', '두기', '외', '엔', '뾰족', '해결책', '제시', '못하', '있', '.', '■', '4', '단계', '전방', '위', '확산', '세', '11', '일', '0', '시', '기준', '코로나', '19', '신규', '확진', '자', '2223', '명', '으로', '집계', '됐', '.', '직전', '최고', '치', '기록', '했', '던', '지난달', '28', '일', '(', '1895', '명', ')', '이후', '불과', '2', '주', '만', '1900', ',', '2000', ',', '2100', '명', '대', '건너뛰', '곧장', '2200', '명', '대로', '직행', '했', '.', '방역', '당국', '2000', '명', '대', '확진', '자', '나온', '원인', '으로', '‘', '휴가철', '’', '‘', '델타', '변이', '’', '꼽', '았', '.', '휴가', '다녀온', '사람', '지역', '사회', '복귀', '면서', '2', '~', '3', '차', '전파', '일으키', '있', '다는', '것', '.', '여기', '델타', '변이', '유행', '겹쳐', '최악', '상황', '만들', '었', '.', '5', '주', '차', '접어든', '수도', '권', '거리', '두기', '4', '단계', ',', '3', '주', '차인', '비', '수도', '권', '3', '단계', '통하', '않', '았', '.', '이미', '지역', '사회', '숨', '감염', '많', '상황', '에서', '잦', '이동과', '만남', '확산', '키웠', '.', '지난주', '동량', '전주', '비슷', '수준', '지만', '3', '차', '유행', '감소', '국면', '접어들', '었', '던', '지난', '1', '월', '보다', '30', '%', '높', '.', '강', '높', '거리', '두기', '길', '어', '면서', '시민', '피로감', '높', '아', '져', '동량', '감소', '효과', '예전', '만큼', '뚜렷', '않', '다고', '볼', '수', '있', '.', '방역', '당국', '“', '휴가', '다녀온', '사람', '코로나', '19', '검사', '받', '아', '달', '라', '”', '요청', '했', '.', '백신', '접종', '효과', '로', '치명률', '낮', '아', '진', '것', '그나마', '다행', '.', '지난해', '12', '월', '3', '차', '유행', '당시', '1', '.', '4', '%', '대', '기록', '던', '누적', '치명률', '이날', '0', '.', '99', '%', '까지', '떨어졌', '.', '주간', '평균', '코로나', '19', '사망자', '지난해', '12', '월', '250', '명', '수준', '었', '지만', '현재', '20', '명', '대', '로', '줄', '었', '.', '하지만', '확진', '자', '규모', '불어난', '만큼', '위', '중증', '환자', '400', '명', '육박', '있', '.', '캐나다', '스코틀랜드', '에서', '델타', '변이', '중', '증도', '높인다는', '보고', '나왔', '.', '박향', '중앙', '사고', '수습', '본부', '방역', '총괄', '반장', '“', '중환자실', '등', '의료', '체계', '여력', '점차', '줄어들', '있', ',', '이상', '환자', '증가', '장기', '화', '된다면', '치료', '차질', '발생', '할', '수', '있', '”', '말', '했', '.', '확', '산세', '언제', '까지', ',', '얼만큼', '늘어날지', '가늠', '기', '힘들', '.', '지금', '정점', '아니', '라는', '방역', '당국', '전문가', '공통', '된', '의견', '.', '박영준', '중앙', '방역', '대책', '본부', '(', '방', '대본', ')', '역학', '조사', '팀장', '“', '정점', '현재', '시점', '아닐', '수', '있', '다는', '것', '쉽', '생각', '할', '수', '있', '상황', '”', '라고', '말', '했', '.', '최원석', '고려대', '안산', '병원', '감염', '내', '교수', '“', '오늘', '시점', '정점', '으로', '이야기', '긴', '어렵', '”', '며', '“', '환자', '수', '줄어드', '시기', '빨리', '올', '거', '라', '생각', '진', '않', '는다', '”', '했', '.', '■', '백신', '정책', '실패', '정부', ',', '거리', '두', '기만', '호', '소', '백신', '도입', '늦', '어', '진데다', '수급', '차질', '까지', '생기', '면서', '예방', '접종', '완료', '율', '인구', '15', '%', '대', '불과', '.', '최근', '모더', '나', '백신', '공급', '절반', '이하', '로', '줄', '면서', '50', '대', '이하', '연령', '층', '1', '·', '2', '차', '접종', '간격', '6', '주', '까지', '늘어났', '.', '접종', '완료', '율', '높이', '어느', '때', '보다', '중요', '상황', '지만', '백신', '부족', '따른', '고육지책', '쓴', '것', '.', '방역', '당국', '현재', '거리', '두기', '외', '추가', '방역', '조치', '검토', '중', '.', '박영준', '역학', '조사', '팀장', '“', '현재', '있', '방역', '조치', '로', '확', '산세', '차단', '어려울', '것', '으로', '보', '있', '”', '했', '.', '박향', '방역', '총괄', '반장', '“', '이번', '주말', '광복절', '연휴', '부디', '이동과', '여행', '자제', '해', '달', '라', '”', '며', '“', '아이', '2', '학기', '등교', '위해서', '어른', '방역', '협조', '필요', '”', '호소', '했', '.', '일각', '에선', '낮', '치명률', '근거', '로', '‘', '방역', '체계', '전환', '’', '목소리', '커', '있', '.', '코로나', '19', '독감', '같', '풍토병', '으로', '자리', '잡', '가능', '성', '높', '만큼', '바이러스', '함께', '살아갈', '방안', '찾', '아야', '한다는', '것', '.', '고위험', '군', '보호', '집중', '면서', '방역', '조치', '풀', '어야', '한다는', '주장', '핵심', '.', '김윤', '서울대', '의대', '의료', '관리', '학과', '교수', '“', '접종', '률', '높', '아', '져도', '코로나', '19', '유행', '반복', '될', '것', '”', '라며', '“', '지금', '부터', '논의', '시작', '해야', '달', '뒤', '쯤', '새로운', '시스템', '으로', '전환', '해', '갈', '수', '있', '”', '말', '했', '.', '장기', '적', '으로', '방역', '체계', '전환', '필요', '지만', '당장', '무리', '라는', '지적', '나온다', '.', '최원석', '교수', '“', '(', '방역', '않', '아', ')', '지금', '보다', '더', '큰', '확진', '자', '생기', '면', '더', '많', '중환자', '사망자', '나타날', '텐데', '우리', '사회', '의료', '체계', '감당', '기', '어려울', '것', '”', '라며', '“', '지금', '백신', '접종', '거리', '두기', '조화', '롭', '적용', '돼야', '한다는', '걸', '보여', '주', '시기', '”', '라고', '했', '.', '노', '도현', '·', '김향미', '·', '이혜리', '기자', 'hyunee', '@', 'kyunghyang', '.', 'com'], ['자녀', '입시', '비리', '사모', '펀드', '투자', '의혹', '으로', '1', '심', '에서', '징역', '4', '년', '선고', '받', '조국', '전', '법무부', '장관', '배우자', '정경', '심', '동양', '대', '교수', '항소심', '열린', '11', '일', '서울', '서초동', '법원', '앞', '조', '전', '장관', '응원', '현수막', '걸려', '있', '.', '정', '교수', '이날', '항소심', '에서', '징역', '4', '년', '선고', '받', '았', '.', '강윤중', '기자'], ['국민', '힘', '내홍', '깊', '어', '있', '.', '이준석', '대표', '윤석열', '전', '검찰', '총장', '등', '‘', '투스', '톤', '(', '준', '스톤', '+', '윤', '스톤', ')', '’', '사이', '에서', '싹튼', '갈등', '불씨', '당', '지도부', ',', '경선', '준비', '위원회', '(', '경준', '위', ')', ',', '다른', '대선', '주자', '로', '속속', '옮겨', '붙', '중', '.', '휴가', '에서', '복귀', '윤', '전', '총장', '11', '일', '“', '갈등', '할', '이유', '없', '”', '했', '지만', ',', '삼', '중사', '중', '으로', '쌓인', '갈등', '구조', '번', '진화', '되', '기', '어려워', '보인다', '.', '윤', '전', '총장', '이날', '오전', '국회', '에서', '국민', '힘', '재선', '의원', '간담회', '마치', '기자', '만나', '“', '제', '입장', '에서', '갈등', '할', '아무런', '이유', '없', '그동안', '잘', '소통', '해', '왔', '기', '때문', '그렇게', '비치', '것', '이해', '안', '된다', '”', '말', '했', '.', '그', '휴가', '코로나', '19', '자택', '대기', '마치', '이날', '공개', '행보', '재개', '했', '.', '윤', '전', '총장', '간담회', '에서', '갈등', '설', '불식', '려', '것', '으로', '전해졌', '.', '참석자', '기자', '통화', '에서', '“', '윤', '전', '총장', '종전', '스', '케', '쥴', '밀린', '것', '처리', '과정', '에서', '(', '의도', '적', '불참', '으로', ')', '비춰졌', '다면', '아쉽', '생각', '한다면서', '‘', '앞', '으로', '최대한', '대표', '호흡', '맞춰', '겠', '’', '더라', '”', '라고', '말', '했', '.', '대선', '주자', '모이', '당', '행사', '연이', '어', '불참', '면서', '갈등', '촉발', '된', '점', '염두', '둔', '발언', '.', '윤', '전', '총장', '‘', '뒤늦', '진화', '’', '나섰', '지만', ',', '불길', '이미', '일파만파', '로', '번진', '상태', '.', '이날', '당', '지도부', '대선', '주자', ',', '당', '의원', '곳곳', '에서', '충돌', '했', '.', '경선', '버스', '기점', '대놓', '뒤', ',', '구체', '적', '노선도', '누가', '어떻', '짜', '느냐', '두', '다툼', '어', '갔', '.', '대표', '당내', '대표', '적', '친', '윤석열', '(', '친', '윤', ')', '계인', '정진석', '의원', '‘', '2', '차', '전', '’', '벌였', '.', '대표', '자신', '사회관', '계망', '서비스', '(', 'SNS', ')', '정', '의원', '관련', '기사', '올리', '면서', '“', '우리', '후보', '곁', '권력욕', '부추기', '하이에나', '아니', '라', '(', '영화', '<', '라이온', '킹', '>', '처', '럼', ')', '밝', '긍정', '적', '멧돼지', '미어캣', '있', '었', '으면', '좋', '겠', '”', '적자', ',', '정', '의원', '“', '참', '딱', '”', '맞받', '았', '.', '두', '사람', '지난', '6', '일', '“', '멸치', '고등어', '돌고래', '생장', '조건', '다르', '”', '(', '정', '의원', ')', ',', '“', '멸치', '돌고래', '공정', '대하', '올바른', '경선', '관리', '”', '(', '대표', ')', '라고', '논쟁', '바', '있', '.', '경준', '위', '‘', '노선도', '’', '결정', '권한', '둘러싼', '긴장감', '높', '아', '있', '.', '원희룡', '제주지사', '전날', '경준', '위', '경선', '일정', '방식', '구체', '적', '으로', '밝힌', '것', '두', '“', '독단', '선', '넘', '었', '.', '당', '대표', '경선', '공정', '관리', '할', '선거', '관리', '위원회', '구성', '라', '”', '했', '.', '반면', '유승민', '전', '의원', '측', '오신환', '상황', '실장', '기자', '회견', '열', '“', '전권', '위임', '받', '경준', '위', '결정', '무시', '행태', '심심', '유감', '뜻', '밝힌다', '”', '대표', '경준', '위', '힘', '실', '었', '.', '경준', '위', '열', '기', '로', '18', '일', '25', '일', '토론회', '또', '다른', '뇌관', '.', '유', '전', '의원', '측', '찬성', '의사', '밝혔', ',', '최재형', '전', '감사원장', '이날', '기자', '만나', '“', '긍정', '적', '으로', '검토', '겠', '”', '말', '했', '.', '반면', '윤', '전', '총장', '“', '공식', '요청', '오', '면', '캠프', '관계자', '논의', '해', '보', '겠', '”', '명확', '참석', '의사', '밝히', '않', '았', '.', '경준', '위', '권한', '해석', '연계', '반대', '의견', '만만', '치', '않', '.', '경준', '위', '본', '경선', '전', '후보', '모아', '토론회', '여', '권한', '넘어선다는', '시각', '.', '당', '상임', '고문', '정의', '화', '전', '국회', '의장', '이날', '“', '어제', '발표', '된', '후보', '자', '토론회', '절차', '적', '으로', '문제', '있', '”', '등', '전선', '넓', '어', '모습', '.', '경선', '버스', '출발', '일', '전', '까지', '경선', '룰', '방식', '둘러싼', '국민', '힘', '내', '갈등', '계속', '될', '것', '으로', '보인다', '.', '갈등', '언제', ',', '어떤', '방식', '으로', '봉합', '되', '느냐', '‘', '원', '팀', '경선', '’', '라는', '야권', '대선', '구상', '성패', '달렸', '.', '이날', '복귀', '윤', '전', '총장', '대표', '갈등', '설', '잠재워', '‘', '안정', '적', '1', '위', '후보', '’', '면모', '보이', '동시', ',', '다중', '갈등', '구도', '로', '여러', '곳', '에서', '쏟아지', '‘', '대세', '론', '흔들', '기', '’', '방어', '해야', '과제', '안', '됐', '.', '유정인', '·', '박순봉', '기자', 'jeongin', '@', 'kyunghyang', '.', 'com'], ['모더', '나', '백신', '맞', '뒤', '혈전증', '증상', '보이', '사망', '20', '대', '관련', '해', '지자체', '보건', '당국', '각각', '다른', '주장', '내놓', '있', '.', '질병', '청', '사례', '경우', '모더', '나', '백신', '접종', '자', '인데다', '혈소판', '수', '결과', '기준', '부합', '않', '아', '혈소판', '감소', '성', '혈전증', '(', 'TTS', ')', '검사', '거부', '했', '다고', '밝혔으나', ',', '제주도', '검사', '의뢰', '전', '이미', '사례', '자', '혈소판', '수치', '기준', '이하', '였', '질병', '청', '전달', '했', '다고', '반박', '했', '.', '제주도', '11', '일', '“', '모더', '나', '백신', '맞', '20', '대', '여성', 'A', '씨', '혈소판', '수치', '지난달', '31', '일', '부터', '기준', '이하', '로', '떨어졌', ',', '확인', '후', '질병', '청', 'TTS', '검사', '의뢰', '했', '”', '밝혔', '.', 'A', '씨', '지난달', '26', '일', '제주', '위탁', '의료', '기관', '에서', '모더', '나', '백신', '맞', '뒤', '31', '일', '혈전증', '증상', '보여', '수술', '받', '뒤', '치료', '받', '던', '중', '지난', '7', '일', '숨졌', '.', '제주도', 'A', '씨', '응급실', '내원', '당시', '30', '일', '혈소판', '수치', '기준', '(', '15', '만', '/', '㎕', '미만', ')', '이상', '었', '지만', '31', '일', '부터', '8', '만', '까지', '급격', '떨어졌', '다고', '밝혔', '.', '제주도', '방역', '당국', '이후', 'A', '씨', '혈소판', '수치', '기준치', '이하', '보이', '자', '지난', '4', '∼', '6', '일', '세', '차례', '걸쳐', '질병', '청', 'TTS', '검사', '의뢰', '했', '.', '질병', '청', '첫', '번', '째', '두', '번', '째', '요청', '‘', '모더', '나', '백신', '접종', '자', '라서', '불가', '’', '답변', ',', '세', '번', '째', '요청', '‘', '혈액', '응고', '자', '문단', '의견', '청취', '결과', '검사', '필요', '없', '다고', '했', '’', '회신', '했', '.', '지난', '10', '일', '“', '(', 'A', '씨', '사례', ')', '아데노바이러스', '벡터', '백신', '아닌', '모더', '나사', '백신', '며', ',', '환자', '응급실', '내원', '시점', '에서', '혈소판', '수', '검사', '결과', '혈전증', '추정', '사례', '기준', '부합', '않', '았', '”', '설명', '했', '.', '질병', '청', '지침', '보', '면', '아데노바이러스', '벡터', '백신', '접종', '후', '4', '∼', '28', '일', '이내', '혈전증', '의심', '증상', '발생', ',', '혈소판', '수', '15', '만', '/', '㎕', '미만', ',', '혈전', '용해', '될', '때', '생기', '단백질', '디', '다이', '머', '(', 'D', '-', 'dimer', ')', '수치', '상승', ',', 'MRI', '·', 'CT', '등', '영상', '검사', '등', '으로', '혈전', '또는', '출혈', '확인', '될', '경우', '각', '의료', '기관', 'TTS', '검사', '의뢰', '할', '수', '있', '.', '질병', '청', '해당', '사례', '관련', '해', '심층', '역학', '조사', '완료', '되', '즉시', '코로나', '19', '혈액', '응고', '전문가', '자', '문단', '의견', '구하', '예방', '접종', '피해', '조사', '반', '에서', '인과성', '평가', '실시', '할', '예정', '.', '박미라', '기자', 'mrpark', '@', 'kyunghyang', '.', 'com'], ['문재인', '대통령', '11', '일', '국내', '코로나', '19', '하루', '확진', '자', '수', '역대', '최다', '기록', '데', '대해', '“', '현재', '감염', '확산', '막', '못하', '면', '확진', '자', '수', '더', '늘어나', '분기점', '될', '수', '있', '중요', '시점', '”', '라고', '말', '했', '.', '문', '대통령', '이날', '오전', '참모', '회의', '에서', '“', '국민', '희생', '적', '협조', '방역', '당국', '노력', '불구', '일', '일', '확진', '자', '수', '2000', '명', '넘어서', '돼', '우려', '크다', '”', '면서', '같이', '말', '했', '다고', '박경미', '청와대', '대변인', '서', '면', '브리핑', '통해', '전했', '.', '문', '대통령', '“', '최근', '확진', '자', '수', '증가', '델타', '변이', '확산', '따른', '전', '세계', '적', '현상', '으로', '우리나라', '여전히', '다른', '국가', '보다', '상대', '적', '으로', '나', '상황', '유지', '고는', '있', '”', '면서도', '“', '현재', '감염', '확산', '막', '못하', '면', '확진', '자', '수', '더', '늘어나', '분기점', '될', '수', '있', '중요', '시점', '”', '라고', '밝혔', '.', '문', '대통령', '“', '지금', '까지', '성공', '적', '방역', '주인공', '국민', '협조', '다시', '번', '당부', '드린다', '”', '며', '“', '정부', '감염', '확산', '상황', '안정', '화', '시키', '기', '위해', '최선', '노력', '겠', '”', '말', '했', '.', '방역', '당국', '따르', '면', '이날', '0', '시', '기준', '코로나', '19', '신규', '확진', '자', '수', '2223', '명', '기록', '했', '.', '지난해', '1', '월', '코로나', '19', '국내', '유입', '이후', '처음', '2000', '명', '대', '확진', '자', '수', '기록', '것', '.', '직전', '최다', '지난달', '28', '일', '1895', '명', '보다', '328', '명', '많', '.', '누적', '확진', '자', '수', '21', '만', '6206', '명', '됐', '.', '정대연', '기자', 'hoan', '@', 'kyunghyang', '.', 'com'], ['미국', '제약사', '모더', '나', '코로나', '19', '백신', '공급', '지연', '8', '~', '9', '월', '백신', '접종', '계획', '차질', '로', '이어지', '가운데', '정부', '방미', '대표단', '꾸려', '이번', '주중', '모', '더', '나와', '실무', '협의', '진행', '키로', '면서', '수급', '문제', '해결', '물꼬', '틀', '수', '있', '을지', '관심', '쏠린다', '.', '정부', '모더', '나사', '협의', '통해', '향후', '물량', '확보', '문제', '없', '도록', '겠', '다고', '밝혔', '지만', ',', '현실', '적', '으로', '모더', '나', '측', '생산', '역량', '봤', '때', '물량', '공급', '지연', '막', '방법', '없', '다는', '지적', '나온다', '.', '애초', '정부', '자체', '생산', '설비', '없', '모', '더', '나와', '계약', '맺', '당시', '부터', '공급', '차질', '가능', '성', '대비', '했어야', '한다는', '지적', '함께', ',', '다른', '백신', '추가', '확보', '힘써야', '한다는', '의견', '제기', '된다', '.', '강도태', '보건복지부', '2', '차관', '대표', '로', '정부', '대표단', '이번', '주', '미국', '모더', '사', '찾아갈', '예정', '.', '벌써', '세', '차례', '나', '공급', '차질', '반복', '해', '온', '모더', '나', '측', '항의', '전달', '재발', '방지', '논의', '할', '예정', '.', '정부', '관계자', '11', '일', '“', '대표단', '모더', '나사', '협의', '에서', '8', '월', '공급', '물량', '밀린', '데', '항의', ',', '9', '월', '물량', '차질', '없이', '보낸다는', '확답', '받', '고자', '한다', '”', '말', '했', '.', '다만', '당초', '백신', '구체', '적', '공급', '일정', '협의', '통해', '정하', '기', '로', '계약서', '상', '따로', '명시', '않', '아', '이번', '공급', '차질', '계약', '위반', '으로', '보', '긴', '어렵', '다는', '정부', '판단', '.', '일각', '에선', '모', '더', '나와', '위탁', '생산', '계약', '맺', '삼성', '바이오', '로직스', '이달', '말', '생산', '시작', '면', '국내', '공급', '우선', '이뤄질', '수', '있', '도록', '정부', '제안', '할', '것', '라는', '전망', '제기', '된다', '.', '다만', '경우', '시제품', '검증', '기간', '감안', '면', '9', '월', '말', '~', '10', '월', '나', '쓸', '수', '있', '.', '그러나', '정부', '대표단', '모더', '나사', '만나', '협의', '해도', ',', '근본', '적', '으로', '모더', '나', '생산', '공', '정상', '문제', '해결', '되', '않', '는다면', '공급', '차질', '재연', '될', '수', '밖', '없', '다는', '전문가', '진단', '.', '모', '더나', '측', '지난', '7', '월', '유럽', '위탁생', '산', '공장', '에서', '문제', '발생', '면서', '당초', '7', '월', '중순', '공급', '키로', '했', '던', '물량', '7', '월', '말', '로', '연기', '데', '어', '8', '월', '초', '로', '다시', '늦춰', '보내온', '바', '있', '.', '정부', '8', '월', '부터', '모더', '나', '미국', '공장', '생산', '물량', '받', '기', '로', '면서', '공급', '물량', '제대로', '들어올', '것', '으로', '예상', '했으나', '역시', '빗나갔', '.', '모', '더나', '측', '유럽', '공장', '생산', '통해', '나갔', '어야', '할', '물량', '미국', '물량', '에서', '당겨', '쓰', '식', '으로', '공급', '조정', '나서', '며', '공급', '계획', '틀어진', '것', '라는', '관측', '나온다', '.', '홍기종', '대', '백', '신학회', '편집', '위원장', '“', '모더', '나', '백신', '대량', '생산', '할', '시스템', '능력', '부족', '.', '과학', '계', '·', '백', '신학', '계', '에서', '앞서', '서', '우려', '했', '던', '부분', '”', '라면서', '“', '정부', '대표단', '모더', '나', '측', '만나', '(', '공급', '물량', '확약', '받', '것', '외', ')', '별다른', '수', '없', '”', '말', '했', '.', '델타', '변이', '확산', '영향', '으로', '세계', '각국', '모더', '나', '·', '화이자', '백신', '구매', '겠', '다고', '뛰어드', '상황', '라', '정부', '열위', '놓일', '수', '밖에', '없', '.', '내년', '물량', '확보', '생각', '면', '모더', '나', '측', '강하', '항의', '기', '현실', '적', '으로', '쉽', '않', '.', '지난해', '말', '정부', '모더', '나사', '올해', '4000', '만', '회분', '공급', '계약', '맺', '으면서', '토대', '로', '올', '하반기', '대', '규모', '접종', '계획', '짰', '지만', ',', '애초', '제약사', '생산', '역량', '차질', '가능', '성', '등', '더', '면밀히', '따지', '대비', '했어야', '한다는', '비판', '나온다', '.', '홍', '편집', '위원장', '“', '정부', '10', '~', '11', '월', '까지', '접종', '률', '높여', '집단', '면역', '달성', '겠', '다고', '했', '으면', '현', '시점', '에서', '해결책', '마련', '해야', '한다', '”', '면서', '“', '모더', '나', '·', '화이자', '백신', '도입', '공', '들여야', '지만', ',', '국내', '에서', '위탁', '생산', '되', '있', '아스트라', '제', '카', '(', 'AZ', ')', '백신', ',', '얀센', '백신', '등', '추가', '로', '확보', '접종', '계획', '반영', '것', '검토', '해야', '한다', '”', '말', '했', '.', '김향미', '기자', 'sokhm', '@', 'kyunghyang', '.', 'com'], ['국토', '교통부', '현대', '자동차', 'BMW', '등', '35', '개', '차종', '총', '2', '만', '8946', '대', '에서', '제작', '결함', '발견', '돼', '시정', '조치', '(', '리콜', ')', '들어간다고', '11', '일', '밝혔', '.', '대상', '업체', '현대', '자동차', ',', 'BMW', '코리아', ',', '메르세데스', '-', '벤츠', '코리아', ',', '재규어', '랜', '드로버', '코리아', ',', '한국', '토요타', '자동차', ',', '혼다', '코리아', '등', '6', '개', '사', '.', '현대차', '제작', '·', '판매', '그랜드', '스타렉스', '1', '만', '407', '대', '후방', '동력', '전달', '축', '(', '프로펠러', '샤프트', ')', '에서', '결함', '발견', '됐', '.', '연결', '부분', '강도', '약해', '후륜', '주행', '할', '경우', '차량', '멈출', '가능', '성', '확인', '됐', '.', 'BMW', '코리아', '수입', '·', '판매', '630', 'i', 'xDrive', '등', '15', '개', '차종', '5656', '대', '시동', '걸', '었', '다가', '즉시', '끄', '경우', '등', '특정', '상황', '에서', '브레이크', '진공', '펌프', '오작동', '으로', '손상', '될', '수', '있', '것', '으로', '드러났', '.', '따라', '브레이크', '페달', '무거워', '제', '동거리', '길', '어', '질', '가능', '성', '있', '어', '리콜', '들어간다', '.', '메르세데스', '-', '벤츠', '코리아', 'C', '200', '등', '3', '개', '차종', '4781', '대', '엔진', '제어', '장치', '(', 'ECU', ')', '소프트웨어', '오류', '로', '장시간', '공회전', '시', '발전기', '내', '부품', '(', '다이오드', ')', '과열', '돼', '화재', '발생', '할', '가능', '성', '지적', '됐', '.', '재규어', '랜', '드로버', '디스커버리', 'SD', '4', '등', '4', '개', '차종', '721', '대', '배터리', '접지', '볼트', '설치', '불량', '으로', '차량', '전원', '공급', '제대로', '되', '않', '아', '주행', '중', '시동', '꺼질', '수', '있', '어', '리콜', '대상', '으로', '결정', '됐', '.', '도요타', '프리우스', '2', 'WD', '등', '2', '개', '차종', '488', '대', '긴', '급제동', '보조', '장치', '소프트웨어', '오류', '로', '충돌', '전', '제동', '보조', '기능', '지연', '돼', '사고', '발생', '할', '가능', '성', '확인', '됐', '.', 'RAV', '4', '201', '대', '연료', '펌프', '제어', '장치', '결함', '으로', '장시간', '주차', '후', '연료', '압력', '낮', '상태', '에서', '급가속', '할', '경우', '연료', '공급', '제대로', '되', '않', '아', '시동', '꺼질', '수', '있', '어', '리콜', '들어간다', '.', '혼다', '코리아', '에서', '수입', '·', '판매', 'NBC', '110', '등', '9', '개', '이륜', '차종', '6692', '대', '자기', '인증', '적합', '조사', '결과', '후부', '반사기', '반사', '성능', '자동차', '안전', '기준', '미치', '못하', '것', '으로', '확인', '됐', '.', '먼저', '리콜', '진행', '되', '추후', '시정', '률', '등', '고려', '해', '과징금', '부과', '할', '계획', '.', '리콜', '대상', '차량', '각', '제작', '판매사', '공식', '서비스', '센터', '에서', '무상', '으로', '수리', '받', '수', '있', '.', '제작사', '자동차', '소유자', '에게', '우편', '및', '휴대', '전화', '문자', '로', '시정', '방법', '등', '알려야', '한다', '.', '소유자', '리콜', '전', '자비', '로', '수리', '경우', '제작사', '에게', '수리', '비용', '대한', '보상', '신청', '할', '수', '있', '.', '김희진', '기자', 'hjin', '@', 'kyunghyang', '.', 'com'], ['제', '23', '회', '서울', '국제', '여성', '영화제', '26', '일', '~', '9', '월', '1', '일', '서울', '마포구', '문화', '비축', '기지', '메가', '박스', '상암', '월드컵', '경기장', '등지', '에서', '열린다', '.', '개막', '작', '차이', '베리', '로', '트', '감독', '다큐멘터리', '<', '토베', '얀손', '>', '.', '핀란드', '작가', '토베', '얀손', '전', '세계', '적', '으로', '인기', '모은', '캐릭터', '무민', '창작자', '로', '유명', '.', '영화', '토베', '얀손', '성공', '보다', ',', '퀴어', '예술가', '로서', '그', '경험', '관계', ',', '불안', '긴장', ',', '자아', '발견', '성장', '등', '집중', '한다', '.', '개봉', '20', '주년', '맞', '정재', '감독', '데뷔작', '<', '고양이', '부탁', '해', '>', '디지털', '리마', '스터링', '버전', '선보인다', '.', '1997', '년', '외환', '위기', '이후', '배경', '으로', '사회', '갓', '진출', '20', '대', '여성', '삶', '세밀', '그린', '선구', '적', '여성', '영화', '였', '.', '영화', '주연', '배두나', '특별', '전', '열린다', '.', '<', '플란다스', '개', '>(', '봉준호', '감독', ')', ',', '<', '복수', '나', '것', '>(', '박찬욱', '감독', ')', ',', '<', '공기인형', '>(', '고레에다', '히로카즈', '감독', ')', ',', '<', '도희', '야', '>(', '정주리', '감독', ')', '등', '상영', '된다', '.', '긴급', '여성', '의제', '선정', '관련', '영화', '상영', '‘', '쟁점', '’', '부문', '에서', '‘', '래디컬', '다시', '질문', '한다', '’', '라는', '주제', '택했', '.', '근현대', '페미니즘', '운동사', '에서', '가장', '논쟁', '적', '시기', '였', '던', '제', '2', '물결', '당시', '새로운', '세대', '페미니즘', '담', '영화', '모았', '.', '8', '~', '13', '세', '유색인', '종', '소녀', '위한', '대안', '적', '스카우트', '운동', '다룬', '<', '소녀', '혁명', '-', '우리', '급진', '군', '주', '>(', '린다', '골드스타인', '놀튼', '감독', ')', ',', '‘', '여성', '몸', '’', '대해', '질문', '옴니버스', '다큐', '<', '불꽃', '페미', '액션', '몸', '해방', '>(', '윤가현', '·', '류현아', '·', '이가현', '감독', ')', '등', '볼', '수', '있', '.', '‘', '지금', '여기', '풍경', ':', '여자', '집', '’', '최근', '몇', '년', '간', '등장', '여성', '감독', '작품', '친밀', '시선', '으로', '돌아보', '신설', '부문', '.', '개별', '주체', '마주', '개인', '적', '생생', '삶', '풍경', '재현', '영화', '모았', '.', '<', '밤', '문', '열린다', '>(', '유은정', '감독', ')', ',', '<', '69', '세', '>(', '임선애', '감독', ')', ',', '<', '십', '개월', '미래', '>(', '남궁선', '감독', ')', '등', '만난다', '.', '10', '대', '눈', '으로', '세상', '보', '영화', '만날', '수', '있', '‘', '아이', '틴', '즈', '’,', '세계', '여성', '영화', '흐름', '일별', '‘', '새로운', '물결', '’', '상', '영작', '선정', '관여', '황', '미', '요조', '프로그래머', '“', '작품', '수', '뿐', '아니', '라', '주제', '다양', '해졌', '”', '며', '“', '여성', '감독', '영화', '많이', '증가', '했', '음', '알', '수', '있', '었', '”', '말', '했', '.', '코로나', '19', '확산', '상황', '고려', '해', '상', '영작', '절반', '온', '·', '오프라인', '동시', '상영', '한다', '.', '장편', '44', '편', ',', '단편', '22', '편', '온라인', '플랫', '폼', '‘', '온', '피프', '엔', '’', '에서', '볼', '수', '있', '.', '특별', '전', '주인공', '배두나', ',', '배우', '김아중', '·', '감독', '변영주', ',', '올해', '영화제', '홍보', '대사', '문가영', '스타', '토크', '온라인', '으로', '생', '중계', '된다', '.', '백승찬', '기자', 'myungworry', '@', 'kyunghyang', '.', 'com'], ['11', '일', '기준', '으로', '21', '대', '국회', '8875', '건', '법안', '계류', '돼', '있', '.', '하루', '만', '수십', '건', '법안', '발의', '되', ',', '상당수', '법안', '상임', '위원회', '에서', '논의', '조차', '되', '못한', '채', '사라진다', '.', '법안', '운명', '위태', '롭', '.', '강간죄', '구성', '요건', '폭행', '또는', '협박', '으로', '규정', '현행법', '‘', '동의', '여부', '’', '추가', '형법', '제', '32', '장', '일부', '개정안', '.', '‘', '비동', '강간죄', '’(', '동의', '않', '성관', '계', '강간', ')', '라', '불리', '개정안', '2018', '년', '미투', '운동', '이후', '가장', '중요', '성폭력', '법', '개정', '으로', '꼽히', '지만', '지난해', '발의', '된', '뒤', '1', '년', '가까이', '잠들', '어', '있', '.', '강간죄', '개정', '우리', '사회', '성폭력', '어떻게', '볼', '것', '인가', '대한', '문제', '.', '현행법', '강간', '정조', '빼앗', '관점', '으로', '본', '1953', '년', '형법', '제정', '이후', '그대로', '.', '현실', '에선', '직접', '적', '폭행', '이나', '협박', '없', '강간', '더', '많', '(', '71', '.', '4', '%,', '2019', '년', ')', ',', '복잡', '성범죄', '특성', '고려', '판결', '나오', '지만', '여전히', '어떤', '재판부', '법조문', '좁', '해석', '해', '피해자', '얼마나', '저항', '했', '는지', '판단', '근거', '로', '삼', '는다', '.', '90', '%', '성범죄', '사건', '화', '되', '못한', '채', '사라지', ',', '피해자', '숨', '는다', '.', '68', '년', '된', '강간죄', '개정', '2020', '년', '대', '물거품', '될까', '.', '지난해', '총선', '전', '강간죄', '개정', '찬성', '했', '던', '의원', '당선', '이후', '무얼', '있', '을까', '.', '강간죄', '개정안', '발', '1', '년', '맞', '아', '법', '개정', '둘러싼', '움직임', '알', '아', '봤', '.', '■', '204', '→', '45', '→', '?', '류', '호정', '정의당', '의원', '지난달', '29', '일', '30', '일', '국회', '의원', '회관', '돌', '며', '친전', '(', '직접', '쓴', '편지', ')', '전달', '했', '.', '강간죄', '개정', '찬성', '는지', '묻', ',', '9', '월', '정기', '국회', '때', '법안', '논의', '될', '수', '있', '도록', '함께', '해', '달', '라는', '내용', '담', '았', '.', '2019', '년', '3', '월', '전국', '208', '개', '여성', '인권', '단체', '연합', '‘', '강간죄', '’', '개정', '위한', '연대', '회의', '(', '2021', '년', '2', '월', '기준', '223', '개', '연합', ')', '지난해', '4', '월', '총선', '앞두', '후보자', '1430', '명', '에게', '강간죄', '개정', '찬성', '는지', '물', '었', '.', '후보', '204', '명', '찬성', '한다고', '답', '했', ',', '그', '중', '45', '명', '당선', '됐', '.', '류', '의원', '그', '45', '명', '에게', '다시', '찬반', '여부', '물', '것', '.', '지난', '9', '일', '까지', '받', '답변', '집계', '결과', '45', '명', '중', '류', '의원', '본인', '제외', '찬성', '의견', '전달', '의원', '13', '명', ',', '무응답', '30', '명', '었', '.', '의원', '실은', '친전', '수령', '자체', '거부', '했', '.', '[', '인터랙티브', ']', '\"', '법', '또', '사라지', '중', '입니까', '\"...', '법안', '찬성', '했', '던', '의원', '?', '류', '의원', '지난해', '8', '월', '12', '일', '강간죄', '개정안', '발의', '했', '.', '형법', '제', '32', '장', '제목', '‘', '강간', '추행', '죄', '’', '에서', '‘', '성적', '침해', '죄', '’', '로', '바꾸', ',', '강간', '·', '추행', '죄', '구성요건', '상대방', '동의', '여부', '위계', '·', '위력', '추가', '했', '.', '류', '의원', '발', '안', '함께', '의원', '본인', '포함', '13', '명', '었', '.', '이번', '친전', '응답', '수', '비슷', '.', '백혜련', '더불', '어', '민주당', '의원', '지난해', '6', '월', '강간죄', '구성', '요건', '‘', '상대방', '의사', '반하', '여', '’', '로', '바꾸', '개정안', '발의', '했', '.', '류', '의원', '안', '비하', '면', '개정', '폭', '작', '지만', ',', '동의', '없', '성적', '행위', '성폭력', '으로', '봐야', '한다는', '개념', '같', '.', '백', '의원', '발', '안', '엔', '본인', '포함', '해', '14', '명', '서명', '했', '.', '두', '법안', '함께', '의원', '수', '합하', '면', '(', '중복', '된', '사람', '제외', ')', '26', '명', '.', '26', '명', '엔', '총선', '전', '강간죄', '개정', '찬성', '한다는', '의견', '밝히', '않', '았', '던', '의원', '포함', '돼', '있', '.', '그러나', '발', '안', '서명', '만', '해', '놓', '움직이', '않', '있', '.', '국민', '힘', '등', '다른', '정당', '아직', '강간죄', '관련', '법안', '발의', '않', '았', '.', '20', '대', '국회', '에서', '민주당', '정의당', '뿐', '아니', '라', '자유', '국당', ',', '바른', '미래', '당', ',', '민주', '평화', '당', '등', '5', '개', '정당', '강간죄', '개정안', '10', '건', '발의', '것', '비교', '된다', '.', '‘', '미투', '운동', '’', '‘', 'n', '번방', '사건', '’', '등', '성폭력', '문제', '사회', '적', '의제', '로', '떠오른', '결과', '였', '.', '류', '의원', '친전', '응답', '않', ',', '발', '안', '서명', '않', '의원', '강간죄', '개정', '동참', '할', '가능', '성', '있', '.', '법안', '많이', '발의', '됐', '다고', '통과', '가능', '성', '높', '것', '아니', '.', '그러나', '강간죄', '개정', '대한', '관심', '확실히', '지난', '국회', '에서', '보다', '후퇴', '것', '으로', '보인다', '.', '20', '대', '국회', '에선', '발', '의자', '중', '4', '명', '남성', '의원', '었', '.', '수천', '건', '법안', '계류', '중', '상황', '에서', '의원', '적극', '적', '으로', '나서', '않', '으면', '법', '개정', '불', '가능', '.', '▶', '류', '호정', '의원', '인터뷰', '전문', '보기', '류', '의원', '“', '직접', '만나', '보', '면', '많', '의원', '개정', '해야', '한다고', '공감', '지만', '우선', '순위', '에서', '밀려', '있', '분위기', '”', '라며', '“', '9', '월', '국회', '에선', '법', '사위', '에서', '논의', '될', '수', '있', '도록', '의원', '찾아다니', '며', '설득', '겠', '”', '말', '했', '.', '법', '사', '위', '안건', '채택', '교섭단체', '민주당', '국민', '힘', '간사', '협의', '해', '결정', '한다', '.', '류', '의원', '“', '여론', '관심', '가장', '중요', '”', '며', '“', '제', '또', '‘', '쇼', '한다', '’', '말', '을지언정', '가능', '여러', '방법', '고민', '해', '강간죄', '개정', '관심', '받', '수', '있', '도록', '노력', '겠', '”', '말', '했', '.', '법제', '사법', '위원장', '직무', '대리', '겸', '간사인', '박주민', '민주당', '의원', '“', '그동안', '제대로', '검토', '해', '보', '못했', '는데', '하반기', '논의', '될', '수', '있', '도록', '야당', '간사', '의논', '해', '볼', '계획', '”', '라고', '말', '했', '.', '‘', '강간죄', '’', '개정', '위한', '연대', '회의', '입법', '운동', '다시', '속도', '내', '있', '.', '오', '17', '일', '20', '일', '줌', '이용', '대중', '강연', ',', '24', '일', '전문가', '라운드', '테이블', '토론회', '열', '계획', '9', '월', '국회', '토론회', '개최', '준비', '있', '.', '■', '법', '때문', '피해자', '숨', '는다', '형법', '제', '297', '조', '“', '폭행', '또는', '협박', '으로', '사람', '강간', '자', '3', '년', '이상', '유기', '징역', '처한다', '”', '명시', '있', '.', '‘', '폭행', '또는', '협박', '’', '라는', '조건', '때문', '많', '강간', '사건', '신고', '벽', '넘', '못하', '사라진다', '.', '한국', '성폭력', '상담소', '박아름', '활동가', '“', '어렵', '용기', '낸', '피해자', '상담', '받', '으러', '왔', '다가', '강간죄', '조항', '보', '당황', '한다', '”', '며', '“', '동의', '않', '성', '관계', '고소', '면', '당연히', '유죄', '판결', '나올', '것', '라고', '생각', '했', '는데', '폭행', '협박', '있', '었', '는지', '중요', '판단', '기준', '라는', '사실', '놀란다', '”', '말', '했', '.', '결국', '피해자', '스스로', '객관적으로', '입증', '할', '수', '있', '만큼', '폭행', '협박', '당했', '는지', '검열', ',', '‘', '가짜', '피해자', '’', '로', '몰리', '않', '을까', '우려', '한다', '.', '그러나', '법조문', '밖', '성범죄', '다양', '복잡', '.', '더', '큰', '위험', '예상', '돼', '강', '저항', '할', '수', '없', '거나', '가해자', '권력', '관계', '있', '경우', '등', '얼마', '만큼', '폭력', '저항', '흔적', '남겼', '는가', '만', '으로', '따질', '수', '없', '여러', '유형', '피해', '있', '.', '2019', '년', '1', '~', '3', '월', '전국', '66', '개', '성폭력', '상담소', '사례', '분석', '결과', '강간', '피해', '사례', '1030', '건', '중', '71', '.', '4', '%(', '735', '건', ')', '폭행', '·', '협박', '없', '사례', '로', '집계', '됐', '.', '직접', '적', '폭행', '·', '협박', '행사', '된', '사례', '28', '.', '6', '%(', '295', '건', ')', '였', '.', '허', '민숙', '국회', '입', '법조', '사처', '입', '법조', '사관', '한국', '여성', '학회', '발표', '논문', '‘', '보통', '강간', ':', '폭행', '·', '협박', '없', '성폭력', '(', '2019', ')', '’', '에서', '“', '죽음', '불사', '피해자', '격렬', '저항', ',', '저항', '무력', '화', '할', '만큼', '엄청난', '폭행', '협박', '자행', '라는', '어쩌면', '현실', '에서', '찾아보', '기', '힘들', '거나', '드물', '발생', '성폭력', '범죄', '전형', '성', '속', '에서', '너무나', '많', '‘', '진짜', '’', '성폭력', '성폭력', '으로', '인정받', '못하', '있', '”', '비판', '했', '.', '현실', '에서', '직접', '적', '폭력', '협박', '없', '강간', '사건', '에서', '유죄', '판결', '나오', '있', '.', '2005', '년', '대법원', '“', '피해자', '사력', '해', '반항', '않', '았', '다는', '사정', '만', '으로', '가해자', '폭행', '·', '협박', '피해자', '항거', '현저히', '곤란', '할', '정도', '이르', '않', '았', '다고', '섣불리', '단정', '해선', '안', '된다', '”', '판시', '했', '.', '그럼에도', '법', '개정', '필요', '이유', '어떤', '재판부', '만나', '느냐', '따라', '판결', '달라지', '기', '때문', '.', '2019', '년', '채팅', '앱', '으로', '만난', '여성', '남성', '차', '안', '에서', '성폭행', '사건', '에서', '1', '심', '재판부', '“', '피고인', '여성', '의사', '무시', '성', '관계', '것', '인정', '된다', '”', '면서도', '“', '피고인', '상대방', '반항', '현저', '곤란', '할', '정도', '로', '폭행', '또는', '협박', '않', '았', '”', '봤', '.', '특히', '재판부', '“', '감자탕', '집', '에서', '여성', '피고인', '접시', '고기', '덜', '어', '준', '점', '”', '무죄', '근거', '로', '었', '.', '사건', '2', '심', '에서', '뒤집', '어', '졌', '.', '2', '심', '재판부', '피해자', '경찰', '신고', '려다', '전화기', '두', '번', '이나', '뺏긴', '점', ',', '무섭', '다며', '성관', '계', '동의', '않', '는다는', '의사', '밝힌', '점', '등', '인정', '해', '유죄', '로', '판결', '했', '.', '재판부', '“', '좁', '차', '안', '에서', '밀치', '것', '이상', '저항', '소용없', '었', '것', '”', '라고', '인정', '했', '.', '대법원', '에서', '유죄', '확정', '된', '안희정', '성폭력', '사건', '1', '심', '에선', '무죄', '판결', '나왔', '.', '이렇게', '판결', '들쭉날쭉', '자', '가해자', '피해자', '판결', '납득', '기', '보단', '‘', '재판부', '운', '’', '따지', '되', ',', '피해자', '숨', '된다', '.', '낮', '신고', '율', '통계', '로', '증명', '된다', '.', '2019', '년', '전국', '168', '개', '성폭력', '상담소', '접수', '된', '상담', '건수', '27', '만', '6122', '건', '인데', ',', '같', '해', '대검찰청', '집계', '성폭력', '범죄', '건수', '3', '만', '2029', '건', '불과', '.', '상담소', '접수', '된', '사건', '중', '약', '11', '%', '만', '‘', '사건', '화', '’', '된', '것', '.', '모든', '성폭력', '사건', '상담소', '접수', '되', '않', '것', '감안', '면', '실제', '범죄', '드러나', '비율', '더', '낮', '다고', '볼', '수', '있', '.', '여성', '가족', '부', '한국', '여성', '정책', '연구원', '의뢰', '해', '실시', '‘', '2019', '년', '성폭력', '안전', '실태', '조사', '연구', '’', '보', '면', '성폭력', '피해', '경험', '자', '수사', '기관', '도움', '받', '비율', '1', '.', '4', '%', '불과', '했', '.', '성폭력', '법', '개정', '운동', '펼쳐온', '이경환', '변호사', '“', '범죄', '예방', '기', '위해선', '내', '이런', '짓', '면', '처벌', '당한다는', '인식', '확립', '돼야', '는데', '성폭력', '사건', '90', '%', '이상', '빠져나가', '범죄', '됐', '”', '며', '“', '법', '때문', '첫', '단계', '에서', '탈락', ',', '신고', '조차', '못', '사건', '어떻게', '할', '것', '인가', '중요', '”', '말', '했', '.', '변호사', '“', '수사', '기관', '이나', '재판부', '실무', '맡길', '것', '아니', '라', '근본', '적', '으로', '성폭력', '정의', '구성요건', '판단', '기준', '바꿔야', '한다', '”', '말', '했', '.', '강간죄', '구성', '요건', '상대방', '동의', '여부', '로', '바꾸', '것', '두', '나오', '반대', '의견', '중', '하나', '무고', '증가', '할', '것', '라는', '우려', '.', '그러나', '성폭력', '범죄', '에서', '무고', '율', '미미', '.', '2019', '년', '한국', '여성', '정책', '연구원', '대검찰청', '발표', '자료', '보', '면', '검찰', '성폭력', '사건', '처리', '인원', '8', '만', '677', '명', '중', '중복', '인원', '제외', '7', '만', '1740', '명', '기준', '으로', '무고', '로', '기소', '된', '인원', '556', '명', '(', '0', '.', '78', '%)', '.', '중', '유죄', '선고', '된', '인원', '341', '명', '(', '0', '.', '42', '%)', '.', '오히려', '폭행', '협박', '라는', '구성요건', '때문', '가해자', '피해자', '무고', '로', '고소', '‘', '2', '차', '가해', '’', '더', '큰', '문제', '라는', '비판', '나온다', '.', '이경환', '변호사', '“', '강간죄', '구성', '요건', '바꾸', '일', '과연', '1', '%', '안', '되', '무고', '때문', '못', '할', '정도', '인가', '”', '라며', '“', '그렇', '다면', '강간죄', '개정', '할', '경우', '무고', '획기적으로', '늘어날', '것', '라는', '근거', '라도', '있', '어야', '한다', '”', '말', '했', '.', '■', '68', '년', '된', '강간죄', ',', '이번', '엔', '바뀔', '까', '강간죄', '조항', '1953', '년', '형법', '제정', '함께', '만들', '어', '졌', '.', '법', '제정', '초기', '강간', '‘', '정조', '’', '빼앗', '개념', '었', '.', '형법', '제', '32', '장', '제목', '‘', '정조', '관한', '죄', '’', '성폭력', '특별법', '제정', '되', '1995', '년', '야', '‘', '강간', '추행', '죄', '’', '로', '바뀌', '었', '.', '다시', '26', '년', '흐르', '동안', '범죄', '유형', '성인식', '달라졌', '.', '친고죄', '폐지', '됐', ',', '부부', '사이', '강간죄', '인정', '됐', '.', '그러나', '강간', '규정', '법조문', '구성요건', '그대로', '남', '아', ',', '오락가락', '판결', '원인', '되', '있', '.', '한국', '여성', '정책', '연구원', '장다', '혜', '박사', '지난', '2', '월', '출간', '공저', '<', '미투', '있', '/', '잇', ':', '끝', '나', '않', '변화', '연대', '>', '에서', '“', '우리', '형법', '상', '성폭력', '법', '체계', '정조', '보호법익', '으로', '설정', '했', '던', '1953', '년', '형법', '제정', '당시', '체계', '그대로', '유지', '함', '으로써', '성적', '자기', '결정', '권', '라는', '보호법익', '부합', '않', '한계', '갖', '있', '”', '비판', '했', '.', '성범죄', '다루', '세계', '법', '기준', '변하', '있', '.', '유엔', '여성', '지위', '향', '상국', '2010', '년', '각', '회원국', '“', '형법', '폭행', '행사', '강간', '구성요건', '으로', '요구', '경우', '삭제', '할', '것', '”', '요청', '했', '.', '유엔', '여성', '차별', '철폐', '위원회', '2017', '년', '“', '성범죄', '자유', '로운', '동의', '부재', '기준', '으로', '정의', '돼야', '한다', '”', '명시', '했', '.', '2000', '년', '대', '어', '많', '나라', '강간', '관련', '조항', '개정', '했', '.', '영국', ',', '독일', ',', '아일랜드', ',', '스웨덴', ',', '룩셈부르크', ',', '키프로스', ',', '아이슬란드', ',', '벨기에', ',', '덴마크', ',', '캐나다', ',', '크로아티아', '등', '비동', '강간죄', '규정', '했', ',', '스페인', '네덜란드', '정부', '에서', '법', '개정', '절차', '착수', '했', '.', '미국', '주', '따라', '법', '다른데', ',', '연방수사국', '(', 'FBI', ')', '2012', '년', '부터', '강간', '‘', '상대방', '동의', '없이', '’', '성교', '것', '으로', '규정', '있', '.', '2018', '년', '유엔', '여성', '차별', '철폐', '위원회', '한국', '정부', '형법', '제', '297', '조', '개정', '해', '강간죄', '구성', '요건', '폭행', '·', '협박', '아닌', '동의', '여부', '로', '판단', '라고', '권고', '했', '.', '박아름', '활동가', '“', '강간죄', '개정', '우리', '사회', '에서', '성폭력', '이란', '무엇', '인지', '패러다임', '바꾸', '것', '동의', '없', '성행위', '성폭력', '라는', '것', '명확히', '자는', '것', '”', '라고', '말', '했', '.', '박', '활동가', '“', '동의', '없', '성', '관계', '했', '더라도', '폭력', '이나', '협박', '없', '었', '다는', '이유', '로', '무죄', '나오', '면', '가해자', '에겐', '‘', '너', '행동', '범죄', '아니', '’', '라는', '메시지', '주', '된다', '”', '며', '“', '과연', '이런', '법', '우리', '살', '있', '시대', '맞', '것', '인지', '묻', '싶', '”', '말', '했', '.', '법', '많', '희생', '피해', '계기', '로', '바뀌', '어', '왔', '.', '강간죄', '법조문', '좁', '해석', '수사', '판결', '로', '피해자', '숨', '거나', '죽음', '으로', '억울', '함', '증명', '일', '수십', '년', '동안', '반복', '됐', '.', '법', '지체', '피해', '연장', '의미', '한다', '.', '더', '큰', '비극', '발생', '기', '전', '21', '대', '국회', '응답', '할', '수', '있', '을까', '.', '장', '은교', '소통', '·', '젠더', '데스크', 'indi', '@', 'kyunghyang', '.', 'com'], ['파리바', '뜨', '제빵사', '민주', '노총', '탈퇴', '종용', '회사', '현장', '관리자', '(', 'BMC', ')', '‘', '노조', '와해', '’', '공작', '증거', '인멸', '했', '다는', '의혹', '제기', '됐', '.', '민주', '노총', '화학', '섬유', '식품', '노동조합', '파리바', '뜨', '지회', '11', '일', '전국', '화학', '섬유', '식품', '산업', '노조', '회의실', '에서', '기자', '회견', '열', '“', 'SPC', '파리바', '뜨', '노조', '파괴', '관련', '최초', '언론', '보도', '나간', '날', '저녁', '증거', '되', '‘', '단체', '업무', '방', '’', '폭파', '했', '”', '며', '“', '사', '측', '진실', '감추', '증거', '은폐', '·', '인멸', '데', '몰두', '있', '”', '주장', '했', '.', '노조', '공개', '카카오톡', '대화방', '화면', '보', '면', ',', '제조장', '(', '관리', '자급', ')', '지난', '6', '월', '30', '일', 'BMC', '모여', '있', '업무', '용', '대화방', '파리바', '뜨', '노조', '파괴', '공작', '최초', '보도', '경향신문', '기사', '공유', '며', '“', '방', '에서', '나가', '라', ',', '다시', '만들', '자', '”', '했', '.', '업무', '용', '대화방', 'BMC', '제빵사', '민주', '노총', '탈퇴', '실적', '공유', '했', '다는', '의심', '받', '곳', '.', '앞서', '경향신문', 'SPC', '그룹', '자회사', '자', '파리바', '뜨', '제빵사', '직접', '고용', '있', '㈜', '피비', '파트너', '즈', '임원', '지난', '3', '월', '부터', 'BMC', '시켜', '제빵사', '노조', '탈퇴', '종용', '보도', '했', '(', '관련', '기사', '▶[', '단독', ']', '“', '노조원', '탈퇴', '시키', '면', '두당', '5', '만', '원', '씩', '지급', '”', '파리바', '뜨', '전직', '관리자', '폭로', ')', '.', 'BMC', '현장', '제빵사', '30', '~', '40', '명', '씩', '관리', '현장', '관리직', '.', '노조', '측', '38', '개', '시민', '단체', '참여', '대책', '위원회', '꾸리', '철저', '수사', '진상', '규명', '촉구', '했', '.', '대책위', '“', '모든', '증거', '가지', '있', '사용', '자', '인멸', '행위', '적극', '적', '”', '라며', '“', '압수수색', '특별', '근로', '감독', '통한', '철저', '수사', '책임자', '처벌', ',', 'SPC', '공식', '사과', ',', '노조', '파괴', '악용', '되', '복수', '노조', '창구', '단일', '화', '제도', '폐지', '요구', '한다', '”', '밝혔', '.', '조', '해람', '기자', '·', '수빈', '기자', 'lennon', '@', 'kyunghyang', '.', 'com'], ['홍남기', '부총리', '겸', '기획', '재정부', '장관', '박범계', '법무부', '장관', '에게', '“', '이재용', '삼성전자', '부회장', '가석방', '따른', '(', '취업', '제한', '등', '경영', '활동', ')', '불편', '없', '해', '달', '라', '”', '요청', '것', '으로', '전해졌', '.', '홍', '부총리', '11', '일', '서울', '중구', '대한', '상공', '회의소', '에서', '열린', '경제', '단체장', '간담회', '에서', '같이', '말', '했', '다고', '손경식', '한국', '경영자', '총', '협회', '(', '경총', ')', '회장', '전했', '.', '손', '회장', '간담회', '직후', '‘', '부회장', '가석방', '결정', '따른', '해외', '출장', '·', '취업', '제한', '문제', '대한', '(', '단체장', ')', '건의', '있', '었', '느냐', '’', '취재진', '질문', '“', '부회장', '가석방', '결정', '관련', '해', '감사', '다는', '말', '(', '부총리', '에게', ')', '했', '”', '며', '“', '사면', '관련', '해', '추가', '건의', '사후', '문제', '긴', '한데', ',', '여기', '대해서', '부총리', '‘', '챙겨', '주', '있', '’', '말', '했', '”', '전했', '.', '그', '이어', '“', '(', '부총리', ')', '‘', '불편', '없', '해', '달', '라는', '말', '오늘', '법무부', '장관', '에게', '말씀', '드렸', '’', '더라', '”', '라고', '덧붙였', '.', '손', '회장', '이어', '“', '지난', '4', '월', '열린', '(', '홍', '부총리', '단체장', '간담회', ')', '회의', '에서', '우리', '(', '부회장', '대한', '사면', ')', '건의', '것', '정부', '받', '아', '준', '것', '”', '라고', '말', '했', '.', '부회장', '지난', '9', '일', '법무부', '가석방', '심사', '위원회', '가석방', '의결', '따라', '오', '13', '일', '서울', '구치소', '에서', '출소', '한다', '.', '홍', '부총리', '또', '간담회', '에서', '“', '올해', '경기', '회복', '속도', '경제성장', '4', '.', '2', '%', '목표', '관련', '해서', '이번', '3', '분기', '관건', '될', '것', '”', '라며', '경제', '위기', '극복', '위한', '재계', '협력', '당부', '했', '.', '그', '이어', '“', '내년', '최저', '임금', '2030', '년', '제출', '예정', '국가', '온실가스', '감축', '목표', '(', 'NDC', ')', '수준', '포함', '경제', '사안', '대해', '경제', '계', '의견', '수렴', '협의', '진행', '겠', '”', '며', '“', '큰', '틀', '에서', '경제', '계', '현장', '말씀', '주', '시', '면', '귀', '기울여', '경청', '최대한', '정책', '반영', '도록', '노력', '겠', '”', '밝혔', '.', '대해', '최태원', '대한상의', '회장', '“', '경제', '계', '과감', '도전', '나설', '수', '있', '도록', '정부', '전폭', '적', '지원', '나', '서', '달', '라', '”', '며', '“', '미국', '유럽연합', '등', '에서', '이미', '(', '탄소', '중립', '분야', ')', '천문학', '적', '투자', '나서', '있', '는데', ',', '우리', '과감', '투자', '지원', '해', '줬', '으면', '좋', '겠', '”', '요청', '했', '.', '그', '이어', '“', '독일', '전기차', '보조금', '매년', '확대', '있', '지만', ',', '우리', '지원', '예산', '조기', '소진', '되', '거나', '대기', '상황', '반복', '있', '”', '며', '내년', '예산', '전기차', '인프라', '관련', '지원', '확대', '요청', '했', '.', '지난', '2', '월', '4', '월', '이어', '올해', '3', '번', '째', '개최', '된', '홍', '부총리', '경제', '단체장', '간담회', '최태원', '회장', ',', '손경식', '회장', ',', '김기문', '중소기업', '중앙', '회', '회장', ',', '강호갑', '중견', '기업', '연합회', '회장', ',', '이관섭', '무역', '협회', '부회장', '참석', '했', '.', '안광호', '기자', 'ahn', '7874', '@', 'kyunghyang', '.', 'com'], ['대권', '도전', '나선', '원희룡', '제주도지사', '11', '일', '민선', '6', '·', '7', '기', '제주도', '지사', '직', '업무', '마무리', '했', '.', '제주도', '이날', '오전', '제주', '도청', '에서', '‘', '원희룡', '지사', '걸어온', '2599', '일', '여정', '새로운', '출발', '’', '주제', '로', '사무', '인계', '인수식', '겸한', '퇴임', '식', '열', '었', '.', '원', '지사', '퇴', '임사', '에서', '“', '지난', '7', '년', '간', '제주', '온', '국민', '사랑', '세계인', '찾', '핫', '섬', '됐', '”', '며', '“', '저', '키워', '준', '어머니', ',', '고향', '제주', '위해', '일', '할', '수', '있', '어', '영광', '었', '여러분', '함께', '해서', '행복', '했', '”', '밝혔', '.', '원', '지사', '이어', '“', '많', '국민', '께서', '무너진', '공정', '벼랑', '끝', '생존', '위기', '분노', '있', ',', '국민', '절박', '목소리', '외면', '당하', '있', '”', '며', '“', '제주', '도민', '보호', ',', '대한민국', '국민', '지키', '일', '무엇', '보다', '중요', '기', '도지사', '직', '에서', '물러나', '기', '로', '했', '”', '말', '했', '.', '그', '“', '도민', '분', '분', '께서', '주', '신', '믿음', '사랑', '감사', '드리', ',', '어떤', '위치', '에서', '든', '제주', '발전', '위해', '최선', '겠', '”', '고도', '밝혔', '.', '원', '지사', '퇴임', '식', '앞서', '제주', '한라', '체육관', '백신', '접종', '센터', '방문', '해', '백신', '접종', '상황', '시설', '점검', '직원', ',', '접종', '자', '등', '격려', '했', '.', '이어', '도청', '별관', '앞', '에서', '행정', '·', '정무', '부지사', ',', '양', '행정', '시장', ',', '각', '실', '·', '국장', '등', '참석', '가운데', '재임', '기념', '표지', '석', '제막', '기념식수', '로', '주목', '심', '었', '.', '원', '지사', '이어', '의회', '방문', '해', '좌남수', '제주도', '의회', '의장', '에게', '도정', '대한', '의회', '지원', '협력', '대해', '감사', '뜻', '표했', '.', '원', '지사', '퇴임', '으로', '고영', '권', '제주', '정무', '부지사', '이날', '동반', '퇴임', '했', '.', '제주도', '12', '일', '부터', '구만섭', '행정부', '지사', '대행', '체제', '로', '운영', '된다', '.', '박미라', '기자', 'mrpark', '@', 'kyunghyang', '.', 'com'], ['코로나', '19', '백신', '접종', '률', '높', '영국', '싱가포르', '에서', '‘', '코로나', '함께', '살', '기', '’', '실험', '이뤄지고', '있', '.', '두', '국가', '변이', '바이러스', '등장', '으로', '집단', '면역', '달성', '불', '가능', '다고', '보', '현실', '적', '목표', '감염', '방지', '에서', '사망', '방지', '로', '수정', '했', '.', '영국', '마스크', '의무', '해제', '등', '강력', '방역', '규제', '완화', '로', '갔', ',', '싱가포르', '‘', '질서', '있', '출구', '전략', '’', '선언', '했', '.', '싱가포르', '지난', '6', '월', '주요', '국', '중', '가장', '먼저', '코', '로', '나와', '함께', '살', '기', '선언', '했', '.', '감염자', '집계', '멈추', ',', '위', '·', '중증', '환자', '나', '치명률', '집중', '적', '으로', '관리', '겠', '다고', '밝혔', '.', '싱가포르', '코로나', '19', '백신', '접종', '자', '감염', '되', '더라도', '증상', '가벼우', '면', '병실', '아닌', '집', '에서', '회복', '도록', '했', '.', '감염자', '나올', '때', '마다', '던', '감염', '경로', '추적', '더', '이상', '않', '기', '로', '했', '.', '보리스', '존슨', '영국', '총리', '지난달', '“', '코로나', '19', '독감', '처럼', '함께', '살아가', '법', '배워야', '바이러스', '될', '것', '”', '라고', '말', '했', '.', '두', '국가', '방역', '전략', '수정', '할', '수', '있', '배경', '높', '백신', '접종', '률', '.', '영국', '성인', '75', '%', '완전', '접종', '받', '았', '.', '싱가포르', '전체', '인구', '70', '%', '완전', '접종', '받', '았', '.', '델타', '변이', '때문', '집단', '면역', '달성', '불', '가능', '다는', '현실', '적', '판단', '깔려', '있', '.', '폴', '헌터', '이스트', '앵글리아', '대', '교수', '10', '일', '(', '현지', '시간', ')', '영국', '의회', '내', '코로나', '19', '관련', '초당파', '모임', '출석', '해', '“', '앞', '으로', '숫자', '집계', '대상', '확진', '자', '에서', '중증', '환자', '수', '로', '바꿔야', '한다', '”', '말', '했', '.', '그러나', '두', '국가', '세부', '지침', '달랐', '.', '영국', '지난달', '19', '일', '부터', '물리', '적', '거리', '두', '기', ',', '실내', '마스크', '착용', '의무', ',', '모임', '제한', '등', '방역', '규칙', '전면', '완화', '했', '.', '백신', '접종', '마친', '사람', '에게', '오', '16', '일', '부터', '코로나', '19', '확진', '자', '밀접', '접촉', '더라도', '자', '격리', '면제', '키로', '했', '.', '전문가', '사이', '에서', '“', '급격', '전략', '수정', '시기상조', '”', '라는', '반발', '나왔', '.', '영국', '의사', '과학자', '100', '여', '명', '지난달', '“', '방역', '완화', '기존', '백신', '내성', '보이', '변이', '출현', '할', '수', '있', '비옥', '토대', '만들', '것', '”', '라는', '성명', '냈', '.', '결국', '영국', '정부', '방역', '지침', '완화', '발표', '일', '주일', '만', '실내', '마스크', '착용', '권고', '며', '속도', '조절', '했', '.', '반면', '싱가포르', '“', '신중', '단계', '적', '완화', '”', '방침', '선언', '했', '.', '옹', '예', '쿵', '보건부', '장관', '10', '일', '“', '마스크', '의무', '화', '상당', '기간', '유지', '할', '것', '”', '라고', '밝혔', '.', '싱가포르', '10', '일', '부터', '백신', '접종', '마친', '사람', '사', '적', '모임', '인원', '2', '명', '에서', '5', '명', '으로', '완화', '했', '.', '재택근무', '규정', '오', '19', '일', '부터', '완화', '기', '시작', '해', '최대', '50', '%', '까지', '사무실', '출근', '허용', '기', '로', '했', '.', '나머지', '규정', '대부분', '유지', '키로', '했', '.', '질서', '있', '출구', '전략', '대해', '전문가', '합의', '기준', '아직', '없', '.', '영국', '에서', '무증', '상자', '에게', '코로나', '19', '검사', '필요', '한지', ',', '감염자', '나올', '때', '마다', '학교', '폐쇄', '해야', '는지', '두', '격렬', '논쟁', '이어지', '있', '다고', '텔레', '그래프', '등', '전했', '.', '미국', '에서', '학교', '마스크', '착용', '의무화', '필요', '한지', '두', '논쟁', '일', '있', '.', '뉴욕', '타임스', '이날', '원격', '수업', '보다', '효과', '적', '대면', '수업', '이어가기', '위해서', '라도', '학교', '에서', '마스크', '쓰', '기', '의무', '화', '해야', '한다고', '주장', '했', '.', '코', '로', '나와', '함께', '살', '기', '전략', '전', '세계', '백신', '분배', '문제', '연결', '될', '수', '있', '.', '감염자', '아닌', '중증', '환자', '막', '것', '목표', '로', '수정', '면', '3', '차', '접종', '말', '부스터', '샷', '지금', '당장', '필요', '없', '다는', '결론', '도달', '할', '수', '있', '기', '때문', '.', '아스트라', '제', '카', '백신', '개발', '주도', '앤드루', '폴러드', '영국', '옥스퍼드', '대', '교수', '이날', '“', '아직', '2', '회', '접종', '마친', '사람', '중', '중증', '환자', '나', '사망자', '늘', '었', '다는', '증거', '없', '”', '면서', '부국', '부스터', '샷', '위해', '쟁여', '놓', '백신', '취약', '국가', '1', '차', '접종', '분', '으로', '돌려야', '한다고', '주장', '했', '.', '김', '윤나영', '기자', 'nayoung', '@', 'kyunghyang', '.', 'com']]\n"
          ],
          "name": "stdout"
        }
      ]
    },
    {
      "cell_type": "code",
      "metadata": {
        "id": "MWxbh7aOEW4X"
      },
      "source": [
        "import tensorflow as tf"
      ],
      "execution_count": 110,
      "outputs": []
    },
    {
      "cell_type": "code",
      "metadata": {
        "id": "eQnZKrZrEY1L"
      },
      "source": [
        "tokenizer = tf.keras.preprocessing.text.Tokenizer()\n",
        "tokenizer.fit_on_texts(sentance)  "
      ],
      "execution_count": 111,
      "outputs": []
    },
    {
      "cell_type": "code",
      "metadata": {
        "id": "2vtYa5vkEbWj"
      },
      "source": [
        "tokenizer.word_index  #사전이 만들어짐"
      ],
      "execution_count": null,
      "outputs": []
    },
    {
      "cell_type": "code",
      "metadata": {
        "id": "AWr1yPUpEdRP"
      },
      "source": [
        "tokenizer.word_counts  # 전체문장에서 몇번 반복되었는지 확인"
      ],
      "execution_count": null,
      "outputs": []
    },
    {
      "cell_type": "code",
      "metadata": {
        "id": "btUnMcxREiKI"
      },
      "source": [
        "total_cnt = len(tokenizer.word_index) "
      ],
      "execution_count": 114,
      "outputs": []
    },
    {
      "cell_type": "code",
      "metadata": {
        "id": "k6BOy7JMEmH8"
      },
      "source": [
        "rare_cnt = 0          \n",
        "total_freq, rare_freq = 0, 0\n",
        "\n",
        "for key, value in tokenizer.word_counts.items():\n",
        "  total_freq = total_freq + value  # 전체 단어 수\n",
        "  if(value <= 2):\n",
        "    rare_cnt = rare_cnt + 1\n",
        "    rare_freq = rare_freq + value     # 2 미만인 단어의 수"
      ],
      "execution_count": 115,
      "outputs": []
    },
    {
      "cell_type": "code",
      "metadata": {
        "colab": {
          "base_uri": "https://localhost:8080/"
        },
        "id": "glP9lMRmEqRB",
        "outputId": "6db89e20-4435-44db-8301-a40355a11d75"
      },
      "source": [
        "total_cnt, rare_cnt, (rare_cnt/total_cnt)*100, (rare_freq/total_freq)*100    "
      ],
      "execution_count": 116,
      "outputs": [
        {
          "output_type": "execute_result",
          "data": {
            "text/plain": [
              "(5875, 3799, 64.66382978723404, 13.771044750079964)"
            ]
          },
          "metadata": {
            "tags": []
          },
          "execution_count": 116
        }
      ]
    },
    {
      "cell_type": "code",
      "metadata": {
        "id": "90xC7KjYEtBJ"
      },
      "source": [
        "vocab_size = total_cnt - rare_cnt"
      ],
      "execution_count": 117,
      "outputs": []
    },
    {
      "cell_type": "code",
      "metadata": {
        "id": "ZMnmsgK1EwLq"
      },
      "source": [
        "tokenizer = tf.keras.preprocessing.text.Tokenizer(vocab_size, oov_token='OOV')  # 토큰화 되어있지 않은 단어들을 특수한 값으로 처리\n",
        "tokenizer.fit_on_texts(sentance)"
      ],
      "execution_count": 118,
      "outputs": []
    },
    {
      "cell_type": "code",
      "metadata": {
        "id": "XTz5uRmEEyPf"
      },
      "source": [
        "tokenizer.index_word  # 숫자로 만듬"
      ],
      "execution_count": null,
      "outputs": []
    },
    {
      "cell_type": "code",
      "metadata": {
        "id": "2PkD80giE0_S"
      },
      "source": [
        "x_train = tokenizer.texts_to_sequences(sentance)"
      ],
      "execution_count": 120,
      "outputs": []
    },
    {
      "cell_type": "code",
      "metadata": {
        "colab": {
          "base_uri": "https://localhost:8080/"
        },
        "id": "tTO7pLtOE7Ho",
        "outputId": "c2f86887-3393-460a-d0ac-ab78e5ef24e9"
      },
      "source": [
        "print(x_train[0:3]) "
      ],
      "execution_count": 121,
      "outputs": [
        {
          "output_type": "stream",
          "text": [
            "[[463, 1, 4, 202, 389, 203, 4, 1605, 194, 1606, 4, 1, 19, 1607, 1, 14, 937, 1310, 47, 16, 572, 8, 65, 1, 150, 285, 938, 1311, 1, 464, 302, 36, 2, 463, 52, 12, 5, 723, 1607, 1, 10, 1, 82, 47, 286, 1, 1105, 202, 1608, 22, 18, 7, 88, 14, 123, 1609, 1106, 13, 1, 1, 15, 285, 938, 16, 1312, 302, 36, 6, 34, 58, 2, 14, 1609, 1106, 16, 463, 47, 1107, 151, 150, 13, 47, 939, 151, 45, 4, 47, 229, 246, 4, 47, 1107, 151, 246, 15, 1, 1313, 2, 31, 25, 1609, 1106, 285, 938, 636, 937, 1310, 47, 1, 27, 247, 21, 1605, 512, 513, 1610, 1, 36, 2, 463, 4, 303, 1314, 150, 4, 1108, 1109, 150, 4, 47, 1107, 151, 150, 19, 1611, 81, 150, 390, 285, 938, 1315, 117, 4, 821, 4, 512, 20, 1, 4, 1612, 4, 203, 180, 20, 1, 20, 1, 19, 83, 81, 465, 10, 181, 118, 2, 1, 4, 202, 389, 203, 4, 1605, 194, 1606, 4, 1, 1, 4, 89, 1, 355, 4, 1, 4, 203, 180, 4, 1, 1613, 4, 1, 19, 116, 81, 465, 1607, 1, 572, 8, 36, 2, 287, 1614, 390, 150, 19, 1316, 230, 463, 47, 939, 151, 45, 1317, 13, 1318, 2, 1, 2, 1, 2, 940, 15, 9, 176, 22, 18, 7, 2, 1, 1110, 304, 107, 29, 248, 204, 637, 12, 2, 1, 4, 1615, 4, 941, 19, 1319, 1616, 1, 724, 1, 466, 1, 2, 1, 822, 42, 1, 55, 59, 2, 56], [514, 326, 327, 638, 639, 8, 44, 215, 1111, 162, 1, 11, 69, 1, 249, 467, 2, 182, 97, 468, 86, 1617, 8, 356, 53, 1320, 1618, 195, 19, 942, 3, 2, 270, 1, 1619, 72, 12, 13, 423, 328, 15, 640, 231, 46, 514, 326, 515, 53, 152, 271, 641, 13, 725, 15, 14, 142, 102, 129, 424, 272, 49, 142, 31, 1112, 1620, 272, 16, 44, 215, 1111, 250, 642, 1, 232, 196, 3, 2, 514, 326, 10, 1, 1, 943, 66, 119, 125, 726, 1616, 1, 1, 17, 1621, 1321, 250, 77, 469, 22, 11, 34, 727, 3, 2, 573, 643, 1, 31, 2, 83, 1, 77, 1, 644, 944, 249, 97, 72, 23, 103, 1322, 1, 7, 470, 4, 514, 326, 945, 164, 946, 11, 725, 272, 1113, 35, 2, 272, 823, 57, 573, 31, 2, 83, 1, 1, 26, 37, 1323, 250, 1622, 19, 8, 1, 1111, 162, 1114, 425, 1623, 18, 7, 39, 196, 3, 2, 272, 573, 1, 31, 2, 83, 1, 37, 1324, 4, 1, 153, 645, 728, 125, 9, 251, 20, 947, 17, 726, 77, 1325, 121, 22, 11, 32, 108, 1114, 73, 77, 1, 11, 8, 249, 3, 2, 1, 204, 1, 23, 252, 1326, 646, 729, 1, 357, 125, 9, 251, 20, 947, 17, 726, 77, 1624, 358, 1114, 22, 11, 8, 1115, 38, 2, 726, 1, 1321, 250, 233, 947, 329, 426, 1, 17, 8, 425, 1, 109, 1, 727, 3, 2, 1, 1324, 1326, 948, 125, 4, 1, 645, 9, 1, 153, 94, 1116, 1, 1, 11, 8, 249, 38, 2, 109, 574, 1, 1327, 1, 1, 1, 575, 1, 5, 44, 215, 17, 8, 730, 26, 1, 949, 40, 103, 1, 4, 1, 4, 1, 305, 288, 576, 1323, 9, 330, 6, 32, 5, 1, 87, 1117, 576, 471, 1323, 1, 1, 824, 77, 1625, 250, 90, 18, 7, 78, 4, 638, 639, 137, 77, 1624, 21, 726, 8, 215, 119, 125, 9, 471, 1323, 1, 359, 22, 18, 7, 6, 1619, 24, 3, 2, 1, 1, 1626, 1, 1327, 13, 1, 15, 1, 1, 573, 825, 516, 147, 5, 1111, 1627, 639, 427, 647, 90, 11, 6, 34, 727, 3, 2, 177, 251, 360, 514, 326, 1, 98, 7, 70, 391, 467, 2, 1, 19, 1321, 577, 9, 392, 731, 826, 130, 725, 272, 9, 514, 1, 471, 1328, 49, 1118, 10, 1, 38, 2, 272, 517, 37, 1, 23, 165, 827, 49, 1, 216, 131, 21, 361, 23, 1, 306, 4, 826, 4, 1, 1, 1, 1, 4, 1, 1, 1, 1, 2, 732, 13, 1, 15, 826, 518, 156, 98, 331, 1628, 93, 573, 1329, 98, 519, 307, 40, 578, 7, 39, 58, 2, 725, 272, 1, 1, 1, 733, 827, 1, 1330, 1, 1, 1, 5, 826, 1, 1119, 37, 638, 639, 734, 1, 1, 1, 1120, 22, 18, 7, 6, 24, 3, 2, 579, 1, 826, 518, 1629, 648, 28, 649, 2, 828, 253, 1, 217, 1, 1, 1, 1, 1, 5, 217, 234, 19, 826, 518, 580, 25, 648, 78, 4, 43, 289, 1, 826, 829, 157, 1121, 28, 84, 77, 469, 6, 1630, 273, 58, 2, 573, 1329, 98, 1, 1, 66, 97, 468, 86, 730, 250, 62, 950, 951, 57, 952, 2, 1617, 356, 4, 251, 1631, 326, 166, 73, 735, 118, 2, 953, 1, 270, 1, 830, 650, 20, 831, 235, 1, 5, 650, 730, 1, 650, 250, 137, 326, 22, 166, 7, 6, 32, 5, 1, 954, 1, 4, 1, 236, 1632, 99, 97, 1, 332, 1, 77, 17, 730, 88, 1617, 1633, 36, 6, 24, 3, 2, 1, 1, 1, 1634, 20, 1315, 147, 5, 1111, 111, 520, 25, 1331, 1321, 1, 736, 251, 1631, 1635, 17, 326, 166, 6, 942, 3, 2, 53, 1320, 737, 1, 197, 955, 330, 2, 1, 1, 251, 20, 832, 235, 575, 1122, 5, 53, 1618, 195, 1, 1, 650, 825, 62, 1, 738, 110, 36, 2, 514, 326, 1, 88, 1, 287, 831, 1, 738, 4, 251, 1, 472, 73, 956, 19, 132, 195, 110, 36, 6, 1619, 58, 2, 1, 1, 42, 1, 55, 59, 2, 56], [1636, 14, 1332, 1333, 957, 237, 581, 16, 186, 521, 1, 1, 10, 521, 1637, 3, 2, 957, 833, 1, 1, 1333, 1, 13, 1, 1, 1123, 15, 1, 1, 7, 2, 958, 637, 1123, 4, 1, 31, 2, 48, 1123, 4, 1, 1638, 158, 1123, 4, 1, 1, 23, 13, 1, 15, 2, 333, 1334, 23, 1, 10, 521, 38, 2, 1636, 5, 957, 581, 9, 308, 1, 46, 1, 651, 1, 473, 332, 1, 1, 1639, 20, 1, 1335, 7, 6, 3, 2, 1, 126, 834, 959, 474, 521, 26, 37, 957, 10, 582, 1, 118, 2, 957, 10, 1, 309, 1, 4, 1, 4, 1, 1640, 89, 1, 137, 237, 581, 1, 2, 237, 581, 233, 73, 1, 87, 1641, 581, 1336, 1, 159, 1, 4, 960, 1641, 652, 1124, 392, 1, 2, 1333, 138, 183, 1, 43, 1, 1125, 957, 1, 1642, 32, 1641, 1, 1, 1, 36, 2, 1636, 1333, 1, 1639, 1335, 739, 39, 653, 2, 1332, 1, 1, 10, 1, 961, 2, 237, 581, 9, 83, 1643, 1644, 393, 1, 1332, 1, 581, 13, 1645, 740, 109, 25, 522, 1332, 4, 1, 1, 741, 961, 1, 1, 1, 1, 15, 7, 2, 1, 581, 63, 61, 165, 1337, 37, 1, 10, 1, 2, 1, 42, 1, 55, 59, 2, 56]]\n"
          ],
          "name": "stdout"
        }
      ]
    },
    {
      "cell_type": "code",
      "metadata": {
        "colab": {
          "base_uri": "https://localhost:8080/"
        },
        "id": "nplkk1hyE_yH",
        "outputId": "b042a5d2-34ce-4101-c611-4fa54ba77a0e"
      },
      "source": [
        "len(x_train[0]), len(x_train[40]), len(x_train[50])"
      ],
      "execution_count": 122,
      "outputs": [
        {
          "output_type": "execute_result",
          "data": {
            "text/plain": [
              "(261, 575, 511)"
            ]
          },
          "metadata": {
            "tags": []
          },
          "execution_count": 122
        }
      ]
    },
    {
      "cell_type": "code",
      "metadata": {
        "id": "3kiq6oZGFGjl"
      },
      "source": [
        "hist_len = [len(words) for words in x_train]"
      ],
      "execution_count": 123,
      "outputs": []
    },
    {
      "cell_type": "code",
      "metadata": {
        "id": "eBLFVhf-FOL6"
      },
      "source": [
        "import matplotlib.pyplot as plt"
      ],
      "execution_count": 124,
      "outputs": []
    },
    {
      "cell_type": "code",
      "metadata": {
        "colab": {
          "base_uri": "https://localhost:8080/",
          "height": 475
        },
        "id": "EpjM-HDSFQ5P",
        "outputId": "1364b31a-edf4-4c00-a0e1-12e109a7a4e1"
      },
      "source": [
        "plt.hist(hist_len, bins=50)"
      ],
      "execution_count": 125,
      "outputs": [
        {
          "output_type": "execute_result",
          "data": {
            "text/plain": [
              "(array([5., 0., 1., 4., 3., 9., 5., 7., 4., 6., 7., 4., 3., 5., 2., 3., 1.,\n",
              "        1., 1., 0., 0., 1., 0., 0., 0., 0., 0., 0., 0., 0., 0., 0., 0., 0.,\n",
              "        0., 0., 0., 0., 1., 0., 0., 0., 0., 0., 0., 0., 0., 0., 0., 1.]),\n",
              " array([  44.  ,   87.24,  130.48,  173.72,  216.96,  260.2 ,  303.44,\n",
              "         346.68,  389.92,  433.16,  476.4 ,  519.64,  562.88,  606.12,\n",
              "         649.36,  692.6 ,  735.84,  779.08,  822.32,  865.56,  908.8 ,\n",
              "         952.04,  995.28, 1038.52, 1081.76, 1125.  , 1168.24, 1211.48,\n",
              "        1254.72, 1297.96, 1341.2 , 1384.44, 1427.68, 1470.92, 1514.16,\n",
              "        1557.4 , 1600.64, 1643.88, 1687.12, 1730.36, 1773.6 , 1816.84,\n",
              "        1860.08, 1903.32, 1946.56, 1989.8 , 2033.04, 2076.28, 2119.52,\n",
              "        2162.76, 2206.  ]),\n",
              " <a list of 50 Patch objects>)"
            ]
          },
          "metadata": {
            "tags": []
          },
          "execution_count": 125
        },
        {
          "output_type": "display_data",
          "data": {
            "image/png": "[encoded data removed]",
            "text/plain": [
              "<Figure size 432x288 with 1 Axes>"
            ]
          },
          "metadata": {
            "tags": [],
            "needs_background": "light"
          }
        }
      ]
    },
    {
      "cell_type": "code",
      "metadata": {
        "colab": {
          "base_uri": "https://localhost:8080/"
        },
        "id": "LAcp0amYFSnR",
        "outputId": "6e4e2e80-0456-42ad-ae99-6b32fe5f6acd"
      },
      "source": [
        "sum(hist_len)/len(x_train)"
      ],
      "execution_count": 126,
      "outputs": [
        {
          "output_type": "execute_result",
          "data": {
            "text/plain": [
              "464.7432432432432"
            ]
          },
          "metadata": {
            "tags": []
          },
          "execution_count": 126
        }
      ]
    },
    {
      "cell_type": "code",
      "metadata": {
        "id": "DG9k03hMFYO6"
      },
      "source": [
        "x_train = tf.keras.preprocessing.sequence.pad_sequences(x_train, maxlen=50)"
      ],
      "execution_count": 127,
      "outputs": []
    },
    {
      "cell_type": "code",
      "metadata": {
        "colab": {
          "base_uri": "https://localhost:8080/"
        },
        "id": "EbrrV-y5FdlV",
        "outputId": "7fc617ab-0043-45c6-91d6-975bb26b3d7e"
      },
      "source": [
        "y_train"
      ],
      "execution_count": 128,
      "outputs": [
        {
          "output_type": "execute_result",
          "data": {
            "text/plain": [
              "48   -5\n",
              "41    3\n",
              "94   -1\n",
              "75   -2\n",
              "49    1\n",
              "     ..\n",
              "6    -3\n",
              "55   -2\n",
              "28   -5\n",
              "84   -1\n",
              "17   -4\n",
              "Name: ratings, Length: 74, dtype: int64"
            ]
          },
          "metadata": {
            "tags": []
          },
          "execution_count": 128
        }
      ]
    },
    {
      "cell_type": "code",
      "metadata": {
        "id": "RiFNyL-UFzIf"
      },
      "source": [
        "import numpy as np"
      ],
      "execution_count": 129,
      "outputs": []
    },
    {
      "cell_type": "code",
      "metadata": {
        "colab": {
          "base_uri": "https://localhost:8080/"
        },
        "id": "01Qv_P2LFkQz",
        "outputId": "fb101b82-6199-4f55-fd06-e81b2cee2c88"
      },
      "source": [
        "np.unique(y_train)"
      ],
      "execution_count": 130,
      "outputs": [
        {
          "output_type": "execute_result",
          "data": {
            "text/plain": [
              "array([-5, -4, -3, -2, -1,  1,  2,  3,  4,  5])"
            ]
          },
          "metadata": {
            "tags": []
          },
          "execution_count": 130
        }
      ]
    },
    {
      "cell_type": "code",
      "metadata": {
        "colab": {
          "base_uri": "https://localhost:8080/"
        },
        "id": "eLj2hhHlFuAL",
        "outputId": "0bc62f72-6a24-4877-e2ce-013e44dcc166"
      },
      "source": [
        "len(x_train),len(y_train)"
      ],
      "execution_count": 131,
      "outputs": [
        {
          "output_type": "execute_result",
          "data": {
            "text/plain": [
              "(74, 74)"
            ]
          },
          "metadata": {
            "tags": []
          },
          "execution_count": 131
        }
      ]
    },
    {
      "cell_type": "markdown",
      "metadata": {
        "id": "97MM5oLrKsfQ"
      },
      "source": [
        "# make model"
      ]
    },
    {
      "cell_type": "code",
      "metadata": {
        "id": "dilnidcqIJiZ"
      },
      "source": [
        "model = tf.keras.models.Sequential()"
      ],
      "execution_count": 133,
      "outputs": []
    },
    {
      "cell_type": "code",
      "metadata": {
        "id": "xcd_l--HKp3u"
      },
      "source": [
        "model.add(tf.keras.layers.Embedding(input_dim=vocab_size, output_dim=30, input_length=50)) "
      ],
      "execution_count": 134,
      "outputs": []
    },
    {
      "cell_type": "code",
      "metadata": {
        "id": "2WJ8knTFLZfE"
      },
      "source": [
        "model.add(tf.keras.layers.Bidirectional(tf.keras.layers.LSTM(128)))"
      ],
      "execution_count": 135,
      "outputs": []
    },
    {
      "cell_type": "code",
      "metadata": {
        "id": "f-KQCtSbLf3-"
      },
      "source": [
        "model.add(tf.keras.layers.Dense(5,activation='softmax')) "
      ],
      "execution_count": 138,
      "outputs": []
    },
    {
      "cell_type": "code",
      "metadata": {
        "id": "A1-hX5NULtjr"
      },
      "source": [
        "model.compile(optimizer='adam', loss='sparse_categorical_crossentropy', metrics=['acc']) "
      ],
      "execution_count": 139,
      "outputs": []
    },
    {
      "cell_type": "code",
      "metadata": {
        "colab": {
          "base_uri": "https://localhost:8080/",
          "height": 455
        },
        "id": "E0L5aiCTLxGc",
        "outputId": "8ae29938-6607-41af-b6c3-1aafa367a07d"
      },
      "source": [
        "model.fit(x_train, y_train, epochs=3, batch_size=256, validation_split=0.3, shuffle=True)"
      ],
      "execution_count": 141,
      "outputs": [
        {
          "output_type": "stream",
          "text": [
            "Epoch 1/3\n"
          ],
          "name": "stdout"
        },
        {
          "output_type": "error",
          "ename": "InvalidArgumentError",
          "evalue": "ignored",
          "traceback": [
            "\u001b[0;31m---------------------------------------------------------------------------\u001b[0m",
            "\u001b[0;31mInvalidArgumentError\u001b[0m                      Traceback (most recent call last)",
            "\u001b[0;32m<ipython-input-141-4aae7d0ebf3d>\u001b[0m in \u001b[0;36m<module>\u001b[0;34m()\u001b[0m\n\u001b[0;32m----> 1\u001b[0;31m \u001b[0mmodel\u001b[0m\u001b[0;34m.\u001b[0m\u001b[0mfit\u001b[0m\u001b[0;34m(\u001b[0m\u001b[0mx_train\u001b[0m\u001b[0;34m,\u001b[0m \u001b[0my_train\u001b[0m\u001b[0;34m,\u001b[0m \u001b[0mepochs\u001b[0m\u001b[0;34m=\u001b[0m\u001b[0;36m3\u001b[0m\u001b[0;34m,\u001b[0m \u001b[0mbatch_size\u001b[0m\u001b[0;34m=\u001b[0m\u001b[0;36m256\u001b[0m\u001b[0;34m,\u001b[0m \u001b[0mvalidation_split\u001b[0m\u001b[0;34m=\u001b[0m\u001b[0;36m0.3\u001b[0m\u001b[0;34m,\u001b[0m \u001b[0mshuffle\u001b[0m\u001b[0;34m=\u001b[0m\u001b[0;32mTrue\u001b[0m\u001b[0;34m)\u001b[0m\u001b[0;34m\u001b[0m\u001b[0;34m\u001b[0m\u001b[0m\n\u001b[0m",
            "\u001b[0;32m/usr/local/lib/python3.7/dist-packages/tensorflow/python/keras/engine/training.py\u001b[0m in \u001b[0;36mfit\u001b[0;34m(self, x, y, batch_size, epochs, verbose, callbacks, validation_split, validation_data, shuffle, class_weight, sample_weight, initial_epoch, steps_per_epoch, validation_steps, validation_batch_size, validation_freq, max_queue_size, workers, use_multiprocessing)\u001b[0m\n\u001b[1;32m   1181\u001b[0m                 _r=1):\n\u001b[1;32m   1182\u001b[0m               \u001b[0mcallbacks\u001b[0m\u001b[0;34m.\u001b[0m\u001b[0mon_train_batch_begin\u001b[0m\u001b[0;34m(\u001b[0m\u001b[0mstep\u001b[0m\u001b[0;34m)\u001b[0m\u001b[0;34m\u001b[0m\u001b[0;34m\u001b[0m\u001b[0m\n\u001b[0;32m-> 1183\u001b[0;31m               \u001b[0mtmp_logs\u001b[0m \u001b[0;34m=\u001b[0m \u001b[0mself\u001b[0m\u001b[0;34m.\u001b[0m\u001b[0mtrain_function\u001b[0m\u001b[0;34m(\u001b[0m\u001b[0miterator\u001b[0m\u001b[0;34m)\u001b[0m\u001b[0;34m\u001b[0m\u001b[0;34m\u001b[0m\u001b[0m\n\u001b[0m\u001b[1;32m   1184\u001b[0m               \u001b[0;32mif\u001b[0m \u001b[0mdata_handler\u001b[0m\u001b[0;34m.\u001b[0m\u001b[0mshould_sync\u001b[0m\u001b[0;34m:\u001b[0m\u001b[0;34m\u001b[0m\u001b[0;34m\u001b[0m\u001b[0m\n\u001b[1;32m   1185\u001b[0m                 \u001b[0mcontext\u001b[0m\u001b[0;34m.\u001b[0m\u001b[0masync_wait\u001b[0m\u001b[0;34m(\u001b[0m\u001b[0;34m)\u001b[0m\u001b[0;34m\u001b[0m\u001b[0;34m\u001b[0m\u001b[0m\n",
            "\u001b[0;32m/usr/local/lib/python3.7/dist-packages/tensorflow/python/eager/def_function.py\u001b[0m in \u001b[0;36m__call__\u001b[0;34m(self, *args, **kwds)\u001b[0m\n\u001b[1;32m    887\u001b[0m \u001b[0;34m\u001b[0m\u001b[0m\n\u001b[1;32m    888\u001b[0m       \u001b[0;32mwith\u001b[0m \u001b[0mOptionalXlaContext\u001b[0m\u001b[0;34m(\u001b[0m\u001b[0mself\u001b[0m\u001b[0;34m.\u001b[0m\u001b[0m_jit_compile\u001b[0m\u001b[0;34m)\u001b[0m\u001b[0;34m:\u001b[0m\u001b[0;34m\u001b[0m\u001b[0;34m\u001b[0m\u001b[0m\n\u001b[0;32m--> 889\u001b[0;31m         \u001b[0mresult\u001b[0m \u001b[0;34m=\u001b[0m \u001b[0mself\u001b[0m\u001b[0;34m.\u001b[0m\u001b[0m_call\u001b[0m\u001b[0;34m(\u001b[0m\u001b[0;34m*\u001b[0m\u001b[0margs\u001b[0m\u001b[0;34m,\u001b[0m \u001b[0;34m**\u001b[0m\u001b[0mkwds\u001b[0m\u001b[0;34m)\u001b[0m\u001b[0;34m\u001b[0m\u001b[0;34m\u001b[0m\u001b[0m\n\u001b[0m\u001b[1;32m    890\u001b[0m \u001b[0;34m\u001b[0m\u001b[0m\n\u001b[1;32m    891\u001b[0m       \u001b[0mnew_tracing_count\u001b[0m \u001b[0;34m=\u001b[0m \u001b[0mself\u001b[0m\u001b[0;34m.\u001b[0m\u001b[0mexperimental_get_tracing_count\u001b[0m\u001b[0;34m(\u001b[0m\u001b[0;34m)\u001b[0m\u001b[0;34m\u001b[0m\u001b[0;34m\u001b[0m\u001b[0m\n",
            "\u001b[0;32m/usr/local/lib/python3.7/dist-packages/tensorflow/python/eager/def_function.py\u001b[0m in \u001b[0;36m_call\u001b[0;34m(self, *args, **kwds)\u001b[0m\n\u001b[1;32m    948\u001b[0m         \u001b[0;31m# Lifting succeeded, so variables are initialized and we can run the\u001b[0m\u001b[0;34m\u001b[0m\u001b[0;34m\u001b[0m\u001b[0;34m\u001b[0m\u001b[0m\n\u001b[1;32m    949\u001b[0m         \u001b[0;31m# stateless function.\u001b[0m\u001b[0;34m\u001b[0m\u001b[0;34m\u001b[0m\u001b[0;34m\u001b[0m\u001b[0m\n\u001b[0;32m--> 950\u001b[0;31m         \u001b[0;32mreturn\u001b[0m \u001b[0mself\u001b[0m\u001b[0;34m.\u001b[0m\u001b[0m_stateless_fn\u001b[0m\u001b[0;34m(\u001b[0m\u001b[0;34m*\u001b[0m\u001b[0margs\u001b[0m\u001b[0;34m,\u001b[0m \u001b[0;34m**\u001b[0m\u001b[0mkwds\u001b[0m\u001b[0;34m)\u001b[0m\u001b[0;34m\u001b[0m\u001b[0;34m\u001b[0m\u001b[0m\n\u001b[0m\u001b[1;32m    951\u001b[0m     \u001b[0;32melse\u001b[0m\u001b[0;34m:\u001b[0m\u001b[0;34m\u001b[0m\u001b[0;34m\u001b[0m\u001b[0m\n\u001b[1;32m    952\u001b[0m       \u001b[0m_\u001b[0m\u001b[0;34m,\u001b[0m \u001b[0m_\u001b[0m\u001b[0;34m,\u001b[0m \u001b[0m_\u001b[0m\u001b[0;34m,\u001b[0m \u001b[0mfiltered_flat_args\u001b[0m \u001b[0;34m=\u001b[0m\u001b[0;31m \u001b[0m\u001b[0;31m\\\u001b[0m\u001b[0;34m\u001b[0m\u001b[0;34m\u001b[0m\u001b[0m\n",
            "\u001b[0;32m/usr/local/lib/python3.7/dist-packages/tensorflow/python/eager/function.py\u001b[0m in \u001b[0;36m__call__\u001b[0;34m(self, *args, **kwargs)\u001b[0m\n\u001b[1;32m   3022\u001b[0m        filtered_flat_args) = self._maybe_define_function(args, kwargs)\n\u001b[1;32m   3023\u001b[0m     return graph_function._call_flat(\n\u001b[0;32m-> 3024\u001b[0;31m         filtered_flat_args, captured_inputs=graph_function.captured_inputs)  # pylint: disable=protected-access\n\u001b[0m\u001b[1;32m   3025\u001b[0m \u001b[0;34m\u001b[0m\u001b[0m\n\u001b[1;32m   3026\u001b[0m   \u001b[0;34m@\u001b[0m\u001b[0mproperty\u001b[0m\u001b[0;34m\u001b[0m\u001b[0;34m\u001b[0m\u001b[0m\n",
            "\u001b[0;32m/usr/local/lib/python3.7/dist-packages/tensorflow/python/eager/function.py\u001b[0m in \u001b[0;36m_call_flat\u001b[0;34m(self, args, captured_inputs, cancellation_manager)\u001b[0m\n\u001b[1;32m   1959\u001b[0m       \u001b[0;31m# No tape is watching; skip to running the function.\u001b[0m\u001b[0;34m\u001b[0m\u001b[0;34m\u001b[0m\u001b[0;34m\u001b[0m\u001b[0m\n\u001b[1;32m   1960\u001b[0m       return self._build_call_outputs(self._inference_function.call(\n\u001b[0;32m-> 1961\u001b[0;31m           ctx, args, cancellation_manager=cancellation_manager))\n\u001b[0m\u001b[1;32m   1962\u001b[0m     forward_backward = self._select_forward_and_backward_functions(\n\u001b[1;32m   1963\u001b[0m         \u001b[0margs\u001b[0m\u001b[0;34m,\u001b[0m\u001b[0;34m\u001b[0m\u001b[0;34m\u001b[0m\u001b[0m\n",
            "\u001b[0;32m/usr/local/lib/python3.7/dist-packages/tensorflow/python/eager/function.py\u001b[0m in \u001b[0;36mcall\u001b[0;34m(self, ctx, args, cancellation_manager)\u001b[0m\n\u001b[1;32m    594\u001b[0m               \u001b[0minputs\u001b[0m\u001b[0;34m=\u001b[0m\u001b[0margs\u001b[0m\u001b[0;34m,\u001b[0m\u001b[0;34m\u001b[0m\u001b[0;34m\u001b[0m\u001b[0m\n\u001b[1;32m    595\u001b[0m               \u001b[0mattrs\u001b[0m\u001b[0;34m=\u001b[0m\u001b[0mattrs\u001b[0m\u001b[0;34m,\u001b[0m\u001b[0;34m\u001b[0m\u001b[0;34m\u001b[0m\u001b[0m\n\u001b[0;32m--> 596\u001b[0;31m               ctx=ctx)\n\u001b[0m\u001b[1;32m    597\u001b[0m         \u001b[0;32melse\u001b[0m\u001b[0;34m:\u001b[0m\u001b[0;34m\u001b[0m\u001b[0;34m\u001b[0m\u001b[0m\n\u001b[1;32m    598\u001b[0m           outputs = execute.execute_with_cancellation(\n",
            "\u001b[0;32m/usr/local/lib/python3.7/dist-packages/tensorflow/python/eager/execute.py\u001b[0m in \u001b[0;36mquick_execute\u001b[0;34m(op_name, num_outputs, inputs, attrs, ctx, name)\u001b[0m\n\u001b[1;32m     58\u001b[0m     \u001b[0mctx\u001b[0m\u001b[0;34m.\u001b[0m\u001b[0mensure_initialized\u001b[0m\u001b[0;34m(\u001b[0m\u001b[0;34m)\u001b[0m\u001b[0;34m\u001b[0m\u001b[0;34m\u001b[0m\u001b[0m\n\u001b[1;32m     59\u001b[0m     tensors = pywrap_tfe.TFE_Py_Execute(ctx._handle, device_name, op_name,\n\u001b[0;32m---> 60\u001b[0;31m                                         inputs, attrs, num_outputs)\n\u001b[0m\u001b[1;32m     61\u001b[0m   \u001b[0;32mexcept\u001b[0m \u001b[0mcore\u001b[0m\u001b[0;34m.\u001b[0m\u001b[0m_NotOkStatusException\u001b[0m \u001b[0;32mas\u001b[0m \u001b[0me\u001b[0m\u001b[0;34m:\u001b[0m\u001b[0;34m\u001b[0m\u001b[0;34m\u001b[0m\u001b[0m\n\u001b[1;32m     62\u001b[0m     \u001b[0;32mif\u001b[0m \u001b[0mname\u001b[0m \u001b[0;32mis\u001b[0m \u001b[0;32mnot\u001b[0m \u001b[0;32mNone\u001b[0m\u001b[0;34m:\u001b[0m\u001b[0;34m\u001b[0m\u001b[0;34m\u001b[0m\u001b[0m\n",
            "\u001b[0;31mInvalidArgumentError\u001b[0m:  Received a label value of -5 which is outside the valid range of [0, 5).  Label values: -5 1 4 1 -3 -3 3 3 -4 1 2 5 1 5 -5 1 -1 -1 -2 2 4 3 4 1 -3 2 2 3 4 -2 3 -1 5 -3 -3 -1 -2 -5 2 4 2 -3 1 1 -4 5 4 3 -5 -1 -4\n\t [[node sparse_categorical_crossentropy/SparseSoftmaxCrossEntropyWithLogits/SparseSoftmaxCrossEntropyWithLogits (defined at <ipython-input-141-4aae7d0ebf3d>:1) ]] [Op:__inference_train_function_5589]\n\nFunction call stack:\ntrain_function\n"
          ]
        }
      ]
    },
    {
      "cell_type": "code",
      "metadata": {
        "id": "dkN2HXZHL224"
      },
      "source": [
        ""
      ],
      "execution_count": null,
      "outputs": []
    }
  ]
}