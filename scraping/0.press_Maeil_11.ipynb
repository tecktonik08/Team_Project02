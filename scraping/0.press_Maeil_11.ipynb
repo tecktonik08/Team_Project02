{
 "cells": [
  {
   "cell_type": "code",
   "execution_count": null,
   "id": "6bf7f92a",
   "metadata": {},
   "outputs": [],
   "source": [
    "# 3가지 타입(def read_type, art_type, view_type)으로 나뉘고 각각 실행해야함\n",
    "\n",
    "# 4/30 ~ 4/1 1달간 총 14393개 *50개(3분)\n",
    "\n",
    "## 입력값(이것만 입력할 것) ##\n",
    "num = [0, 5827] # 수행할 구간, 매일경제은 range(0, n+1) 번 설정해야함, 내가 처음에 range(0,50)까지했으면 다음에는 range(50,이후숫자) \n",
    "loot = 'C:/Develops/newspapers/daily/' # 저장할 위치, 파일이 산만해지니 프로젝트가아닌폴더에서 관리할 것 # loot = './/' 현재위치에 저장하는 변수\n",
    "\n",
    "# 실행할 함수 입력 -> 아래서 또 입력해줘야함\n",
    "choice = 'read_type'"
   ]
  },
  {
   "cell_type": "code",
   "execution_count": null,
   "id": "82512d7d",
   "metadata": {},
   "outputs": [],
   "source": [
    "#  파일이름\n",
    "name = choice +'text' + '_' +  str(num[0]) + '_' + str(num[1]) # 파일이름 Ex. text_0_50"
   ]
  },
  {
   "cell_type": "code",
   "execution_count": null,
   "id": "418d09ea",
   "metadata": {},
   "outputs": [],
   "source": [
    "import sqlite3\n",
    "from selenium import webdriver\n",
    "from selenium.webdriver.remote.webelement import WebElement\n",
    "from selenium.webdriver.common.keys import Keys\n",
    "from selenium.webdriver.support.ui import WebDriverWait\n",
    "from selenium.webdriver.common.by import By\n",
    "from selenium.webdriver.support import expected_conditions as EC\n",
    "from selenium.common.exceptions import NoSuchElementException\n",
    "from bs4 import BeautifulSoup\n",
    "import requests\n",
    "import pandas as pd\n",
    "import csv\n",
    "import time\n",
    "import re"
   ]
  },
  {
   "cell_type": "code",
   "execution_count": null,
   "id": "b81cd984",
   "metadata": {},
   "outputs": [],
   "source": [
    "df = pd.read_excel('.//NewsResult_20200901-20210430 (11).xlsx', names=['identical', 'date', 'press', 'name', 'title', 'c1', 'c2', 'c3', 'a1', 'a2', 'a3', 'person', 'place', 'institute', 'keyword', 'topkeyword', 'body', 'url', 'tf'])"
   ]
  },
  {
   "cell_type": "code",
   "execution_count": null,
   "id": "59c4dff9",
   "metadata": {},
   "outputs": [],
   "source": [
    "# 전처리\n",
    "df = df[df.tf != '예외']\n",
    "df = df[df.tf != '중복']\n",
    "df = df[df.tf != '중복, 예외']\n",
    "df = df[~df.title.str.contains('BOOK')]\n",
    "# df = df[~df.title.str.contains('인터랙티브')]\n",
    "# df = df[~df.place.str.contains('korea', na=False)]\n",
    "# df = df[~df.place.str.contains('la', na=False)]\n",
    "# df = df[~df.place.str.contains('LA', na=False)]\n",
    "# df = df.reset_index()\n",
    "# df = df.drop(columns=['index'], axis=1)"
   ]
  },
  {
   "cell_type": "code",
   "execution_count": null,
   "id": "3ead8b99",
   "metadata": {},
   "outputs": [],
   "source": [
    "len(df)"
   ]
  },
  {
   "cell_type": "code",
   "execution_count": null,
   "id": "47231fff",
   "metadata": {},
   "outputs": [],
   "source": [
    "# df.to_excel('.//pre_press_11.xls', header=None, index=False)"
   ]
  },
  {
   "cell_type": "code",
   "execution_count": null,
   "id": "b84fd627",
   "metadata": {},
   "outputs": [],
   "source": [
    "df_read = df[df.url.str.contains('star')] # total 7133, ~4/1 5826\n",
    "df_read = df_read.reset_index()\n",
    "df_read = df_read.drop(columns=['index'], axis=1)"
   ]
  },
  {
   "cell_type": "code",
   "execution_count": null,
   "id": "44c3d6a4",
   "metadata": {},
   "outputs": [],
   "source": [
    "df_read['url'][3]"
   ]
  },
  {
   "cell_type": "code",
   "execution_count": null,
   "id": "6b3ec412",
   "metadata": {},
   "outputs": [],
   "source": [
    "df_art = df[df.url.str.contains('news')] # total 10424, ~4/1 8424\n",
    "df_art = df_art.reset_index()\n",
    "df_art = df_art.drop(columns=['index'], axis=1)"
   ]
  },
  {
   "cell_type": "code",
   "execution_count": null,
   "id": "5887ee14",
   "metadata": {},
   "outputs": [],
   "source": [
    "# df_art"
   ]
  },
  {
   "cell_type": "code",
   "execution_count": null,
   "id": "f1b94202",
   "metadata": {},
   "outputs": [],
   "source": [
    "df = df[~df.url.str.contains('star')]\n",
    "df = df[~df.url.str.contains('news')]"
   ]
  },
  {
   "cell_type": "code",
   "execution_count": null,
   "id": "cac3a1db",
   "metadata": {},
   "outputs": [],
   "source": [
    "df_view = df # rest_total 177 ~ 4/1 143\n",
    "df_view = df_view.reset_index()\n",
    "df_view = df_view.drop(columns=['index'], axis=1)"
   ]
  },
  {
   "cell_type": "code",
   "execution_count": null,
   "id": "d8d48507",
   "metadata": {},
   "outputs": [],
   "source": [
    "# df_view"
   ]
  },
  {
   "cell_type": "code",
   "execution_count": null,
   "id": "9c726d52",
   "metadata": {},
   "outputs": [],
   "source": [
    "# 셀레니움 창 오픈, 탭에 애드블락은 설치후 엑스해도 됨\n",
    "options = webdriver.ChromeOptions()\n",
    "options.add_extension(r'..//extension_3_11_1_0.crx')\n",
    "browser = webdriver.Chrome('..//chromedriver.exe', options=options)"
   ]
  },
  {
   "cell_type": "code",
   "execution_count": null,
   "id": "669419ff",
   "metadata": {},
   "outputs": [],
   "source": [
    "def check_exists_by_xpath(xpath):\n",
    "    try:\n",
    "        browser.find_element_by_xpath(xpath)\n",
    "    except NoSuchElementException:\n",
    "        return False\n",
    "    return True"
   ]
  },
  {
   "cell_type": "code",
   "execution_count": null,
   "id": "018019a9",
   "metadata": {},
   "outputs": [],
   "source": [
    "# div.view_txt\n",
    "# div.art_txt\n",
    "# div.read_txt"
   ]
  },
  {
   "cell_type": "code",
   "execution_count": null,
   "id": "48ba7275",
   "metadata": {},
   "outputs": [],
   "source": [
    "def read_type(num):\n",
    "    texts = []\n",
    "    for i in range(num[0], num[1]):\n",
    "        try:\n",
    "            url = df_read.url[i]\n",
    "            browser.get(url)\n",
    "            WebDriverWait(browser, 3).until(EC.presence_of_element_located((By.XPATH, \"//div[@class='read_txt']\")))\n",
    "            if check_exists_by_xpath(\"//div[@class='read_txt']\") == True:\n",
    "                html = browser.page_source\n",
    "                soup = BeautifulSoup(html, 'html.parser')\n",
    "                contents = soup.select('div.read_txt')\n",
    "                text = ''\n",
    "                for content in contents:\n",
    "                    text = text + content.text.strip()\n",
    "                texts.append(text)\n",
    "            else:\n",
    "                texts.append('None')\n",
    "                continue\n",
    "        except:\n",
    "            texts.append('None')\n",
    "            continue\n",
    "    return texts"
   ]
  },
  {
   "cell_type": "code",
   "execution_count": null,
   "id": "9d7ba14f",
   "metadata": {},
   "outputs": [],
   "source": [
    "def art_type(num):\n",
    "    texts = []\n",
    "    for i in range(num[0], num[1]):\n",
    "        try:\n",
    "            url = df_art.url[i]\n",
    "            browser.get(url)\n",
    "            WebDriverWait(browser, 3).until(EC.presence_of_element_located((By.XPATH, \"//div[@class='art_txt']\")))\n",
    "            if check_exists_by_xpath(\"//div[@class='art_txt']\") == True:\n",
    "                html = browser.page_source\n",
    "                soup = BeautifulSoup(html, 'html.parser')\n",
    "                contents = soup.select('div.art_txt')\n",
    "                text = ''\n",
    "                for content in contents:\n",
    "                    text = text + content.text.strip()\n",
    "                texts.append(text)\n",
    "            else:\n",
    "                texts.append('None')\n",
    "                continue\n",
    "        except:\n",
    "            texts.append('None')\n",
    "            continue\n",
    "    return texts"
   ]
  },
  {
   "cell_type": "code",
   "execution_count": null,
   "id": "a30ed426",
   "metadata": {},
   "outputs": [],
   "source": [
    "def view_type(num):\n",
    "    texts = []\n",
    "    for i in range(num[0], num[1]):\n",
    "        try:\n",
    "            url = df_art.url[i]\n",
    "            browser.get(url)\n",
    "            WebDriverWait(browser, 3).until(EC.presence_of_element_located((By.XPATH, \"//div[@itemprop='articleBody']\")))\n",
    "            if check_exists_by_xpath(\"//div[@itemprop='articleBody']\") == True:\n",
    "                html = browser.page_source\n",
    "                soup = BeautifulSoup(html, 'html.parser')\n",
    "                contents = soup.select('div[itemprop=articleBody]')\n",
    "                text = ''\n",
    "                for content in contents:\n",
    "                    text = text + content.text.strip()\n",
    "                texts.append(text)\n",
    "            else:\n",
    "                texts.append('None')\n",
    "                continue\n",
    "        except:\n",
    "            texts.append('None')\n",
    "            continue\n",
    "    return texts"
   ]
  },
  {
   "cell_type": "code",
   "execution_count": null,
   "id": "e2eed1b9",
   "metadata": {},
   "outputs": [],
   "source": [
    "# 실행할 함수 입력할 것\n",
    "texts = read_type(num)"
   ]
  },
  {
   "cell_type": "code",
   "execution_count": null,
   "id": "d103269c",
   "metadata": {},
   "outputs": [],
   "source": [
    "len(texts)"
   ]
  },
  {
   "cell_type": "code",
   "execution_count": null,
   "id": "bba5e2c4",
   "metadata": {},
   "outputs": [],
   "source": [
    "text = pd.DataFrame(data=texts) # texts를 text로 pandas로 저장"
   ]
  },
  {
   "cell_type": "code",
   "execution_count": null,
   "id": "a0bd323c",
   "metadata": {},
   "outputs": [],
   "source": [
    "spot = loot + name + '.xls'"
   ]
  },
  {
   "cell_type": "code",
   "execution_count": null,
   "id": "e11aa355",
   "metadata": {},
   "outputs": [],
   "source": [
    "text.to_excel(spot, header=None,index=False)"
   ]
  },
  {
   "cell_type": "code",
   "execution_count": null,
   "id": "ea01c355",
   "metadata": {},
   "outputs": [],
   "source": []
  },
  {
   "cell_type": "code",
   "execution_count": null,
   "id": "32287bf7",
   "metadata": {},
   "outputs": [],
   "source": [
    "# 검증, 통합 설명과 수행방법(주석제거)"
   ]
  },
  {
   "cell_type": "code",
   "execution_count": null,
   "id": "7e9437a2",
   "metadata": {},
   "outputs": [],
   "source": [
    "# 분할된 text를 순서대로 합치는 법[2개(파일이름1, 파일이름2)를 불러울 경우]\n",
    "# 파일이름 = pd.read_excel('C:/Develops/newspapers/press0/파일이름.xls', header=None) # 엑셀파일불러오기\n",
    "# 파일이름 = 파일이름.values.tolist() # 리스트로 환원\n",
    "# 파일이름2 = pd.read_excel('C:/Develops/newspapers/press0/파일이름2.xls', header=None)\n",
    "# 파일이름2 = 파일이름2.values.tolist()\n",
    "# co_text = 파일이름 + 파일이름2 # 리스트 순서대로 붙이기 "
   ]
  },
  {
   "cell_type": "code",
   "execution_count": null,
   "id": "490b7839",
   "metadata": {},
   "outputs": [],
   "source": [
    "# 제목과 내용 일치 여부 판단\n",
    "# len(co_text)"
   ]
  },
  {
   "cell_type": "code",
   "execution_count": null,
   "id": "46398a38",
   "metadata": {},
   "outputs": [],
   "source": [
    "# i = 5 # co_text에 있는 숫자 구간에서 임의의 숫자 넣어서 제목과 내용이 일치하는지 대략적으로 검수\n",
    "# df.title[i] # 번호에 해당하는 제목"
   ]
  },
  {
   "cell_type": "code",
   "execution_count": null,
   "id": "2267dd15",
   "metadata": {},
   "outputs": [],
   "source": [
    "# co_text[i] # 번호에 해당하는 내용, co가 아니라 바로 결과를 확인할 때는 texts[i]"
   ]
  },
  {
   "cell_type": "code",
   "execution_count": null,
   "id": "2b9cb16d",
   "metadata": {},
   "outputs": [],
   "source": [
    "# df에 text 넣어서 저장하기 # 모든 기사내용을 스크래핑해서 co_text로 합쳤으면 excel로 저장\n",
    "# df['total_text'] = co_text\n",
    "# final_spot = loot + 'press_0.xls'\n",
    "# df.to_excel(final_spot, header=None,index=False)\n",
    "# 끝"
   ]
  }
 ],
 "metadata": {
  "kernelspec": {
   "display_name": "Python 3",
   "language": "python",
   "name": "python3"
  },
  "language_info": {
   "codemirror_mode": {
    "name": "ipython",
    "version": 3
   },
   "file_extension": ".py",
   "mimetype": "text/x-python",
   "name": "python",
   "nbconvert_exporter": "python",
   "pygments_lexer": "ipython3",
   "version": "3.6.4"
  }
 },
 "nbformat": 4,
 "nbformat_minor": 5
}
