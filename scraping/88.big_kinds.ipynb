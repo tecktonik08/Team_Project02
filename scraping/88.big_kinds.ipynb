{
 "cells": [
  {
   "cell_type": "code",
   "execution_count": 285,
   "id": "85dd400f",
   "metadata": {},
   "outputs": [],
   "source": [
    "from selenium import webdriver\n",
    "from selenium.webdriver.common.keys import Keys\n",
    "from bs4 import BeautifulSoup\n",
    "import requests\n",
    "import pandas as pd\n",
    "import csv\n",
    "import time\n",
    "import pyautogui as gui"
   ]
  },
  {
   "cell_type": "code",
   "execution_count": 286,
   "id": "2569fe3a",
   "metadata": {},
   "outputs": [],
   "source": [
    "browser = webdriver.Chrome('C:\\chromedriver.exe')"
   ]
  },
  {
   "cell_type": "code",
   "execution_count": 287,
   "id": "600b07fa",
   "metadata": {},
   "outputs": [],
   "source": [
    "browser.get('https://www.bigkinds.or.kr/v2/news/index.do')"
   ]
  },
  {
   "cell_type": "code",
   "execution_count": 288,
   "id": "8e443a76",
   "metadata": {},
   "outputs": [],
   "source": [
    "# 언론사 분류\n",
    "str = '삭제경향신문삭제국민일보삭제내일신문삭제동아일보삭제문화일보삭제서울신문삭제세계일보삭제조선일보삭제중앙일보삭제한겨레삭제한국일보삭제매일경제삭제머니투데이삭제서울경제삭제아시아경제삭제아주경제삭제파이낸셜뉴스삭제한국경제삭제헤럴드경제삭제강원도민일보삭제강원일보삭제경기일보삭제경남도민일보삭제경남신문삭제경상일보삭제경인일보삭제광주매일신문삭제광주일보삭제국제신문삭제대구일보삭제대전일보삭제매일신문삭제무등일보삭제부산일보삭제영남일보삭제울산매일삭제전남일보삭제전북도민일보삭제전북일보삭제제민일보삭제중도일보삭제중부매일삭제중부일보삭제충북일보삭제충청일보삭제충청투데이삭제한라일보삭제KBS삭제MBC삭제OBS삭제SBS삭제YTN삭제디지털타임스삭제전자신문삭제'\n",
    "press_str = str.split('삭제')\n",
    "pres_list = press_str[1:-1]\n",
    "# pres_list, len(pres_list)"
   ]
  },
  {
   "cell_type": "code",
   "execution_count": 52,
   "id": "99c3c26a",
   "metadata": {},
   "outputs": [],
   "source": [
    "browser.find_element_by_xpath(\"//div[@class='tab-btn-inner tab1']\").click()"
   ]
  },
  {
   "cell_type": "code",
   "execution_count": 41,
   "id": "41c19807",
   "metadata": {},
   "outputs": [],
   "source": [
    "date = ['2021-01-01', '2021-7-31']"
   ]
  },
  {
   "cell_type": "code",
   "execution_count": 74,
   "id": "d624e10d",
   "metadata": {},
   "outputs": [],
   "source": [
    "start_date = browser.find_element_by_xpath(\"//input[@id='search-begin-date']\").send_keys('2021-01-01')"
   ]
  },
  {
   "cell_type": "code",
   "execution_count": 68,
   "id": "0ef70b6b",
   "metadata": {},
   "outputs": [],
   "source": [
    "driver.execute_script(\"document.getElementById('was-returns-reconciliation-report-end-date').value = '2020-01-05'\")"
   ]
  },
  {
   "cell_type": "code",
   "execution_count": 70,
   "id": "eb0db2f8",
   "metadata": {},
   "outputs": [],
   "source": [
    "start_date.send_keys('2021-01-01')"
   ]
  },
  {
   "cell_type": "code",
   "execution_count": 71,
   "id": "e58a94dc",
   "metadata": {},
   "outputs": [],
   "source": [
    "start_date.clear()"
   ]
  },
  {
   "cell_type": "code",
   "execution_count": 62,
   "id": "ce621d52",
   "metadata": {},
   "outputs": [],
   "source": [
    "start_date.send_keys('2021-01-01')"
   ]
  },
  {
   "cell_type": "code",
   "execution_count": 49,
   "id": "4a2ad3a2",
   "metadata": {},
   "outputs": [
    {
     "ename": "AttributeError",
     "evalue": "'NoneType' object has no attribute 'send_keys'",
     "output_type": "error",
     "traceback": [
      "\u001b[1;31m---------------------------------------------------------------------------\u001b[0m",
      "\u001b[1;31mAttributeError\u001b[0m                            Traceback (most recent call last)",
      "\u001b[1;32m<ipython-input-49-197497a76d1b>\u001b[0m in \u001b[0;36m<module>\u001b[1;34m\u001b[0m\n\u001b[0;32m      1\u001b[0m \u001b[0mstart_date\u001b[0m \u001b[1;33m=\u001b[0m \u001b[0mbrowser\u001b[0m\u001b[1;33m.\u001b[0m\u001b[0mfind_element_by_xpath\u001b[0m\u001b[1;33m(\u001b[0m\u001b[1;34m\"//input[@id='search-begin-date']\"\u001b[0m\u001b[1;33m)\u001b[0m\u001b[1;33m.\u001b[0m\u001b[0mclear\u001b[0m\u001b[1;33m(\u001b[0m\u001b[1;33m)\u001b[0m\u001b[1;33m\u001b[0m\u001b[0m\n\u001b[1;32m----> 2\u001b[1;33m \u001b[0mstart_date\u001b[0m\u001b[1;33m.\u001b[0m\u001b[0msend_keys\u001b[0m\u001b[1;33m(\u001b[0m\u001b[1;34m'2021-01-01'\u001b[0m\u001b[1;33m)\u001b[0m\u001b[1;33m\u001b[0m\u001b[0m\n\u001b[0m",
      "\u001b[1;31mAttributeError\u001b[0m: 'NoneType' object has no attribute 'send_keys'"
     ]
    }
   ],
   "source": [
    "start_date = browser.find_element_by_xpath(\"//input[@id='search-begin-date']\").clear()\n",
    "start_date.send_keys('2021-01-01')"
   ]
  },
  {
   "cell_type": "code",
   "execution_count": 42,
   "id": "979b6994",
   "metadata": {},
   "outputs": [
    {
     "data": {
      "text/plain": [
       "'2021-01-01'"
      ]
     },
     "execution_count": 42,
     "metadata": {},
     "output_type": "execute_result"
    }
   ],
   "source": [
    "date[0]"
   ]
  },
  {
   "cell_type": "code",
   "execution_count": null,
   "id": "dca4bc46",
   "metadata": {},
   "outputs": [],
   "source": []
  },
  {
   "cell_type": "code",
   "execution_count": 30,
   "id": "88d908bc",
   "metadata": {},
   "outputs": [
    {
     "ename": "SyntaxError",
     "evalue": "invalid syntax (<ipython-input-30-a74731aa115a>, line 5)",
     "output_type": "error",
     "traceback": [
      "\u001b[1;36m  File \u001b[1;32m\"<ipython-input-30-a74731aa115a>\"\u001b[1;36m, line \u001b[1;32m5\u001b[0m\n\u001b[1;33m    browser.find_element_by_xpath(\"//input[@id=\"search-begin-date\"]\").send_keys(date[0]]) # 시작날짜\u001b[0m\n\u001b[1;37m                                                     ^\u001b[0m\n\u001b[1;31mSyntaxError\u001b[0m\u001b[1;31m:\u001b[0m invalid syntax\n"
     ]
    }
   ],
   "source": [
    "# 기간 설정 ['시작날짜', '마지막날짜']\n",
    "date = ['2021-01-01', '2021-7-31']\n",
    "\n",
    "browser.find_element_by_xpath(\"//div[@class='tab-btn-inner tab1']\").click()\n",
    "browser.find_element_by_xpath(\"//input[@id=\"search-begin-date\"]\").send_keys(date[0]]) # 시작날짜\n",
    "browser.find_element_by_xpath(\"//input[@id=\"search-end-date\"]\").send_keys(date[1]) # 마지막날짜\n",
    "\n",
    "# 언론사 설정 press_list 中 1개 선택\n",
    "press = '서울신문'\n",
    "\n",
    "browser.find_element_by_xpath(\"//div[@class='tab-btn-inner tab2']\").click()\n",
    "browser.find_element_by_xpath(\"//input[@id=\"+press+\"]\").click()\n",
    "\n",
    "# 검색\n",
    "browser.find_element_by_xpath(\"//button[@class='btn btn-search news-search-btn news-report-search-btn']\").click()"
   ]
  },
  {
   "cell_type": "code",
   "execution_count": 301,
   "id": "cf2a10b4",
   "metadata": {
    "scrolled": true
   },
   "outputs": [
    {
     "ename": "NoSuchElementException",
     "evalue": "Message: no such element: Unable to locate element: {\"method\":\"xpath\",\"selector\":\"//label[@for='서']\"}\n  (Session info: chrome=92.0.4515.131)\n",
     "output_type": "error",
     "traceback": [
      "\u001b[1;31m---------------------------------------------------------------------------\u001b[0m",
      "\u001b[1;31mNoSuchElementException\u001b[0m                    Traceback (most recent call last)",
      "\u001b[1;32m<ipython-input-301-3461acee23a4>\u001b[0m in \u001b[0;36m<module>\u001b[1;34m\u001b[0m\n\u001b[0;32m      3\u001b[0m \u001b[1;33m\u001b[0m\u001b[0m\n\u001b[0;32m      4\u001b[0m \u001b[0mbrowser\u001b[0m\u001b[1;33m.\u001b[0m\u001b[0mfind_element_by_xpath\u001b[0m\u001b[1;33m(\u001b[0m\u001b[1;34m\"//div[@class='tab-btn-inner tab2']\"\u001b[0m\u001b[1;33m)\u001b[0m\u001b[1;33m.\u001b[0m\u001b[0mclick\u001b[0m\u001b[1;33m(\u001b[0m\u001b[1;33m)\u001b[0m\u001b[1;33m\u001b[0m\u001b[0m\n\u001b[1;32m----> 5\u001b[1;33m \u001b[0mbrowser\u001b[0m\u001b[1;33m.\u001b[0m\u001b[0mfind_element_by_xpath\u001b[0m\u001b[1;33m(\u001b[0m\u001b[1;34m\"//label[@for='서']\"\u001b[0m\u001b[1;33m)\u001b[0m\u001b[1;33m.\u001b[0m\u001b[0mclick\u001b[0m\u001b[1;33m(\u001b[0m\u001b[1;33m)\u001b[0m\u001b[1;33m\u001b[0m\u001b[0m\n\u001b[0m",
      "\u001b[1;32mc:\\python\\python36\\lib\\site-packages\\selenium\\webdriver\\remote\\webdriver.py\u001b[0m in \u001b[0;36mfind_element_by_xpath\u001b[1;34m(self, xpath)\u001b[0m\n\u001b[0;32m    392\u001b[0m             \u001b[0melement\u001b[0m \u001b[1;33m=\u001b[0m \u001b[0mdriver\u001b[0m\u001b[1;33m.\u001b[0m\u001b[0mfind_element_by_xpath\u001b[0m\u001b[1;33m(\u001b[0m\u001b[1;34m'//div/td[1]'\u001b[0m\u001b[1;33m)\u001b[0m\u001b[1;33m\u001b[0m\u001b[0m\n\u001b[0;32m    393\u001b[0m         \"\"\"\n\u001b[1;32m--> 394\u001b[1;33m         \u001b[1;32mreturn\u001b[0m \u001b[0mself\u001b[0m\u001b[1;33m.\u001b[0m\u001b[0mfind_element\u001b[0m\u001b[1;33m(\u001b[0m\u001b[0mby\u001b[0m\u001b[1;33m=\u001b[0m\u001b[0mBy\u001b[0m\u001b[1;33m.\u001b[0m\u001b[0mXPATH\u001b[0m\u001b[1;33m,\u001b[0m \u001b[0mvalue\u001b[0m\u001b[1;33m=\u001b[0m\u001b[0mxpath\u001b[0m\u001b[1;33m)\u001b[0m\u001b[1;33m\u001b[0m\u001b[0m\n\u001b[0m\u001b[0;32m    395\u001b[0m \u001b[1;33m\u001b[0m\u001b[0m\n\u001b[0;32m    396\u001b[0m     \u001b[1;32mdef\u001b[0m \u001b[0mfind_elements_by_xpath\u001b[0m\u001b[1;33m(\u001b[0m\u001b[0mself\u001b[0m\u001b[1;33m,\u001b[0m \u001b[0mxpath\u001b[0m\u001b[1;33m)\u001b[0m\u001b[1;33m:\u001b[0m\u001b[1;33m\u001b[0m\u001b[0m\n",
      "\u001b[1;32mc:\\python\\python36\\lib\\site-packages\\selenium\\webdriver\\remote\\webdriver.py\u001b[0m in \u001b[0;36mfind_element\u001b[1;34m(self, by, value)\u001b[0m\n\u001b[0;32m    976\u001b[0m         return self.execute(Command.FIND_ELEMENT, {\n\u001b[0;32m    977\u001b[0m             \u001b[1;34m'using'\u001b[0m\u001b[1;33m:\u001b[0m \u001b[0mby\u001b[0m\u001b[1;33m,\u001b[0m\u001b[1;33m\u001b[0m\u001b[0m\n\u001b[1;32m--> 978\u001b[1;33m             'value': value})['value']\n\u001b[0m\u001b[0;32m    979\u001b[0m \u001b[1;33m\u001b[0m\u001b[0m\n\u001b[0;32m    980\u001b[0m     \u001b[1;32mdef\u001b[0m \u001b[0mfind_elements\u001b[0m\u001b[1;33m(\u001b[0m\u001b[0mself\u001b[0m\u001b[1;33m,\u001b[0m \u001b[0mby\u001b[0m\u001b[1;33m=\u001b[0m\u001b[0mBy\u001b[0m\u001b[1;33m.\u001b[0m\u001b[0mID\u001b[0m\u001b[1;33m,\u001b[0m \u001b[0mvalue\u001b[0m\u001b[1;33m=\u001b[0m\u001b[1;32mNone\u001b[0m\u001b[1;33m)\u001b[0m\u001b[1;33m:\u001b[0m\u001b[1;33m\u001b[0m\u001b[0m\n",
      "\u001b[1;32mc:\\python\\python36\\lib\\site-packages\\selenium\\webdriver\\remote\\webdriver.py\u001b[0m in \u001b[0;36mexecute\u001b[1;34m(self, driver_command, params)\u001b[0m\n\u001b[0;32m    319\u001b[0m         \u001b[0mresponse\u001b[0m \u001b[1;33m=\u001b[0m \u001b[0mself\u001b[0m\u001b[1;33m.\u001b[0m\u001b[0mcommand_executor\u001b[0m\u001b[1;33m.\u001b[0m\u001b[0mexecute\u001b[0m\u001b[1;33m(\u001b[0m\u001b[0mdriver_command\u001b[0m\u001b[1;33m,\u001b[0m \u001b[0mparams\u001b[0m\u001b[1;33m)\u001b[0m\u001b[1;33m\u001b[0m\u001b[0m\n\u001b[0;32m    320\u001b[0m         \u001b[1;32mif\u001b[0m \u001b[0mresponse\u001b[0m\u001b[1;33m:\u001b[0m\u001b[1;33m\u001b[0m\u001b[0m\n\u001b[1;32m--> 321\u001b[1;33m             \u001b[0mself\u001b[0m\u001b[1;33m.\u001b[0m\u001b[0merror_handler\u001b[0m\u001b[1;33m.\u001b[0m\u001b[0mcheck_response\u001b[0m\u001b[1;33m(\u001b[0m\u001b[0mresponse\u001b[0m\u001b[1;33m)\u001b[0m\u001b[1;33m\u001b[0m\u001b[0m\n\u001b[0m\u001b[0;32m    322\u001b[0m             response['value'] = self._unwrap_value(\n\u001b[0;32m    323\u001b[0m                 response.get('value', None))\n",
      "\u001b[1;32mc:\\python\\python36\\lib\\site-packages\\selenium\\webdriver\\remote\\errorhandler.py\u001b[0m in \u001b[0;36mcheck_response\u001b[1;34m(self, response)\u001b[0m\n\u001b[0;32m    240\u001b[0m                 \u001b[0malert_text\u001b[0m \u001b[1;33m=\u001b[0m \u001b[0mvalue\u001b[0m\u001b[1;33m[\u001b[0m\u001b[1;34m'alert'\u001b[0m\u001b[1;33m]\u001b[0m\u001b[1;33m.\u001b[0m\u001b[0mget\u001b[0m\u001b[1;33m(\u001b[0m\u001b[1;34m'text'\u001b[0m\u001b[1;33m)\u001b[0m\u001b[1;33m\u001b[0m\u001b[0m\n\u001b[0;32m    241\u001b[0m             \u001b[1;32mraise\u001b[0m \u001b[0mexception_class\u001b[0m\u001b[1;33m(\u001b[0m\u001b[0mmessage\u001b[0m\u001b[1;33m,\u001b[0m \u001b[0mscreen\u001b[0m\u001b[1;33m,\u001b[0m \u001b[0mstacktrace\u001b[0m\u001b[1;33m,\u001b[0m \u001b[0malert_text\u001b[0m\u001b[1;33m)\u001b[0m\u001b[1;33m\u001b[0m\u001b[0m\n\u001b[1;32m--> 242\u001b[1;33m         \u001b[1;32mraise\u001b[0m \u001b[0mexception_class\u001b[0m\u001b[1;33m(\u001b[0m\u001b[0mmessage\u001b[0m\u001b[1;33m,\u001b[0m \u001b[0mscreen\u001b[0m\u001b[1;33m,\u001b[0m \u001b[0mstacktrace\u001b[0m\u001b[1;33m)\u001b[0m\u001b[1;33m\u001b[0m\u001b[0m\n\u001b[0m\u001b[0;32m    243\u001b[0m \u001b[1;33m\u001b[0m\u001b[0m\n\u001b[0;32m    244\u001b[0m     \u001b[1;32mdef\u001b[0m \u001b[0m_value_or_default\u001b[0m\u001b[1;33m(\u001b[0m\u001b[0mself\u001b[0m\u001b[1;33m,\u001b[0m \u001b[0mobj\u001b[0m\u001b[1;33m,\u001b[0m \u001b[0mkey\u001b[0m\u001b[1;33m,\u001b[0m \u001b[0mdefault\u001b[0m\u001b[1;33m)\u001b[0m\u001b[1;33m:\u001b[0m\u001b[1;33m\u001b[0m\u001b[0m\n",
      "\u001b[1;31mNoSuchElementException\u001b[0m: Message: no such element: Unable to locate element: {\"method\":\"xpath\",\"selector\":\"//label[@for='서']\"}\n  (Session info: chrome=92.0.4515.131)\n"
     ]
    }
   ],
   "source": [
    "# 언론사 설정 press_list 中 1개 선택\n",
    "press = '경향신문'\n",
    "\n",
    "browser.find_element_by_xpath(\"//div[@class='tab-btn-inner tab2']\").click()\n",
    "browser.find_element_by_xpath(\"//label[@for='서']\").click()\n"
   ]
  },
  {
   "cell_type": "code",
   "execution_count": 303,
   "id": "f24d7196",
   "metadata": {},
   "outputs": [],
   "source": [
    "press = '경향신문'\n",
    "browser.find_element_by_xpath(\"//label[@for='경향신문']\").click()"
   ]
  },
  {
   "cell_type": "code",
   "execution_count": 304,
   "id": "aa1301c0",
   "metadata": {},
   "outputs": [],
   "source": [
    "# 검색\n",
    "browser.find_element_by_xpath(\"//button[@class='btn btn-search news-search-btn news-report-search-btn']\").click()"
   ]
  },
  {
   "cell_type": "code",
   "execution_count": 305,
   "id": "beb0c385",
   "metadata": {},
   "outputs": [],
   "source": [
    "browser.find_element_by_xpath(\"//select[@id='select2']/option[4]\").click()"
   ]
  },
  {
   "cell_type": "code",
   "execution_count": null,
   "id": "65225155",
   "metadata": {},
   "outputs": [],
   "source": []
  },
  {
   "cell_type": "code",
   "execution_count": 124,
   "id": "65ccd9ca",
   "metadata": {},
   "outputs": [],
   "source": [
    "html = browser.page_source\n",
    "soup = BeautifulSoup(html, 'html.parser')"
   ]
  },
  {
   "cell_type": "code",
   "execution_count": null,
   "id": "c058be09",
   "metadata": {},
   "outputs": [],
   "source": [
    "div.news-inner"
   ]
  },
  {
   "cell_type": "code",
   "execution_count": 306,
   "id": "71de2275",
   "metadata": {},
   "outputs": [],
   "source": [
    "wholes = soup.select('div.news-inner')"
   ]
  },
  {
   "cell_type": "code",
   "execution_count": 266,
   "id": "b3f47d1c",
   "metadata": {},
   "outputs": [
    {
     "ename": "NameError",
     "evalue": "name 'div' is not defined",
     "output_type": "error",
     "traceback": [
      "\u001b[1;31m---------------------------------------------------------------------------\u001b[0m",
      "\u001b[1;31mNameError\u001b[0m                                 Traceback (most recent call last)",
      "\u001b[1;32m<ipython-input-266-73a26ac239ed>\u001b[0m in \u001b[0;36m<module>\u001b[1;34m\u001b[0m\n\u001b[1;32m----> 1\u001b[1;33m \u001b[0mdiv\u001b[0m\u001b[1;31m#news-results-tab\u001b[0m\u001b[1;33m\u001b[0m\u001b[0m\n\u001b[0m",
      "\u001b[1;31mNameError\u001b[0m: name 'div' is not defined"
     ]
    }
   ],
   "source": [
    "div#news-results-tab"
   ]
  },
  {
   "cell_type": "code",
   "execution_count": 267,
   "id": "69ca53d0",
   "metadata": {},
   "outputs": [
    {
     "data": {
      "text/plain": [
       "100"
      ]
     },
     "execution_count": 267,
     "metadata": {},
     "output_type": "execute_result"
    }
   ],
   "source": [
    "len(wholes)"
   ]
  },
  {
   "cell_type": "code",
   "execution_count": 307,
   "id": "349a0aaf",
   "metadata": {},
   "outputs": [],
   "source": [
    "whole = wholes[0]"
   ]
  },
  {
   "cell_type": "code",
   "execution_count": 308,
   "id": "de6faec8",
   "metadata": {},
   "outputs": [],
   "source": [
    "title = whole.select('span.title-elipsis')"
   ]
  },
  {
   "cell_type": "code",
   "execution_count": 309,
   "id": "79d95682",
   "metadata": {},
   "outputs": [],
   "source": [
    "press =  whole.select('div.info > div > a')"
   ]
  },
  {
   "cell_type": "code",
   "execution_count": 310,
   "id": "8edbd84d",
   "metadata": {},
   "outputs": [],
   "source": [
    "category = whole.select('div.info > div > span.bullet-keyword')"
   ]
  },
  {
   "cell_type": "code",
   "execution_count": 311,
   "id": "c6331354",
   "metadata": {},
   "outputs": [],
   "source": [
    "date_name = whole.select('div.info > p') # p 는 날짜, 기자이름 <p>로 같아서 2개씩 끊어줘야함"
   ]
  },
  {
   "cell_type": "code",
   "execution_count": null,
   "id": "429eae5f",
   "metadata": {},
   "outputs": [],
   "source": []
  },
  {
   "cell_type": "code",
   "execution_count": 200,
   "id": "77bc618e",
   "metadata": {},
   "outputs": [
    {
     "data": {
      "text/plain": [
       "[<span class=\"title-elipsis\" style=\"text-decolation:underline; \">[경향포토] 김학순 할머니 위안부 피해 공개증언 30년...계속되는 수요시위</span>]"
      ]
     },
     "execution_count": 200,
     "metadata": {},
     "output_type": "execute_result"
    }
   ],
   "source": [
    "title"
   ]
  },
  {
   "cell_type": "code",
   "execution_count": 205,
   "id": "bb91d165",
   "metadata": {},
   "outputs": [
    {
     "data": {
      "text/plain": [
       "bs4.element.ResultSet"
      ]
     },
     "execution_count": 205,
     "metadata": {},
     "output_type": "execute_result"
    }
   ],
   "source": [
    "type(title)"
   ]
  },
  {
   "cell_type": "code",
   "execution_count": 207,
   "id": "7ba0ef58",
   "metadata": {},
   "outputs": [
    {
     "data": {
      "text/plain": [
       "'[경향포토] 김학순 할머니 위안부 피해 공개증언 30년...계속되는 수요시위'"
      ]
     },
     "execution_count": 207,
     "metadata": {},
     "output_type": "execute_result"
    }
   ],
   "source": [
    "title[0].text.strip()"
   ]
  },
  {
   "cell_type": "code",
   "execution_count": 187,
   "id": "c015ad5c",
   "metadata": {},
   "outputs": [
    {
     "data": {
      "text/plain": [
       "[<a class=\"provider\" data-placement=\"bottom\" data-toggle=\"tooltip\" href=\"https://www.khan.co.kr/national/national-general/article/202108111308001\" target=\"_blank\" title=\"원본 기사 보러가기\">\n",
       " \t\t                    \t경향신문\n",
       " \t\t                \t</a>]"
      ]
     },
     "execution_count": 187,
     "metadata": {},
     "output_type": "execute_result"
    }
   ],
   "source": [
    "press"
   ]
  },
  {
   "cell_type": "code",
   "execution_count": 209,
   "id": "2167f767",
   "metadata": {},
   "outputs": [
    {
     "data": {
      "text/plain": [
       "'경향신문'"
      ]
     },
     "execution_count": 209,
     "metadata": {},
     "output_type": "execute_result"
    }
   ],
   "source": [
    "press[0].text.strip()"
   ]
  },
  {
   "cell_type": "code",
   "execution_count": 189,
   "id": "36df5bad",
   "metadata": {},
   "outputs": [
    {
     "data": {
      "text/plain": [
       "[<span class=\"bullet-keyword\">사회&gt;사회일반</span>]"
      ]
     },
     "execution_count": 189,
     "metadata": {},
     "output_type": "execute_result"
    }
   ],
   "source": [
    "category"
   ]
  },
  {
   "cell_type": "code",
   "execution_count": 211,
   "id": "cf5ae26e",
   "metadata": {},
   "outputs": [
    {
     "data": {
      "text/plain": [
       "'사회>사회일반'"
      ]
     },
     "execution_count": 211,
     "metadata": {},
     "output_type": "execute_result"
    }
   ],
   "source": [
    "category[0].text.strip()"
   ]
  },
  {
   "cell_type": "code",
   "execution_count": 195,
   "id": "ff587649",
   "metadata": {},
   "outputs": [
    {
     "data": {
      "text/plain": [
       "[<p class=\"name\">2021/08/11</p>,\n",
       " <p class=\"name\">강윤중 기자 yaja@kyunghyang.com</p>]"
      ]
     },
     "execution_count": 195,
     "metadata": {},
     "output_type": "execute_result"
    }
   ],
   "source": [
    "date_name"
   ]
  },
  {
   "cell_type": "code",
   "execution_count": 196,
   "id": "d8a5f502",
   "metadata": {},
   "outputs": [
    {
     "data": {
      "text/plain": [
       "'2021/08/11'"
      ]
     },
     "execution_count": 196,
     "metadata": {},
     "output_type": "execute_result"
    }
   ],
   "source": [
    "date = date_name[0].text.strip()\n",
    "date"
   ]
  },
  {
   "cell_type": "code",
   "execution_count": 199,
   "id": "b551dbc0",
   "metadata": {},
   "outputs": [
    {
     "data": {
      "text/plain": [
       "'강윤중 기자 yaja@kyunghyang.com'"
      ]
     },
     "execution_count": 199,
     "metadata": {},
     "output_type": "execute_result"
    }
   ],
   "source": [
    "name = date_name[1].text.strip()\n",
    "name"
   ]
  },
  {
   "cell_type": "code",
   "execution_count": null,
   "id": "5eb4e5ae",
   "metadata": {},
   "outputs": [],
   "source": [
    "date_name = whole.select('div.info > p')"
   ]
  },
  {
   "cell_type": "code",
   "execution_count": null,
   "id": "546913e6",
   "metadata": {},
   "outputs": [],
   "source": []
  },
  {
   "cell_type": "code",
   "execution_count": 213,
   "id": "202f3570",
   "metadata": {},
   "outputs": [],
   "source": [
    "contents = list() # [제목, 언론사, 분류, 날짜, 기자이름, 기사내용]\n",
    "for whole in wholes:\n",
    "    title = whole.select('span.title-elipsis')\n",
    "    press =  whole.select('div.info > div > a')\n",
    "    category = whole.select('div.info > div > span.bullet-keyword')\n",
    "    date_name = whole.select('div.info > p')\n",
    "    browser.find_elements_by_css_selector('div.title-cp').click()\n",
    "    contents.append([title[0].text.strip(), press[0].text.strip(), category[0].text.strip(), date_name[0].text.strip(), date_name[1].text.strip()])"
   ]
  },
  {
   "cell_type": "code",
   "execution_count": 214,
   "id": "4cd1565e",
   "metadata": {},
   "outputs": [
    {
     "data": {
      "text/plain": [
       "[['[경향포토] 김학순 할머니 위안부 피해 공개증언 30년...계속되는 수요시위',\n",
       "  '경향신문',\n",
       "  '사회>사회일반',\n",
       "  '2021/08/11',\n",
       "  '강윤중 기자 yaja@kyunghyang.com'],\n",
       " ['중국, 캐나다인 사업가에 징역 11년 선고…연이은 강공 행보',\n",
       "  '경향신문',\n",
       "  '국제>중국 | 국제>미국_북미 | 국제>유럽_EU',\n",
       "  '2021/08/11',\n",
       "  '박은하 기자 eunha999@kyunghyang.com'],\n",
       " [\"중소·벤처기업 '공용 화상 회의실' 전국 오픈\",\n",
       "  '경향신문',\n",
       "  '지역>경기 | 경제>무역 | 지역>경남',\n",
       "  '2021/08/11',\n",
       "  '김은성 기자 kes@kyunghyang.com'],\n",
       " ['\"가상세계 건축자들 모여라\"…과기정통부, 메타버스 개발자 경진대회 개최',\n",
       "  '경향신문',\n",
       "  'IT_과학>인터넷_SNS | IT_과학>콘텐츠',\n",
       "  '2021/08/11',\n",
       "  '이정호 기자 run@kyunghyang.com'],\n",
       " ['상반기 국내은행 순이익 10조8000억원...1년 전보다 4조원 증가',\n",
       "  '경향신문',\n",
       "  '경제>유통 | 경제>금융_재테크 | 경제>증권_증시',\n",
       "  '2021/08/11',\n",
       "  '정원식 기자 bachwsik@kyunghyang.com'],\n",
       " [\"내년 '빨간 날' 67일···최장 연휴는 설날 전후 '닷새'\",\n",
       "  '경향신문',\n",
       "  '미분류',\n",
       "  '2021/08/11',\n",
       "  '이정호 기자 run@kyunghyang.com'],\n",
       " [\"제조 위탁·대금 정산 등 하도급법 위반 '종합세트' 가구업체 코아스 제재\",\n",
       "  '경향신문',\n",
       "  '경제>유통 | 경제>서비스_쇼핑 | 경제>부동산',\n",
       "  '2021/08/11',\n",
       "  '박상영 기자 sypark@kyunghyang.com'],\n",
       " ['쿠오모 성추행 스캔들에…최초 여성 뉴욕 주지사 취임',\n",
       "  '경향신문',\n",
       "  '국제>미국_북미 | 정치>국회_정당 | 사회>사회일반',\n",
       "  '2021/08/11',\n",
       "  '윤기은 기자 energyeun@kyunghyang.com'],\n",
       " ['김명수 대법원장, 새 대법관에 오경미 고법판사 임명 제청',\n",
       "  '경향신문',\n",
       "  '사회>여성 | 사회>사건_사고 | 사회>교육_시험',\n",
       "  '2021/08/11',\n",
       "  '허진무 기자 imagine@kyunghyang.com'],\n",
       " ['치명률 낮아졌지만 시민 70% 이상 “방역 전환은 아직 일러, 백신 맞겠다”',\n",
       "  '경향신문',\n",
       "  '사회>여성',\n",
       "  '2021/08/11',\n",
       "  '김향미 기자 sokhm@kyunghyang.com'],\n",
       " ['BC카드·이마트24, 데이터 협력 MOU 체결',\n",
       "  '경향신문',\n",
       "  '경제>유통 | IT_과학>인터넷_SNS | IT_과학>보안',\n",
       "  '2021/08/11',\n",
       "  '박효재 기자 mann616@kyunghyang.com'],\n",
       " ['원희룡 제주지사 11일 퇴임 “국민 지키기 위해 지사직 물러나”',\n",
       "  '경향신문',\n",
       "  '지역>제주 | 지역>충남 | 지역>강원',\n",
       "  '2021/08/11',\n",
       "  '박미라 기자 mrpark@kyunghyang.com'],\n",
       " ['서울도 하루 확진자 역대 최다···“600명대 지속되면 병상 부족할 수도”',\n",
       "  '경향신문',\n",
       "  '사회>교육_시험',\n",
       "  '2021/08/11',\n",
       "  '허남설 기자 nsheo@kyunghyang.com'],\n",
       " ['김두관 “서울공화국 해체” 균형발전 공약 발표…지자체 명칭 지방정부로',\n",
       "  '경향신문',\n",
       "  '정치>국회_정당 | 정치>선거',\n",
       "  '2021/08/11',\n",
       "  '박광연 기자 lightyear@kyunghyang.com'],\n",
       " ['문 대통령 “감염 확산 못 막으면 확진자 더 늘어날 중요한 시점”',\n",
       "  '경향신문',\n",
       "  '정치>청와대',\n",
       "  '2021/08/11',\n",
       "  '정대연 기자 hoan@kyunghyang.com'],\n",
       " ['[경향포토] \"입시 비리 전부 유죄\"...정경심 항소심도 징역 4년',\n",
       "  '경향신문',\n",
       "  '사회>사건_사고',\n",
       "  '2021/08/11',\n",
       "  '강윤중 기자'],\n",
       " ['“무의미한 연명의료 안받겠다” 의향서 작성자 100만명 돌파',\n",
       "  '경향신문',\n",
       "  '사회>의료_건강',\n",
       "  '2021/08/11',\n",
       "  '노도현'],\n",
       " ['현대백화점, 와인선물 종이포장재로 바꾼다',\n",
       "  '경향신문',\n",
       "  '경제>서비스_쇼핑 | 경제>유통',\n",
       "  '2021/08/11',\n",
       "  '정유미 기자 youme@kyunghyang.com'],\n",
       " ['‘끓는 바다’ 경남 양식어류 집단폐사 급증···477만 마리 폐사',\n",
       "  '경향신문',\n",
       "  '지역>강원 | 지역>경남 | 지역>경기',\n",
       "  '2021/08/11',\n",
       "  '백승목 기자 smbaek@kyunghyang.com'],\n",
       " [\"[속보]정경심 '입시비리·사모펀드' 의혹, 2심도 징역 4년\",\n",
       "  '경향신문',\n",
       "  '사회>사건_사고 | 사회>교육_시험 | 사회>여성',\n",
       "  '2021/08/11',\n",
       "  '전현진 기자 jjin23@kyunghyang.com'],\n",
       " [\"서울시, 감염병 특화 '서울의료원 응급의료센터' 신축…9월말 정식운영 들어가\",\n",
       "  '경향신문',\n",
       "  '사회>의료_건강 | 지역>경남 | 지역>제주',\n",
       "  '2021/08/11',\n",
       "  '류인하 기자 acha@kyunghyang.com'],\n",
       " ['죽파리 자작나무 숲 인근 ‘송하리 졸참나무와 당숲’ 천연기념물 된다',\n",
       "  '경향신문',\n",
       "  '문화>학술_문화재 | 문화>미술_건축 | 지역>강원',\n",
       "  '2021/08/11',\n",
       "  '김종목 기자 jomo@kyunghyang.com'],\n",
       " ['섬유·제지 산업도 탄소중립 움직임···\"폐자원을 에너지로\"',\n",
       "  '경향신문',\n",
       "  '지역>강원 | 경제>반도체 | 지역>충남',\n",
       "  '2021/08/11',\n",
       "  '강연주 기자 play@kyunghyang.com'],\n",
       " ['현대차·BMW·벤츠 등 35개 차종 2만8946대 리콜',\n",
       "  '경향신문',\n",
       "  '경제>자동차 | IT_과학>인터넷_SNS | IT_과학>보안',\n",
       "  '2021/08/11',\n",
       "  '김희진 기자 hjin@kyunghyang.com'],\n",
       " ['박용진 \"4차 산업혁명 선도하는 \\'바이미식스\\' 대통령 되겠다\"',\n",
       "  '경향신문',\n",
       "  '정치>국회_정당 | 정치>선거 | 정치>청와대',\n",
       "  '2021/08/11',\n",
       "  '탁지영 기자 g0g0@kyunghyang.com'],\n",
       " ['이준석 \\'친윤석열계\\' 겨냥 \"권력욕 부추기는 하이에나\"..정진석 \"참 딱하다\"',\n",
       "  '경향신문',\n",
       "  '정치>국회_정당 | 정치>선거',\n",
       "  '2021/08/11',\n",
       "  '유정인 기자 jeongin@kyunghyang.com'],\n",
       " ['[속보]법원 “정경심 딸, 서울대 인턴확인서는 허위\"',\n",
       "  '경향신문',\n",
       "  '사회>사건_사고 | 사회>교육_시험 | 사회>여성',\n",
       "  '2021/08/11',\n",
       "  '이효상 기자 hslee@kyunghyang.com'],\n",
       " ['모델하우스가 지역 대표 문화 공간으로... ‘당진 중앙메디컬타워’ 주목',\n",
       "  '경향신문',\n",
       "  '지역>경기 | 지역>제주 | 지역>충남',\n",
       "  '2021/08/11',\n",
       "  '김경은 기자 jjj@khan.kr'],\n",
       " ['[속보]법원 “정경심 딸, 7개 경력확인서 전부 허위라는 결론 유지”',\n",
       "  '경향신문',\n",
       "  '국제>미국_북미 | 사회>사건_사고 | 국제>유럽_EU',\n",
       "  '2021/08/11',\n",
       "  '이효상 기자 hslee@kyunghyang.com'],\n",
       " [\"[속보]법원 “정경심 동양대 표창장 '위조' 판단한 1심 정당”\",\n",
       "  '경향신문',\n",
       "  '국제>미국_북미 | 사회>사건_사고 | 국제>유럽_EU',\n",
       "  '2021/08/11',\n",
       "  '이효상 기자 hslee@kyunghyang.com'],\n",
       " [\"'편의점도 메타버스 탑승' CU제페토한강점 오픈\",\n",
       "  '경향신문',\n",
       "  '경제>서비스_쇼핑 | IT_과학>인터넷_SNS | IT_과학>콘텐츠',\n",
       "  '2021/08/11',\n",
       "  '김은성 기자 kes@kyunghyang.com'],\n",
       " ['윤호중 “전광훈, 가스통 메고 광화문 한복판 들어가겠다는 격···모더나 공급차질은 송구”',\n",
       "  '경향신문',\n",
       "  '정치>국회_정당 | 정치>청와대 | 정치>선거',\n",
       "  '2021/08/11',\n",
       "  '박홍두 기자 phd@kyunghyang.com'],\n",
       " ['대법 \"모델 초상권 담긴 광고 사진, 기간 안 정해도 무제한 사용 안 돼\"',\n",
       "  '경향신문',\n",
       "  '사회>미디어',\n",
       "  '2021/08/11',\n",
       "  '전현진 기자 jjin23@kyunghyang.com'],\n",
       " ['롯데백화점 \"동탄맘을 사로잡아라\"',\n",
       "  '경향신문',\n",
       "  '경제>서비스_쇼핑 | 경제>자동차 | 경제>유통',\n",
       "  '2021/08/11',\n",
       "  '정유미 기자 youme@kyunghyang.com'],\n",
       " ['[단독]“사랑고백 왜 안 받아줘” 여사친 2시간 감금한 10대 체포',\n",
       "  '경향신문',\n",
       "  '사회>사건_사고 | 사회>여성',\n",
       "  '2021/08/11',\n",
       "  '문광호 기자 moonlit@kyunghyang.com'],\n",
       " ['같은 나라 맞나? 최일선 행정기구 명칭이 3개···읍·면·동 통일 안 돼',\n",
       "  '경향신문',\n",
       "  '지역>강원 | 지역>전북 | 지역>경남',\n",
       "  '2021/08/11',\n",
       "  '강현석 기자 kaja@kyunghyang.com'],\n",
       " ['[부산시]동명대 “미국 워싱턴 인근에 분교”...컬럼비아대와 업무협력 협약',\n",
       "  '경향신문',\n",
       "  '미분류',\n",
       "  '2021/08/11',\n",
       "  '권기정 기자 kwon@kyunghyang.com'],\n",
       " ['서울 성북구, 사랑제일교회 시설폐쇄 청문 절차 밟는다',\n",
       "  '경향신문',\n",
       "  '사회>사회일반',\n",
       "  '2021/08/11',\n",
       "  '문광호 기자 moonlit@kyunghyang.com'],\n",
       " ['우리동네 정육점에서 온라인 고기배달 시켜볼까?',\n",
       "  '경향신문',\n",
       "  '경제>서비스_쇼핑 | 문화>문화일반 | 경제>금융_재테크',\n",
       "  '2021/08/11',\n",
       "  '정유미 기자 youme@kyunghyang.com'],\n",
       " ['이마트 피코크 또다른 히어로 식품은?',\n",
       "  '경향신문',\n",
       "  '경제>유통 | 경제>서비스_쇼핑 | 경제>자동차',\n",
       "  '2021/08/11',\n",
       "  '정유미 기자 youme@kyunghyang.com'],\n",
       " ['\"지방시 등 명품 최대 74%할인\" 쿠팡·신라면세점 \\'재고면세품\\' 판매',\n",
       "  '경향신문',\n",
       "  '경제>유통 | 경제>서비스_쇼핑 | 경제>자동차',\n",
       "  '2021/08/11',\n",
       "  '김은성 기자 kes@kyunghyang.com'],\n",
       " ['좌표 찍고 10분만에 댓글 800개… 신남성연대의 조직적 여론전[플랫]',\n",
       "  '경향신문',\n",
       "  '사회>미디어',\n",
       "  '2021/08/11',\n",
       "  '플랫팀 twitter.com/flatflat38'],\n",
       " ['홍남기 \"올해 사전청약 2000가구 확대…남양주 군부대 부지 3200가구 공급\"',\n",
       "  '경향신문',\n",
       "  '경제>부동산 | 정치>정치일반',\n",
       "  '2021/08/11',\n",
       "  '김희진 기자 hjin@kyunghyang.com'],\n",
       " ['참여연대·경실련, 이재용 가석방 규탄 1인 시위 나서',\n",
       "  '경향신문',\n",
       "  '정치>청와대',\n",
       "  '2021/08/11',\n",
       "  '문광호 기자 moonlit@kyunghyang.com'],\n",
       " [\"두산중공업, 중국 원전에 '지진자동설비' 공급 계약 체결\",\n",
       "  '경향신문',\n",
       "  '국제>중국 | 국제>일본 | IT_과학>IT_과학일반',\n",
       "  '2021/08/11',\n",
       "  '강연주 기자 play@kyunghyang.com'],\n",
       " [\"자율주행차, 인공지능(AI) 타고 '씽씽'...AI 기반 자율주행 특허 급증\",\n",
       "  '경향신문',\n",
       "  'IT_과학>과학 | 경제>자동차',\n",
       "  '2021/08/11',\n",
       "  '윤희일 선임기자 yhi@kyunghyang.com'],\n",
       " ['북한, 공동연락사무소·군 통신선 무응답···이틀째 ‘불통’',\n",
       "  '경향신문',\n",
       "  '정치>북한 | 정치>청와대',\n",
       "  '2021/08/11',\n",
       "  '박은경 기자 yama@kyunghyang.com'],\n",
       " [\"KMI한국의학연구소, 영락경로원 '건강한 식사' 후원한다\",\n",
       "  '경향신문',\n",
       "  '지역>전남 | 지역>충북 | 지역>충남',\n",
       "  '2021/08/11',\n",
       "  '박효순 기자 anytoc@kyunghyang.com'],\n",
       " [\"'사모펀드·입시비리 의혹' 정경심 교수 오늘 2심 선고\",\n",
       "  '경향신문',\n",
       "  '사회>사건_사고 | 사회>교육_시험 | 사회>여성',\n",
       "  '2021/08/11',\n",
       "  '문광호 기자 moonlit@kyunghyang.com'],\n",
       " ['[속보]코로나19 신규 확진 2223명 ‘역대 최다’',\n",
       "  '경향신문',\n",
       "  '지역>지역일반 | 사회>사회일반',\n",
       "  '2021/08/11',\n",
       "  '노도현 기자 hyunee@kyunghyang.com'],\n",
       " ['대구시 주상복합 용적률 제한으로 더 귀해진 몸값 ‘대구역자이 더 스타’ 주거용 오피스텔 9월 분양예정',\n",
       "  '경향신문',\n",
       "  '경제>부동산 | 지역>대구 | 지역>경남',\n",
       "  '2021/08/11',\n",
       "  '김경은 기자 jjj@khan.kr'],\n",
       " ['오늘 구름 많고 제주엔 비…낮 최고기온 33도',\n",
       "  '경향신문',\n",
       "  '사회>날씨 | 지역>제주 | 지역>경북',\n",
       "  '2021/08/11',\n",
       "  '문광호 기자 moonlit@kyunghyang.com'],\n",
       " ['[속보]국내 코로나19 신규 확진자, 발병 이후 처음 2200명 넘었다',\n",
       "  '경향신문',\n",
       "  '지역>강원 | 지역>충북 | 지역>충남',\n",
       "  '2021/08/11',\n",
       "  '노도현 기자 hyunee@kyunghyang.com'],\n",
       " ['하교후 학생들 학습 궁금증 개인적으로 해결…‘에듀 119’ 시스템 도입필요',\n",
       "  '경향신문',\n",
       "  '사회>교육_시험',\n",
       "  '2021/08/11',\n",
       "  '박용근 기자 yk21@kyunghyang.com'],\n",
       " ['코로나 4차유행으로 음식숙박업, 일용직 18만명 감소... 7월 취업자는 54만명 증가',\n",
       "  '경향신문',\n",
       "  '경제>취업_창업 | 경제>유통 | 사회>여성',\n",
       "  '2021/08/11',\n",
       "  '안광호 기자 ahn7874@kyunghyang.com'],\n",
       " ['유승민, 이재명 기본대출 공약에 “판타지 기본 소설”',\n",
       "  '경향신문',\n",
       "  '경제>금융_재테크 | 정치>국회_정당',\n",
       "  '2021/08/11',\n",
       "  '박은경 기자 yama@kyunghyang.com'],\n",
       " ['이재명, 윤석열에 “기득권층 인식 우려스러워”',\n",
       "  '경향신문',\n",
       "  '정치>국회_정당 | 정치>선거',\n",
       "  '2021/08/11',\n",
       "  '박은경 기자 yama@kyunghyang.com'],\n",
       " ['에이럭스, 시니어 등 소외계층 대상 디지털교육 제공...ESG 에듀테크 사업자로 자리매김',\n",
       "  '경향신문',\n",
       "  '사회>교육_시험 | IT_과학>인터넷_SNS | IT_과학>콘텐츠',\n",
       "  '2021/08/11',\n",
       "  '김경은 기자 jjj@khan.kr'],\n",
       " ['유니세프 “북한에 백신 수송 위한 콜드체인 자문 제공 중”',\n",
       "  '경향신문',\n",
       "  '정치>북한',\n",
       "  '2021/08/11',\n",
       "  '박은경 기자 yama@kyunghyang.com'],\n",
       " ['카뱅·크래프톤 등 올해 상장주 시총 100조 돌파',\n",
       "  '경향신문',\n",
       "  '경제>증권_증시 | 경제>유통',\n",
       "  '2021/08/11',\n",
       "  '김은성 기자 kes@kyunghyang.com'],\n",
       " [\"지하철 무인 '스마트 도서관', 공원 속으로 들어왔다\",\n",
       "  '경향신문',\n",
       "  'IT_과학>모바일',\n",
       "  '2021/08/11',\n",
       "  '류인하 기자 acha@kyunghyang.com'],\n",
       " ['[경향포토] 명불허전 보수다 강연하는 최재형 대선 후보',\n",
       "  '경향신문',\n",
       "  '정치>선거 | 정치>국회_정당',\n",
       "  '2021/08/11',\n",
       "  '권호욱 기자 biggun@kyunghyang.com'],\n",
       " ['호텔·콘도예약 \\'뚝\\'…여행업계 \"경영안정자금 지원해야\"',\n",
       "  '경향신문',\n",
       "  '경제>유통 | 경제>취업_창업',\n",
       "  '2021/08/11',\n",
       "  '김은성 기자 kes@kyunghyang.com'],\n",
       " ['[경향포토] 인사하는 최재형 전 감사원장',\n",
       "  '경향신문',\n",
       "  '정치>국회_정당 | 정치>선거 | 정치>북한',\n",
       "  '2021/08/11',\n",
       "  '권호욱 기자 biggun@kyunghyang.com'],\n",
       " ['[경향포토] 이야기 나누는 최재형 허은아',\n",
       "  '경향신문',\n",
       "  '정치>국회_정당 | 정치>선거',\n",
       "  '2021/08/11',\n",
       "  '권호욱 기자 biggun@kyunghyang.com'],\n",
       " ['\"태릉CC·과천 대체부지 곧 발표…3기 신도시 계획 연내 확정\"',\n",
       "  '경향신문',\n",
       "  '경제>부동산 | 지역>전북 | 지역>충남',\n",
       "  '2021/08/11',\n",
       "  '김은성 기자 kes@kyunghyang.com'],\n",
       " ['\"할머니·할아버지가 만든 피자 먹어볼래요?\" 구로시니어클럽, 어르신 피자집 문열어',\n",
       "  '경향신문',\n",
       "  '경제>취업_창업',\n",
       "  '2021/08/11',\n",
       "  '류인하 기자 acha@kyunghyang.com'],\n",
       " ['[속보]홍남기 \"남양주 군부대 이전부지에 주택 3200호 공급\"',\n",
       "  '경향신문',\n",
       "  '지역>강원 | 지역>경기 | 지역>부산',\n",
       "  '2021/08/11',\n",
       "  '김은성 기자 kes@kyunghyang.com'],\n",
       " ['북한 김영철 “남조선 엄청난 안보위기 시시각각 느끼게 해줄 것”',\n",
       "  '경향신문',\n",
       "  '정치>북한 | 정치>청와대 | 정치>외교',\n",
       "  '2021/08/11',\n",
       "  '박은경 기자 yama@kyunghyang.com'],\n",
       " [\"법원, '불법집회 혐의' 양경수 민주노총 위원장 오늘 구속 여부 심사\",\n",
       "  '경향신문',\n",
       "  '사회>사건_사고 | 사회>노동_복지 | 지역>광주',\n",
       "  '2021/08/11',\n",
       "  '문광호 기자 moonlit@kyunghyang.com'],\n",
       " ['스벅·이케아·노브랜드에선 국민지원금 못써요',\n",
       "  '경향신문',\n",
       "  '경제>서비스_쇼핑 | 경제>유통',\n",
       "  '2021/08/11',\n",
       "  '김은성 기자 kes@kyunghyang.com'],\n",
       " ['미 국무부 \"한미연합훈련은 방어적…북한 적대 의도 없어\"',\n",
       "  '경향신문',\n",
       "  '정치>북한 | 정치>외교 | 정치>청와대',\n",
       "  '2021/08/11',\n",
       "  '워싱턴|김재중 특파원 hermes@kyunghyang.com'],\n",
       " [\"[단독]공수처, 불법후원금 의혹 국민의힘 의원 내사···첫 '국회의원 사건' 되나\",\n",
       "  '경향신문',\n",
       "  '사회>사건_사고 | 정치>국회_정당 | 정치>선거',\n",
       "  '2021/08/11',\n",
       "  '손구민 기자 kmsohn@kyunghyang.com'],\n",
       " ['특검 끝났지만…불신과 의혹의 악순환 끊지 못하는 세월호 수사',\n",
       "  '경향신문',\n",
       "  '사회>사건_사고 | 사회>미디어',\n",
       "  '2021/08/11',\n",
       "  '이효상 기자 hslee@kyunghyang.com'],\n",
       " ['[중대재해처벌법 이의 있습니다]①산재 많은 ‘물량팀’ 없애겠다며 더 열악한 ‘단기계약업체’ 늘려',\n",
       "  '경향신문',\n",
       "  '사회>노동_복지 | 경제>경제일반',\n",
       "  '2021/08/11',\n",
       "  '고희진 기자 gojin@kyunghyang.com'],\n",
       " ['[릴레이 기고 - 중대재해처벌법 시행령 무엇이 문제인가]①경영자의 책임을 면책하지 마라',\n",
       "  '경향신문',\n",
       "  '사회>노동_복지 | 경제>취업_창업 | 사회>교육_시험',\n",
       "  '2021/08/11',\n",
       "  '권영국 변호사·전 김용균 특조위 간사'],\n",
       " ['성추행 쿠오모 뉴욕 주지사 사퇴…혐의는 부인',\n",
       "  '경향신문',\n",
       "  '국제>미국_북미 | 정치>국회_정당 | 사회>사건_사고',\n",
       "  '2021/08/11',\n",
       "  '워싱턴|김재중 특파원 hermes@kyunghyang.com'],\n",
       " ['[기고]20대 대선, 증세를 말하다',\n",
       "  '경향신문',\n",
       "  '사회>여성 | 정치>국회_정당 | 정치>선거',\n",
       "  '2021/08/11',\n",
       "  '송재도 | 전남대 교수'],\n",
       " ['[특파원 칼럼]‘리틀 트럼프’의 코로나 도박',\n",
       "  '경향신문',\n",
       "  '국제>미국_북미 | 국제>중동_아프리카 | 국제>아시아',\n",
       "  '2021/08/11',\n",
       "  '워싱턴 | 김재중 특파원 김재중'],\n",
       " ['[경제직필]형평과 효율', '경향신문', '미분류', '2021/08/11', '송의영 서강대 경제학과 교수'],\n",
       " ['[이진우의 거리두기]용서를 모르는 과민사회',\n",
       "  '경향신문',\n",
       "  '문화>출판 | 문화>미술_건축',\n",
       "  '2021/08/11',\n",
       "  '이진우 포스텍 인문사회학부 교수'],\n",
       " ['[공감]며느리 같아서 좋냐고요?',\n",
       "  '경향신문',\n",
       "  '사회>여성 | 문화>출판 | 문화>방송_연예',\n",
       "  '2021/08/11',\n",
       "  '추혜인 살림의료복지사회적협동조합 살림의원 가정의학과 전문의'],\n",
       " ['코로나19 감염·방역 위반 술판·음주운전·노메달 올림픽…악재 들끓던 어제여 안녕, 이제부턴 ‘찐야구’를 보여줘',\n",
       "  '경향신문',\n",
       "  '스포츠>야구 | 스포츠>축구 | 스포츠>농구_배구',\n",
       "  '2021/08/10',\n",
       "  '최희진·하경헌 기자 daisy@kyunghyang.com'],\n",
       " ['“접종 연기로 추석연휴에 백신 맞으라니”…모더나 혼란',\n",
       "  '경향신문',\n",
       "  '사회>의료_건강 | 사회>교육_시험',\n",
       "  '2021/08/10',\n",
       "  '이하늬·노도현 기자  hanee@kyunghyang.com'],\n",
       " ['미 연구진 “델타변이에 화이자보다 모더나가 효과적”',\n",
       "  '경향신문',\n",
       "  'IT_과학>인터넷_SNS',\n",
       "  '2021/08/10',\n",
       "  '이윤정 기자 yyj@kyunghyang.com'],\n",
       " ['‘도쿄 학습효과’…방역 수위 올리는 베이징',\n",
       "  '경향신문',\n",
       "  '국제>중국 | 국제>일본 | 국제>중남미',\n",
       "  '2021/08/10',\n",
       "  '최희진 기자 daisy@kyunghyang.com'],\n",
       " ['[논설위원의 단도직입]“올림픽 최고 스타는 바일스…용기 있는 기권으로 선수인권 향상”',\n",
       "  '경향신문',\n",
       "  '스포츠>올림픽_아시안게임 | 스포츠>축구 | 스포츠>농구_배구',\n",
       "  '2021/08/10',\n",
       "  '윤호우 논설위원 hou@kyunghyang.com'],\n",
       " ['메달의 환호 뒤 ‘4위’ 향한 갈채[Tokyo 2020]',\n",
       "  '경향신문',\n",
       "  '스포츠>올림픽_아시안게임 | 스포츠>월드컵 | 스포츠>골프',\n",
       "  '2021/08/10',\n",
       "  '하경헌 기자  azimae@kyunghyang.com'],\n",
       " ['[이용균의 베이스볼 라운지]요코하마의 밤, 야구의 햄릿',\n",
       "  '경향신문',\n",
       "  '스포츠>야구 | 스포츠>올림픽_아시안게임 | 스포츠>월드컵',\n",
       "  '2021/08/10',\n",
       "  '이용균 기자 noda@kyunghyang.com'],\n",
       " ['풀리지 않은 ‘숙제들’ 안고…멈췄던 야구, 다시 달린다',\n",
       "  '경향신문',\n",
       "  '스포츠>야구 | 스포츠>농구_배구 | 스포츠>월드컵',\n",
       "  '2021/08/10',\n",
       "  '김하진 기자 hjkim@kyunghyang.com'],\n",
       " ['격투종목은 올림픽에 살아남을 수 있을까',\n",
       "  '경향신문',\n",
       "  '스포츠>올림픽_아시안게임 | 스포츠>축구 | 스포츠>월드컵',\n",
       "  '2021/08/10',\n",
       "  '도쿄 | 이용균 기자 noda@kyunghyang.com'],\n",
       " ['‘토트넘의 빛나는 별’ 손흥민 “앞으로 5년, 더 기대하세요”',\n",
       "  '경향신문',\n",
       "  '스포츠>축구 | 스포츠>농구_배구 | 스포츠>월드컵',\n",
       "  '2021/08/10',\n",
       "  '황민국 기자 stylelomo@kyunghyang.com'],\n",
       " ['포상금 어때? 대통령 격려에 답해봐라…그런 질문 참 식빵스럽소',\n",
       "  '경향신문',\n",
       "  '스포츠>농구_배구 | 스포츠>올림픽_아시안게임 | 스포츠>축구',\n",
       "  '2021/08/10',\n",
       "  '이정호 기자 alpha@kyunghyang.com'],\n",
       " ['서울대 청소노동자 비극 알리고 명예회복 노력…동료·학생 등 4명에 서울시의회 의장 표창',\n",
       "  '경향신문',\n",
       "  '사회>교육_시험 | 사회>노동_복지',\n",
       "  '2021/08/10',\n",
       "  '이성희 기자 mong2@kyunghyang.com'],\n",
       " ['행안부 ‘우리 동네 영웅’ 9명 선정',\n",
       "  '경향신문',\n",
       "  '지역>충남 | 지역>대전 | 지역>충북',\n",
       "  '2021/08/10',\n",
       "  '류인하 기자 acha@kyunghyang.com'],\n",
       " ['“거꾸로 보고 거꾸로 생각해야 창조 가능해 …학생들에 공부 줄이고 세상 경험하라 권유”',\n",
       "  '경향신문',\n",
       "  '문화>출판',\n",
       "  '2021/08/10',\n",
       "  '글·사진 윤희일 선임기자 yhi@kyunghyang.com'],\n",
       " ['최초 ‘5나노’ 웨어러블 프로세서…삼성전자 ‘엑시노스 W920’ 출시',\n",
       "  '경향신문',\n",
       "  'IT_과학>모바일 | 경제>유통 | 경제>자동차',\n",
       "  '2021/08/10',\n",
       "  '조미덥 기자 zorro@kyunghyang.com'],\n",
       " ['신동엽문학상에 이정훈·박상영·장은영',\n",
       "  '경향신문',\n",
       "  '문화>출판 | 문화>전시_공연 | 문화>미술_건축',\n",
       "  '2021/08/10',\n",
       "  '선명수 기자 sms@kyunghyang.com'],\n",
       " ['배민·스벅 이어 ‘BTS 카드’도 나온다고?',\n",
       "  '경향신문',\n",
       "  '경제>유통 | 경제>금융_재테크 | IT_과학>모바일',\n",
       "  '2021/08/10',\n",
       "  '김은성 기자 kes@kyunghyang.com'],\n",
       " ['세수 추계 제대로 한 건가…상반기 더 걷힌 세금 50조 육박',\n",
       "  '경향신문',\n",
       "  '경제>증권_증시 | 경제>국제경제 | 경제>부동산',\n",
       "  '2021/08/10',\n",
       "  '박상영 기자 sypark@kyunghyang.com']]"
      ]
     },
     "execution_count": 214,
     "metadata": {},
     "output_type": "execute_result"
    }
   ],
   "source": [
    "contents"
   ]
  },
  {
   "cell_type": "code",
   "execution_count": 215,
   "id": "a0a6d7ae",
   "metadata": {},
   "outputs": [
    {
     "data": {
      "text/plain": [
       "['중국, 캐나다인 사업가에 징역 11년 선고…연이은 강공 행보',\n",
       " '경향신문',\n",
       " '국제>중국 | 국제>미국_북미 | 국제>유럽_EU',\n",
       " '2021/08/11',\n",
       " '박은하 기자 eunha999@kyunghyang.com']"
      ]
     },
     "execution_count": 215,
     "metadata": {},
     "output_type": "execute_result"
    }
   ],
   "source": [
    "contents[1]"
   ]
  },
  {
   "cell_type": "code",
   "execution_count": null,
   "id": "4e1df264",
   "metadata": {},
   "outputs": [],
   "source": []
  },
  {
   "cell_type": "code",
   "execution_count": null,
   "id": "f729c5d2",
   "metadata": {},
   "outputs": [],
   "source": [
    "driver.switchTo().frame(\"div.news-view-body > div.img\")"
   ]
  },
  {
   "cell_type": "code",
   "execution_count": 221,
   "id": "cdda51df",
   "metadata": {},
   "outputs": [],
   "source": [
    "browser.find_element_by_xpath(\"//span[@class='title-elipsis']\").click()"
   ]
  },
  {
   "cell_type": "code",
   "execution_count": 230,
   "id": "2d47e350",
   "metadata": {},
   "outputs": [
    {
     "ename": "AttributeError",
     "evalue": "'WebDriver' object has no attribute 'switchTo'",
     "output_type": "error",
     "traceback": [
      "\u001b[1;31m---------------------------------------------------------------------------\u001b[0m",
      "\u001b[1;31mAttributeError\u001b[0m                            Traceback (most recent call last)",
      "\u001b[1;32m<ipython-input-230-ea87e767de14>\u001b[0m in \u001b[0;36m<module>\u001b[1;34m\u001b[0m\n\u001b[1;32m----> 1\u001b[1;33m \u001b[0mbrowser\u001b[0m\u001b[1;33m.\u001b[0m\u001b[0mswitchTo\u001b[0m\u001b[1;33m(\u001b[0m\u001b[1;33m)\u001b[0m\u001b[1;33m.\u001b[0m\u001b[0mframe\u001b[0m\u001b[1;33m[\u001b[0m\u001b[1;36m1\u001b[0m\u001b[1;33m]\u001b[0m\u001b[1;33m\u001b[0m\u001b[0m\n\u001b[0m",
      "\u001b[1;31mAttributeError\u001b[0m: 'WebDriver' object has no attribute 'switchTo'"
     ]
    }
   ],
   "source": [
    "browser.switchTo().frame[1]"
   ]
  },
  {
   "cell_type": "code",
   "execution_count": null,
   "id": "2395a620",
   "metadata": {},
   "outputs": [],
   "source": [
    "browser.find_element_by_xpath(\"//input[@id='search-begin-date']\").clear()"
   ]
  },
  {
   "cell_type": "code",
   "execution_count": null,
   "id": "69473704",
   "metadata": {},
   "outputs": [],
   "source": [
    "div.news-view-body > div.img"
   ]
  },
  {
   "cell_type": "code",
   "execution_count": null,
   "id": "5ffa52b8",
   "metadata": {},
   "outputs": [],
   "source": [
    "title = whole.select('span.title-elipsis')"
   ]
  },
  {
   "cell_type": "code",
   "execution_count": 237,
   "id": "ed2fc4cc",
   "metadata": {},
   "outputs": [
    {
     "data": {
      "text/plain": [
       "[<selenium.webdriver.remote.webelement.WebElement (session=\"f53eee8d6c7a3e4babb4df3e0f368b27\", element=\"a5ede781-cbe3-48ed-81d9-7c0a4cea2b35\")>,\n",
       " <selenium.webdriver.remote.webelement.WebElement (session=\"f53eee8d6c7a3e4babb4df3e0f368b27\", element=\"71e6b45b-f834-4893-829e-7d7a6bd1a219\")>,\n",
       " <selenium.webdriver.remote.webelement.WebElement (session=\"f53eee8d6c7a3e4babb4df3e0f368b27\", element=\"ca3b4fa6-c977-4df7-972b-3b2196c97c3b\")>,\n",
       " <selenium.webdriver.remote.webelement.WebElement (session=\"f53eee8d6c7a3e4babb4df3e0f368b27\", element=\"ed1360b1-7358-406d-a3c2-65c922587008\")>,\n",
       " <selenium.webdriver.remote.webelement.WebElement (session=\"f53eee8d6c7a3e4babb4df3e0f368b27\", element=\"d1b94137-e559-4001-9902-b26cca23ea8c\")>,\n",
       " <selenium.webdriver.remote.webelement.WebElement (session=\"f53eee8d6c7a3e4babb4df3e0f368b27\", element=\"882a8f9d-1548-4358-b5d5-eb478c5b5738\")>,\n",
       " <selenium.webdriver.remote.webelement.WebElement (session=\"f53eee8d6c7a3e4babb4df3e0f368b27\", element=\"002e3fb7-d79b-4962-a736-fa4e44a7459a\")>,\n",
       " <selenium.webdriver.remote.webelement.WebElement (session=\"f53eee8d6c7a3e4babb4df3e0f368b27\", element=\"3a6a2eb3-563f-4a6c-b8e6-1713f5783350\")>,\n",
       " <selenium.webdriver.remote.webelement.WebElement (session=\"f53eee8d6c7a3e4babb4df3e0f368b27\", element=\"95a5770e-470e-44cc-b94a-68e05eed24fb\")>,\n",
       " <selenium.webdriver.remote.webelement.WebElement (session=\"f53eee8d6c7a3e4babb4df3e0f368b27\", element=\"6eca11e5-8c08-47ab-8a66-c847433e041d\")>,\n",
       " <selenium.webdriver.remote.webelement.WebElement (session=\"f53eee8d6c7a3e4babb4df3e0f368b27\", element=\"03f9ed93-416b-4894-813e-81a557f7d78c\")>,\n",
       " <selenium.webdriver.remote.webelement.WebElement (session=\"f53eee8d6c7a3e4babb4df3e0f368b27\", element=\"5c0dbd97-3184-4e37-88a4-8a0b99fca01d\")>,\n",
       " <selenium.webdriver.remote.webelement.WebElement (session=\"f53eee8d6c7a3e4babb4df3e0f368b27\", element=\"3e82b133-ad23-44e8-8e6b-5aeb6c39a3c0\")>,\n",
       " <selenium.webdriver.remote.webelement.WebElement (session=\"f53eee8d6c7a3e4babb4df3e0f368b27\", element=\"453b09b0-b1b4-4e4a-94a9-baafd23a49c9\")>,\n",
       " <selenium.webdriver.remote.webelement.WebElement (session=\"f53eee8d6c7a3e4babb4df3e0f368b27\", element=\"2d868be6-ff82-4690-a408-4c83aa324d20\")>,\n",
       " <selenium.webdriver.remote.webelement.WebElement (session=\"f53eee8d6c7a3e4babb4df3e0f368b27\", element=\"6fc3c497-1f16-458a-a8cb-d4f745aa0e73\")>,\n",
       " <selenium.webdriver.remote.webelement.WebElement (session=\"f53eee8d6c7a3e4babb4df3e0f368b27\", element=\"8e718f30-d9db-4e0a-ae63-252f7e167432\")>,\n",
       " <selenium.webdriver.remote.webelement.WebElement (session=\"f53eee8d6c7a3e4babb4df3e0f368b27\", element=\"71109c1c-d299-41b1-a84e-8e0a985556cb\")>,\n",
       " <selenium.webdriver.remote.webelement.WebElement (session=\"f53eee8d6c7a3e4babb4df3e0f368b27\", element=\"9c936b23-ce12-402c-8685-eb5c36d77207\")>,\n",
       " <selenium.webdriver.remote.webelement.WebElement (session=\"f53eee8d6c7a3e4babb4df3e0f368b27\", element=\"1da700f2-64fa-483a-aa94-8b00afbc6606\")>,\n",
       " <selenium.webdriver.remote.webelement.WebElement (session=\"f53eee8d6c7a3e4babb4df3e0f368b27\", element=\"977b0755-c82b-4a7a-807d-b6e141593227\")>,\n",
       " <selenium.webdriver.remote.webelement.WebElement (session=\"f53eee8d6c7a3e4babb4df3e0f368b27\", element=\"037f0d68-0259-4f84-bd8e-9f249ad3c120\")>,\n",
       " <selenium.webdriver.remote.webelement.WebElement (session=\"f53eee8d6c7a3e4babb4df3e0f368b27\", element=\"e81f3415-f2f1-49a0-8af0-46f01f18953f\")>,\n",
       " <selenium.webdriver.remote.webelement.WebElement (session=\"f53eee8d6c7a3e4babb4df3e0f368b27\", element=\"96eaccd5-bf72-4c73-9edb-eca1c63b5a5d\")>,\n",
       " <selenium.webdriver.remote.webelement.WebElement (session=\"f53eee8d6c7a3e4babb4df3e0f368b27\", element=\"1d6f2033-66e4-4146-a1fa-4db50f087b5a\")>,\n",
       " <selenium.webdriver.remote.webelement.WebElement (session=\"f53eee8d6c7a3e4babb4df3e0f368b27\", element=\"32de4524-308d-4867-a8e8-17cc24ae4184\")>,\n",
       " <selenium.webdriver.remote.webelement.WebElement (session=\"f53eee8d6c7a3e4babb4df3e0f368b27\", element=\"84353b25-3a11-431c-baa0-07801176b8df\")>,\n",
       " <selenium.webdriver.remote.webelement.WebElement (session=\"f53eee8d6c7a3e4babb4df3e0f368b27\", element=\"7a250f9c-1d34-4122-ab8d-8dedd9a6d264\")>,\n",
       " <selenium.webdriver.remote.webelement.WebElement (session=\"f53eee8d6c7a3e4babb4df3e0f368b27\", element=\"9bd837cd-a35c-4a16-b859-982e8517150b\")>,\n",
       " <selenium.webdriver.remote.webelement.WebElement (session=\"f53eee8d6c7a3e4babb4df3e0f368b27\", element=\"b8b532f5-7ba1-4fd0-bd5e-d342d38c342d\")>,\n",
       " <selenium.webdriver.remote.webelement.WebElement (session=\"f53eee8d6c7a3e4babb4df3e0f368b27\", element=\"d7d71d98-02af-479e-a80b-7fa80bcdcd9f\")>,\n",
       " <selenium.webdriver.remote.webelement.WebElement (session=\"f53eee8d6c7a3e4babb4df3e0f368b27\", element=\"021eadcc-7d89-42bd-be0c-a659b1eb7fbb\")>,\n",
       " <selenium.webdriver.remote.webelement.WebElement (session=\"f53eee8d6c7a3e4babb4df3e0f368b27\", element=\"cb02facc-6855-486b-9d11-0431a388dbaa\")>,\n",
       " <selenium.webdriver.remote.webelement.WebElement (session=\"f53eee8d6c7a3e4babb4df3e0f368b27\", element=\"e2b19543-8f02-4442-b622-47c5fdc1ba10\")>,\n",
       " <selenium.webdriver.remote.webelement.WebElement (session=\"f53eee8d6c7a3e4babb4df3e0f368b27\", element=\"d30ecb93-ef6c-456f-84c0-575447ac78be\")>,\n",
       " <selenium.webdriver.remote.webelement.WebElement (session=\"f53eee8d6c7a3e4babb4df3e0f368b27\", element=\"f837f53f-f2c6-4c73-8e03-3196d267b0a2\")>,\n",
       " <selenium.webdriver.remote.webelement.WebElement (session=\"f53eee8d6c7a3e4babb4df3e0f368b27\", element=\"d7f74961-3d3f-4762-9991-da7fe35f2a3d\")>,\n",
       " <selenium.webdriver.remote.webelement.WebElement (session=\"f53eee8d6c7a3e4babb4df3e0f368b27\", element=\"e0f43b89-1188-4fc2-8a2c-6be1c73fea5d\")>,\n",
       " <selenium.webdriver.remote.webelement.WebElement (session=\"f53eee8d6c7a3e4babb4df3e0f368b27\", element=\"ad5d652e-5649-4edb-857b-a8d0739fecd5\")>,\n",
       " <selenium.webdriver.remote.webelement.WebElement (session=\"f53eee8d6c7a3e4babb4df3e0f368b27\", element=\"f24930b4-7093-4515-a0f2-f19c8498ddff\")>,\n",
       " <selenium.webdriver.remote.webelement.WebElement (session=\"f53eee8d6c7a3e4babb4df3e0f368b27\", element=\"cb9d5b83-204b-4ddb-aa67-d51e45e34ed3\")>,\n",
       " <selenium.webdriver.remote.webelement.WebElement (session=\"f53eee8d6c7a3e4babb4df3e0f368b27\", element=\"969a98a6-cf65-4e7c-a936-db4c34916b85\")>,\n",
       " <selenium.webdriver.remote.webelement.WebElement (session=\"f53eee8d6c7a3e4babb4df3e0f368b27\", element=\"1f19aad0-5827-4af4-9232-af6dc47022bd\")>,\n",
       " <selenium.webdriver.remote.webelement.WebElement (session=\"f53eee8d6c7a3e4babb4df3e0f368b27\", element=\"72eedd9a-2d05-4607-9783-bc17ca5bdd6e\")>,\n",
       " <selenium.webdriver.remote.webelement.WebElement (session=\"f53eee8d6c7a3e4babb4df3e0f368b27\", element=\"b80ef838-eb1a-48f1-b40e-d4793ba1a576\")>,\n",
       " <selenium.webdriver.remote.webelement.WebElement (session=\"f53eee8d6c7a3e4babb4df3e0f368b27\", element=\"99f97714-c6a2-42b2-905f-1aacc88370b9\")>,\n",
       " <selenium.webdriver.remote.webelement.WebElement (session=\"f53eee8d6c7a3e4babb4df3e0f368b27\", element=\"f672ea73-3216-4d33-9edd-54b9ac3dd118\")>,\n",
       " <selenium.webdriver.remote.webelement.WebElement (session=\"f53eee8d6c7a3e4babb4df3e0f368b27\", element=\"a7e37a5f-b69f-4354-9655-33174b94b2b2\")>,\n",
       " <selenium.webdriver.remote.webelement.WebElement (session=\"f53eee8d6c7a3e4babb4df3e0f368b27\", element=\"48c6ba36-6082-40e1-aabf-bfaf572d39e7\")>,\n",
       " <selenium.webdriver.remote.webelement.WebElement (session=\"f53eee8d6c7a3e4babb4df3e0f368b27\", element=\"c88a258b-d23d-473d-a27e-0a826ac0a776\")>,\n",
       " <selenium.webdriver.remote.webelement.WebElement (session=\"f53eee8d6c7a3e4babb4df3e0f368b27\", element=\"5e18887f-94dc-42b0-bcc9-ea0ba2358242\")>,\n",
       " <selenium.webdriver.remote.webelement.WebElement (session=\"f53eee8d6c7a3e4babb4df3e0f368b27\", element=\"b83d2b40-a3aa-45be-a7c8-ee79533c46ff\")>,\n",
       " <selenium.webdriver.remote.webelement.WebElement (session=\"f53eee8d6c7a3e4babb4df3e0f368b27\", element=\"9519914e-f106-46cb-bdb9-4b83f9161ad7\")>,\n",
       " <selenium.webdriver.remote.webelement.WebElement (session=\"f53eee8d6c7a3e4babb4df3e0f368b27\", element=\"30d80920-9197-4b97-9495-f9076ab3c26d\")>,\n",
       " <selenium.webdriver.remote.webelement.WebElement (session=\"f53eee8d6c7a3e4babb4df3e0f368b27\", element=\"9a7e1730-1334-46ea-8536-235c6abbccf9\")>,\n",
       " <selenium.webdriver.remote.webelement.WebElement (session=\"f53eee8d6c7a3e4babb4df3e0f368b27\", element=\"251564e3-d4a0-454c-a3c6-5a2cd47871b4\")>,\n",
       " <selenium.webdriver.remote.webelement.WebElement (session=\"f53eee8d6c7a3e4babb4df3e0f368b27\", element=\"886fe0f8-e2a3-460b-a2b9-c8248ffd7235\")>,\n",
       " <selenium.webdriver.remote.webelement.WebElement (session=\"f53eee8d6c7a3e4babb4df3e0f368b27\", element=\"35c193c0-5606-47c0-a0ca-90a779897bf8\")>,\n",
       " <selenium.webdriver.remote.webelement.WebElement (session=\"f53eee8d6c7a3e4babb4df3e0f368b27\", element=\"e175911f-940c-44d5-80b9-b505be31c75e\")>,\n",
       " <selenium.webdriver.remote.webelement.WebElement (session=\"f53eee8d6c7a3e4babb4df3e0f368b27\", element=\"968572b3-52ee-4c97-9cee-088f4fac9cd2\")>,\n",
       " <selenium.webdriver.remote.webelement.WebElement (session=\"f53eee8d6c7a3e4babb4df3e0f368b27\", element=\"1fbd3896-95b1-4b0a-8095-461ee6eadf4b\")>,\n",
       " <selenium.webdriver.remote.webelement.WebElement (session=\"f53eee8d6c7a3e4babb4df3e0f368b27\", element=\"17dd8bda-9aa9-4787-9091-f9625e9e7515\")>,\n",
       " <selenium.webdriver.remote.webelement.WebElement (session=\"f53eee8d6c7a3e4babb4df3e0f368b27\", element=\"df23b7a0-7bbd-4e7b-8576-345c0ffc6923\")>,\n",
       " <selenium.webdriver.remote.webelement.WebElement (session=\"f53eee8d6c7a3e4babb4df3e0f368b27\", element=\"2f5418e3-0f8e-4336-8009-a651e91f8df5\")>,\n",
       " <selenium.webdriver.remote.webelement.WebElement (session=\"f53eee8d6c7a3e4babb4df3e0f368b27\", element=\"e79d0a40-7d53-4186-994d-bf8db54eacbf\")>,\n",
       " <selenium.webdriver.remote.webelement.WebElement (session=\"f53eee8d6c7a3e4babb4df3e0f368b27\", element=\"e0429560-1e54-43ee-8ee6-300d46181e6d\")>,\n",
       " <selenium.webdriver.remote.webelement.WebElement (session=\"f53eee8d6c7a3e4babb4df3e0f368b27\", element=\"dd7359bd-99c2-449a-896d-642afc01e0d8\")>,\n",
       " <selenium.webdriver.remote.webelement.WebElement (session=\"f53eee8d6c7a3e4babb4df3e0f368b27\", element=\"7049e9ba-d5d8-4080-ad52-496bc19ad6bd\")>,\n",
       " <selenium.webdriver.remote.webelement.WebElement (session=\"f53eee8d6c7a3e4babb4df3e0f368b27\", element=\"77c59f56-a063-4bfe-b90d-0ad9808ef746\")>,\n",
       " <selenium.webdriver.remote.webelement.WebElement (session=\"f53eee8d6c7a3e4babb4df3e0f368b27\", element=\"78383220-88ef-4bf9-a7e0-04b3db466f2c\")>,\n",
       " <selenium.webdriver.remote.webelement.WebElement (session=\"f53eee8d6c7a3e4babb4df3e0f368b27\", element=\"51a229eb-ee87-497f-9ee7-050cf5997e82\")>,\n",
       " <selenium.webdriver.remote.webelement.WebElement (session=\"f53eee8d6c7a3e4babb4df3e0f368b27\", element=\"86e82323-c5bb-4f88-abc0-1e7ef98388b5\")>,\n",
       " <selenium.webdriver.remote.webelement.WebElement (session=\"f53eee8d6c7a3e4babb4df3e0f368b27\", element=\"8fef946f-4f44-42f1-b9d5-044d0cadd403\")>,\n",
       " <selenium.webdriver.remote.webelement.WebElement (session=\"f53eee8d6c7a3e4babb4df3e0f368b27\", element=\"3a6cdff1-0808-4ce3-95ec-2a2a2877f720\")>,\n",
       " <selenium.webdriver.remote.webelement.WebElement (session=\"f53eee8d6c7a3e4babb4df3e0f368b27\", element=\"cd5e5591-50fd-4f2a-99f3-d7f70fc15983\")>,\n",
       " <selenium.webdriver.remote.webelement.WebElement (session=\"f53eee8d6c7a3e4babb4df3e0f368b27\", element=\"17319898-8786-4274-bc40-6e58766a72ef\")>,\n",
       " <selenium.webdriver.remote.webelement.WebElement (session=\"f53eee8d6c7a3e4babb4df3e0f368b27\", element=\"54df82bc-2058-45b6-8137-e3d23b16791b\")>,\n",
       " <selenium.webdriver.remote.webelement.WebElement (session=\"f53eee8d6c7a3e4babb4df3e0f368b27\", element=\"ef4dcb03-ff4f-4256-a72b-13f1aed97e0a\")>,\n",
       " <selenium.webdriver.remote.webelement.WebElement (session=\"f53eee8d6c7a3e4babb4df3e0f368b27\", element=\"c2c3642d-daf2-4914-91fb-cb44e4cad392\")>,\n",
       " <selenium.webdriver.remote.webelement.WebElement (session=\"f53eee8d6c7a3e4babb4df3e0f368b27\", element=\"376cbaf1-d180-4f45-a496-75a87008ae47\")>,\n",
       " <selenium.webdriver.remote.webelement.WebElement (session=\"f53eee8d6c7a3e4babb4df3e0f368b27\", element=\"80a10f31-00f3-46b5-ac83-a29edb52ed87\")>,\n",
       " <selenium.webdriver.remote.webelement.WebElement (session=\"f53eee8d6c7a3e4babb4df3e0f368b27\", element=\"bf12c52d-02bb-46ad-bf1d-3983467f4061\")>,\n",
       " <selenium.webdriver.remote.webelement.WebElement (session=\"f53eee8d6c7a3e4babb4df3e0f368b27\", element=\"fea4b31b-99d5-441f-b78d-c75c906a58ac\")>,\n",
       " <selenium.webdriver.remote.webelement.WebElement (session=\"f53eee8d6c7a3e4babb4df3e0f368b27\", element=\"188af504-b8ab-4b6a-b89f-62c65b4522d2\")>,\n",
       " <selenium.webdriver.remote.webelement.WebElement (session=\"f53eee8d6c7a3e4babb4df3e0f368b27\", element=\"66188771-53d4-4e0a-b9dd-55ead0ae6140\")>,\n",
       " <selenium.webdriver.remote.webelement.WebElement (session=\"f53eee8d6c7a3e4babb4df3e0f368b27\", element=\"f05663ba-f5ac-4277-bc4a-871463b56217\")>,\n",
       " <selenium.webdriver.remote.webelement.WebElement (session=\"f53eee8d6c7a3e4babb4df3e0f368b27\", element=\"00eb6126-7a7a-4d90-bf20-ee855121263e\")>,\n",
       " <selenium.webdriver.remote.webelement.WebElement (session=\"f53eee8d6c7a3e4babb4df3e0f368b27\", element=\"26894368-f845-4b56-ac3e-fa06c91c24d9\")>,\n",
       " <selenium.webdriver.remote.webelement.WebElement (session=\"f53eee8d6c7a3e4babb4df3e0f368b27\", element=\"3fa69438-b5cb-4aa0-ae8a-32453a00a184\")>,\n",
       " <selenium.webdriver.remote.webelement.WebElement (session=\"f53eee8d6c7a3e4babb4df3e0f368b27\", element=\"ca7d0c17-222f-4b47-9fcb-32e076c89073\")>,\n",
       " <selenium.webdriver.remote.webelement.WebElement (session=\"f53eee8d6c7a3e4babb4df3e0f368b27\", element=\"daf8ea64-6eda-4723-b19e-4876c2ffc909\")>,\n",
       " <selenium.webdriver.remote.webelement.WebElement (session=\"f53eee8d6c7a3e4babb4df3e0f368b27\", element=\"f9d78ec4-d27b-4531-8e65-53a4a3dde98d\")>,\n",
       " <selenium.webdriver.remote.webelement.WebElement (session=\"f53eee8d6c7a3e4babb4df3e0f368b27\", element=\"195ed806-ad60-4590-8e24-66bc310c638e\")>,\n",
       " <selenium.webdriver.remote.webelement.WebElement (session=\"f53eee8d6c7a3e4babb4df3e0f368b27\", element=\"070b1cbd-4c31-47ce-ae6a-81278f1f64a6\")>,\n",
       " <selenium.webdriver.remote.webelement.WebElement (session=\"f53eee8d6c7a3e4babb4df3e0f368b27\", element=\"87b8e216-3976-4320-96be-db04dca22260\")>,\n",
       " <selenium.webdriver.remote.webelement.WebElement (session=\"f53eee8d6c7a3e4babb4df3e0f368b27\", element=\"833f14ce-85ff-42e9-ab35-dca1129200d8\")>,\n",
       " <selenium.webdriver.remote.webelement.WebElement (session=\"f53eee8d6c7a3e4babb4df3e0f368b27\", element=\"8d308c6e-3d62-4c5a-97d4-9ead06fbf85d\")>,\n",
       " <selenium.webdriver.remote.webelement.WebElement (session=\"f53eee8d6c7a3e4babb4df3e0f368b27\", element=\"a1f73535-c330-4257-ac02-fb589bd8981b\")>,\n",
       " <selenium.webdriver.remote.webelement.WebElement (session=\"f53eee8d6c7a3e4babb4df3e0f368b27\", element=\"d366d96d-ecdb-4c88-964f-7407ee2cabef\")>,\n",
       " <selenium.webdriver.remote.webelement.WebElement (session=\"f53eee8d6c7a3e4babb4df3e0f368b27\", element=\"69a2e8b8-cdee-4786-aefb-f862d0f44afd\")>,\n",
       " <selenium.webdriver.remote.webelement.WebElement (session=\"f53eee8d6c7a3e4babb4df3e0f368b27\", element=\"29364f81-7db3-4b32-bf77-3b8057de4982\")>,\n",
       " <selenium.webdriver.remote.webelement.WebElement (session=\"f53eee8d6c7a3e4babb4df3e0f368b27\", element=\"1d5d1283-0f0a-4af1-87cd-2389a8c5e4d0\")>,\n",
       " <selenium.webdriver.remote.webelement.WebElement (session=\"f53eee8d6c7a3e4babb4df3e0f368b27\", element=\"0013759e-be4c-4b1f-8280-efd465db9310\")>,\n",
       " <selenium.webdriver.remote.webelement.WebElement (session=\"f53eee8d6c7a3e4babb4df3e0f368b27\", element=\"a0d85356-753e-4935-8acb-baae6b5d8422\")>,\n",
       " <selenium.webdriver.remote.webelement.WebElement (session=\"f53eee8d6c7a3e4babb4df3e0f368b27\", element=\"7df58ce4-b2a5-4672-8915-73a19b9d34a0\")>,\n",
       " <selenium.webdriver.remote.webelement.WebElement (session=\"f53eee8d6c7a3e4babb4df3e0f368b27\", element=\"00b7fb7e-fa13-4c12-8883-be7001133447\")>,\n",
       " <selenium.webdriver.remote.webelement.WebElement (session=\"f53eee8d6c7a3e4babb4df3e0f368b27\", element=\"ac3b777e-1f04-489b-ac23-d66b946e7056\")>,\n",
       " <selenium.webdriver.remote.webelement.WebElement (session=\"f53eee8d6c7a3e4babb4df3e0f368b27\", element=\"8f43cc3c-c851-45a4-bd98-aea164352c68\")>,\n",
       " <selenium.webdriver.remote.webelement.WebElement (session=\"f53eee8d6c7a3e4babb4df3e0f368b27\", element=\"2223d44b-3ccf-47d8-b8b2-31a070bd45fa\")>,\n",
       " <selenium.webdriver.remote.webelement.WebElement (session=\"f53eee8d6c7a3e4babb4df3e0f368b27\", element=\"f27e6d2f-5ea1-4930-87d3-8847c18804ff\")>,\n",
       " <selenium.webdriver.remote.webelement.WebElement (session=\"f53eee8d6c7a3e4babb4df3e0f368b27\", element=\"ee21859b-aa12-4d9a-9125-e3e3d6419384\")>,\n",
       " <selenium.webdriver.remote.webelement.WebElement (session=\"f53eee8d6c7a3e4babb4df3e0f368b27\", element=\"e197efa0-a030-4616-b6bd-89533507a6ae\")>,\n",
       " <selenium.webdriver.remote.webelement.WebElement (session=\"f53eee8d6c7a3e4babb4df3e0f368b27\", element=\"3636b32f-e387-42c8-b0ec-547e85a346f3\")>,\n",
       " <selenium.webdriver.remote.webelement.WebElement (session=\"f53eee8d6c7a3e4babb4df3e0f368b27\", element=\"93d7e81d-1621-48a9-a0e3-25d15672ac80\")>,\n",
       " <selenium.webdriver.remote.webelement.WebElement (session=\"f53eee8d6c7a3e4babb4df3e0f368b27\", element=\"ffb0807c-2c49-4a62-ade6-e5d620ab3640\")>,\n",
       " <selenium.webdriver.remote.webelement.WebElement (session=\"f53eee8d6c7a3e4babb4df3e0f368b27\", element=\"4cdd55d1-6e30-455b-99c6-596cf04ececb\")>,\n",
       " <selenium.webdriver.remote.webelement.WebElement (session=\"f53eee8d6c7a3e4babb4df3e0f368b27\", element=\"25f3198a-935e-48f8-98d9-894bc6d1d58a\")>,\n",
       " <selenium.webdriver.remote.webelement.WebElement (session=\"f53eee8d6c7a3e4babb4df3e0f368b27\", element=\"fd6b86c2-35c9-4db3-bc3f-4e4247aeeff3\")>,\n",
       " <selenium.webdriver.remote.webelement.WebElement (session=\"f53eee8d6c7a3e4babb4df3e0f368b27\", element=\"6be90864-b948-42f6-81fc-153fd60e6635\")>,\n",
       " <selenium.webdriver.remote.webelement.WebElement (session=\"f53eee8d6c7a3e4babb4df3e0f368b27\", element=\"f96b4750-a654-4c0f-8aa4-30738bf892d6\")>,\n",
       " <selenium.webdriver.remote.webelement.WebElement (session=\"f53eee8d6c7a3e4babb4df3e0f368b27\", element=\"8d489f26-5489-4a68-a56d-cc27bfee64f5\")>,\n",
       " <selenium.webdriver.remote.webelement.WebElement (session=\"f53eee8d6c7a3e4babb4df3e0f368b27\", element=\"7c6ef944-835d-4b8e-89f0-7d7fd6763d8a\")>,\n",
       " <selenium.webdriver.remote.webelement.WebElement (session=\"f53eee8d6c7a3e4babb4df3e0f368b27\", element=\"03f7cf63-2110-4446-9369-9369366afc5d\")>,\n",
       " <selenium.webdriver.remote.webelement.WebElement (session=\"f53eee8d6c7a3e4babb4df3e0f368b27\", element=\"b7344614-c03d-43e1-b61f-1fc249503450\")>,\n",
       " <selenium.webdriver.remote.webelement.WebElement (session=\"f53eee8d6c7a3e4babb4df3e0f368b27\", element=\"6accff40-2310-42db-8fe6-3215f2c3aa29\")>,\n",
       " <selenium.webdriver.remote.webelement.WebElement (session=\"f53eee8d6c7a3e4babb4df3e0f368b27\", element=\"d3110e11-954e-4ef9-8e6c-180a89bba161\")>,\n",
       " <selenium.webdriver.remote.webelement.WebElement (session=\"f53eee8d6c7a3e4babb4df3e0f368b27\", element=\"d5bffa33-7475-4201-8d14-89cca9455782\")>,\n",
       " <selenium.webdriver.remote.webelement.WebElement (session=\"f53eee8d6c7a3e4babb4df3e0f368b27\", element=\"b972c0fa-ff40-4639-af53-dd8bfb1d3ac9\")>,\n",
       " <selenium.webdriver.remote.webelement.WebElement (session=\"f53eee8d6c7a3e4babb4df3e0f368b27\", element=\"2a67f482-bc72-4749-a2a0-a7a5ca2369ad\")>,\n",
       " <selenium.webdriver.remote.webelement.WebElement (session=\"f53eee8d6c7a3e4babb4df3e0f368b27\", element=\"38bea971-d9a1-4395-bf1f-6329bc7a3495\")>,\n",
       " <selenium.webdriver.remote.webelement.WebElement (session=\"f53eee8d6c7a3e4babb4df3e0f368b27\", element=\"37784e59-f730-4ea1-b249-1d295c757a4a\")>,\n",
       " <selenium.webdriver.remote.webelement.WebElement (session=\"f53eee8d6c7a3e4babb4df3e0f368b27\", element=\"0a6a4404-6adf-4d6b-801d-5a8050fec02a\")>,\n",
       " <selenium.webdriver.remote.webelement.WebElement (session=\"f53eee8d6c7a3e4babb4df3e0f368b27\", element=\"6e9531d0-6b73-43cd-abcc-7da642436c52\")>,\n",
       " <selenium.webdriver.remote.webelement.WebElement (session=\"f53eee8d6c7a3e4babb4df3e0f368b27\", element=\"6bfbb85c-1088-45fc-9600-7922b392ca86\")>,\n",
       " <selenium.webdriver.remote.webelement.WebElement (session=\"f53eee8d6c7a3e4babb4df3e0f368b27\", element=\"13bcadf8-ea2f-4b3f-a66e-79dcaa4c93fc\")>,\n",
       " <selenium.webdriver.remote.webelement.WebElement (session=\"f53eee8d6c7a3e4babb4df3e0f368b27\", element=\"4a023bdf-2714-422e-bbaf-443c73f5b9bf\")>,\n",
       " <selenium.webdriver.remote.webelement.WebElement (session=\"f53eee8d6c7a3e4babb4df3e0f368b27\", element=\"e20ecc07-0735-4b34-85c5-6f8c2a7f2c9c\")>,\n",
       " <selenium.webdriver.remote.webelement.WebElement (session=\"f53eee8d6c7a3e4babb4df3e0f368b27\", element=\"6a3eefa6-b261-4c76-9695-623a0968c51c\")>,\n",
       " <selenium.webdriver.remote.webelement.WebElement (session=\"f53eee8d6c7a3e4babb4df3e0f368b27\", element=\"a994a620-9618-4d6e-bd86-7e5e22f19ea6\")>,\n",
       " <selenium.webdriver.remote.webelement.WebElement (session=\"f53eee8d6c7a3e4babb4df3e0f368b27\", element=\"21b46ff8-89ec-4069-9aaa-82332fa89d33\")>,\n",
       " <selenium.webdriver.remote.webelement.WebElement (session=\"f53eee8d6c7a3e4babb4df3e0f368b27\", element=\"c448715f-957d-4015-947a-35f763abe83a\")>,\n",
       " <selenium.webdriver.remote.webelement.WebElement (session=\"f53eee8d6c7a3e4babb4df3e0f368b27\", element=\"f8e557dd-d52b-49c7-b19a-c8cfd5ce94de\")>,\n",
       " <selenium.webdriver.remote.webelement.WebElement (session=\"f53eee8d6c7a3e4babb4df3e0f368b27\", element=\"f6cced0f-a0d2-4cd4-86ef-df55e4b42c13\")>,\n",
       " <selenium.webdriver.remote.webelement.WebElement (session=\"f53eee8d6c7a3e4babb4df3e0f368b27\", element=\"dd2dd498-07c3-4f65-8ace-e4f45bd13026\")>,\n",
       " <selenium.webdriver.remote.webelement.WebElement (session=\"f53eee8d6c7a3e4babb4df3e0f368b27\", element=\"7b93e084-70ee-4b09-a967-255349c34bda\")>,\n",
       " <selenium.webdriver.remote.webelement.WebElement (session=\"f53eee8d6c7a3e4babb4df3e0f368b27\", element=\"7170065e-1411-45e4-b1cb-de9de00d2e51\")>,\n",
       " <selenium.webdriver.remote.webelement.WebElement (session=\"f53eee8d6c7a3e4babb4df3e0f368b27\", element=\"af6a3234-f612-4437-a491-6a379bf74c35\")>,\n",
       " <selenium.webdriver.remote.webelement.WebElement (session=\"f53eee8d6c7a3e4babb4df3e0f368b27\", element=\"ca478acf-b514-493c-a91e-25b8d40f36d1\")>,\n",
       " <selenium.webdriver.remote.webelement.WebElement (session=\"f53eee8d6c7a3e4babb4df3e0f368b27\", element=\"532c4e57-f342-4b13-a7d0-93a7aef96744\")>,\n",
       " <selenium.webdriver.remote.webelement.WebElement (session=\"f53eee8d6c7a3e4babb4df3e0f368b27\", element=\"9865b864-76e3-41f9-a1c3-cb3a6d3560fd\")>,\n",
       " <selenium.webdriver.remote.webelement.WebElement (session=\"f53eee8d6c7a3e4babb4df3e0f368b27\", element=\"eb2d8049-6d14-46b0-a87d-831d6fa65acc\")>,\n",
       " <selenium.webdriver.remote.webelement.WebElement (session=\"f53eee8d6c7a3e4babb4df3e0f368b27\", element=\"707fe0ca-b3dd-4744-ab64-bae5f0397b2a\")>,\n",
       " <selenium.webdriver.remote.webelement.WebElement (session=\"f53eee8d6c7a3e4babb4df3e0f368b27\", element=\"1a4b6fef-f7d1-457f-af9a-65bbc1f427dc\")>,\n",
       " <selenium.webdriver.remote.webelement.WebElement (session=\"f53eee8d6c7a3e4babb4df3e0f368b27\", element=\"6a564200-0b29-4723-8b02-ace774a6560c\")>,\n",
       " <selenium.webdriver.remote.webelement.WebElement (session=\"f53eee8d6c7a3e4babb4df3e0f368b27\", element=\"3ce60b6a-1ee5-409d-b999-f4aec2a03f18\")>,\n",
       " <selenium.webdriver.remote.webelement.WebElement (session=\"f53eee8d6c7a3e4babb4df3e0f368b27\", element=\"9e5c2f3a-21fa-4b53-b918-dde586f1a0bd\")>,\n",
       " <selenium.webdriver.remote.webelement.WebElement (session=\"f53eee8d6c7a3e4babb4df3e0f368b27\", element=\"90bc9831-ce11-4f88-8ed0-0eecc3227762\")>,\n",
       " <selenium.webdriver.remote.webelement.WebElement (session=\"f53eee8d6c7a3e4babb4df3e0f368b27\", element=\"7a06375e-547d-4518-a411-9b47fc5aac10\")>,\n",
       " <selenium.webdriver.remote.webelement.WebElement (session=\"f53eee8d6c7a3e4babb4df3e0f368b27\", element=\"2afa9f22-42ad-4733-83dd-9098ad74752c\")>,\n",
       " <selenium.webdriver.remote.webelement.WebElement (session=\"f53eee8d6c7a3e4babb4df3e0f368b27\", element=\"e353b17e-cf6a-4f1d-a59b-fd23a2ee9bdb\")>,\n",
       " <selenium.webdriver.remote.webelement.WebElement (session=\"f53eee8d6c7a3e4babb4df3e0f368b27\", element=\"06596fee-8e34-4518-b118-71eef751adfd\")>,\n",
       " <selenium.webdriver.remote.webelement.WebElement (session=\"f53eee8d6c7a3e4babb4df3e0f368b27\", element=\"edeefe94-77d0-4321-b154-1eb91d8e31f8\")>,\n",
       " <selenium.webdriver.remote.webelement.WebElement (session=\"f53eee8d6c7a3e4babb4df3e0f368b27\", element=\"5309b25d-f33c-4756-9b97-fd4c6c29a6d0\")>,\n",
       " <selenium.webdriver.remote.webelement.WebElement (session=\"f53eee8d6c7a3e4babb4df3e0f368b27\", element=\"07f0af06-c082-4cfa-8dc6-cd6cfb682f1e\")>,\n",
       " <selenium.webdriver.remote.webelement.WebElement (session=\"f53eee8d6c7a3e4babb4df3e0f368b27\", element=\"090b8614-fcc7-4b90-a263-e7d637868d59\")>,\n",
       " <selenium.webdriver.remote.webelement.WebElement (session=\"f53eee8d6c7a3e4babb4df3e0f368b27\", element=\"d2da0072-d938-4528-b894-1de6ce3f46b8\")>,\n",
       " <selenium.webdriver.remote.webelement.WebElement (session=\"f53eee8d6c7a3e4babb4df3e0f368b27\", element=\"29a94e06-54a9-49c9-8235-f09cc4605323\")>,\n",
       " <selenium.webdriver.remote.webelement.WebElement (session=\"f53eee8d6c7a3e4babb4df3e0f368b27\", element=\"97700202-302b-43d7-aeb8-db6389810d09\")>,\n",
       " <selenium.webdriver.remote.webelement.WebElement (session=\"f53eee8d6c7a3e4babb4df3e0f368b27\", element=\"90af16f1-d208-4aca-bd87-eeccef391952\")>,\n",
       " <selenium.webdriver.remote.webelement.WebElement (session=\"f53eee8d6c7a3e4babb4df3e0f368b27\", element=\"77b7c530-f5c5-452c-a993-14540356388a\")>,\n",
       " <selenium.webdriver.remote.webelement.WebElement (session=\"f53eee8d6c7a3e4babb4df3e0f368b27\", element=\"0d7a46db-ef3e-490c-b080-042a7e4edc86\")>,\n",
       " <selenium.webdriver.remote.webelement.WebElement (session=\"f53eee8d6c7a3e4babb4df3e0f368b27\", element=\"5359f5b6-56fc-4331-ad52-b66c508c82da\")>,\n",
       " <selenium.webdriver.remote.webelement.WebElement (session=\"f53eee8d6c7a3e4babb4df3e0f368b27\", element=\"0fb8ceb1-a85d-42c9-b0c0-37c6225acc44\")>,\n",
       " <selenium.webdriver.remote.webelement.WebElement (session=\"f53eee8d6c7a3e4babb4df3e0f368b27\", element=\"73d7516a-60ce-481b-add0-e3202cc76cf3\")>,\n",
       " <selenium.webdriver.remote.webelement.WebElement (session=\"f53eee8d6c7a3e4babb4df3e0f368b27\", element=\"c961c702-1b43-420e-9398-b079180c5734\")>,\n",
       " <selenium.webdriver.remote.webelement.WebElement (session=\"f53eee8d6c7a3e4babb4df3e0f368b27\", element=\"4d414fa4-6095-41fe-9716-ac79355baeec\")>,\n",
       " <selenium.webdriver.remote.webelement.WebElement (session=\"f53eee8d6c7a3e4babb4df3e0f368b27\", element=\"77bb1a41-a374-4f65-a430-a90d85664d4f\")>,\n",
       " <selenium.webdriver.remote.webelement.WebElement (session=\"f53eee8d6c7a3e4babb4df3e0f368b27\", element=\"99c9ef2d-143d-4972-a854-7fe9a59c8190\")>,\n",
       " <selenium.webdriver.remote.webelement.WebElement (session=\"f53eee8d6c7a3e4babb4df3e0f368b27\", element=\"560cebe7-cb27-4b3b-8c47-3b0e63f48551\")>,\n",
       " <selenium.webdriver.remote.webelement.WebElement (session=\"f53eee8d6c7a3e4babb4df3e0f368b27\", element=\"9d3a678c-aadb-47cc-bf98-1f899d23933c\")>,\n",
       " <selenium.webdriver.remote.webelement.WebElement (session=\"f53eee8d6c7a3e4babb4df3e0f368b27\", element=\"1640d7f7-4833-406c-b159-e5836e0bc44d\")>,\n",
       " <selenium.webdriver.remote.webelement.WebElement (session=\"f53eee8d6c7a3e4babb4df3e0f368b27\", element=\"8996f110-d222-4433-ad3a-155fa70281e1\")>,\n",
       " <selenium.webdriver.remote.webelement.WebElement (session=\"f53eee8d6c7a3e4babb4df3e0f368b27\", element=\"6950ec05-56a9-4cbb-aee8-ef81961f81dc\")>,\n",
       " <selenium.webdriver.remote.webelement.WebElement (session=\"f53eee8d6c7a3e4babb4df3e0f368b27\", element=\"ca534837-2ef3-4003-920f-edcd397e574d\")>,\n",
       " <selenium.webdriver.remote.webelement.WebElement (session=\"f53eee8d6c7a3e4babb4df3e0f368b27\", element=\"9e835865-1f43-41d3-add4-c9b885d25755\")>,\n",
       " <selenium.webdriver.remote.webelement.WebElement (session=\"f53eee8d6c7a3e4babb4df3e0f368b27\", element=\"f85c9abc-8e0d-4a87-86e3-95c10c221f6d\")>,\n",
       " <selenium.webdriver.remote.webelement.WebElement (session=\"f53eee8d6c7a3e4babb4df3e0f368b27\", element=\"acfa7086-5992-4020-831a-7af55bb6d6a4\")>,\n",
       " <selenium.webdriver.remote.webelement.WebElement (session=\"f53eee8d6c7a3e4babb4df3e0f368b27\", element=\"eeb46266-2ed4-4641-a19d-9801c93b59e1\")>,\n",
       " <selenium.webdriver.remote.webelement.WebElement (session=\"f53eee8d6c7a3e4babb4df3e0f368b27\", element=\"ac957d8d-9895-44f5-b178-0390335e0b9b\")>,\n",
       " <selenium.webdriver.remote.webelement.WebElement (session=\"f53eee8d6c7a3e4babb4df3e0f368b27\", element=\"d1f12632-9cd9-4f51-b883-b392a5cb3847\")>,\n",
       " <selenium.webdriver.remote.webelement.WebElement (session=\"f53eee8d6c7a3e4babb4df3e0f368b27\", element=\"049ba1bd-dc49-4804-8d99-8f996b519325\")>,\n",
       " <selenium.webdriver.remote.webelement.WebElement (session=\"f53eee8d6c7a3e4babb4df3e0f368b27\", element=\"5e805b57-aca0-4b8b-84fa-b8c2492cf89a\")>,\n",
       " <selenium.webdriver.remote.webelement.WebElement (session=\"f53eee8d6c7a3e4babb4df3e0f368b27\", element=\"7ffddbc9-0a33-418c-9a12-cdbe1082f099\")>,\n",
       " <selenium.webdriver.remote.webelement.WebElement (session=\"f53eee8d6c7a3e4babb4df3e0f368b27\", element=\"24cf2597-eaf1-49b6-ab6c-06a74ab43e86\")>,\n",
       " <selenium.webdriver.remote.webelement.WebElement (session=\"f53eee8d6c7a3e4babb4df3e0f368b27\", element=\"0a9f2fb2-788f-434b-9301-074376fc9b6b\")>,\n",
       " <selenium.webdriver.remote.webelement.WebElement (session=\"f53eee8d6c7a3e4babb4df3e0f368b27\", element=\"6bade789-75a9-4eb2-86d6-83b1e59dbfb7\")>,\n",
       " <selenium.webdriver.remote.webelement.WebElement (session=\"f53eee8d6c7a3e4babb4df3e0f368b27\", element=\"a90824a9-2f99-438a-9a30-881780b41d09\")>,\n",
       " <selenium.webdriver.remote.webelement.WebElement (session=\"f53eee8d6c7a3e4babb4df3e0f368b27\", element=\"d1d7831f-5bea-4ecb-ab4e-7279d6af8b44\")>,\n",
       " <selenium.webdriver.remote.webelement.WebElement (session=\"f53eee8d6c7a3e4babb4df3e0f368b27\", element=\"c7f90c28-32c8-4d49-823a-ec42d4fc1670\")>,\n",
       " <selenium.webdriver.remote.webelement.WebElement (session=\"f53eee8d6c7a3e4babb4df3e0f368b27\", element=\"151dd7a8-d15b-4a63-b8c6-d4bc22a2c0ee\")>,\n",
       " <selenium.webdriver.remote.webelement.WebElement (session=\"f53eee8d6c7a3e4babb4df3e0f368b27\", element=\"d6d86661-4ddd-4348-959f-9e8f4e5355d6\")>,\n",
       " <selenium.webdriver.remote.webelement.WebElement (session=\"f53eee8d6c7a3e4babb4df3e0f368b27\", element=\"fdcd16ce-655a-4993-925e-c712ebdcdff5\")>,\n",
       " <selenium.webdriver.remote.webelement.WebElement (session=\"f53eee8d6c7a3e4babb4df3e0f368b27\", element=\"bb8742d1-ba53-4de9-88b1-74b85c55260e\")>,\n",
       " <selenium.webdriver.remote.webelement.WebElement (session=\"f53eee8d6c7a3e4babb4df3e0f368b27\", element=\"a83c8ce1-3543-48f6-9b6d-c98f0e4a5219\")>,\n",
       " <selenium.webdriver.remote.webelement.WebElement (session=\"f53eee8d6c7a3e4babb4df3e0f368b27\", element=\"1d087c3c-6904-40b3-81a1-18ff0d7e53dc\")>,\n",
       " <selenium.webdriver.remote.webelement.WebElement (session=\"f53eee8d6c7a3e4babb4df3e0f368b27\", element=\"3cfc6e24-5543-49f0-a9b8-7bd07f1385e0\")>,\n",
       " <selenium.webdriver.remote.webelement.WebElement (session=\"f53eee8d6c7a3e4babb4df3e0f368b27\", element=\"5017c898-da0d-4c3a-aead-0576a30d6099\")>,\n",
       " <selenium.webdriver.remote.webelement.WebElement (session=\"f53eee8d6c7a3e4babb4df3e0f368b27\", element=\"98ec9fa8-2982-4323-85e9-b60689ecd9de\")>,\n",
       " <selenium.webdriver.remote.webelement.WebElement (session=\"f53eee8d6c7a3e4babb4df3e0f368b27\", element=\"cb7e9870-217f-483c-a0bc-7913df23988e\")>,\n",
       " <selenium.webdriver.remote.webelement.WebElement (session=\"f53eee8d6c7a3e4babb4df3e0f368b27\", element=\"d86a9aac-efec-429e-8743-84589353283a\")>,\n",
       " <selenium.webdriver.remote.webelement.WebElement (session=\"f53eee8d6c7a3e4babb4df3e0f368b27\", element=\"c261a35a-7d7c-4670-b06b-43cdd15f8d14\")>,\n",
       " <selenium.webdriver.remote.webelement.WebElement (session=\"f53eee8d6c7a3e4babb4df3e0f368b27\", element=\"9a21f12d-c90b-4992-9606-28c3981b13f2\")>,\n",
       " <selenium.webdriver.remote.webelement.WebElement (session=\"f53eee8d6c7a3e4babb4df3e0f368b27\", element=\"31bc8b5c-3d2b-4cb1-b891-99e79b19f0be\")>,\n",
       " <selenium.webdriver.remote.webelement.WebElement (session=\"f53eee8d6c7a3e4babb4df3e0f368b27\", element=\"b007f56e-2f28-4387-967a-0423b06e1b64\")>,\n",
       " <selenium.webdriver.remote.webelement.WebElement (session=\"f53eee8d6c7a3e4babb4df3e0f368b27\", element=\"74ae0f36-84e4-499a-857b-41b64f707717\")>,\n",
       " <selenium.webdriver.remote.webelement.WebElement (session=\"f53eee8d6c7a3e4babb4df3e0f368b27\", element=\"7761a947-13cd-4931-af45-68ccd26d7372\")>,\n",
       " <selenium.webdriver.remote.webelement.WebElement (session=\"f53eee8d6c7a3e4babb4df3e0f368b27\", element=\"757ba218-3398-412f-8d11-bf444f98ac5a\")>,\n",
       " <selenium.webdriver.remote.webelement.WebElement (session=\"f53eee8d6c7a3e4babb4df3e0f368b27\", element=\"404e8b81-8b9c-433d-9206-be977ce92748\")>,\n",
       " <selenium.webdriver.remote.webelement.WebElement (session=\"f53eee8d6c7a3e4babb4df3e0f368b27\", element=\"09f09f73-3833-4d26-bea5-2fae90527a73\")>,\n",
       " <selenium.webdriver.remote.webelement.WebElement (session=\"f53eee8d6c7a3e4babb4df3e0f368b27\", element=\"5054d4ec-6884-44d5-9653-8455cdf47229\")>,\n",
       " <selenium.webdriver.remote.webelement.WebElement (session=\"f53eee8d6c7a3e4babb4df3e0f368b27\", element=\"44509cb7-260e-41a1-ab56-185e772626d0\")>,\n",
       " <selenium.webdriver.remote.webelement.WebElement (session=\"f53eee8d6c7a3e4babb4df3e0f368b27\", element=\"6ed0ac4f-ce87-4f9b-a8cb-605a001efccf\")>,\n",
       " <selenium.webdriver.remote.webelement.WebElement (session=\"f53eee8d6c7a3e4babb4df3e0f368b27\", element=\"26e8d52b-c109-4993-b433-fc252b53d104\")>,\n",
       " <selenium.webdriver.remote.webelement.WebElement (session=\"f53eee8d6c7a3e4babb4df3e0f368b27\", element=\"885d8e0c-faa7-45b6-b0a8-3cf9280e88c4\")>,\n",
       " <selenium.webdriver.remote.webelement.WebElement (session=\"f53eee8d6c7a3e4babb4df3e0f368b27\", element=\"adc39575-9e1b-43ef-9c5f-9bc36c2305ce\")>,\n",
       " <selenium.webdriver.remote.webelement.WebElement (session=\"f53eee8d6c7a3e4babb4df3e0f368b27\", element=\"c98c8ca4-e1a5-4c51-b311-0e90d734d038\")>,\n",
       " <selenium.webdriver.remote.webelement.WebElement (session=\"f53eee8d6c7a3e4babb4df3e0f368b27\", element=\"6ff06755-6883-4cdf-8540-262060b227c4\")>,\n",
       " <selenium.webdriver.remote.webelement.WebElement (session=\"f53eee8d6c7a3e4babb4df3e0f368b27\", element=\"875d6aad-f794-47d3-b05d-cef6ffbacad8\")>,\n",
       " <selenium.webdriver.remote.webelement.WebElement (session=\"f53eee8d6c7a3e4babb4df3e0f368b27\", element=\"0e753e1f-b4f7-4547-94fa-78f22d5ea1ba\")>,\n",
       " <selenium.webdriver.remote.webelement.WebElement (session=\"f53eee8d6c7a3e4babb4df3e0f368b27\", element=\"b8097d6e-e67d-4a89-a76e-25188ce225b1\")>,\n",
       " <selenium.webdriver.remote.webelement.WebElement (session=\"f53eee8d6c7a3e4babb4df3e0f368b27\", element=\"0ae579ef-8626-49bc-b170-5206ee55f73e\")>,\n",
       " <selenium.webdriver.remote.webelement.WebElement (session=\"f53eee8d6c7a3e4babb4df3e0f368b27\", element=\"89636ba9-e85a-4798-ab40-222291c579b1\")>,\n",
       " <selenium.webdriver.remote.webelement.WebElement (session=\"f53eee8d6c7a3e4babb4df3e0f368b27\", element=\"4cbacf2c-2db9-424f-8876-f1aae88b756e\")>,\n",
       " <selenium.webdriver.remote.webelement.WebElement (session=\"f53eee8d6c7a3e4babb4df3e0f368b27\", element=\"37e18f46-a2dc-4da3-902a-4cd9183b909c\")>,\n",
       " <selenium.webdriver.remote.webelement.WebElement (session=\"f53eee8d6c7a3e4babb4df3e0f368b27\", element=\"6fdf767f-6f95-4186-9ae2-9b1b4f54aade\")>,\n",
       " <selenium.webdriver.remote.webelement.WebElement (session=\"f53eee8d6c7a3e4babb4df3e0f368b27\", element=\"188997fe-d972-4e0d-8c40-8d361ffd4227\")>,\n",
       " <selenium.webdriver.remote.webelement.WebElement (session=\"f53eee8d6c7a3e4babb4df3e0f368b27\", element=\"10d393fd-a71a-4b4b-a15c-3445baa51657\")>,\n",
       " <selenium.webdriver.remote.webelement.WebElement (session=\"f53eee8d6c7a3e4babb4df3e0f368b27\", element=\"a6f55d8a-b41d-4e87-a3be-782e09f21b7a\")>,\n",
       " <selenium.webdriver.remote.webelement.WebElement (session=\"f53eee8d6c7a3e4babb4df3e0f368b27\", element=\"b7fffbfc-92db-49c6-9bb9-36d24fc588cd\")>,\n",
       " <selenium.webdriver.remote.webelement.WebElement (session=\"f53eee8d6c7a3e4babb4df3e0f368b27\", element=\"62b4ad5e-6baf-4327-b4fe-a11ad58826f2\")>,\n",
       " <selenium.webdriver.remote.webelement.WebElement (session=\"f53eee8d6c7a3e4babb4df3e0f368b27\", element=\"73065418-b332-4deb-922e-c9f6447aade8\")>,\n",
       " <selenium.webdriver.remote.webelement.WebElement (session=\"f53eee8d6c7a3e4babb4df3e0f368b27\", element=\"8912f7e2-d559-40cf-908d-1b0d5e96c784\")>,\n",
       " <selenium.webdriver.remote.webelement.WebElement (session=\"f53eee8d6c7a3e4babb4df3e0f368b27\", element=\"59af0692-5ead-4dcf-b34a-1b8cf941f662\")>,\n",
       " <selenium.webdriver.remote.webelement.WebElement (session=\"f53eee8d6c7a3e4babb4df3e0f368b27\", element=\"46d67355-692a-41c2-ba1a-1d8231aac3c7\")>,\n",
       " <selenium.webdriver.remote.webelement.WebElement (session=\"f53eee8d6c7a3e4babb4df3e0f368b27\", element=\"a7c19e5b-9074-42dd-934e-168f7eae4455\")>,\n",
       " <selenium.webdriver.remote.webelement.WebElement (session=\"f53eee8d6c7a3e4babb4df3e0f368b27\", element=\"648711f8-6a6c-401f-b808-bec4496a021f\")>,\n",
       " <selenium.webdriver.remote.webelement.WebElement (session=\"f53eee8d6c7a3e4babb4df3e0f368b27\", element=\"c63b0c4f-e3c2-4dc9-841a-61d898bd865c\")>,\n",
       " <selenium.webdriver.remote.webelement.WebElement (session=\"f53eee8d6c7a3e4babb4df3e0f368b27\", element=\"c7a44386-41ea-4c4c-91d3-a3f67dc9db13\")>,\n",
       " <selenium.webdriver.remote.webelement.WebElement (session=\"f53eee8d6c7a3e4babb4df3e0f368b27\", element=\"96b9afc5-614e-41b5-8d23-3161b05abaf2\")>,\n",
       " <selenium.webdriver.remote.webelement.WebElement (session=\"f53eee8d6c7a3e4babb4df3e0f368b27\", element=\"ce5adfb5-62cf-4a22-ae83-7f802b2c4277\")>,\n",
       " <selenium.webdriver.remote.webelement.WebElement (session=\"f53eee8d6c7a3e4babb4df3e0f368b27\", element=\"2ca10c48-bcbe-4b31-a5e0-13cf9e8a8719\")>,\n",
       " <selenium.webdriver.remote.webelement.WebElement (session=\"f53eee8d6c7a3e4babb4df3e0f368b27\", element=\"94f18bbc-c991-4c99-8a21-247b778d797c\")>,\n",
       " <selenium.webdriver.remote.webelement.WebElement (session=\"f53eee8d6c7a3e4babb4df3e0f368b27\", element=\"2109d41b-f4dc-4b97-b53a-a09a4ab4dc6a\")>,\n",
       " <selenium.webdriver.remote.webelement.WebElement (session=\"f53eee8d6c7a3e4babb4df3e0f368b27\", element=\"6734c398-4dfa-4f88-91be-df21d1cf7a3c\")>,\n",
       " <selenium.webdriver.remote.webelement.WebElement (session=\"f53eee8d6c7a3e4babb4df3e0f368b27\", element=\"d03c1c06-d213-4031-982d-34662719b821\")>,\n",
       " <selenium.webdriver.remote.webelement.WebElement (session=\"f53eee8d6c7a3e4babb4df3e0f368b27\", element=\"17496510-0ec8-4dfd-86bb-14cb0041e48c\")>,\n",
       " <selenium.webdriver.remote.webelement.WebElement (session=\"f53eee8d6c7a3e4babb4df3e0f368b27\", element=\"f755c3d6-28af-4ce6-acf4-950b8da95c50\")>,\n",
       " <selenium.webdriver.remote.webelement.WebElement (session=\"f53eee8d6c7a3e4babb4df3e0f368b27\", element=\"b5abc8fe-cd5f-4a05-acac-e9834c83e500\")>,\n",
       " <selenium.webdriver.remote.webelement.WebElement (session=\"f53eee8d6c7a3e4babb4df3e0f368b27\", element=\"7a45cad8-9e95-4b02-987f-82a527f9a793\")>,\n",
       " <selenium.webdriver.remote.webelement.WebElement (session=\"f53eee8d6c7a3e4babb4df3e0f368b27\", element=\"ef353c06-47f3-4d51-8c3c-04e43f2e4e76\")>,\n",
       " <selenium.webdriver.remote.webelement.WebElement (session=\"f53eee8d6c7a3e4babb4df3e0f368b27\", element=\"afd2c4c8-e6e5-4a39-aa97-139791c08609\")>,\n",
       " <selenium.webdriver.remote.webelement.WebElement (session=\"f53eee8d6c7a3e4babb4df3e0f368b27\", element=\"88e536ab-ae28-41c8-be5f-47e8352ad0b5\")>,\n",
       " <selenium.webdriver.remote.webelement.WebElement (session=\"f53eee8d6c7a3e4babb4df3e0f368b27\", element=\"b92a6237-4dba-468d-b18d-90a9ce4debf0\")>,\n",
       " <selenium.webdriver.remote.webelement.WebElement (session=\"f53eee8d6c7a3e4babb4df3e0f368b27\", element=\"29e2b629-7218-45e1-bfa9-254cbebc0afa\")>,\n",
       " <selenium.webdriver.remote.webelement.WebElement (session=\"f53eee8d6c7a3e4babb4df3e0f368b27\", element=\"2754cf4c-3f8e-4d70-8f8f-ee1267838268\")>,\n",
       " <selenium.webdriver.remote.webelement.WebElement (session=\"f53eee8d6c7a3e4babb4df3e0f368b27\", element=\"ac5b1038-e40e-4cd4-bb46-939f2a983d84\")>,\n",
       " <selenium.webdriver.remote.webelement.WebElement (session=\"f53eee8d6c7a3e4babb4df3e0f368b27\", element=\"e1de9c05-3e0a-4569-9805-10f22fdac14a\")>,\n",
       " <selenium.webdriver.remote.webelement.WebElement (session=\"f53eee8d6c7a3e4babb4df3e0f368b27\", element=\"8f80ee22-8305-45cd-855b-2c6a678fe867\")>,\n",
       " <selenium.webdriver.remote.webelement.WebElement (session=\"f53eee8d6c7a3e4babb4df3e0f368b27\", element=\"d1b46717-1d6e-484d-977e-b2ff61587276\")>,\n",
       " <selenium.webdriver.remote.webelement.WebElement (session=\"f53eee8d6c7a3e4babb4df3e0f368b27\", element=\"bc68c4ef-9c97-43b1-9d87-19a8714454a7\")>,\n",
       " <selenium.webdriver.remote.webelement.WebElement (session=\"f53eee8d6c7a3e4babb4df3e0f368b27\", element=\"af6e40ab-2aa4-409a-a097-a91bbfd37b32\")>,\n",
       " <selenium.webdriver.remote.webelement.WebElement (session=\"f53eee8d6c7a3e4babb4df3e0f368b27\", element=\"23118fa2-eaea-4445-8d8c-36501132e281\")>,\n",
       " <selenium.webdriver.remote.webelement.WebElement (session=\"f53eee8d6c7a3e4babb4df3e0f368b27\", element=\"c369c6d1-e1d2-4f7e-9cc9-0c7ee06c38f7\")>,\n",
       " <selenium.webdriver.remote.webelement.WebElement (session=\"f53eee8d6c7a3e4babb4df3e0f368b27\", element=\"1283bf0e-f78a-4992-a962-6c8af04d07f2\")>,\n",
       " <selenium.webdriver.remote.webelement.WebElement (session=\"f53eee8d6c7a3e4babb4df3e0f368b27\", element=\"89d3ee54-3ea2-48ce-aa03-efe2db21e8b2\")>,\n",
       " <selenium.webdriver.remote.webelement.WebElement (session=\"f53eee8d6c7a3e4babb4df3e0f368b27\", element=\"3a8846b6-5209-46b5-b542-8e5647b71d8e\")>,\n",
       " <selenium.webdriver.remote.webelement.WebElement (session=\"f53eee8d6c7a3e4babb4df3e0f368b27\", element=\"deda0c8f-10ed-430a-9fa5-21d0b6538c62\")>,\n",
       " <selenium.webdriver.remote.webelement.WebElement (session=\"f53eee8d6c7a3e4babb4df3e0f368b27\", element=\"5fd51202-c593-47a6-afb5-fac5314dcf3f\")>,\n",
       " <selenium.webdriver.remote.webelement.WebElement (session=\"f53eee8d6c7a3e4babb4df3e0f368b27\", element=\"da10f65b-a98b-4953-8d02-b748c08cf1e2\")>,\n",
       " <selenium.webdriver.remote.webelement.WebElement (session=\"f53eee8d6c7a3e4babb4df3e0f368b27\", element=\"400438c1-4ffe-46a4-bfef-bc61c2b3f15a\")>,\n",
       " <selenium.webdriver.remote.webelement.WebElement (session=\"f53eee8d6c7a3e4babb4df3e0f368b27\", element=\"f132852c-4329-458e-8f9c-0605cf2b610c\")>,\n",
       " <selenium.webdriver.remote.webelement.WebElement (session=\"f53eee8d6c7a3e4babb4df3e0f368b27\", element=\"30603eca-7232-4bde-8120-e9c9daef05a0\")>,\n",
       " <selenium.webdriver.remote.webelement.WebElement (session=\"f53eee8d6c7a3e4babb4df3e0f368b27\", element=\"4f941530-6153-4f75-b37e-84e73af3c2a8\")>,\n",
       " <selenium.webdriver.remote.webelement.WebElement (session=\"f53eee8d6c7a3e4babb4df3e0f368b27\", element=\"5392ac66-3e5c-41e3-b566-08d2af3d1353\")>,\n",
       " <selenium.webdriver.remote.webelement.WebElement (session=\"f53eee8d6c7a3e4babb4df3e0f368b27\", element=\"4c2a41c9-5728-41d9-ba8b-98e9bd8d2d8e\")>,\n",
       " <selenium.webdriver.remote.webelement.WebElement (session=\"f53eee8d6c7a3e4babb4df3e0f368b27\", element=\"d0d084b7-b642-4b9e-8025-926d275fc753\")>,\n",
       " <selenium.webdriver.remote.webelement.WebElement (session=\"f53eee8d6c7a3e4babb4df3e0f368b27\", element=\"43706c72-8665-4fa9-855e-1ea802327059\")>,\n",
       " <selenium.webdriver.remote.webelement.WebElement (session=\"f53eee8d6c7a3e4babb4df3e0f368b27\", element=\"45bd00c2-264b-49bc-a524-841b2ac9125d\")>,\n",
       " <selenium.webdriver.remote.webelement.WebElement (session=\"f53eee8d6c7a3e4babb4df3e0f368b27\", element=\"e6ed2be2-365e-4d96-a7a5-a14d3d0101b9\")>,\n",
       " <selenium.webdriver.remote.webelement.WebElement (session=\"f53eee8d6c7a3e4babb4df3e0f368b27\", element=\"e282fca6-b942-4c6b-aecb-1111354bc1ec\")>,\n",
       " <selenium.webdriver.remote.webelement.WebElement (session=\"f53eee8d6c7a3e4babb4df3e0f368b27\", element=\"99218e7e-b979-4714-a16a-eb2388938c97\")>,\n",
       " <selenium.webdriver.remote.webelement.WebElement (session=\"f53eee8d6c7a3e4babb4df3e0f368b27\", element=\"7e082232-b3e2-4acd-a7c6-2a2e8a9c5257\")>,\n",
       " <selenium.webdriver.remote.webelement.WebElement (session=\"f53eee8d6c7a3e4babb4df3e0f368b27\", element=\"ee85a65c-a7f6-4d23-80f7-ef0e39aafeef\")>,\n",
       " <selenium.webdriver.remote.webelement.WebElement (session=\"f53eee8d6c7a3e4babb4df3e0f368b27\", element=\"64ebd3fb-75d7-462d-9412-503e6e5d8cf5\")>,\n",
       " <selenium.webdriver.remote.webelement.WebElement (session=\"f53eee8d6c7a3e4babb4df3e0f368b27\", element=\"ae03ca1c-6643-4414-94f7-2f1407e78c62\")>,\n",
       " <selenium.webdriver.remote.webelement.WebElement (session=\"f53eee8d6c7a3e4babb4df3e0f368b27\", element=\"150842ac-8eab-468b-88b7-ca2bdae0bcbc\")>,\n",
       " <selenium.webdriver.remote.webelement.WebElement (session=\"f53eee8d6c7a3e4babb4df3e0f368b27\", element=\"5c863773-e54c-497b-8349-1defcb06ff16\")>,\n",
       " <selenium.webdriver.remote.webelement.WebElement (session=\"f53eee8d6c7a3e4babb4df3e0f368b27\", element=\"ca369ff3-03b6-4e72-b2ca-0ddc741ea7c9\")>,\n",
       " <selenium.webdriver.remote.webelement.WebElement (session=\"f53eee8d6c7a3e4babb4df3e0f368b27\", element=\"5241a8fe-6fda-4667-aa3f-6d1f8d3f612b\")>,\n",
       " <selenium.webdriver.remote.webelement.WebElement (session=\"f53eee8d6c7a3e4babb4df3e0f368b27\", element=\"f46d266e-4e9b-4230-b509-9faa611aef72\")>,\n",
       " <selenium.webdriver.remote.webelement.WebElement (session=\"f53eee8d6c7a3e4babb4df3e0f368b27\", element=\"f9a8898d-e021-48ff-b2e8-c1ef2136f459\")>,\n",
       " <selenium.webdriver.remote.webelement.WebElement (session=\"f53eee8d6c7a3e4babb4df3e0f368b27\", element=\"426f23bc-babc-480c-9958-f266af405788\")>,\n",
       " <selenium.webdriver.remote.webelement.WebElement (session=\"f53eee8d6c7a3e4babb4df3e0f368b27\", element=\"1d22e530-241a-4aef-b1f0-8500140d602c\")>,\n",
       " <selenium.webdriver.remote.webelement.WebElement (session=\"f53eee8d6c7a3e4babb4df3e0f368b27\", element=\"864a675b-2d34-4a3d-88ef-0cf8d185191f\")>,\n",
       " <selenium.webdriver.remote.webelement.WebElement (session=\"f53eee8d6c7a3e4babb4df3e0f368b27\", element=\"cfe003e4-eb48-47bd-836f-1f1424eadbd3\")>,\n",
       " <selenium.webdriver.remote.webelement.WebElement (session=\"f53eee8d6c7a3e4babb4df3e0f368b27\", element=\"e0c711af-c978-485b-b1c3-f71801bdc3c8\")>,\n",
       " <selenium.webdriver.remote.webelement.WebElement (session=\"f53eee8d6c7a3e4babb4df3e0f368b27\", element=\"a43b2346-9e90-4917-aa0e-6fdec2a449c6\")>,\n",
       " <selenium.webdriver.remote.webelement.WebElement (session=\"f53eee8d6c7a3e4babb4df3e0f368b27\", element=\"c268ed75-0de6-4c2c-965c-4ed1a3376c64\")>,\n",
       " <selenium.webdriver.remote.webelement.WebElement (session=\"f53eee8d6c7a3e4babb4df3e0f368b27\", element=\"5dc8a7de-5ddf-4306-b2de-fd61882345ee\")>,\n",
       " <selenium.webdriver.remote.webelement.WebElement (session=\"f53eee8d6c7a3e4babb4df3e0f368b27\", element=\"73537934-a58b-4322-bece-1f2a9bf60dda\")>,\n",
       " <selenium.webdriver.remote.webelement.WebElement (session=\"f53eee8d6c7a3e4babb4df3e0f368b27\", element=\"bbea1008-c41a-4f08-b3af-85731c168baf\")>,\n",
       " <selenium.webdriver.remote.webelement.WebElement (session=\"f53eee8d6c7a3e4babb4df3e0f368b27\", element=\"5cbf8aa1-aac3-4402-81b1-5add25abe2d7\")>,\n",
       " <selenium.webdriver.remote.webelement.WebElement (session=\"f53eee8d6c7a3e4babb4df3e0f368b27\", element=\"ab8b9078-e146-49fd-ab2a-366fabfa390f\")>,\n",
       " <selenium.webdriver.remote.webelement.WebElement (session=\"f53eee8d6c7a3e4babb4df3e0f368b27\", element=\"ba420210-845f-44e8-870b-4cd8e0174efa\")>,\n",
       " <selenium.webdriver.remote.webelement.WebElement (session=\"f53eee8d6c7a3e4babb4df3e0f368b27\", element=\"a586946b-e3fe-4fd0-bf2c-5d865ddddad8\")>,\n",
       " <selenium.webdriver.remote.webelement.WebElement (session=\"f53eee8d6c7a3e4babb4df3e0f368b27\", element=\"25597bac-b4d1-4898-81a9-d547937d622c\")>,\n",
       " <selenium.webdriver.remote.webelement.WebElement (session=\"f53eee8d6c7a3e4babb4df3e0f368b27\", element=\"e4c2da2c-2230-47ff-8737-ad261a5002f9\")>,\n",
       " <selenium.webdriver.remote.webelement.WebElement (session=\"f53eee8d6c7a3e4babb4df3e0f368b27\", element=\"3a778d56-916d-4ddf-9bb2-3a9ad5891679\")>,\n",
       " <selenium.webdriver.remote.webelement.WebElement (session=\"f53eee8d6c7a3e4babb4df3e0f368b27\", element=\"9774d3c7-100e-41ee-a61e-7fc139cdc2ea\")>,\n",
       " <selenium.webdriver.remote.webelement.WebElement (session=\"f53eee8d6c7a3e4babb4df3e0f368b27\", element=\"55457756-6693-43a7-8bf1-6e3f7eb509cc\")>,\n",
       " <selenium.webdriver.remote.webelement.WebElement (session=\"f53eee8d6c7a3e4babb4df3e0f368b27\", element=\"030cd981-942a-4c0c-bffb-2e95f452823f\")>,\n",
       " <selenium.webdriver.remote.webelement.WebElement (session=\"f53eee8d6c7a3e4babb4df3e0f368b27\", element=\"ee6871a1-0313-4ca1-af95-7252832e1146\")>,\n",
       " <selenium.webdriver.remote.webelement.WebElement (session=\"f53eee8d6c7a3e4babb4df3e0f368b27\", element=\"94b24b79-6826-4f6d-aee7-c89b6d1a1e3e\")>,\n",
       " <selenium.webdriver.remote.webelement.WebElement (session=\"f53eee8d6c7a3e4babb4df3e0f368b27\", element=\"aecb3e27-da0b-40fc-a1bc-d3e50a9e6b7b\")>,\n",
       " <selenium.webdriver.remote.webelement.WebElement (session=\"f53eee8d6c7a3e4babb4df3e0f368b27\", element=\"138d6163-9b44-416a-b72b-0254c8cc7459\")>,\n",
       " <selenium.webdriver.remote.webelement.WebElement (session=\"f53eee8d6c7a3e4babb4df3e0f368b27\", element=\"4515260f-225a-4f0d-b321-8061d8b36f75\")>,\n",
       " <selenium.webdriver.remote.webelement.WebElement (session=\"f53eee8d6c7a3e4babb4df3e0f368b27\", element=\"2f0c900f-ad6b-4252-85ba-a61bcbba149e\")>,\n",
       " <selenium.webdriver.remote.webelement.WebElement (session=\"f53eee8d6c7a3e4babb4df3e0f368b27\", element=\"4c15b660-1834-439b-a944-50bed54d0d9d\")>,\n",
       " <selenium.webdriver.remote.webelement.WebElement (session=\"f53eee8d6c7a3e4babb4df3e0f368b27\", element=\"590b14d4-7f56-4488-b6b6-e01a098999eb\")>,\n",
       " <selenium.webdriver.remote.webelement.WebElement (session=\"f53eee8d6c7a3e4babb4df3e0f368b27\", element=\"f36fc973-f07d-499a-b55b-29824a50dac9\")>,\n",
       " <selenium.webdriver.remote.webelement.WebElement (session=\"f53eee8d6c7a3e4babb4df3e0f368b27\", element=\"bc26182d-de6e-49d9-9a97-c498d8c1863a\")>,\n",
       " <selenium.webdriver.remote.webelement.WebElement (session=\"f53eee8d6c7a3e4babb4df3e0f368b27\", element=\"05a76ae0-7794-45d6-9882-b47333862cbd\")>,\n",
       " <selenium.webdriver.remote.webelement.WebElement (session=\"f53eee8d6c7a3e4babb4df3e0f368b27\", element=\"48a64eb1-a999-446c-8c9d-5cbb7731ad2a\")>,\n",
       " <selenium.webdriver.remote.webelement.WebElement (session=\"f53eee8d6c7a3e4babb4df3e0f368b27\", element=\"8cf7569e-2f5f-48e6-b4f4-57e7dd9b2aca\")>,\n",
       " <selenium.webdriver.remote.webelement.WebElement (session=\"f53eee8d6c7a3e4babb4df3e0f368b27\", element=\"df431671-fdd3-41d5-b887-b9372c22f499\")>,\n",
       " <selenium.webdriver.remote.webelement.WebElement (session=\"f53eee8d6c7a3e4babb4df3e0f368b27\", element=\"97a7593d-e3ee-4ed6-b747-e593f0108d8e\")>,\n",
       " <selenium.webdriver.remote.webelement.WebElement (session=\"f53eee8d6c7a3e4babb4df3e0f368b27\", element=\"ecee9bb4-d77d-4764-b2c9-6edfcea5bd1b\")>,\n",
       " <selenium.webdriver.remote.webelement.WebElement (session=\"f53eee8d6c7a3e4babb4df3e0f368b27\", element=\"a241774f-c208-4c13-82c0-30dc7262d042\")>,\n",
       " <selenium.webdriver.remote.webelement.WebElement (session=\"f53eee8d6c7a3e4babb4df3e0f368b27\", element=\"c7504672-abed-4e1c-bf9d-b19936de3362\")>,\n",
       " <selenium.webdriver.remote.webelement.WebElement (session=\"f53eee8d6c7a3e4babb4df3e0f368b27\", element=\"ad91d71e-d523-4833-883f-ab9ce447bbbf\")>,\n",
       " <selenium.webdriver.remote.webelement.WebElement (session=\"f53eee8d6c7a3e4babb4df3e0f368b27\", element=\"7051a6f6-2820-424f-932b-81f7c6e6f7dc\")>,\n",
       " <selenium.webdriver.remote.webelement.WebElement (session=\"f53eee8d6c7a3e4babb4df3e0f368b27\", element=\"60f5177b-74cd-46bc-b2f7-236238a3fd2e\")>,\n",
       " <selenium.webdriver.remote.webelement.WebElement (session=\"f53eee8d6c7a3e4babb4df3e0f368b27\", element=\"8c1c5a00-cab2-4366-a068-a43982c5ac40\")>,\n",
       " <selenium.webdriver.remote.webelement.WebElement (session=\"f53eee8d6c7a3e4babb4df3e0f368b27\", element=\"77251304-0f13-4119-9485-c903ecc4de8c\")>,\n",
       " <selenium.webdriver.remote.webelement.WebElement (session=\"f53eee8d6c7a3e4babb4df3e0f368b27\", element=\"4bb9ea71-50da-4079-a2ee-e9d81330ff68\")>,\n",
       " <selenium.webdriver.remote.webelement.WebElement (session=\"f53eee8d6c7a3e4babb4df3e0f368b27\", element=\"1d16d9bd-ddc6-4fe9-9589-8bb4fee8972a\")>,\n",
       " <selenium.webdriver.remote.webelement.WebElement (session=\"f53eee8d6c7a3e4babb4df3e0f368b27\", element=\"5a5cb52b-1781-4fa6-b96f-638779623155\")>,\n",
       " <selenium.webdriver.remote.webelement.WebElement (session=\"f53eee8d6c7a3e4babb4df3e0f368b27\", element=\"7b9cdff5-ae75-4f59-9336-04f0f326694c\")>,\n",
       " <selenium.webdriver.remote.webelement.WebElement (session=\"f53eee8d6c7a3e4babb4df3e0f368b27\", element=\"ee7b3eec-3741-4fea-92dc-51badf1b68a6\")>,\n",
       " <selenium.webdriver.remote.webelement.WebElement (session=\"f53eee8d6c7a3e4babb4df3e0f368b27\", element=\"722ff3b7-d00c-4a73-9a78-91e508003d4b\")>,\n",
       " <selenium.webdriver.remote.webelement.WebElement (session=\"f53eee8d6c7a3e4babb4df3e0f368b27\", element=\"5d3f6ae4-1f8a-4c63-8272-123245b856e3\")>,\n",
       " <selenium.webdriver.remote.webelement.WebElement (session=\"f53eee8d6c7a3e4babb4df3e0f368b27\", element=\"770ea968-f393-4ffb-bab7-92d334d13a13\")>,\n",
       " <selenium.webdriver.remote.webelement.WebElement (session=\"f53eee8d6c7a3e4babb4df3e0f368b27\", element=\"67acc406-93b9-4012-88ca-3cd15a00f55e\")>,\n",
       " <selenium.webdriver.remote.webelement.WebElement (session=\"f53eee8d6c7a3e4babb4df3e0f368b27\", element=\"a6024fb2-0dd0-4fc0-b577-434542bbeaf1\")>,\n",
       " <selenium.webdriver.remote.webelement.WebElement (session=\"f53eee8d6c7a3e4babb4df3e0f368b27\", element=\"f4ed1ee9-02ab-42cb-b92e-1cbb393abe65\")>,\n",
       " <selenium.webdriver.remote.webelement.WebElement (session=\"f53eee8d6c7a3e4babb4df3e0f368b27\", element=\"c4f227b7-3637-4af2-b3f3-b2d430081085\")>,\n",
       " <selenium.webdriver.remote.webelement.WebElement (session=\"f53eee8d6c7a3e4babb4df3e0f368b27\", element=\"93245b3b-8dc4-4e6f-a2c3-789505d4527e\")>,\n",
       " <selenium.webdriver.remote.webelement.WebElement (session=\"f53eee8d6c7a3e4babb4df3e0f368b27\", element=\"ea6d5f25-734a-4c1f-ba50-d546b0829145\")>,\n",
       " <selenium.webdriver.remote.webelement.WebElement (session=\"f53eee8d6c7a3e4babb4df3e0f368b27\", element=\"a0e279c8-fcdf-4682-9292-f74fc74f5fcd\")>,\n",
       " <selenium.webdriver.remote.webelement.WebElement (session=\"f53eee8d6c7a3e4babb4df3e0f368b27\", element=\"df95d529-aa3a-44cf-be6c-a3783f244aa8\")>,\n",
       " <selenium.webdriver.remote.webelement.WebElement (session=\"f53eee8d6c7a3e4babb4df3e0f368b27\", element=\"36cb36c1-3ba7-4e0d-baa0-a2751e87da12\")>,\n",
       " <selenium.webdriver.remote.webelement.WebElement (session=\"f53eee8d6c7a3e4babb4df3e0f368b27\", element=\"7b0f0209-ce22-417f-9976-ace985eae9d2\")>,\n",
       " <selenium.webdriver.remote.webelement.WebElement (session=\"f53eee8d6c7a3e4babb4df3e0f368b27\", element=\"3079b55c-42cd-4558-b646-431b5e4dfd70\")>,\n",
       " <selenium.webdriver.remote.webelement.WebElement (session=\"f53eee8d6c7a3e4babb4df3e0f368b27\", element=\"a87419fa-9245-4e37-a3fa-b375cecca96c\")>,\n",
       " <selenium.webdriver.remote.webelement.WebElement (session=\"f53eee8d6c7a3e4babb4df3e0f368b27\", element=\"a483da67-778a-4344-837b-732dc4550563\")>,\n",
       " <selenium.webdriver.remote.webelement.WebElement (session=\"f53eee8d6c7a3e4babb4df3e0f368b27\", element=\"52bb16a0-9505-4df6-8d0f-8bd53a445319\")>,\n",
       " <selenium.webdriver.remote.webelement.WebElement (session=\"f53eee8d6c7a3e4babb4df3e0f368b27\", element=\"8cf0f489-a227-4cdb-ad44-dbe3a53a6e74\")>,\n",
       " <selenium.webdriver.remote.webelement.WebElement (session=\"f53eee8d6c7a3e4babb4df3e0f368b27\", element=\"d3679c5f-4718-40fa-be83-cbd5937e862e\")>,\n",
       " <selenium.webdriver.remote.webelement.WebElement (session=\"f53eee8d6c7a3e4babb4df3e0f368b27\", element=\"2cdd8d8d-1fc8-4c2d-8c8c-89b957811ddf\")>,\n",
       " <selenium.webdriver.remote.webelement.WebElement (session=\"f53eee8d6c7a3e4babb4df3e0f368b27\", element=\"e3951419-bdda-44e2-a93f-1ed512d90685\")>,\n",
       " <selenium.webdriver.remote.webelement.WebElement (session=\"f53eee8d6c7a3e4babb4df3e0f368b27\", element=\"ef25e02a-5f43-481e-ba49-4e5e6ac00515\")>,\n",
       " <selenium.webdriver.remote.webelement.WebElement (session=\"f53eee8d6c7a3e4babb4df3e0f368b27\", element=\"003662b7-294f-45b6-9140-57cfaa63330f\")>,\n",
       " <selenium.webdriver.remote.webelement.WebElement (session=\"f53eee8d6c7a3e4babb4df3e0f368b27\", element=\"da951a19-fd38-40c5-8e63-789b2dec09cd\")>,\n",
       " <selenium.webdriver.remote.webelement.WebElement (session=\"f53eee8d6c7a3e4babb4df3e0f368b27\", element=\"a37a85b1-3e44-4162-abe6-107093e1d9cc\")>,\n",
       " <selenium.webdriver.remote.webelement.WebElement (session=\"f53eee8d6c7a3e4babb4df3e0f368b27\", element=\"ac2e5fad-4c0d-4d19-86b8-5f6ca0ead527\")>,\n",
       " <selenium.webdriver.remote.webelement.WebElement (session=\"f53eee8d6c7a3e4babb4df3e0f368b27\", element=\"c12972c8-8c8e-4e82-958c-3941502698c5\")>,\n",
       " <selenium.webdriver.remote.webelement.WebElement (session=\"f53eee8d6c7a3e4babb4df3e0f368b27\", element=\"43c1372c-a802-4cee-a036-d76ecffe88b9\")>,\n",
       " <selenium.webdriver.remote.webelement.WebElement (session=\"f53eee8d6c7a3e4babb4df3e0f368b27\", element=\"b5e3752f-74e1-4aab-a829-c406d752d2c3\")>,\n",
       " <selenium.webdriver.remote.webelement.WebElement (session=\"f53eee8d6c7a3e4babb4df3e0f368b27\", element=\"a076cf4a-84d3-4d6d-a575-32a0e05bfd31\")>,\n",
       " <selenium.webdriver.remote.webelement.WebElement (session=\"f53eee8d6c7a3e4babb4df3e0f368b27\", element=\"20177403-0e43-407f-b963-b98211183512\")>,\n",
       " <selenium.webdriver.remote.webelement.WebElement (session=\"f53eee8d6c7a3e4babb4df3e0f368b27\", element=\"ccaf9bdc-1425-4338-b5bf-de914914846c\")>,\n",
       " <selenium.webdriver.remote.webelement.WebElement (session=\"f53eee8d6c7a3e4babb4df3e0f368b27\", element=\"13b4476c-59d9-479b-adff-18581dbe2846\")>,\n",
       " <selenium.webdriver.remote.webelement.WebElement (session=\"f53eee8d6c7a3e4babb4df3e0f368b27\", element=\"2e4690f1-f69c-47f1-904f-248ca3078c56\")>,\n",
       " <selenium.webdriver.remote.webelement.WebElement (session=\"f53eee8d6c7a3e4babb4df3e0f368b27\", element=\"1a8de8cf-b042-4105-b7a2-d61d15a4d05c\")>,\n",
       " <selenium.webdriver.remote.webelement.WebElement (session=\"f53eee8d6c7a3e4babb4df3e0f368b27\", element=\"a95c9242-0459-40cf-aec4-e6da59d65cc1\")>,\n",
       " <selenium.webdriver.remote.webelement.WebElement (session=\"f53eee8d6c7a3e4babb4df3e0f368b27\", element=\"f1f4d2c0-eb67-4b1c-8311-9187b556495e\")>,\n",
       " <selenium.webdriver.remote.webelement.WebElement (session=\"f53eee8d6c7a3e4babb4df3e0f368b27\", element=\"f1e29f38-d011-4997-8a7a-bf5b90da394e\")>,\n",
       " <selenium.webdriver.remote.webelement.WebElement (session=\"f53eee8d6c7a3e4babb4df3e0f368b27\", element=\"24069cd0-d824-4f1a-8e82-aebed5afa79d\")>,\n",
       " <selenium.webdriver.remote.webelement.WebElement (session=\"f53eee8d6c7a3e4babb4df3e0f368b27\", element=\"141ce5ec-3a93-43af-a484-4d00c2930a9b\")>,\n",
       " <selenium.webdriver.remote.webelement.WebElement (session=\"f53eee8d6c7a3e4babb4df3e0f368b27\", element=\"29baeca5-5633-49e5-b675-a2232a9d7742\")>,\n",
       " <selenium.webdriver.remote.webelement.WebElement (session=\"f53eee8d6c7a3e4babb4df3e0f368b27\", element=\"023d04b0-2788-45cd-bd58-79095ea5c360\")>,\n",
       " <selenium.webdriver.remote.webelement.WebElement (session=\"f53eee8d6c7a3e4babb4df3e0f368b27\", element=\"fc4798e2-327d-4d2d-b5fa-4b0656d9cfdf\")>,\n",
       " <selenium.webdriver.remote.webelement.WebElement (session=\"f53eee8d6c7a3e4babb4df3e0f368b27\", element=\"ac569150-0d9a-4767-ae10-3fe8c0e1f4eb\")>,\n",
       " <selenium.webdriver.remote.webelement.WebElement (session=\"f53eee8d6c7a3e4babb4df3e0f368b27\", element=\"fa4db3e8-bd3f-4b7f-a8c2-e9bcdacb0b66\")>,\n",
       " <selenium.webdriver.remote.webelement.WebElement (session=\"f53eee8d6c7a3e4babb4df3e0f368b27\", element=\"6b18232d-9070-43c8-a3dd-f402d74fdbcd\")>,\n",
       " <selenium.webdriver.remote.webelement.WebElement (session=\"f53eee8d6c7a3e4babb4df3e0f368b27\", element=\"c24bce78-d643-4ede-b35b-20bab754d239\")>,\n",
       " <selenium.webdriver.remote.webelement.WebElement (session=\"f53eee8d6c7a3e4babb4df3e0f368b27\", element=\"b926324f-b185-4c50-966b-6f45ce1062d5\")>,\n",
       " <selenium.webdriver.remote.webelement.WebElement (session=\"f53eee8d6c7a3e4babb4df3e0f368b27\", element=\"c3e84e1f-780d-4afa-83ac-bebb79bcb8f0\")>,\n",
       " <selenium.webdriver.remote.webelement.WebElement (session=\"f53eee8d6c7a3e4babb4df3e0f368b27\", element=\"8b2a55b6-791e-4ab9-94ab-38a18830fb93\")>,\n",
       " <selenium.webdriver.remote.webelement.WebElement (session=\"f53eee8d6c7a3e4babb4df3e0f368b27\", element=\"793a72e9-f451-490e-93ad-d69486d56ee0\")>,\n",
       " <selenium.webdriver.remote.webelement.WebElement (session=\"f53eee8d6c7a3e4babb4df3e0f368b27\", element=\"93c57e56-ed0d-4293-9043-32e701ae30b4\")>,\n",
       " <selenium.webdriver.remote.webelement.WebElement (session=\"f53eee8d6c7a3e4babb4df3e0f368b27\", element=\"719d0b36-b2d8-4162-b6b3-064af0de8233\")>,\n",
       " <selenium.webdriver.remote.webelement.WebElement (session=\"f53eee8d6c7a3e4babb4df3e0f368b27\", element=\"71ee7faa-f3ca-4068-866a-523c3bbeb738\")>,\n",
       " <selenium.webdriver.remote.webelement.WebElement (session=\"f53eee8d6c7a3e4babb4df3e0f368b27\", element=\"f0738af7-feeb-4d8d-8a63-5b50a061b299\")>,\n",
       " <selenium.webdriver.remote.webelement.WebElement (session=\"f53eee8d6c7a3e4babb4df3e0f368b27\", element=\"32ebc515-7989-4c4c-bfc6-b5f1c6822e20\")>,\n",
       " <selenium.webdriver.remote.webelement.WebElement (session=\"f53eee8d6c7a3e4babb4df3e0f368b27\", element=\"6d77ba48-b56f-45bd-ab5e-8c171ad90459\")>,\n",
       " <selenium.webdriver.remote.webelement.WebElement (session=\"f53eee8d6c7a3e4babb4df3e0f368b27\", element=\"cb6d8129-9655-47c3-a1d7-b859d802d099\")>,\n",
       " <selenium.webdriver.remote.webelement.WebElement (session=\"f53eee8d6c7a3e4babb4df3e0f368b27\", element=\"69df74f6-f1cf-4ada-bf70-452fd289b3b1\")>,\n",
       " <selenium.webdriver.remote.webelement.WebElement (session=\"f53eee8d6c7a3e4babb4df3e0f368b27\", element=\"38f4a103-a94d-4264-b1c5-721be321e922\")>,\n",
       " <selenium.webdriver.remote.webelement.WebElement (session=\"f53eee8d6c7a3e4babb4df3e0f368b27\", element=\"8d3a88f4-5326-45ea-9ecc-68897fb99e4b\")>,\n",
       " <selenium.webdriver.remote.webelement.WebElement (session=\"f53eee8d6c7a3e4babb4df3e0f368b27\", element=\"97bfc10e-d5b7-432b-886d-43a9a1298c4a\")>,\n",
       " <selenium.webdriver.remote.webelement.WebElement (session=\"f53eee8d6c7a3e4babb4df3e0f368b27\", element=\"fbbe15d7-98b0-40f9-925d-9488e4a52593\")>,\n",
       " <selenium.webdriver.remote.webelement.WebElement (session=\"f53eee8d6c7a3e4babb4df3e0f368b27\", element=\"99d3e9ab-ce4d-45c1-ac3d-3df8545d29f7\")>,\n",
       " <selenium.webdriver.remote.webelement.WebElement (session=\"f53eee8d6c7a3e4babb4df3e0f368b27\", element=\"ce8a439f-4e6a-4d86-b9b1-6786f3fe9ec7\")>,\n",
       " <selenium.webdriver.remote.webelement.WebElement (session=\"f53eee8d6c7a3e4babb4df3e0f368b27\", element=\"8d4c90f5-4efe-42c1-99d6-0c6d8522b876\")>,\n",
       " <selenium.webdriver.remote.webelement.WebElement (session=\"f53eee8d6c7a3e4babb4df3e0f368b27\", element=\"5ac0f5e2-764e-44ed-aff8-4d59a129b6c5\")>,\n",
       " <selenium.webdriver.remote.webelement.WebElement (session=\"f53eee8d6c7a3e4babb4df3e0f368b27\", element=\"fab11f01-c6fc-48d0-84ee-d996b08d094e\")>,\n",
       " <selenium.webdriver.remote.webelement.WebElement (session=\"f53eee8d6c7a3e4babb4df3e0f368b27\", element=\"6d6aefbb-5c11-44c3-a262-db9ad672abb7\")>,\n",
       " <selenium.webdriver.remote.webelement.WebElement (session=\"f53eee8d6c7a3e4babb4df3e0f368b27\", element=\"475efbfb-b33d-424d-b6a3-7c71a978e1a8\")>,\n",
       " <selenium.webdriver.remote.webelement.WebElement (session=\"f53eee8d6c7a3e4babb4df3e0f368b27\", element=\"63a4b8f9-048b-452d-a32e-d9c4a08a5a9c\")>,\n",
       " <selenium.webdriver.remote.webelement.WebElement (session=\"f53eee8d6c7a3e4babb4df3e0f368b27\", element=\"196d310f-18e0-451d-be1a-db8b268b4aea\")>,\n",
       " <selenium.webdriver.remote.webelement.WebElement (session=\"f53eee8d6c7a3e4babb4df3e0f368b27\", element=\"1a7d2ca8-2f56-4f7f-b7d8-698f69b9a6d5\")>,\n",
       " <selenium.webdriver.remote.webelement.WebElement (session=\"f53eee8d6c7a3e4babb4df3e0f368b27\", element=\"c5ce01fe-b960-4a5a-9d29-715116b7037e\")>,\n",
       " <selenium.webdriver.remote.webelement.WebElement (session=\"f53eee8d6c7a3e4babb4df3e0f368b27\", element=\"162462a6-d8b2-4596-b369-76581f3235d9\")>,\n",
       " <selenium.webdriver.remote.webelement.WebElement (session=\"f53eee8d6c7a3e4babb4df3e0f368b27\", element=\"8ba40332-b726-4844-8200-a12d0866f6f6\")>,\n",
       " <selenium.webdriver.remote.webelement.WebElement (session=\"f53eee8d6c7a3e4babb4df3e0f368b27\", element=\"53e8c33b-89e7-4a00-bbff-de7c38f02e7f\")>,\n",
       " <selenium.webdriver.remote.webelement.WebElement (session=\"f53eee8d6c7a3e4babb4df3e0f368b27\", element=\"5ff5a78e-0645-481b-a4dc-0f28bea7edeb\")>,\n",
       " <selenium.webdriver.remote.webelement.WebElement (session=\"f53eee8d6c7a3e4babb4df3e0f368b27\", element=\"1c857556-9216-4db7-9e2c-601899b5ac04\")>,\n",
       " <selenium.webdriver.remote.webelement.WebElement (session=\"f53eee8d6c7a3e4babb4df3e0f368b27\", element=\"0cc93113-55a6-4c20-aec3-40c57fe6ee4d\")>,\n",
       " <selenium.webdriver.remote.webelement.WebElement (session=\"f53eee8d6c7a3e4babb4df3e0f368b27\", element=\"0cc025f2-541d-4ff3-9c4d-04beb24f5032\")>,\n",
       " <selenium.webdriver.remote.webelement.WebElement (session=\"f53eee8d6c7a3e4babb4df3e0f368b27\", element=\"b9248c87-1489-4945-a562-cff375cb9705\")>,\n",
       " <selenium.webdriver.remote.webelement.WebElement (session=\"f53eee8d6c7a3e4babb4df3e0f368b27\", element=\"fb63c668-78f7-488e-8921-861106848246\")>,\n",
       " <selenium.webdriver.remote.webelement.WebElement (session=\"f53eee8d6c7a3e4babb4df3e0f368b27\", element=\"84f21fa7-730d-40c2-971c-65555ad5529e\")>,\n",
       " <selenium.webdriver.remote.webelement.WebElement (session=\"f53eee8d6c7a3e4babb4df3e0f368b27\", element=\"f0fc4d14-dae2-4b20-b6a8-d5fad7140cc8\")>,\n",
       " <selenium.webdriver.remote.webelement.WebElement (session=\"f53eee8d6c7a3e4babb4df3e0f368b27\", element=\"09db3553-3f06-435c-b198-905d48318dfe\")>,\n",
       " <selenium.webdriver.remote.webelement.WebElement (session=\"f53eee8d6c7a3e4babb4df3e0f368b27\", element=\"0ff836eb-8fcd-45f3-a8b9-115c94f96f99\")>,\n",
       " <selenium.webdriver.remote.webelement.WebElement (session=\"f53eee8d6c7a3e4babb4df3e0f368b27\", element=\"20015a89-40c3-4d73-9875-bff90c87f8d8\")>,\n",
       " <selenium.webdriver.remote.webelement.WebElement (session=\"f53eee8d6c7a3e4babb4df3e0f368b27\", element=\"aeff6102-c4db-4199-8371-8009f485bf11\")>,\n",
       " <selenium.webdriver.remote.webelement.WebElement (session=\"f53eee8d6c7a3e4babb4df3e0f368b27\", element=\"ce6eaed2-e163-44d2-bb1c-8af98df12d85\")>,\n",
       " <selenium.webdriver.remote.webelement.WebElement (session=\"f53eee8d6c7a3e4babb4df3e0f368b27\", element=\"19435dc7-63da-4822-b629-efd6b3b1c0e2\")>,\n",
       " <selenium.webdriver.remote.webelement.WebElement (session=\"f53eee8d6c7a3e4babb4df3e0f368b27\", element=\"9a81bc10-a93e-43f0-a65c-6b15f91253b1\")>,\n",
       " <selenium.webdriver.remote.webelement.WebElement (session=\"f53eee8d6c7a3e4babb4df3e0f368b27\", element=\"37907c12-3be8-4237-8f6f-12ce47fa14ad\")>,\n",
       " <selenium.webdriver.remote.webelement.WebElement (session=\"f53eee8d6c7a3e4babb4df3e0f368b27\", element=\"54aad2b5-7991-41f3-8a0b-0291117dc46f\")>,\n",
       " <selenium.webdriver.remote.webelement.WebElement (session=\"f53eee8d6c7a3e4babb4df3e0f368b27\", element=\"3268892e-f797-472f-ad8c-1b34940f8fef\")>,\n",
       " <selenium.webdriver.remote.webelement.WebElement (session=\"f53eee8d6c7a3e4babb4df3e0f368b27\", element=\"9d3da7f5-39bb-4b27-b863-7cfd0c14fed8\")>,\n",
       " <selenium.webdriver.remote.webelement.WebElement (session=\"f53eee8d6c7a3e4babb4df3e0f368b27\", element=\"1805bd71-1d7f-41b6-9d0f-a8b89123a4fe\")>,\n",
       " <selenium.webdriver.remote.webelement.WebElement (session=\"f53eee8d6c7a3e4babb4df3e0f368b27\", element=\"cbc9581c-287c-44b0-b80f-7d7a708170c2\")>,\n",
       " <selenium.webdriver.remote.webelement.WebElement (session=\"f53eee8d6c7a3e4babb4df3e0f368b27\", element=\"b90dfbd7-7da1-49eb-b295-8c503b48457e\")>,\n",
       " <selenium.webdriver.remote.webelement.WebElement (session=\"f53eee8d6c7a3e4babb4df3e0f368b27\", element=\"fd156205-08b3-4edb-a479-4120739429c9\")>,\n",
       " <selenium.webdriver.remote.webelement.WebElement (session=\"f53eee8d6c7a3e4babb4df3e0f368b27\", element=\"7132cbf0-9104-4ea9-9e64-8f05b806d3f9\")>,\n",
       " <selenium.webdriver.remote.webelement.WebElement (session=\"f53eee8d6c7a3e4babb4df3e0f368b27\", element=\"54fdce1e-ba21-4d77-aafa-a22159811cee\")>,\n",
       " <selenium.webdriver.remote.webelement.WebElement (session=\"f53eee8d6c7a3e4babb4df3e0f368b27\", element=\"d432681e-7286-4e76-8688-adba8618361c\")>,\n",
       " <selenium.webdriver.remote.webelement.WebElement (session=\"f53eee8d6c7a3e4babb4df3e0f368b27\", element=\"ba8ca31d-c800-4310-9f04-36e3dac80c34\")>,\n",
       " <selenium.webdriver.remote.webelement.WebElement (session=\"f53eee8d6c7a3e4babb4df3e0f368b27\", element=\"737d8d47-a3e1-4372-b047-63cd459c8d9d\")>,\n",
       " <selenium.webdriver.remote.webelement.WebElement (session=\"f53eee8d6c7a3e4babb4df3e0f368b27\", element=\"30c48780-1699-4894-b93d-c951c4a48f4a\")>,\n",
       " <selenium.webdriver.remote.webelement.WebElement (session=\"f53eee8d6c7a3e4babb4df3e0f368b27\", element=\"718205d8-4e37-4050-9ab6-51b5a66a9845\")>,\n",
       " <selenium.webdriver.remote.webelement.WebElement (session=\"f53eee8d6c7a3e4babb4df3e0f368b27\", element=\"6c5c2fe3-a190-49a6-a7c5-160ffa7a406f\")>,\n",
       " <selenium.webdriver.remote.webelement.WebElement (session=\"f53eee8d6c7a3e4babb4df3e0f368b27\", element=\"ca6c4a24-fda4-4ca0-a02b-b1d865ebd7f6\")>,\n",
       " <selenium.webdriver.remote.webelement.WebElement (session=\"f53eee8d6c7a3e4babb4df3e0f368b27\", element=\"0875b059-23f8-4fff-9540-39c8f399b61b\")>,\n",
       " <selenium.webdriver.remote.webelement.WebElement (session=\"f53eee8d6c7a3e4babb4df3e0f368b27\", element=\"ce8562d7-21d4-4c65-8404-64f7d132c1b9\")>,\n",
       " <selenium.webdriver.remote.webelement.WebElement (session=\"f53eee8d6c7a3e4babb4df3e0f368b27\", element=\"68429117-606e-43e5-b365-7717a985cb1b\")>,\n",
       " <selenium.webdriver.remote.webelement.WebElement (session=\"f53eee8d6c7a3e4babb4df3e0f368b27\", element=\"766f434f-25af-4b9b-89a4-d8c822b32450\")>,\n",
       " <selenium.webdriver.remote.webelement.WebElement (session=\"f53eee8d6c7a3e4babb4df3e0f368b27\", element=\"70d1acba-5894-417d-a91e-fc6e5b5ec27a\")>,\n",
       " <selenium.webdriver.remote.webelement.WebElement (session=\"f53eee8d6c7a3e4babb4df3e0f368b27\", element=\"21f53bbe-cdb0-41f3-96fa-e43aad1f5ef9\")>,\n",
       " <selenium.webdriver.remote.webelement.WebElement (session=\"f53eee8d6c7a3e4babb4df3e0f368b27\", element=\"450d4ae6-7cda-458a-8a7f-9a7b031b748e\")>,\n",
       " <selenium.webdriver.remote.webelement.WebElement (session=\"f53eee8d6c7a3e4babb4df3e0f368b27\", element=\"5b303b5c-5b14-4718-a797-ca3c6dd6a960\")>,\n",
       " <selenium.webdriver.remote.webelement.WebElement (session=\"f53eee8d6c7a3e4babb4df3e0f368b27\", element=\"dd17e45f-e6af-4aaa-bc27-bb2a47775893\")>,\n",
       " <selenium.webdriver.remote.webelement.WebElement (session=\"f53eee8d6c7a3e4babb4df3e0f368b27\", element=\"e291faf1-2721-4284-8c23-cceaa8cda478\")>,\n",
       " <selenium.webdriver.remote.webelement.WebElement (session=\"f53eee8d6c7a3e4babb4df3e0f368b27\", element=\"7dfd5cc4-a33f-419c-a8e6-33b272143baf\")>,\n",
       " <selenium.webdriver.remote.webelement.WebElement (session=\"f53eee8d6c7a3e4babb4df3e0f368b27\", element=\"3d50b6f2-d4ae-48e8-9d80-6d3ca18cea64\")>,\n",
       " <selenium.webdriver.remote.webelement.WebElement (session=\"f53eee8d6c7a3e4babb4df3e0f368b27\", element=\"939e0f47-e339-4f74-a7a0-4be03f9d9798\")>,\n",
       " <selenium.webdriver.remote.webelement.WebElement (session=\"f53eee8d6c7a3e4babb4df3e0f368b27\", element=\"38368252-3a70-477c-86a2-c3c866da07df\")>,\n",
       " <selenium.webdriver.remote.webelement.WebElement (session=\"f53eee8d6c7a3e4babb4df3e0f368b27\", element=\"f7f37a66-8176-41b8-992d-05b1bee14f2e\")>,\n",
       " <selenium.webdriver.remote.webelement.WebElement (session=\"f53eee8d6c7a3e4babb4df3e0f368b27\", element=\"7a0f852e-0adb-4d34-bb54-8ddb8a5a6ea0\")>,\n",
       " <selenium.webdriver.remote.webelement.WebElement (session=\"f53eee8d6c7a3e4babb4df3e0f368b27\", element=\"3503dc3b-7469-4e86-be3f-a7ee90abfb12\")>,\n",
       " <selenium.webdriver.remote.webelement.WebElement (session=\"f53eee8d6c7a3e4babb4df3e0f368b27\", element=\"fd7a77ef-a98d-4276-81cd-3a7d0992228d\")>,\n",
       " <selenium.webdriver.remote.webelement.WebElement (session=\"f53eee8d6c7a3e4babb4df3e0f368b27\", element=\"a8ced40b-0367-4e3b-9942-25df9373b308\")>,\n",
       " <selenium.webdriver.remote.webelement.WebElement (session=\"f53eee8d6c7a3e4babb4df3e0f368b27\", element=\"cf900d72-dbfe-4b79-915d-81fc31b3eeab\")>,\n",
       " <selenium.webdriver.remote.webelement.WebElement (session=\"f53eee8d6c7a3e4babb4df3e0f368b27\", element=\"8c134713-124d-4200-ae52-9680c09da41b\")>,\n",
       " <selenium.webdriver.remote.webelement.WebElement (session=\"f53eee8d6c7a3e4babb4df3e0f368b27\", element=\"329b11c7-10a5-4706-a28a-181ee4d0d051\")>,\n",
       " <selenium.webdriver.remote.webelement.WebElement (session=\"f53eee8d6c7a3e4babb4df3e0f368b27\", element=\"1dfc276a-807c-420c-adeb-c075e708db3c\")>,\n",
       " <selenium.webdriver.remote.webelement.WebElement (session=\"f53eee8d6c7a3e4babb4df3e0f368b27\", element=\"77b96d2d-fe13-4715-b685-057907d1e453\")>,\n",
       " <selenium.webdriver.remote.webelement.WebElement (session=\"f53eee8d6c7a3e4babb4df3e0f368b27\", element=\"ac046afa-2494-47f8-913f-cc8b8df96fde\")>,\n",
       " <selenium.webdriver.remote.webelement.WebElement (session=\"f53eee8d6c7a3e4babb4df3e0f368b27\", element=\"497ba1d1-9534-4bad-b546-e3ecab2648c9\")>,\n",
       " <selenium.webdriver.remote.webelement.WebElement (session=\"f53eee8d6c7a3e4babb4df3e0f368b27\", element=\"2a7bbca3-7e1a-4027-b69f-b43b85e42d95\")>,\n",
       " <selenium.webdriver.remote.webelement.WebElement (session=\"f53eee8d6c7a3e4babb4df3e0f368b27\", element=\"e5a343ec-08c0-4e74-8fc5-2a3652c146bb\")>,\n",
       " <selenium.webdriver.remote.webelement.WebElement (session=\"f53eee8d6c7a3e4babb4df3e0f368b27\", element=\"14e2c4b3-d5e1-4324-997c-439ac91e7d1a\")>,\n",
       " <selenium.webdriver.remote.webelement.WebElement (session=\"f53eee8d6c7a3e4babb4df3e0f368b27\", element=\"c50ef0a7-7995-45de-95ba-27e5fa9e8e08\")>,\n",
       " <selenium.webdriver.remote.webelement.WebElement (session=\"f53eee8d6c7a3e4babb4df3e0f368b27\", element=\"2d1bb3a6-6bcc-466f-8d06-6c7ca7daf7f2\")>,\n",
       " <selenium.webdriver.remote.webelement.WebElement (session=\"f53eee8d6c7a3e4babb4df3e0f368b27\", element=\"a70e6146-f0b1-4dc6-97f0-b379bd0e1bbb\")>,\n",
       " <selenium.webdriver.remote.webelement.WebElement (session=\"f53eee8d6c7a3e4babb4df3e0f368b27\", element=\"f236e2f9-8794-4aae-8be1-195cef02e20b\")>,\n",
       " <selenium.webdriver.remote.webelement.WebElement (session=\"f53eee8d6c7a3e4babb4df3e0f368b27\", element=\"123a0c3b-300e-4327-a821-76549127a1ed\")>,\n",
       " <selenium.webdriver.remote.webelement.WebElement (session=\"f53eee8d6c7a3e4babb4df3e0f368b27\", element=\"e7a23384-2be6-4613-8302-2d57318fe4b5\")>,\n",
       " <selenium.webdriver.remote.webelement.WebElement (session=\"f53eee8d6c7a3e4babb4df3e0f368b27\", element=\"85d73d80-2806-479e-9d11-45b0db954636\")>,\n",
       " <selenium.webdriver.remote.webelement.WebElement (session=\"f53eee8d6c7a3e4babb4df3e0f368b27\", element=\"32b74c6b-1c96-46ef-8afc-120cc2ce816e\")>,\n",
       " <selenium.webdriver.remote.webelement.WebElement (session=\"f53eee8d6c7a3e4babb4df3e0f368b27\", element=\"38c5e875-6bf0-403a-8979-b8bb7ce7c580\")>,\n",
       " <selenium.webdriver.remote.webelement.WebElement (session=\"f53eee8d6c7a3e4babb4df3e0f368b27\", element=\"4f7414e9-7de9-4db2-b106-bce4f9ae0899\")>,\n",
       " <selenium.webdriver.remote.webelement.WebElement (session=\"f53eee8d6c7a3e4babb4df3e0f368b27\", element=\"a1e83add-9111-46da-8421-1b3b34ca12db\")>,\n",
       " <selenium.webdriver.remote.webelement.WebElement (session=\"f53eee8d6c7a3e4babb4df3e0f368b27\", element=\"61cd14a1-9c35-4be5-a6e8-b399e2b62bdf\")>,\n",
       " <selenium.webdriver.remote.webelement.WebElement (session=\"f53eee8d6c7a3e4babb4df3e0f368b27\", element=\"19690d6b-91d3-410a-b942-e4b4beefb152\")>,\n",
       " <selenium.webdriver.remote.webelement.WebElement (session=\"f53eee8d6c7a3e4babb4df3e0f368b27\", element=\"2580ee14-8f77-4b9b-a2f8-efec5d0cc1b2\")>,\n",
       " <selenium.webdriver.remote.webelement.WebElement (session=\"f53eee8d6c7a3e4babb4df3e0f368b27\", element=\"dca3fe07-2ed8-435c-baa0-3db0f3e3d24d\")>,\n",
       " <selenium.webdriver.remote.webelement.WebElement (session=\"f53eee8d6c7a3e4babb4df3e0f368b27\", element=\"a9f244c5-23ab-4d23-b160-052a266a39a8\")>,\n",
       " <selenium.webdriver.remote.webelement.WebElement (session=\"f53eee8d6c7a3e4babb4df3e0f368b27\", element=\"f48cf026-8134-4fc7-bcdd-4bf6b19cc73f\")>,\n",
       " <selenium.webdriver.remote.webelement.WebElement (session=\"f53eee8d6c7a3e4babb4df3e0f368b27\", element=\"0ebb6fdc-9ff7-4016-a0cd-89b5751aab34\")>,\n",
       " <selenium.webdriver.remote.webelement.WebElement (session=\"f53eee8d6c7a3e4babb4df3e0f368b27\", element=\"6a388e58-71f3-4c8d-a0b3-50c77640c107\")>,\n",
       " <selenium.webdriver.remote.webelement.WebElement (session=\"f53eee8d6c7a3e4babb4df3e0f368b27\", element=\"d1798d17-3dfc-467e-b587-1ff85278a043\")>,\n",
       " <selenium.webdriver.remote.webelement.WebElement (session=\"f53eee8d6c7a3e4babb4df3e0f368b27\", element=\"25dd21d7-33b6-4f13-9605-d3f540186ee6\")>,\n",
       " <selenium.webdriver.remote.webelement.WebElement (session=\"f53eee8d6c7a3e4babb4df3e0f368b27\", element=\"cd976445-705c-4166-9130-12042ef34705\")>,\n",
       " <selenium.webdriver.remote.webelement.WebElement (session=\"f53eee8d6c7a3e4babb4df3e0f368b27\", element=\"8bc9021f-46df-4312-bb96-e6457f751214\")>,\n",
       " <selenium.webdriver.remote.webelement.WebElement (session=\"f53eee8d6c7a3e4babb4df3e0f368b27\", element=\"93a69035-b548-4da2-809f-8504c535bc7a\")>]"
      ]
     },
     "execution_count": 237,
     "metadata": {},
     "output_type": "execute_result"
    }
   ],
   "source": [
    "browser.find_elements_by_tag_name('a')"
   ]
  },
  {
   "cell_type": "code",
   "execution_count": 238,
   "id": "3d9bc31c",
   "metadata": {},
   "outputs": [
    {
     "data": {
      "text/plain": [
       "511"
      ]
     },
     "execution_count": 238,
     "metadata": {},
     "output_type": "execute_result"
    }
   ],
   "source": [
    "len(browser.find_elements_by_tag_name('a'))"
   ]
  },
  {
   "cell_type": "code",
   "execution_count": 264,
   "id": "1c213af0",
   "metadata": {},
   "outputs": [],
   "source": [
    "browser.find_elements_by_css_selector('div.cont > a')[0].click()"
   ]
  },
  {
   "cell_type": "code",
   "execution_count": null,
   "id": "b2f50833",
   "metadata": {},
   "outputs": [],
   "source": []
  },
  {
   "cell_type": "code",
   "execution_count": null,
   "id": "659b3d07",
   "metadata": {},
   "outputs": [],
   "source": []
  },
  {
   "cell_type": "code",
   "execution_count": null,
   "id": "dd86d877",
   "metadata": {},
   "outputs": [],
   "source": []
  },
  {
   "cell_type": "code",
   "execution_count": 312,
   "id": "a1a54ffe",
   "metadata": {},
   "outputs": [],
   "source": [
    "browser.find_elements_by_css_selector('div.title-cp')[1].click()"
   ]
  },
  {
   "cell_type": "code",
   "execution_count": 314,
   "id": "c4ba7122",
   "metadata": {},
   "outputs": [
    {
     "data": {
      "text/plain": [
       "[]"
      ]
     },
     "execution_count": 314,
     "metadata": {},
     "output_type": "execute_result"
    }
   ],
   "source": [
    "contents = soup.select('div.news-view-body')\n",
    "contents"
   ]
  },
  {
   "cell_type": "code",
   "execution_count": 277,
   "id": "7685693d",
   "metadata": {},
   "outputs": [
    {
     "name": "stdout",
     "output_type": "stream",
     "text": [
      "[<selenium.webdriver.remote.webelement.WebElement (session=\"6070449031cfdc82566c4278c944a996\", element=\"11284e7f-0077-450d-9740-125c36a65e8d\")>]\n"
     ]
    }
   ],
   "source": [
    "content = browser.find_elements_by_css_selector('div.news-view-body')\n",
    "print(content)"
   ]
  },
  {
   "cell_type": "code",
   "execution_count": null,
   "id": "ad0f688c",
   "metadata": {},
   "outputs": [],
   "source": [
    "wholes = soup.select('div.news-inner')"
   ]
  },
  {
   "cell_type": "code",
   "execution_count": null,
   "id": "f42152b1",
   "metadata": {},
   "outputs": [],
   "source": [
    "div.news-view-body > div.img"
   ]
  },
  {
   "cell_type": "code",
   "execution_count": null,
   "id": "642914ed",
   "metadata": {},
   "outputs": [],
   "source": [
    "div.cont > a"
   ]
  },
  {
   "cell_type": "code",
   "execution_count": null,
   "id": "2a8fb883",
   "metadata": {},
   "outputs": [],
   "source": [
    "//*[@id=\"news-results\"]/div[1]/div/div[2]/a"
   ]
  },
  {
   "cell_type": "code",
   "execution_count": null,
   "id": "f3087a1d",
   "metadata": {},
   "outputs": [],
   "source": [
    "//*[@id=\"dataResult-news_quotation\"]/a"
   ]
  },
  {
   "cell_type": "code",
   "execution_count": 257,
   "id": "60e8190b",
   "metadata": {},
   "outputs": [],
   "source": [
    "browser.find_element_by_xpath(\"//li[@id='dataResult-news_quotation']/a\").click()"
   ]
  },
  {
   "cell_type": "code",
   "execution_count": 225,
   "id": "490ba811",
   "metadata": {},
   "outputs": [
    {
     "data": {
      "text/plain": [
       "'CDwindow-6F870AE080E8FB5DEE877ED6F91342B2'"
      ]
     },
     "execution_count": 225,
     "metadata": {},
     "output_type": "execute_result"
    }
   ],
   "source": [
    "browser.window_handles["
   ]
  },
  {
   "cell_type": "code",
   "execution_count": null,
   "id": "945b29f2",
   "metadata": {},
   "outputs": [],
   "source": [
    "driver.window_handles[1]"
   ]
  }
 ],
 "metadata": {
  "kernelspec": {
   "display_name": "Python 3",
   "language": "python",
   "name": "python3"
  },
  "language_info": {
   "codemirror_mode": {
    "name": "ipython",
    "version": 3
   },
   "file_extension": ".py",
   "mimetype": "text/x-python",
   "name": "python",
   "nbconvert_exporter": "python",
   "pygments_lexer": "ipython3",
   "version": "3.6.4"
  }
 },
 "nbformat": 4,
 "nbformat_minor": 5
}
