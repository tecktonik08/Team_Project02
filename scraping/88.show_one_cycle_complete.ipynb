{
 "cells": [
  {
   "cell_type": "code",
   "execution_count": 66,
   "id": "bc73f4b3",
   "metadata": {},
   "outputs": [],
   "source": [
    "import sqlite3\n",
    "from selenium import webdriver\n",
    "from selenium.webdriver.remote.webelement import WebElement\n",
    "from selenium.webdriver.common.keys import Keys\n",
    "from selenium.webdriver.support.ui import WebDriverWait\n",
    "from selenium.webdriver.common.by import By\n",
    "from selenium.webdriver.support import expected_conditions as EC\n",
    "from bs4 import BeautifulSoup\n",
    "import requests\n",
    "import pandas as pd\n",
    "import csv\n",
    "import time"
   ]
  },
  {
   "cell_type": "code",
   "execution_count": 67,
   "id": "02e07292",
   "metadata": {},
   "outputs": [],
   "source": [
    "db_news = sqlite3.connect('./practice.db')\n",
    "c = db_news.cursor()"
   ]
  },
  {
   "cell_type": "code",
   "execution_count": 68,
   "id": "c8c23b88",
   "metadata": {},
   "outputs": [],
   "source": [
    "# 이미 table이 있는 경우 주석처리\n",
    "c.execute(\"CREATE TABLE newspapers (id INTEGER PRIMARY KEY AUTOINCREMENT, title TEXT, press TEXT, category TEXT, date TEXT, name TEXT, text TEXT)\")"
   ]
  },
  {
   "cell_type": "code",
   "execution_count": 69,
   "id": "44bfafc3",
   "metadata": {},
   "outputs": [],
   "source": [
    "browser = webdriver.Chrome('C:\\chromedriver.exe')"
   ]
  },
  {
   "cell_type": "code",
   "execution_count": 70,
   "id": "4229b014",
   "metadata": {},
   "outputs": [],
   "source": [
    "browser.get('https://www.bigkinds.or.kr/v2/news/index.do')"
   ]
  },
  {
   "cell_type": "code",
   "execution_count": 71,
   "id": "c7155b07",
   "metadata": {},
   "outputs": [
    {
     "name": "stdout",
     "output_type": "stream",
     "text": [
      "['경향신문', '국민일보', '내일신문', '동아일보', '문화일보', '서울신문', '세계일보', '조선일보', '중앙일보', '한겨레', '한국일보', '매일경제', '머니투데이', '서울경제', '아시아경제', '아주경제', '파이낸셜뉴스', '한국경제', '헤럴드경제', '강원도민일보', '강원일보', '경기일보', '경남도민일보', '경남신문', '경상일보', '경인일보', '광주매일신문', '광주일보', '국제신문', '대구일보', '대전일보', '매일신문', '무등일보', '부산일보', '영남일보', '울산매일', '전남일보', '전북도민일보', '전북일보', '제민일보', '중도일보', '중부매일', '중부일보', '충북일보', '충청일보', '충청투데이', '한라일보', 'KBS', 'MBC', 'OBS', 'SBS', 'YTN', '디지털타임스', '전자신문']\n"
     ]
    }
   ],
   "source": [
    "# 언론사 분류\n",
    "str = '삭제경향신문삭제국민일보삭제내일신문삭제동아일보삭제문화일보삭제서울신문삭제세계일보삭제조선일보삭제중앙일보삭제한겨레삭제한국일보삭제매일경제삭제머니투데이삭제서울경제삭제아시아경제삭제아주경제삭제파이낸셜뉴스삭제한국경제삭제헤럴드경제삭제강원도민일보삭제강원일보삭제경기일보삭제경남도민일보삭제경남신문삭제경상일보삭제경인일보삭제광주매일신문삭제광주일보삭제국제신문삭제대구일보삭제대전일보삭제매일신문삭제무등일보삭제부산일보삭제영남일보삭제울산매일삭제전남일보삭제전북도민일보삭제전북일보삭제제민일보삭제중도일보삭제중부매일삭제중부일보삭제충북일보삭제충청일보삭제충청투데이삭제한라일보삭제KBS삭제MBC삭제OBS삭제SBS삭제YTN삭제디지털타임스삭제전자신문삭제'\n",
    "press_str = str.split('삭제')\n",
    "pres_list = press_str[1:-1]\n",
    "print(pres_list)"
   ]
  },
  {
   "cell_type": "code",
   "execution_count": 72,
   "id": "3fec7c2c",
   "metadata": {},
   "outputs": [
    {
     "name": "stdout",
     "output_type": "stream",
     "text": [
      "경향신문\n"
     ]
    }
   ],
   "source": [
    "# 기간 설정 ['시작날짜', '마지막날짜']\n",
    "date = ['2021-01-01', '2021-07-31']\n",
    "\n",
    "# 언론사 설정 press_list 中 1개 선택\n",
    "press = pres_list[0]\n",
    "print(press)"
   ]
  },
  {
   "cell_type": "code",
   "execution_count": 73,
   "id": "db1e58e4",
   "metadata": {},
   "outputs": [],
   "source": [
    "browser.find_element_by_xpath(\"//div[@class='tab-btn-inner tab1']\").click()"
   ]
  },
  {
   "cell_type": "code",
   "execution_count": 74,
   "id": "6ef99d0b",
   "metadata": {},
   "outputs": [],
   "source": [
    "start_date = browser.find_element_by_xpath(\"//input[@id='search-begin-date']\")\n",
    "start_date.click()\n",
    "start_date.send_keys(Keys.CONTROL + \"a\")\n",
    "start_date.send_keys(date[0])"
   ]
  },
  {
   "cell_type": "code",
   "execution_count": 75,
   "id": "2f6b6962",
   "metadata": {},
   "outputs": [],
   "source": [
    "end_date = browser.find_element_by_xpath(\"//input[@id='search-end-date']\")\n",
    "end_date.click()\n",
    "end_date.send_keys(Keys.CONTROL + \"a\")\n",
    "end_date.send_keys(date[1])"
   ]
  },
  {
   "cell_type": "code",
   "execution_count": 76,
   "id": "23615812",
   "metadata": {},
   "outputs": [],
   "source": [
    "browser.find_element_by_xpath(\"//div[@class='tab-btn-inner tab2']\").click()"
   ]
  },
  {
   "cell_type": "code",
   "execution_count": 77,
   "id": "f669553f",
   "metadata": {},
   "outputs": [],
   "source": [
    "press_ = browser.find_element_by_xpath(\"//label[contains(text() ,'\" + press + \"')]\")\n",
    "press_.click()"
   ]
  },
  {
   "cell_type": "code",
   "execution_count": 78,
   "id": "ab4fabc3",
   "metadata": {},
   "outputs": [],
   "source": [
    "time.sleep(1)\n",
    "browser.find_element_by_xpath(\"//button[@class='btn btn-search news-search-btn news-report-search-btn']\").click()"
   ]
  },
  {
   "cell_type": "code",
   "execution_count": 79,
   "id": "c2441900",
   "metadata": {},
   "outputs": [],
   "source": [
    "WebDriverWait(browser, 5).until(EC.presence_of_element_located((By.XPATH, \"//select[@id='select2']/option[4]\")))\n",
    "browser.find_element_by_xpath(\"//select[@id='select2']/option[4]\").click()"
   ]
  },
  {
   "cell_type": "code",
   "execution_count": 80,
   "id": "27f29b80",
   "metadata": {},
   "outputs": [],
   "source": [
    "WebDriverWait(browser, 2).until(EC.presence_of_element_located((By.CLASS_NAME, \"news-inner\")))\n",
    "time.sleep(1)\n",
    "html = browser.page_source\n",
    "soup = BeautifulSoup(html, 'html.parser')"
   ]
  },
  {
   "cell_type": "code",
   "execution_count": 81,
   "id": "77461639",
   "metadata": {},
   "outputs": [
    {
     "data": {
      "text/plain": [
       "100"
      ]
     },
     "execution_count": 81,
     "metadata": {},
     "output_type": "execute_result"
    }
   ],
   "source": [
    "wholes = soup.select('div.news-inner')\n",
    "len(wholes)"
   ]
  },
  {
   "cell_type": "code",
   "execution_count": 54,
   "id": "b98acd10",
   "metadata": {},
   "outputs": [
    {
     "data": {
      "text/plain": [
       "100"
      ]
     },
     "execution_count": 54,
     "metadata": {},
     "output_type": "execute_result"
    }
   ],
   "source": [
    "contents = [] # [제목, 언론사, 분류, 날짜, 기자이름, 기사내용]\n",
    "for whole in wholes:\n",
    "    title = whole.select('span.title-elipsis')\n",
    "    press =  whole.select('div.info > div > a')\n",
    "    category = whole.select('div.info > div > span.bullet-keyword')\n",
    "    date_name = whole.select('div.info > p')\n",
    "    contents.append([title[0].text.strip(), press[0].text.strip(), category[0].text.strip(), date_name[0].text.strip(), date_name[1].text.strip()])\n",
    "len(contents)"
   ]
  },
  {
   "cell_type": "code",
   "execution_count": 55,
   "id": "bef5ea51",
   "metadata": {},
   "outputs": [
    {
     "data": {
      "text/plain": [
       "100"
      ]
     },
     "execution_count": 55,
     "metadata": {},
     "output_type": "execute_result"
    }
   ],
   "source": [
    "#     WebDriverWait(browser, 5).until(EC.presence_of_element_located((By.CSS_SELECTOR, \"span.title-elipsis\")))\n",
    "    texts = []\n",
    "    for i in range(0, 100):\n",
    "        time.sleep(1)\n",
    "        browser.find_elements_by_css_selector('span.title-elipsis')[i].click()\n",
    "        WebDriverWait(browser, 2).until(EC.presence_of_element_located((By.CSS_SELECTOR, \"div.news-view-body\")))\n",
    "        time.sleep(1)\n",
    "        text = browser.find_elements_by_css_selector('div.news-view-body')[0].text\n",
    "        texts.append(text.replace('\\n', ''))\n",
    "        WebDriverWait(browser, 3).until(EC.presence_of_element_located((By.XPATH, \"//div[@id='news-detail-modal']/div/div/button\")))\n",
    "        time.sleep(1)\n",
    "        browser.find_element_by_xpath(\"//div[@id='news-detail-modal']/div/div/button\").click()"
   ]
  },
  {
   "cell_type": "code",
   "execution_count": 56,
   "id": "c1b397d9",
   "metadata": {},
   "outputs": [],
   "source": [
    "for i in range(0,len(texts)):\n",
    "    contents[i].append(texts[i])"
   ]
  },
  {
   "cell_type": "code",
   "execution_count": 57,
   "id": "32e4172c",
   "metadata": {},
   "outputs": [
    {
     "data": {
      "text/plain": [
       "6"
      ]
     },
     "execution_count": 57,
     "metadata": {},
     "output_type": "execute_result"
    }
   ],
   "source": [
    "len(contents)\n",
    "len(contents[0])"
   ]
  },
  {
   "cell_type": "code",
   "execution_count": 58,
   "id": "4fb2ad47",
   "metadata": {},
   "outputs": [],
   "source": [
    "    for content in contents:\n",
    "        title = content[0]\n",
    "        press = content[1]\n",
    "        category = content[2]\n",
    "        date = content[3]\n",
    "        name = content[4]\n",
    "        text = content[5]\n",
    "        c.execute(\"INSERT INTO newspapers (title, press, category, date, name, text) VALUES(?,?,?,?,?,?) \",(title, press, category, date, name, text))\n",
    "    time.sleep(1)"
   ]
  },
  {
   "cell_type": "code",
   "execution_count": 59,
   "id": "99bc43dc",
   "metadata": {},
   "outputs": [],
   "source": [
    "db_news.commit()"
   ]
  },
  {
   "cell_type": "code",
   "execution_count": 101,
   "id": "8d412b76",
   "metadata": {},
   "outputs": [],
   "source": [
    "next_p = browser.find_element_by_xpath(\"//a[@class='page-next page-link']\")\n",
    "browser.execute_script(\"arguments[0].click();\", next_p)"
   ]
  },
  {
   "cell_type": "code",
   "execution_count": null,
   "id": "d1d58f0c",
   "metadata": {},
   "outputs": [],
   "source": []
  },
  {
   "cell_type": "code",
   "execution_count": null,
   "id": "5bf346c1",
   "metadata": {},
   "outputs": [],
   "source": []
  }
 ],
 "metadata": {
  "kernelspec": {
   "display_name": "Python 3",
   "language": "python",
   "name": "python3"
  },
  "language_info": {
   "codemirror_mode": {
    "name": "ipython",
    "version": 3
   },
   "file_extension": ".py",
   "mimetype": "text/x-python",
   "name": "python",
   "nbconvert_exporter": "python",
   "pygments_lexer": "ipython3",
   "version": "3.6.4"
  }
 },
 "nbformat": 4,
 "nbformat_minor": 5
}
