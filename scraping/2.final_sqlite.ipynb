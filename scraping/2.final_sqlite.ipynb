{
 "cells": [
  {
   "cell_type": "code",
   "execution_count": 1,
   "id": "32e3225e",
   "metadata": {},
   "outputs": [],
   "source": [
    "import sqlite3\n",
    "import pandas as pd"
   ]
  },
  {
   "cell_type": "code",
   "execution_count": 2,
   "id": "c658ae64",
   "metadata": {},
   "outputs": [],
   "source": [
    "db_news = sqlite3.connect('./seperate.db')\n",
    "c = db_news.cursor()"
   ]
  },
  {
   "cell_type": "code",
   "execution_count": 3,
   "id": "d9a4453b",
   "metadata": {},
   "outputs": [
    {
     "data": {
      "text/plain": [
       "<sqlite3.Cursor at 0x1c4610e3260>"
      ]
     },
     "execution_count": 3,
     "metadata": {},
     "output_type": "execute_result"
    }
   ],
   "source": [
    "c.execute(\"CREATE TABLE Kyunghyang (id INTEGER PRIMARY KEY AUTOINCREMENT, date TEXT, press TEXT, title TEXT, topkeyword TEXT, url TEXT, total_body TEXT, judge TEXT, judge_ko TEXT, pos_dict TEXT, neg_dict TEXT)\")"
   ]
  },
  {
   "cell_type": "code",
   "execution_count": 4,
   "id": "fb9a7f0b",
   "metadata": {},
   "outputs": [
    {
     "data": {
      "text/html": [
       "<div>\n",
       "<style scoped>\n",
       "    .dataframe tbody tr th:only-of-type {\n",
       "        vertical-align: middle;\n",
       "    }\n",
       "\n",
       "    .dataframe tbody tr th {\n",
       "        vertical-align: top;\n",
       "    }\n",
       "\n",
       "    .dataframe thead th {\n",
       "        text-align: right;\n",
       "    }\n",
       "</style>\n",
       "<table border=\"1\" class=\"dataframe\">\n",
       "  <thead>\n",
       "    <tr style=\"text-align: right;\">\n",
       "      <th></th>\n",
       "      <th>date</th>\n",
       "      <th>press</th>\n",
       "      <th>title</th>\n",
       "      <th>topkeyword</th>\n",
       "      <th>url</th>\n",
       "      <th>total_body</th>\n",
       "      <th>judge</th>\n",
       "      <th>judge_ko</th>\n",
       "      <th>pos_dict</th>\n",
       "      <th>neg_dict</th>\n",
       "    </tr>\n",
       "  </thead>\n",
       "  <tbody>\n",
       "    <tr>\n",
       "      <th>0</th>\n",
       "      <td>20210430</td>\n",
       "      <td>경향신문</td>\n",
       "      <td>“한의약 의료서비스의 건보 확대, 국민 건강 증진에 도움”</td>\n",
       "      <td>한의약,첩약,난임,한의원,박성우,한의대,치료비,시범사업,한의사,후유증,월경통,회원들...</td>\n",
       "      <td>http://news.khan.co.kr/kh_news/khan_art_view.h...</td>\n",
       "      <td>['박성우 서울시한의사회 회장월경통 등 첩약 건보 시범사업추나요법처럼 급여화 실현 ...</td>\n",
       "      <td>1</td>\n",
       "      <td>긍정</td>\n",
       "      <td>{'건강': 13, '치료': 10, '대상': 4, '받': 3, '많': 2, ...</td>\n",
       "      <td>{'해': 5, '박': 4, '화': 3, '수': 3, '환자': 2, '어':...</td>\n",
       "    </tr>\n",
       "    <tr>\n",
       "      <th>1</th>\n",
       "      <td>20210430</td>\n",
       "      <td>경향신문</td>\n",
       "      <td>불편한 여론도 잠재운 골프장의 ‘박찬호 효과’</td>\n",
       "      <td>박찬호,코리안투어,대회장,코리안,코로나19,한국,2라운드,취재진,군산,29오버,kl...</td>\n",
       "      <td>http://news.khan.co.kr/kh_news/khan_art_view.h...</td>\n",
       "      <td>['코리안투어 ‘관심 독점’ 우려에서 ‘흥행에 도움’ 긍정적 분위기로2라운드 합계 ...</td>\n",
       "      <td>0</td>\n",
       "      <td>중립</td>\n",
       "      <td>{'흥행': 2, '도움': 2, '긍정': 2, '값진': 2, '함께': 1, ...</td>\n",
       "      <td>{'관심': 4, '파': 4, '해': 2, '우려': 1, '부': 1, '독차...</td>\n",
       "    </tr>\n",
       "  </tbody>\n",
       "</table>\n",
       "</div>"
      ],
      "text/plain": [
       "       date press                             title  \\\n",
       "0  20210430  경향신문  “한의약 의료서비스의 건보 확대, 국민 건강 증진에 도움”   \n",
       "1  20210430  경향신문         불편한 여론도 잠재운 골프장의 ‘박찬호 효과’   \n",
       "\n",
       "                                          topkeyword  \\\n",
       "0  한의약,첩약,난임,한의원,박성우,한의대,치료비,시범사업,한의사,후유증,월경통,회원들...   \n",
       "1  박찬호,코리안투어,대회장,코리안,코로나19,한국,2라운드,취재진,군산,29오버,kl...   \n",
       "\n",
       "                                                 url  \\\n",
       "0  http://news.khan.co.kr/kh_news/khan_art_view.h...   \n",
       "1  http://news.khan.co.kr/kh_news/khan_art_view.h...   \n",
       "\n",
       "                                          total_body  judge judge_ko  \\\n",
       "0  ['박성우 서울시한의사회 회장월경통 등 첩약 건보 시범사업추나요법처럼 급여화 실현 ...      1       긍정   \n",
       "1  ['코리안투어 ‘관심 독점’ 우려에서 ‘흥행에 도움’ 긍정적 분위기로2라운드 합계 ...      0       중립   \n",
       "\n",
       "                                            pos_dict  \\\n",
       "0  {'건강': 13, '치료': 10, '대상': 4, '받': 3, '많': 2, ...   \n",
       "1  {'흥행': 2, '도움': 2, '긍정': 2, '값진': 2, '함께': 1, ...   \n",
       "\n",
       "                                            neg_dict  \n",
       "0  {'해': 5, '박': 4, '화': 3, '수': 3, '환자': 2, '어':...  \n",
       "1  {'관심': 4, '파': 4, '해': 2, '우려': 1, '부': 1, '독차...  "
      ]
     },
     "execution_count": 4,
     "metadata": {},
     "output_type": "execute_result"
    }
   ],
   "source": [
    "df = pd.read_excel('C:/Develops/newspapers/DB/Kyunghyang.xls', names=['date', 'press', 'title', 'topkeyword', 'url', 'total_body', 'judge', 'judge_ko', 'pos_dict', 'neg_dict'])\n",
    "df.head(2)"
   ]
  },
  {
   "cell_type": "code",
   "execution_count": 5,
   "id": "1be9ab99",
   "metadata": {},
   "outputs": [],
   "source": [
    "for row in df.iterrows():\n",
    "    date = row[1][0]\n",
    "    press = row[1][1]\n",
    "    title = row[1][2]\n",
    "    topkeyword = row[1][3]\n",
    "    url = row[1][4]\n",
    "    total_body = row[1][5]\n",
    "    judge = row[1][6]\n",
    "    judge_ko = row[1][7]\n",
    "    pos_dict = row[1][8]\n",
    "    neg_dict = row[1][9]\n",
    "    c.execute(\"INSERT INTO Kyunghyang (date, press, title, topkeyword, url, total_body, judge, judge_ko, pos_dict, neg_dict) VALUES(?,?,?,?,?,?,?,?,?,?) \",(date, press, title, topkeyword, url, total_body, judge, judge_ko, pos_dict, neg_dict))\n",
    "db_news.commit()"
   ]
  },
  {
   "cell_type": "code",
   "execution_count": 6,
   "id": "a1cf1ad6",
   "metadata": {},
   "outputs": [],
   "source": [
    "# df_news.close()"
   ]
  },
  {
   "cell_type": "code",
   "execution_count": null,
   "id": "ace776c9",
   "metadata": {},
   "outputs": [],
   "source": []
  }
 ],
 "metadata": {
  "kernelspec": {
   "display_name": "Python 3",
   "language": "python",
   "name": "python3"
  },
  "language_info": {
   "codemirror_mode": {
    "name": "ipython",
    "version": 3
   },
   "file_extension": ".py",
   "mimetype": "text/x-python",
   "name": "python",
   "nbconvert_exporter": "python",
   "pygments_lexer": "ipython3",
   "version": "3.6.4"
  }
 },
 "nbformat": 4,
 "nbformat_minor": 5
}
