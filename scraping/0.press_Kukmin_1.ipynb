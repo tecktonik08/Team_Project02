{
 "cells": [
  {
   "cell_type": "code",
   "execution_count": 1,
   "id": "6bf7f92a",
   "metadata": {},
   "outputs": [],
   "source": [
    "# 4/30 ~ 4/1 1달간 총 7443개 *50개(3분)\n",
    "\n",
    "## 입력값(이것만 입력할 것) ##\n",
    "num = [4000, 7444] # 수행할 구간, 국민일보는 range(0, 7443+1) 설정해야함, 내가 처음에 range(0,50)까지했으면 다음에는 range(50,이후숫자) \n",
    "loot = 'C:/Develops/newspapers/fine/' # 저장할 위치, 파일이 산만해지니 프로젝트가아닌폴더에서 관리할 것 # loot = './/' 현재위치에 저장하는 변수"
   ]
  },
  {
   "cell_type": "code",
   "execution_count": 2,
   "id": "82512d7d",
   "metadata": {},
   "outputs": [],
   "source": [
    "#  파일이름\n",
    "name = 'text' + '_' +  str(num[0]) + '_' + str(num[1]) # 파일이름 Ex. text_0_50"
   ]
  },
  {
   "cell_type": "code",
   "execution_count": 3,
   "id": "418d09ea",
   "metadata": {},
   "outputs": [],
   "source": [
    "import sqlite3\n",
    "from selenium import webdriver\n",
    "from selenium.webdriver.remote.webelement import WebElement\n",
    "from selenium.webdriver.common.keys import Keys\n",
    "from selenium.webdriver.support.ui import WebDriverWait\n",
    "from selenium.webdriver.common.by import By\n",
    "from selenium.webdriver.support import expected_conditions as EC\n",
    "from bs4 import BeautifulSoup\n",
    "import requests\n",
    "import pandas as pd\n",
    "import csv\n",
    "import time\n",
    "import re"
   ]
  },
  {
   "cell_type": "code",
   "execution_count": 4,
   "id": "1eab202a",
   "metadata": {},
   "outputs": [],
   "source": [
    "df = pd.read_excel('.//NewsResult_20200901-20210430 (1).xlsx', names=['identical', 'date', 'press', 'name', 'title', 'c1', 'c2', 'c3', 'a1', 'a2', 'a3', 'person', 'place', 'institute', 'keyword', 'topkeyword', 'body', 'url', 'tf'])"
   ]
  },
  {
   "cell_type": "code",
   "execution_count": 5,
   "id": "59c4dff9",
   "metadata": {},
   "outputs": [],
   "source": [
    "# 전처리\n",
    "df = df[df.tf != '예외']\n",
    "df = df[df.tf != '중복']\n",
    "df = df[df.tf != '중복, 예외']\n",
    "# df = df[~df.title.str.contains('경향포토')]\n",
    "# df = df[~df.title.str.contains('인터랙티브')]\n",
    "# df = df[~df.place.str.contains('korea', na=False)]\n",
    "# df = df[~df.place.str.contains('la', na=False)]\n",
    "# df = df[~df.place.str.contains('LA', na=False)]\n",
    "df = df.reset_index()\n",
    "df = df.drop(columns=['index'], axis=1)"
   ]
  },
  {
   "cell_type": "code",
   "execution_count": 6,
   "id": "5ae2c219",
   "metadata": {},
   "outputs": [
    {
     "data": {
      "text/plain": [
       "15888"
      ]
     },
     "execution_count": 6,
     "metadata": {},
     "output_type": "execute_result"
    }
   ],
   "source": [
    "len(df)"
   ]
  },
  {
   "cell_type": "code",
   "execution_count": 7,
   "id": "6839f1d1",
   "metadata": {},
   "outputs": [],
   "source": [
    "# df.to_excel('.//pre_press_1.xls', header=None, index=False)"
   ]
  },
  {
   "cell_type": "code",
   "execution_count": 8,
   "id": "80f44a8a",
   "metadata": {},
   "outputs": [],
   "source": [
    "# ~4/1 7443\n",
    "df = df.iloc[0:7443] # 4/30 ~ 4/1 1달간 총 7443 *50개(3분20초)"
   ]
  },
  {
   "cell_type": "code",
   "execution_count": 9,
   "id": "c713f566",
   "metadata": {},
   "outputs": [],
   "source": [
    "# df"
   ]
  },
  {
   "cell_type": "code",
   "execution_count": 44,
   "id": "b3aa51b2",
   "metadata": {},
   "outputs": [
    {
     "data": {
      "text/html": [
       "<div>\n",
       "<style scoped>\n",
       "    .dataframe tbody tr th:only-of-type {\n",
       "        vertical-align: middle;\n",
       "    }\n",
       "\n",
       "    .dataframe tbody tr th {\n",
       "        vertical-align: top;\n",
       "    }\n",
       "\n",
       "    .dataframe thead th {\n",
       "        text-align: right;\n",
       "    }\n",
       "</style>\n",
       "<table border=\"1\" class=\"dataframe\">\n",
       "  <thead>\n",
       "    <tr style=\"text-align: right;\">\n",
       "      <th></th>\n",
       "      <th>0</th>\n",
       "    </tr>\n",
       "  </thead>\n",
       "  <tbody>\n",
       "    <tr>\n",
       "      <th>0</th>\n",
       "      <td>30일 오후 서울 성북구 장위10구역 철거 공사 현장에서 건물이 붕괴돼 구조대원 등...</td>\n",
       "    </tr>\n",
       "    <tr>\n",
       "      <th>1</th>\n",
       "      <td>사진=연합뉴스미국 제약사 화이자와 독일 바이오엔테크가 자신들이 공동개발한 코로나19...</td>\n",
       "    </tr>\n",
       "    <tr>\n",
       "      <th>2</th>\n",
       "      <td>사진=연합뉴스경찰이 친누나를 살해한 뒤 농수로에서 사체를 유기한 남동생에 대해 구속...</td>\n",
       "    </tr>\n",
       "    <tr>\n",
       "      <th>3</th>\n",
       "      <td>30일 오후 서울 반포한강공원 인근 한강에서 구조대원들이 실종 엿새 만에 숨진 채 ...</td>\n",
       "    </tr>\n",
       "    <tr>\n",
       "      <th>4</th>\n",
       "      <td>국민일보DB중고 직거래 사이트에서 만난 피해자에게 접근해 순금을 훔쳐 달아난 3인조...</td>\n",
       "    </tr>\n",
       "    <tr>\n",
       "      <th>...</th>\n",
       "      <td>...</td>\n",
       "    </tr>\n",
       "    <tr>\n",
       "      <th>7438</th>\n",
       "      <td>바이오로그디바이스는 (주)유비쿼스인베스트먼트 및 특별관계자의 지분율이 26.28%에...</td>\n",
       "    </tr>\n",
       "    <tr>\n",
       "      <th>7439</th>\n",
       "      <td>김영록 전남도지사는 6일 목포시를 방문, 도민과의 대화를 통해 “48조원 규모의 8...</td>\n",
       "    </tr>\n",
       "    <tr>\n",
       "      <th>7440</th>\n",
       "      <td>코렌은 바이오로그디바이스 및 특별관계자의 지분율이 21.81%에서 20.92%로 변...</td>\n",
       "    </tr>\n",
       "    <tr>\n",
       "      <th>7441</th>\n",
       "      <td>코로나19 집단감염이 발생한 인천 연수구 어린이집. 연합뉴스집단감염이 발생한 인천 ...</td>\n",
       "    </tr>\n",
       "    <tr>\n",
       "      <th>7442</th>\n",
       "      <td>None</td>\n",
       "    </tr>\n",
       "  </tbody>\n",
       "</table>\n",
       "<p>7443 rows × 1 columns</p>\n",
       "</div>"
      ],
      "text/plain": [
       "                                                      0\n",
       "0     30일 오후 서울 성북구 장위10구역 철거 공사 현장에서 건물이 붕괴돼 구조대원 등...\n",
       "1     사진=연합뉴스미국 제약사 화이자와 독일 바이오엔테크가 자신들이 공동개발한 코로나19...\n",
       "2     사진=연합뉴스경찰이 친누나를 살해한 뒤 농수로에서 사체를 유기한 남동생에 대해 구속...\n",
       "3     30일 오후 서울 반포한강공원 인근 한강에서 구조대원들이 실종 엿새 만에 숨진 채 ...\n",
       "4     국민일보DB중고 직거래 사이트에서 만난 피해자에게 접근해 순금을 훔쳐 달아난 3인조...\n",
       "...                                                 ...\n",
       "7438  바이오로그디바이스는 (주)유비쿼스인베스트먼트 및 특별관계자의 지분율이 26.28%에...\n",
       "7439  김영록 전남도지사는 6일 목포시를 방문, 도민과의 대화를 통해 “48조원 규모의 8...\n",
       "7440  코렌은 바이오로그디바이스 및 특별관계자의 지분율이 21.81%에서 20.92%로 변...\n",
       "7441  코로나19 집단감염이 발생한 인천 연수구 어린이집. 연합뉴스집단감염이 발생한 인천 ...\n",
       "7442                                               None\n",
       "\n",
       "[7443 rows x 1 columns]"
      ]
     },
     "execution_count": 44,
     "metadata": {},
     "output_type": "execute_result"
    }
   ],
   "source": [
    "text_0_7444 = pd.read_excel('C:/Develops/newspapers/scrap/text_0_7444.xls', header=None)\n",
    "text_0_7444"
   ]
  },
  {
   "cell_type": "code",
   "execution_count": 45,
   "id": "6200da81",
   "metadata": {},
   "outputs": [],
   "source": [
    "text_0_7444 = text_0_7444.values.tolist()"
   ]
  },
  {
   "cell_type": "code",
   "execution_count": 46,
   "id": "40d73c7d",
   "metadata": {},
   "outputs": [],
   "source": [
    "text_0_3999 = text_0_7444[0:4000]"
   ]
  },
  {
   "cell_type": "code",
   "execution_count": 48,
   "id": "5d779d3b",
   "metadata": {},
   "outputs": [
    {
     "data": {
      "text/plain": [
       "['수협 등 수산단체 회원들이 14일 서울 종로구 주한일본대사관 앞에서 후쿠시마 원전 오염수 해양방출 결정 철회를 요구하며 구호를 외치고 있다. 전국 수산인들은 일본 정부의 방사능 오염수 해상 방류 결정에 일본대사관에 항의 방문하고 관련 내용을 종이 문건으로 전달했다.수협 관계자는 “일본 정부의 결정은 한국의 수산업을 위협하는 행위이다”며 “방사능 오염 가능성에 대한 우려는 수산업의 궤멸적 피해를 초래할 수 있다”고 밝혔다.최현규 기자 frosted@kmib.co.kr\\n\\t\\t\\t\\t\\t\\n\\t\\t\\t\\t\\tGoodNews paper ⓒ 국민일보(www.kmib.co.kr), 무단전재 및 수집, 재배포금지']"
      ]
     },
     "execution_count": 48,
     "metadata": {},
     "output_type": "execute_result"
    }
   ],
   "source": [
    "text_0_3999[3999]"
   ]
  },
  {
   "cell_type": "code",
   "execution_count": 64,
   "id": "4deb3c83",
   "metadata": {},
   "outputs": [],
   "source": [
    "co_text = co_text[0:7443]"
   ]
  },
  {
   "cell_type": "code",
   "execution_count": 65,
   "id": "2b7a0958",
   "metadata": {},
   "outputs": [],
   "source": [
    "df['total_body'] = co_text"
   ]
  },
  {
   "cell_type": "code",
   "execution_count": 70,
   "id": "575346ae",
   "metadata": {},
   "outputs": [
    {
     "data": {
      "text/plain": [
       "'花들짝 주작도 공룡도 봄빛에 반하다'"
      ]
     },
     "execution_count": 70,
     "metadata": {},
     "output_type": "execute_result"
    }
   ],
   "source": [
    "i = 7442\n",
    "df['title'][i]"
   ]
  },
  {
   "cell_type": "code",
   "execution_count": 71,
   "id": "1bee3536",
   "metadata": {},
   "outputs": [
    {
     "data": {
      "text/plain": [
       "[\"전남 강진의 봄 풍경은 붉은 빛으로 화려하다. 산에는 진달래와 동백꽃이 흐드러지게 핀다. 주작산(475m)과 덕룡산(433m)은 아직 덜 알려진 진달래 명소다. 날개를 편 주작(朱雀)과 용트림하는 덕룡(德龍)은 설악산 공룡능선 부럽지 않은 기암괴석 사이에 핀 진달래가 화룡점정이다. 다산초당과 백련사에는 동백꽃이 마지막 열정을 불태우고, 영랑 생가에는 모란이 붉게 피어오를 준비를 하고 있다.전남 강진군 신전면 주작산 너머 일렁이는 새벽 안개 뒤로 해가 떠오르고 있다. 주작산 바위 틈에 보석처럼 점점이 박힌 진달래가 아침 햇살을 받아 더욱 붉은 빛을 띠며 황홀한 풍경을 펼쳐놓고 있다.주작산과 덕룡산은 강진만을 향해 날아오르는 봉황의 형상이다. 주작산 정상이 봉황의 머리, 덕룡산 능선이 왼쪽 날개, 오소재로 이어진 암릉이 오른쪽 날개다. 특히 양 날개 격인 능선에는 바위만으로도 아름답지만 그 사이로 피어난 진달래꽃이 금상첨화다.오소재~작천소령~덕룡산~소석문 코스가 종주 코스다. 거리가 16㎞로, 출중한 산꾼이 부지런히 걸어도 7시간, 웬만한 산객은 9시간 이상 걸린다. 최고봉이 해발 500m에도 못 미치지만 산세는 1000m 높이의 산에 결코 뒤지지 않는다.오소재에서 출발하면 작천소령에 닿기 직전에 기암괴석이 눈앞에 다가선다. 하늘을 향해 솟아오른 바위석순들이 자웅을 겨루고, 선 굵은 암릉이 첩첩이다. 하얀 바위능선 곳곳에 숨은 듯 피어난 진달래가 고혹한 입술처럼 산객을 유혹한다. 이곳 진달래는 애써 군락을 이루지 않는다. 웅장한 암릉과 산허리 등 적재적소에 한 폭 동양화 속 여백의 미처럼 점점이 피어난다. 파도처럼 일렁이는 바위 너머로는 푸른 들판과 강진만이 펼쳐진다. 뒤돌아보면 멀리 해남 두륜산이 난공불락의 성채처럼 버티고 서 있다. 시선을 두는 곳마다 절경이다.작천소령을 거쳐 덕룡산으로 오른다. 덕룡산 정상은 동봉과 서봉으로 이뤄져 있다. 바윗길에 지친 사람들이 대부분 잘 모르고 우회길로 지나칠 수 있다. 덕룡산 정상에서도 절경에 탄성이 절로 나온다. 날카롭게 솟구친 웅장한 암봉이 공룡 이빨처럼 이어지고 말잔등처럼 매끄럽게 뻗는 초원능선이 어우러진다.석문산과 만덕산을 연결하는 석문공원 '사랑+구름다리'.덕룡산 다음은 석문산이다. 그 자락에 석문공원이 조성돼 있다. ‘사랑+구름다리’가 걸려 있다. ‘사랑이 넘쳐 구름 위에 서 있다’란 이름을 가진 111m짜리 출렁다리다. 석문산과 만덕산의 단절된 등산로를 연결한다. 하트 모양의 포토존이 설치된 다리는 사랑과 만남의 장소로 등산객들의 만남, 연인들의 산책로로 인기다. 세종대왕을 닮은 세종대왕 바위도 볼거리다.석문공원에서 다산 정약용이 강진 유배 시절 머물던 만덕산으로 이어진다. 그 기슭에 다산초당이 있다. 다산이 1808년부터 귀양이 풀릴 때까지 10년 동안 기거하던 곳이다. 이곳에서 목민심서, 경세유표 등 500여권의 저서를 집필했다. 다산초당 옆 작은 연못에는 동백꽃 몇 송이가 떨어져 있다. 바로 옆은 강진만이 내려다보이는 천일각이다. 다산은 답답할 때 이곳에서 바다를 바라봤다고 한다. 천일각에서 길은 부드럽게 이어진다. 삼나무를 비롯한 난대림이 가득한 숲길이다. 작은 고개를 넘으면 2층 누각인 해월루가 나온다. 누각에 오르면 강진만 일대가 시원하게 펼쳐진다. 강진만 중간쯤에 있는 작은 섬이 가우도다. 육지와 섬을 연결하는 출렁다리가 아스라이 보인다. 해월루에서 내려오면 드넓은 녹차 밭이다. 녹차 밭 뒤로 만덕산의 수려한 암봉이 모습을 드러낸다.작은 연못 속 붉은 동백꽃이 운치를 더하는 다산초당.녹차 밭이 끝나면 백련사 동백숲으로 들어간다. 빽빽이 들어찬 동백이 하늘을 가려 어둑어둑하다. 땅에 떨어진 동백꽃은 나무에 핀 꽃보다 붉게 빛난다. 나무에서, 땅에서, 마음속에서 꽃을 피운다.읍내에 영랑 생가가 있다. 시인 김윤식 선생이 1903년 1월 16일 태어난 곳이다. 영랑은 1950년 9월 29일 숨을 거둘 때까지 시 80여 편을 발표했다. 생가 바로 앞에는 조만간 진홍색 꽃을 피울 모란 봉우리가 여럿 맺혀 있다. 생가 뒤편에 세계모란공원이 자리한다. 유리 온실 내에서 사계절 내내 모란을 볼 수 있다.여행메모주작·덕룡산 산행 중심 주작산휴양림농촌 민박+체험 ‘푸소’… 스트레스 훌훌벚꽃이 흐드러지게 피어 있는 주작산휴양림.전남 강진에서 해남 방향으로 813번 지방도로를 타고 가다 보면 우측으로 보이는 병풍처럼 둘러쳐진 바위능선이 주작산·덕룡산이다.주작산휴양림은 강진 남쪽에서 권장되는 숙소다. 코로나19로 폐쇄됐다가 최근 다시 문을 열었다. 작천소령이 지천이다. 이곳에서 진달래 일출 명소까지는 30분 남짓이면 오를 수 있다. 주작산 일출전망대까지는 임도를 따라 차로 갈 수 있다.강진에는 수준 높은 한식당이 많다. 떡갈비와 육회, 홍어삼합, 게장, 표고탕수육, 낙지호롱과 낙지회, 피조개, 버섯과 새우부침 등 산해진미가 넘친다. 강진 읍내에 오감통 먹거리장터가 있다. 토하비빔밥 등의 먹거리를 내는 집들이 몰려 있다.코로나19로 강진의 푸소(FU-SO)체험이 주목받고 있다. 'Feeling-Up, Stress-Off'의 약자로 감성은 채우고 일상의 스트레스는 풀어내라는 의미를 담고 있다. 시골 농가에서 1박 2일 또는 2박 3일간 생활하며 농촌의 여유와 따뜻한 감성을 느끼는 농촌민박+농촌체험 프로그램이다.강진=글·사진 남호철 여행선임기자 hcnam@kmib.co.kr[And 여행]▶오메 좋은거… 3분 만에 그리던 ‘임자’ 만나부렀소~▶꽃들의 화려한 기지개, 눈부신 봄을 알린다▶자연 속에서 나와의 대화, 지친 심신을 달랜다▶싸움불씨 ‘막말’ 파묻자 마을이 잠잠… 예천 ‘말무덤’의 교훈▶하늘 품은 웅덩이… 봄옷 입은 동식물… 천상의 쉼터\\n\\n\\t\\t\\t\\t\\tGoodNews paper ⓒ 국민일보(www.kmib.co.kr), 무단전재 및 수집, 재배포금지\"]"
      ]
     },
     "execution_count": 71,
     "metadata": {},
     "output_type": "execute_result"
    }
   ],
   "source": [
    "df['total_body'][i]"
   ]
  },
  {
   "cell_type": "code",
   "execution_count": null,
   "id": "5c5d9547",
   "metadata": {},
   "outputs": [],
   "source": []
  },
  {
   "cell_type": "code",
   "execution_count": 51,
   "id": "765eb0f3",
   "metadata": {},
   "outputs": [],
   "source": [
    "text_4000_7444 = pd.read_excel('C:/Develops/newspapers/fine/text_4000_7444.xls', header=None)\n",
    "text_4000_7444 = text_4000_7444.values.tolist()"
   ]
  },
  {
   "cell_type": "code",
   "execution_count": 52,
   "id": "2b40b409",
   "metadata": {},
   "outputs": [],
   "source": [
    "co_text = text_0_3999 + text_4000_7444"
   ]
  },
  {
   "cell_type": "code",
   "execution_count": 72,
   "id": "dfcbef14",
   "metadata": {
    "collapsed": true
   },
   "outputs": [
    {
     "data": {
      "text/html": [
       "<div>\n",
       "<style scoped>\n",
       "    .dataframe tbody tr th:only-of-type {\n",
       "        vertical-align: middle;\n",
       "    }\n",
       "\n",
       "    .dataframe tbody tr th {\n",
       "        vertical-align: top;\n",
       "    }\n",
       "\n",
       "    .dataframe thead th {\n",
       "        text-align: right;\n",
       "    }\n",
       "</style>\n",
       "<table border=\"1\" class=\"dataframe\">\n",
       "  <thead>\n",
       "    <tr style=\"text-align: right;\">\n",
       "      <th></th>\n",
       "      <th>date</th>\n",
       "      <th>press</th>\n",
       "      <th>title</th>\n",
       "      <th>topkeyword</th>\n",
       "      <th>url</th>\n",
       "      <th>total_body</th>\n",
       "    </tr>\n",
       "  </thead>\n",
       "  <tbody>\n",
       "    <tr>\n",
       "      <th>0</th>\n",
       "      <td>20210430</td>\n",
       "      <td>국민일보</td>\n",
       "      <td>서울 장위10구역 철거 중 1명 매몰 야간 구조작업 계속</td>\n",
       "      <td>노동자,서울,a씨,소방당국,4층,3층,관계자,오세훈,성북구,굴착기,장위10구역,안전...</td>\n",
       "      <td>http://news.kmib.co.kr/article/view.asp?arcid=...</td>\n",
       "      <td>[30일 오후 서울 성북구 장위10구역 철거 공사 현장에서 건물이 붕괴돼 구조대원 ...</td>\n",
       "    </tr>\n",
       "    <tr>\n",
       "      <th>1</th>\n",
       "      <td>20210430</td>\n",
       "      <td>국민일보</td>\n",
       "      <td>화이자, 유럽서 백신접종 대상 12~15세까지 확대 요청</td>\n",
       "      <td>코로나19,바이오엔테크,미국,화이자,15세,afp,유럽,독일,제약사,가능성,공동개발...</td>\n",
       "      <td>http://news.kmib.co.kr/article/view.asp?arcid=...</td>\n",
       "      <td>[사진=연합뉴스미국 제약사 화이자와 독일 바이오엔테크가 자신들이 공동개발한 코로나1...</td>\n",
       "    </tr>\n",
       "    <tr>\n",
       "      <th>2</th>\n",
       "      <td>20210430</td>\n",
       "      <td>국민일보</td>\n",
       "      <td>‘누나 살해 뒤 농수로 유기’ 20대 남동생 구속영장 신청</td>\n",
       "      <td>남동생,a씨,가출신고,농수로,인천경찰청,인천,b씨,친누나,20대,카카오톡,용의자,남...</td>\n",
       "      <td>http://news.kmib.co.kr/article/view.asp?arcid=...</td>\n",
       "      <td>[사진=연합뉴스경찰이 친누나를 살해한 뒤 농수로에서 사체를 유기한 남동생에 대해 구...</td>\n",
       "    </tr>\n",
       "    <tr>\n",
       "      <th>3</th>\n",
       "      <td>20210430</td>\n",
       "      <td>국민일보</td>\n",
       "      <td>한강 실종 대학생 아버지 “머리에 큰 상처 2개 부검 요청”</td>\n",
       "      <td>정민씨,정민,한강,서울성모병원,손정민,위치추적,가족들,수색선,드론,소셜미디어,소셜,...</td>\n",
       "      <td>http://news.kmib.co.kr/article/view.asp?arcid=...</td>\n",
       "      <td>[30일 오후 서울 반포한강공원 인근 한강에서 구조대원들이 실종 엿새 만에 숨진 채...</td>\n",
       "    </tr>\n",
       "    <tr>\n",
       "      <th>4</th>\n",
       "      <td>20210430</td>\n",
       "      <td>국민일보</td>\n",
       "      <td>‘당근 거래’ 하자더니 순금 들고 달아난 3인조</td>\n",
       "      <td>광주,고속도로,직거래,부산,피해자,a씨,전남경찰청,순천시,당근마켓,3명,용의차량,도...</td>\n",
       "      <td>http://news.kmib.co.kr/article/view.asp?arcid=...</td>\n",
       "      <td>[국민일보DB중고 직거래 사이트에서 만난 피해자에게 접근해 순금을 훔쳐 달아난 3인...</td>\n",
       "    </tr>\n",
       "    <tr>\n",
       "      <th>...</th>\n",
       "      <td>...</td>\n",
       "      <td>...</td>\n",
       "      <td>...</td>\n",
       "      <td>...</td>\n",
       "      <td>...</td>\n",
       "      <td>...</td>\n",
       "    </tr>\n",
       "    <tr>\n",
       "      <th>7438</th>\n",
       "      <td>20210401</td>\n",
       "      <td>국민일보</td>\n",
       "      <td>“최대 11조원 손실” 빌황 파문 글로벌 금융위기 뇌관되나</td>\n",
       "      <td>아케고스,trs,투자은행,레버리지,헤지펀드,은행들,투자금,손실액,한대훈,이효섭,가능...</td>\n",
       "      <td>http://news.kmib.co.kr/article/view.asp?arcid=...</td>\n",
       "      <td>[헤지펀드 아케고스캐피털이 유동성 위기를 맞으면서 아케고스와 거래한 글로벌 투자은행...</td>\n",
       "    </tr>\n",
       "    <tr>\n",
       "      <th>7439</th>\n",
       "      <td>20210401</td>\n",
       "      <td>국민일보</td>\n",
       "      <td>여론조사 무용론 與 “막판엔 박빙”-野 “방심은 금물”</td>\n",
       "      <td>여론조사,민주당,지지율,관계자,서울,내곡동,여론조사선,홈페이지,지지층,동작구,ars</td>\n",
       "      <td>http://news.kmib.co.kr/article/view.asp?arcid=...</td>\n",
       "      <td>[연합뉴스4·7 재보궐선거를 일주일 앞둔 시점에 여야가 모두 ‘여론조사 무용론’을 ...</td>\n",
       "    </tr>\n",
       "    <tr>\n",
       "      <th>7440</th>\n",
       "      <td>20210401</td>\n",
       "      <td>국민일보</td>\n",
       "      <td>자영업자 재난금 1년 “날 살린 돈, 근데 턱없이 부족”</td>\n",
       "      <td>지원금,자영업자,재난지원금,이씨,코인노래방,임대료,김씨,코로나19,유지비,노래방,서...</td>\n",
       "      <td>http://news.kmib.co.kr/article/view.asp?arcid=...</td>\n",
       "      <td>[서울 강남구 선릉역의 한 실내포차에 31일 손님이 1명도 없이 텅 비어 있다. 지...</td>\n",
       "    </tr>\n",
       "    <tr>\n",
       "      <th>7441</th>\n",
       "      <td>20210401</td>\n",
       "      <td>국민일보</td>\n",
       "      <td>특히 젊은 여성들 AZ 혈전 논란 “2차 접종 피하고파”</td>\n",
       "      <td>간호사,아스트라제네카,혈전증,독일,의료진,cvst,2차,코로나19,종합병원,입소자,...</td>\n",
       "      <td>http://news.kmib.co.kr/article/view.asp?arcid=...</td>\n",
       "      <td>[아스트라제네카 백신 혈전 생성 논란으로 독일 전역에서 접종이 중단되자 국내에서도 ...</td>\n",
       "    </tr>\n",
       "    <tr>\n",
       "      <th>7442</th>\n",
       "      <td>20210401</td>\n",
       "      <td>국민일보</td>\n",
       "      <td>花들짝 주작도 공룡도 봄빛에 반하다</td>\n",
       "      <td>강진,덕룡산,주작산,강진만,동백꽃,암릉,다산,오소재,만덕산,출렁다리,작천소령,백련사...</td>\n",
       "      <td>http://news.kmib.co.kr/article/view.asp?arcid=...</td>\n",
       "      <td>[전남 강진의 봄 풍경은 붉은 빛으로 화려하다. 산에는 진달래와 동백꽃이 흐드러지게...</td>\n",
       "    </tr>\n",
       "  </tbody>\n",
       "</table>\n",
       "<p>7443 rows × 6 columns</p>\n",
       "</div>"
      ],
      "text/plain": [
       "          date press                              title  \\\n",
       "0     20210430  국민일보    서울 장위10구역 철거 중 1명 매몰 야간 구조작업 계속   \n",
       "1     20210430  국민일보    화이자, 유럽서 백신접종 대상 12~15세까지 확대 요청   \n",
       "2     20210430  국민일보   ‘누나 살해 뒤 농수로 유기’ 20대 남동생 구속영장 신청   \n",
       "3     20210430  국민일보  한강 실종 대학생 아버지 “머리에 큰 상처 2개 부검 요청”   \n",
       "4     20210430  국민일보         ‘당근 거래’ 하자더니 순금 들고 달아난 3인조   \n",
       "...        ...   ...                                ...   \n",
       "7438  20210401  국민일보   “최대 11조원 손실” 빌황 파문 글로벌 금융위기 뇌관되나   \n",
       "7439  20210401  국민일보     여론조사 무용론 與 “막판엔 박빙”-野 “방심은 금물”   \n",
       "7440  20210401  국민일보    자영업자 재난금 1년 “날 살린 돈, 근데 턱없이 부족”   \n",
       "7441  20210401  국민일보    특히 젊은 여성들 AZ 혈전 논란 “2차 접종 피하고파”   \n",
       "7442  20210401  국민일보                花들짝 주작도 공룡도 봄빛에 반하다   \n",
       "\n",
       "                                             topkeyword  \\\n",
       "0     노동자,서울,a씨,소방당국,4층,3층,관계자,오세훈,성북구,굴착기,장위10구역,안전...   \n",
       "1     코로나19,바이오엔테크,미국,화이자,15세,afp,유럽,독일,제약사,가능성,공동개발...   \n",
       "2     남동생,a씨,가출신고,농수로,인천경찰청,인천,b씨,친누나,20대,카카오톡,용의자,남...   \n",
       "3     정민씨,정민,한강,서울성모병원,손정민,위치추적,가족들,수색선,드론,소셜미디어,소셜,...   \n",
       "4     광주,고속도로,직거래,부산,피해자,a씨,전남경찰청,순천시,당근마켓,3명,용의차량,도...   \n",
       "...                                                 ...   \n",
       "7438  아케고스,trs,투자은행,레버리지,헤지펀드,은행들,투자금,손실액,한대훈,이효섭,가능...   \n",
       "7439     여론조사,민주당,지지율,관계자,서울,내곡동,여론조사선,홈페이지,지지층,동작구,ars   \n",
       "7440  지원금,자영업자,재난지원금,이씨,코인노래방,임대료,김씨,코로나19,유지비,노래방,서...   \n",
       "7441  간호사,아스트라제네카,혈전증,독일,의료진,cvst,2차,코로나19,종합병원,입소자,...   \n",
       "7442  강진,덕룡산,주작산,강진만,동백꽃,암릉,다산,오소재,만덕산,출렁다리,작천소령,백련사...   \n",
       "\n",
       "                                                    url  \\\n",
       "0     http://news.kmib.co.kr/article/view.asp?arcid=...   \n",
       "1     http://news.kmib.co.kr/article/view.asp?arcid=...   \n",
       "2     http://news.kmib.co.kr/article/view.asp?arcid=...   \n",
       "3     http://news.kmib.co.kr/article/view.asp?arcid=...   \n",
       "4     http://news.kmib.co.kr/article/view.asp?arcid=...   \n",
       "...                                                 ...   \n",
       "7438  http://news.kmib.co.kr/article/view.asp?arcid=...   \n",
       "7439  http://news.kmib.co.kr/article/view.asp?arcid=...   \n",
       "7440  http://news.kmib.co.kr/article/view.asp?arcid=...   \n",
       "7441  http://news.kmib.co.kr/article/view.asp?arcid=...   \n",
       "7442  http://news.kmib.co.kr/article/view.asp?arcid=...   \n",
       "\n",
       "                                             total_body  \n",
       "0     [30일 오후 서울 성북구 장위10구역 철거 공사 현장에서 건물이 붕괴돼 구조대원 ...  \n",
       "1     [사진=연합뉴스미국 제약사 화이자와 독일 바이오엔테크가 자신들이 공동개발한 코로나1...  \n",
       "2     [사진=연합뉴스경찰이 친누나를 살해한 뒤 농수로에서 사체를 유기한 남동생에 대해 구...  \n",
       "3     [30일 오후 서울 반포한강공원 인근 한강에서 구조대원들이 실종 엿새 만에 숨진 채...  \n",
       "4     [국민일보DB중고 직거래 사이트에서 만난 피해자에게 접근해 순금을 훔쳐 달아난 3인...  \n",
       "...                                                 ...  \n",
       "7438  [헤지펀드 아케고스캐피털이 유동성 위기를 맞으면서 아케고스와 거래한 글로벌 투자은행...  \n",
       "7439  [연합뉴스4·7 재보궐선거를 일주일 앞둔 시점에 여야가 모두 ‘여론조사 무용론’을 ...  \n",
       "7440  [서울 강남구 선릉역의 한 실내포차에 31일 손님이 1명도 없이 텅 비어 있다. 지...  \n",
       "7441  [아스트라제네카 백신 혈전 생성 논란으로 독일 전역에서 접종이 중단되자 국내에서도 ...  \n",
       "7442  [전남 강진의 봄 풍경은 붉은 빛으로 화려하다. 산에는 진달래와 동백꽃이 흐드러지게...  \n",
       "\n",
       "[7443 rows x 6 columns]"
      ]
     },
     "execution_count": 72,
     "metadata": {},
     "output_type": "execute_result"
    }
   ],
   "source": [
    "df_set = df[['date', 'press', 'title', 'topkeyword', 'url', 'total_body']]\n",
    "df_set"
   ]
  },
  {
   "cell_type": "code",
   "execution_count": 73,
   "id": "232cc241",
   "metadata": {},
   "outputs": [],
   "source": [
    "df_set.to_excel('C:/Develops/newspapers/fine/Kukmin.xls', header=None,index=False)"
   ]
  },
  {
   "cell_type": "code",
   "execution_count": null,
   "id": "e4dccc01",
   "metadata": {},
   "outputs": [],
   "source": []
  },
  {
   "cell_type": "code",
   "execution_count": null,
   "id": "a00fa72d",
   "metadata": {},
   "outputs": [],
   "source": []
  },
  {
   "cell_type": "code",
   "execution_count": 17,
   "id": "9c726d52",
   "metadata": {},
   "outputs": [],
   "source": [
    "# 셀레니움 창 오픈, 탭에 애드블락은 설치후 엑스해도 됨\n",
    "options = webdriver.ChromeOptions()\n",
    "options.add_extension(r'..//extension_3_11_1_0.crx')\n",
    "browser = webdriver.Chrome('..//chromedriver.exe', options=options)"
   ]
  },
  {
   "cell_type": "code",
   "execution_count": 18,
   "id": "541c1bd6",
   "metadata": {},
   "outputs": [],
   "source": [
    "from selenium.common.exceptions import NoSuchElementException"
   ]
  },
  {
   "cell_type": "code",
   "execution_count": 19,
   "id": "669419ff",
   "metadata": {},
   "outputs": [],
   "source": [
    "def check_exists_by_xpath(xpath):\n",
    "    try:\n",
    "        browser.find_element_by_xpath(xpath)\n",
    "    except NoSuchElementException:\n",
    "        return False\n",
    "    return True"
   ]
  },
  {
   "cell_type": "code",
   "execution_count": 20,
   "id": "018019a9",
   "metadata": {},
   "outputs": [],
   "source": [
    "# div#article > div#articleBody"
   ]
  },
  {
   "cell_type": "code",
   "execution_count": 21,
   "id": "9555170d",
   "metadata": {},
   "outputs": [],
   "source": [
    "texts = []\n",
    "for i in range(num[0], num[1]):\n",
    "    try:\n",
    "        url = df.url[i]\n",
    "        browser.get(url)\n",
    "        WebDriverWait(browser, 3).until(EC.presence_of_element_located((By.XPATH, \"//div[@id='articleBody']\")))\n",
    "        if check_exists_by_xpath(\"//div[@id='articleBody']\") == True:\n",
    "            html = browser.page_source\n",
    "            soup = BeautifulSoup(html, 'html.parser')\n",
    "            contents = soup.select('div#articleBody')\n",
    "            text = ''\n",
    "            for content in contents:\n",
    "                text = text + content.text.strip()\n",
    "            texts.append(text)\n",
    "        else:\n",
    "            texts.append('None')\n",
    "            continue\n",
    "    except:\n",
    "        texts.append('None')\n",
    "        continue        "
   ]
  },
  {
   "cell_type": "code",
   "execution_count": 22,
   "id": "d103269c",
   "metadata": {},
   "outputs": [
    {
     "data": {
      "text/plain": [
       "3444"
      ]
     },
     "execution_count": 22,
     "metadata": {},
     "output_type": "execute_result"
    }
   ],
   "source": [
    "len(texts)"
   ]
  },
  {
   "cell_type": "code",
   "execution_count": 23,
   "id": "bba5e2c4",
   "metadata": {},
   "outputs": [],
   "source": [
    "text = pd.DataFrame(data=texts) # texts를 text로 pandas로 저장"
   ]
  },
  {
   "cell_type": "code",
   "execution_count": 24,
   "id": "a0bd323c",
   "metadata": {},
   "outputs": [],
   "source": [
    "spot = loot + name + '.xls'"
   ]
  },
  {
   "cell_type": "code",
   "execution_count": 25,
   "id": "e11aa355",
   "metadata": {},
   "outputs": [],
   "source": [
    "text.to_excel(spot, header=None,index=False)"
   ]
  },
  {
   "cell_type": "code",
   "execution_count": null,
   "id": "ea01c355",
   "metadata": {},
   "outputs": [],
   "source": []
  },
  {
   "cell_type": "code",
   "execution_count": 26,
   "id": "32287bf7",
   "metadata": {},
   "outputs": [],
   "source": [
    "# 검증, 통합 설명과 수행방법(주석제거)"
   ]
  },
  {
   "cell_type": "code",
   "execution_count": 27,
   "id": "7e9437a2",
   "metadata": {},
   "outputs": [],
   "source": [
    "# 분할된 text를 순서대로 합치는 법[2개(파일이름1, 파일이름2)를 불러울 경우]\n",
    "# 파일이름 = pd.read_excel('C:/Develops/newspapers/press0/파일이름.xls', header=None) # 엑셀파일불러오기\n",
    "# 파일이름 = 파일이름.values.tolist() # 리스트로 환원\n",
    "# 파일이름2 = pd.read_excel('C:/Develops/newspapers/press0/파일이름2.xls', header=None)\n",
    "# 파일이름2 = 파일이름2.values.tolist()\n",
    "# co_text = 파일이름 + 파일이름2 # 리스트 순서대로 붙이기 "
   ]
  },
  {
   "cell_type": "code",
   "execution_count": 28,
   "id": "490b7839",
   "metadata": {},
   "outputs": [],
   "source": [
    "# 제목과 내용 일치 여부 판단\n",
    "# len(co_text)"
   ]
  },
  {
   "cell_type": "code",
   "execution_count": 29,
   "id": "46398a38",
   "metadata": {},
   "outputs": [],
   "source": [
    "# i = 5 # co_text에 있는 숫자 구간에서 임의의 숫자 넣어서 제목과 내용이 일치하는지 대략적으로 검수\n",
    "# df.title[i] # 번호에 해당하는 제목"
   ]
  },
  {
   "cell_type": "code",
   "execution_count": 30,
   "id": "2267dd15",
   "metadata": {},
   "outputs": [],
   "source": [
    "# co_text[i] # 번호에 해당하는 내용, co가 아니라 바로 결과를 확인할 때는 texts[i]"
   ]
  },
  {
   "cell_type": "code",
   "execution_count": 31,
   "id": "2b9cb16d",
   "metadata": {},
   "outputs": [],
   "source": [
    "# df에 text 넣어서 저장하기 # 모든 기사내용을 스크래핑해서 co_text로 합쳤으면 excel로 저장\n",
    "# df['total_text'] = co_text\n",
    "# final_spot = loot + 'press_0.xls'\n",
    "# df.to_excel(final_spot, header=None,index=False)\n",
    "# 끝"
   ]
  }
 ],
 "metadata": {
  "kernelspec": {
   "display_name": "Python 3",
   "language": "python",
   "name": "python3"
  },
  "language_info": {
   "codemirror_mode": {
    "name": "ipython",
    "version": 3
   },
   "file_extension": ".py",
   "mimetype": "text/x-python",
   "name": "python",
   "nbconvert_exporter": "python",
   "pygments_lexer": "ipython3",
   "version": "3.6.4"
  }
 },
 "nbformat": 4,
 "nbformat_minor": 5
}
